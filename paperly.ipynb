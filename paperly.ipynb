{
 "cells": [
  {
   "cell_type": "markdown",
   "id": "eca7bddf-cc59-4ec7-bbde-afb6353f52c5",
   "metadata": {},
   "source": [
    "# Add Dependencies"
   ]
  },
  {
   "cell_type": "code",
   "execution_count": 1,
   "id": "2eb251e9-7ff7-4bed-a518-ba4373af97e7",
   "metadata": {
    "execution": {
     "iopub.execute_input": "2023-03-28T20:10:47.854470Z",
     "iopub.status.busy": "2023-03-28T20:10:47.854035Z",
     "iopub.status.idle": "2023-03-28T20:11:11.661214Z",
     "shell.execute_reply": "2023-03-28T20:11:11.659805Z",
     "shell.execute_reply.started": "2023-03-28T20:10:47.854441Z"
    }
   },
   "outputs": [
    {
     "name": "stdout",
     "output_type": "stream",
     "text": [
      "Requirement already satisfied: pypdf in /usr/local/lib/python3.9/dist-packages (3.7.0)\n",
      "Requirement already satisfied: typing_extensions>=3.10.0.0 in /usr/local/lib/python3.9/dist-packages (from pypdf) (4.4.0)\n",
      "\u001b[33mWARNING: Running pip as the 'root' user can result in broken permissions and conflicting behaviour with the system package manager. It is recommended to use a virtual environment instead: https://pip.pypa.io/warnings/venv\u001b[0m\u001b[33m\n",
      "\u001b[0mRequirement already satisfied: wget in /usr/local/lib/python3.9/dist-packages (3.2)\n",
      "\u001b[33mWARNING: Running pip as the 'root' user can result in broken permissions and conflicting behaviour with the system package manager. It is recommended to use a virtual environment instead: https://pip.pypa.io/warnings/venv\u001b[0m\u001b[33m\n",
      "\u001b[0mRequirement already satisfied: PyPDF2 in /usr/local/lib/python3.9/dist-packages (3.0.1)\n",
      "Requirement already satisfied: typing_extensions>=3.10.0.0 in /usr/local/lib/python3.9/dist-packages (from PyPDF2) (4.4.0)\n",
      "\u001b[33mWARNING: Running pip as the 'root' user can result in broken permissions and conflicting behaviour with the system package manager. It is recommended to use a virtual environment instead: https://pip.pypa.io/warnings/venv\u001b[0m\u001b[33m\n",
      "\u001b[0mRequirement already satisfied: tiktoken in /usr/local/lib/python3.9/dist-packages (0.3.2)\n",
      "Requirement already satisfied: regex>=2022.1.18 in /usr/local/lib/python3.9/dist-packages (from tiktoken) (2022.10.31)\n",
      "Requirement already satisfied: requests>=2.26.0 in /usr/local/lib/python3.9/dist-packages (from tiktoken) (2.28.2)\n",
      "Requirement already satisfied: certifi>=2017.4.17 in /usr/lib/python3/dist-packages (from requests>=2.26.0->tiktoken) (2019.11.28)\n",
      "Requirement already satisfied: idna<4,>=2.5 in /usr/lib/python3/dist-packages (from requests>=2.26.0->tiktoken) (2.8)\n",
      "Requirement already satisfied: charset-normalizer<4,>=2 in /usr/local/lib/python3.9/dist-packages (from requests>=2.26.0->tiktoken) (2.1.1)\n",
      "Requirement already satisfied: urllib3<1.27,>=1.21.1 in /usr/local/lib/python3.9/dist-packages (from requests>=2.26.0->tiktoken) (1.26.14)\n",
      "\u001b[33mWARNING: Running pip as the 'root' user can result in broken permissions and conflicting behaviour with the system package manager. It is recommended to use a virtual environment instead: https://pip.pypa.io/warnings/venv\u001b[0m\u001b[33m\n",
      "\u001b[0mRequirement already satisfied: openai in /usr/local/lib/python3.9/dist-packages (0.27.2)\n",
      "Requirement already satisfied: aiohttp in /usr/local/lib/python3.9/dist-packages (from openai) (3.8.3)\n",
      "Requirement already satisfied: tqdm in /usr/local/lib/python3.9/dist-packages (from openai) (4.64.1)\n",
      "Requirement already satisfied: requests>=2.20 in /usr/local/lib/python3.9/dist-packages (from openai) (2.28.2)\n",
      "Requirement already satisfied: certifi>=2017.4.17 in /usr/lib/python3/dist-packages (from requests>=2.20->openai) (2019.11.28)\n",
      "Requirement already satisfied: urllib3<1.27,>=1.21.1 in /usr/local/lib/python3.9/dist-packages (from requests>=2.20->openai) (1.26.14)\n",
      "Requirement already satisfied: charset-normalizer<4,>=2 in /usr/local/lib/python3.9/dist-packages (from requests>=2.20->openai) (2.1.1)\n",
      "Requirement already satisfied: idna<4,>=2.5 in /usr/lib/python3/dist-packages (from requests>=2.20->openai) (2.8)\n",
      "Requirement already satisfied: async-timeout<5.0,>=4.0.0a3 in /usr/local/lib/python3.9/dist-packages (from aiohttp->openai) (4.0.2)\n",
      "Requirement already satisfied: attrs>=17.3.0 in /usr/local/lib/python3.9/dist-packages (from aiohttp->openai) (18.2.0)\n",
      "Requirement already satisfied: aiosignal>=1.1.2 in /usr/local/lib/python3.9/dist-packages (from aiohttp->openai) (1.3.1)\n",
      "Requirement already satisfied: yarl<2.0,>=1.0 in /usr/local/lib/python3.9/dist-packages (from aiohttp->openai) (1.8.2)\n",
      "Requirement already satisfied: frozenlist>=1.1.1 in /usr/local/lib/python3.9/dist-packages (from aiohttp->openai) (1.3.3)\n",
      "Requirement already satisfied: multidict<7.0,>=4.5 in /usr/local/lib/python3.9/dist-packages (from aiohttp->openai) (6.0.4)\n",
      "\u001b[33mWARNING: Running pip as the 'root' user can result in broken permissions and conflicting behaviour with the system package manager. It is recommended to use a virtual environment instead: https://pip.pypa.io/warnings/venv\u001b[0m\u001b[33m\n",
      "\u001b[0mRequirement already satisfied: plotly in /usr/local/lib/python3.9/dist-packages (5.13.1)\n",
      "Requirement already satisfied: tenacity>=6.2.0 in /usr/local/lib/python3.9/dist-packages (from plotly) (8.2.2)\n",
      "\u001b[33mWARNING: Running pip as the 'root' user can result in broken permissions and conflicting behaviour with the system package manager. It is recommended to use a virtual environment instead: https://pip.pypa.io/warnings/venv\u001b[0m\u001b[33m\n",
      "\u001b[0mRequirement already satisfied: requests in /usr/local/lib/python3.9/dist-packages (2.28.2)\n",
      "Requirement already satisfied: urllib3<1.27,>=1.21.1 in /usr/local/lib/python3.9/dist-packages (from requests) (1.26.14)\n",
      "Requirement already satisfied: certifi>=2017.4.17 in /usr/lib/python3/dist-packages (from requests) (2019.11.28)\n",
      "Requirement already satisfied: idna<4,>=2.5 in /usr/lib/python3/dist-packages (from requests) (2.8)\n",
      "Requirement already satisfied: charset-normalizer<4,>=2 in /usr/local/lib/python3.9/dist-packages (from requests) (2.1.1)\n",
      "\u001b[33mWARNING: Running pip as the 'root' user can result in broken permissions and conflicting behaviour with the system package manager. It is recommended to use a virtual environment instead: https://pip.pypa.io/warnings/venv\u001b[0m\u001b[33m\n",
      "\u001b[0m"
     ]
    }
   ],
   "source": [
    "!pip install pypdf\n",
    "!pip install wget\n",
    "!pip install PyPDF2\n",
    "!pip install tiktoken\n",
    "!pip install openai\n",
    "!pip install plotly\n",
    "!pip install requests"
   ]
  },
  {
   "cell_type": "code",
   "execution_count": 2,
   "id": "ede10911-00ab-4903-855a-70b6230f6107",
   "metadata": {
    "execution": {
     "iopub.execute_input": "2023-03-28T20:11:17.606559Z",
     "iopub.status.busy": "2023-03-28T20:11:17.606235Z",
     "iopub.status.idle": "2023-03-28T20:11:19.111619Z",
     "shell.execute_reply": "2023-03-28T20:11:19.110827Z",
     "shell.execute_reply.started": "2023-03-28T20:11:17.606532Z"
    }
   },
   "outputs": [],
   "source": [
    "import sys\n",
    "from collections import defaultdict\n",
    "from matplotlib import pyplot as plt\n",
    "from matplotlib import patches\n",
    "import argparse\n",
    "from pypdf import PdfReader\n",
    "from pathlib import Path\n",
    "import requests\n",
    "import pandas as pd\n",
    "import numpy as np\n",
    "import openai \n",
    "import tiktoken\n",
    "from openai.embeddings_utils import get_embedding, cosine_similarity\n",
    "import requests"
   ]
  },
  {
   "cell_type": "markdown",
   "id": "b5bbc883-edc2-49a3-9b04-2b2f575bedc3",
   "metadata": {},
   "source": [
    "# Add API Key"
   ]
  },
  {
   "cell_type": "code",
   "execution_count": 31,
   "id": "81f32089-3ebe-4592-a781-014d2ff027d3",
   "metadata": {
    "execution": {
     "iopub.execute_input": "2023-03-28T20:37:31.929590Z",
     "iopub.status.busy": "2023-03-28T20:37:31.928603Z",
     "iopub.status.idle": "2023-03-28T20:37:31.934661Z",
     "shell.execute_reply": "2023-03-28T20:37:31.933572Z",
     "shell.execute_reply.started": "2023-03-28T20:37:31.929564Z"
    }
   },
   "outputs": [],
   "source": [
    "openai.api_key = \"_____\""
   ]
  },
  {
   "cell_type": "markdown",
   "id": "496e5e12-7ec4-426a-bb16-9378f4aa470b",
   "metadata": {},
   "source": [
    "# Get Paper From Arxiv"
   ]
  },
  {
   "cell_type": "code",
   "execution_count": 4,
   "id": "29bbecf6-b914-4762-8649-081f1a97ef9a",
   "metadata": {
    "execution": {
     "iopub.execute_input": "2023-03-28T20:11:36.420531Z",
     "iopub.status.busy": "2023-03-28T20:11:36.419433Z",
     "iopub.status.idle": "2023-03-28T20:11:37.094266Z",
     "shell.execute_reply": "2023-03-28T20:11:37.093465Z",
     "shell.execute_reply.started": "2023-03-28T20:11:36.420502Z"
    }
   },
   "outputs": [],
   "source": [
    "arxiv_url = \"https://arxiv.org/pdf/1706.03762.pdf\"\n",
    "paper_name = \"1706.03762.pdf\"\n",
    "response = requests.get(arxiv_url)\n",
    "with open(paper_name, \"wb\") as f:\n",
    "    f.write(response.content)"
   ]
  },
  {
   "cell_type": "markdown",
   "id": "3376c18f-053e-42f1-af5c-4a686b0464ba",
   "metadata": {},
   "source": [
    "# Parse PDF"
   ]
  },
  {
   "cell_type": "code",
   "execution_count": 5,
   "id": "832fcfb3-8087-4263-8dbc-494973e529d1",
   "metadata": {
    "execution": {
     "iopub.execute_input": "2023-03-28T20:12:39.559854Z",
     "iopub.status.busy": "2023-03-28T20:12:39.559474Z",
     "iopub.status.idle": "2023-03-28T20:12:39.569367Z",
     "shell.execute_reply": "2023-03-28T20:12:39.567940Z",
     "shell.execute_reply.started": "2023-03-28T20:12:39.559827Z"
    }
   },
   "outputs": [],
   "source": [
    "def parse_paper(path):\n",
    "    reader = PdfReader(path)\n",
    "    number_of_pages = len(reader.pages)\n",
    "    paper_text = []\n",
    "    for i in range(number_of_pages):\n",
    "        page = reader.pages[i]\n",
    "        page_text = []\n",
    "\n",
    "        def visitor_body(text, cm, tm, fontDict, fontSize):\n",
    "            x = tm[4]\n",
    "            y = tm[5]\n",
    "            if (y > 50 and y < 720) and (len(text.strip()) > 1):\n",
    "                page_text.append({\n",
    "                    'fontsize': fontSize,\n",
    "                    'text': text.strip().replace('\\x03', ''),\n",
    "                    'x': x,\n",
    "                    'y': y\n",
    "                })\n",
    "\n",
    "        _ = page.extract_text(visitor_text=visitor_body)\n",
    "\n",
    "        blob_font_size = None\n",
    "        blob_text = ''\n",
    "        processed_text = []\n",
    "\n",
    "        for t in page_text:\n",
    "            if t['fontsize'] == blob_font_size:\n",
    "                blob_text += f\" {t['text']}\"\n",
    "            else:\n",
    "                if blob_font_size is not None and len(blob_text) > 1:\n",
    "                    processed_text.append({\n",
    "                        'fontsize': blob_font_size,\n",
    "                        'text': blob_text,\n",
    "                        'page': i\n",
    "                    })\n",
    "                blob_font_size = t['fontsize']\n",
    "                blob_text = t['text']\n",
    "        paper_text += processed_text\n",
    "    return paper_text\n"
   ]
  },
  {
   "cell_type": "code",
   "execution_count": 6,
   "id": "d022d0ad-c2c2-4788-9004-8c058ff865a3",
   "metadata": {
    "execution": {
     "iopub.execute_input": "2023-03-28T20:12:52.921007Z",
     "iopub.status.busy": "2023-03-28T20:12:52.920104Z",
     "iopub.status.idle": "2023-03-28T20:12:54.002579Z",
     "shell.execute_reply": "2023-03-28T20:12:54.001735Z",
     "shell.execute_reply.started": "2023-03-28T20:12:52.920979Z"
    }
   },
   "outputs": [],
   "source": [
    "paper_text = parse_paper(\"papers/1706.03762.pdf\")"
   ]
  },
  {
   "cell_type": "markdown",
   "id": "34de20fa-1a3c-45f4-a075-ab0ae75cd622",
   "metadata": {},
   "source": [
    "# Filter Small Rows"
   ]
  },
  {
   "cell_type": "code",
   "execution_count": 25,
   "id": "c04335f3-2291-4824-8cb6-c9c6a1f22b49",
   "metadata": {
    "execution": {
     "iopub.execute_input": "2023-03-28T20:33:32.868028Z",
     "iopub.status.busy": "2023-03-28T20:33:32.867461Z",
     "iopub.status.idle": "2023-03-28T20:33:32.873401Z",
     "shell.execute_reply": "2023-03-28T20:33:32.872381Z",
     "shell.execute_reply.started": "2023-03-28T20:33:32.868000Z"
    }
   },
   "outputs": [],
   "source": [
    "filtered_paper_text = []\n",
    "for row in paper_text:\n",
    "    if len(row['text']) < 50:\n",
    "        continue\n",
    "    filtered_paper_text.append(row)"
   ]
  },
  {
   "cell_type": "markdown",
   "id": "c90da135-9ec6-44bb-84ef-513e570676f7",
   "metadata": {},
   "source": [
    "# Convert Paper Text To DataFrame"
   ]
  },
  {
   "cell_type": "code",
   "execution_count": 26,
   "id": "a9eac792-a94a-4913-8ce8-3c1092d180a7",
   "metadata": {
    "execution": {
     "iopub.execute_input": "2023-03-28T20:33:36.885676Z",
     "iopub.status.busy": "2023-03-28T20:33:36.885355Z",
     "iopub.status.idle": "2023-03-28T20:33:36.894773Z",
     "shell.execute_reply": "2023-03-28T20:33:36.893616Z",
     "shell.execute_reply.started": "2023-03-28T20:33:36.885652Z"
    }
   },
   "outputs": [
    {
     "name": "stdout",
     "output_type": "stream",
     "text": [
      "Ashish Vaswani Google Brain avaswani@google.com Noam Shazeer Google Brain noam@google.com Niki Parmar Google Research nikip@google.com Jakob Uszkoreit Google Research usz@google.com Llion Jones Google Research llion@google.com Aidan N. Gomez\n",
      "\n",
      "University of Toronto aidan@cs.toronto.edu Łukasz Kaiser Google Brain lukaszkaiser@google.com Illia Polosukhin\n",
      "\n",
      "The dominant sequence transduction models are based on complex recurrent or convolutional neural networks that include an encoder and a decoder. The best performing models also connect the encoder and decoder through an attention mechanism. We propose a new simple network architecture, the Transformer, based solely on attention mechanisms, dispensing with recurrence and convolutions entirely. Experiments on two machine translation tasks show these models to be superior in quality while being more parallelizable and requiring signiﬁcantly less time to train. Our model achieves 28.4 BLEU on the WMT 2014 English- to-German translation task, improving over the existing best results, including ensembles, by over 2 BLEU. On the WMT 2014 English-to-French translation task, our model establishes a new single-model state-of-the-art BLEU score of 41.8 after training for 3.5 days on eight GPUs, a small fraction of the training costs of the best models from the literature. We show that the Transformer generalizes well to other tasks by applying it successfully to English constituency parsing both with large and limited training data.\n",
      "\n",
      "Recurrent neural networks, long short-term memory [ 13] and gated recurrent [ 7] neural networks in particular, have been ﬁrmly established as state of the art approaches in sequence modeling and\n",
      "\n",
      "Equal contribution. Listing order is random. Jakob proposed replacing RNNs with self-attention and started the effort to evaluate this idea. Ashish, with Illia, designed and implemented the ﬁrst Transformer models and has been crucially involved in every aspect of this work. Noam proposed scaled dot-product attention, multi-head attention and the parameter-free position representation and became the other person involved in nearly every detail. Niki designed, implemented, tuned and evaluated countless model variants in our original codebase and tensor2tensor. Llion also experimented with novel model variants, was responsible for our initial codebase, and efﬁcient inference and visualizations. Lukasz and Aidan spent countless long days designing various parts of and implementing tensor2tensor, replacing our earlier codebase, greatly improving results and massively accelerating our research. Work performed while at Google Brain. Work performed while at Google Research. 31st Conference on Neural Information Processing Systems (NIPS 2017), Long Beach, CA, USA.\n",
      "\n",
      "transduction problems such as language modeling and machine translation [ 35,2,5]. Numerous efforts have since continued to push the boundaries of recurrent language models and encoder-decoder architectures [38, 24, 15]. Recurrent models typically factor computation along the symbol positions of the input and output sequences. Aligning the positions to steps in computation time, they generate a sequence of hidden states , as a function of the previous hidden state and the input for position . This inherently sequential nature precludes parallelization within training examples, which becomes critical at longer sequence lengths, as memory constraints limit batching across examples. Recent work has achieved signiﬁcant improvements in computational efﬁciency through factorization tricks [ 21] and conditional computation [ 32], while also improving model performance in case of the latter. The fundamental constraint of sequential computation, however, remains. Attention mechanisms have become an integral part of compelling sequence modeling and transduc- tion models in various tasks, allowing modeling of dependencies without regard to their distance in the input or output sequences [ 2,19]. In all but a few cases [ 27], however, such attention mechanisms are used in conjunction with a recurrent network. In this work we propose the Transformer, a model architecture eschewing recurrence and instead relying entirely on an attention mechanism to draw global dependencies between input and output. The Transformer allows for signiﬁcantly more parallelization and can reach a new state of the art in translation quality after being trained for as little as twelve hours on eight P100 GPUs.\n",
      "\n",
      "The goal of reducing sequential computation also forms the foundation of the Extended Neural GPU [16], ByteNet [ 18] and ConvS2S [ 9], all of which use convolutional neural networks as basic building block, computing hidden representations in parallel for all input and output positions. In these models, the number of operations required to relate signals from two arbitrary input or output positions grows in the distance between positions, linearly for ConvS2S and logarithmically for ByteNet. This makes it more difﬁcult to learn dependencies between distant positions [ 12]. In the Transformer this is reduced to a constant number of operations, albeit at the cost of reduced effective resolution due to averaging attention-weighted positions, an effect we counteract with Multi-Head Attention as described in section 3.2. Self-attention, sometimes called intra-attention is an attention mechanism relating different positions of a single sequence in order to compute a representation of the sequence. Self-attention has been used successfully in a variety of tasks including reading comprehension, abstractive summarization, textual entailment and learning task-independent sentence representations [4, 27, 28, 22]. End-to-end memory networks are based on a recurrent attention mechanism instead of sequence- aligned recurrence and have been shown to perform well on simple-language question answering and language modeling tasks [34]. To the best of our knowledge, however, the Transformer is the ﬁrst transduction model relying entirely on self-attention to compute representations of its input and output without using sequence- aligned RNNs or convolution. In the following sections, we will describe the Transformer, motivate self-attention and discuss its advantages over models such as [17, 18] and [9].\n",
      "\n",
      "Figure 1: The Transformer - model architecture. 3.1 Encoder and Decoder Stacks Encoder: The encoder is composed of a stack of = 6 identical layers. Each layer has two sub-layers. The ﬁrst is a multi-head self-attention mechanism, and the second is a simple, position- wise fully connected feed-forward network. We employ a residual connection [ 11] around each of the two sub-layers, followed by layer normalization [ 1]. That is, the output of each sub-layer is LayerNorm( + Sublayer( )) , where Sublayer( is the function implemented by the sub-layer itself. To facilitate these residual connections, all sub-layers in the model, as well as the embedding layers, produce outputs of dimension\n",
      "\n",
      "Scaled Dot-Product Attention Multi-Head Attention Figure 2: (left) Scaled Dot-Product Attention. (right) Multi-Head Attention consists of several attention layers running in parallel. 3.2.1 Scaled Dot-Product Attention We call our particular attention \"Scaled Dot-Product Attention\" (Figure 2). The input consists of queries and keys of dimension , and values of dimension . We compute the dot products of the query with all keys, divide each by , and apply a softmax function to obtain the weights on the values. In practice, we compute the attention function on a set of queries simultaneously, packed together into a matrix . The keys and values are also packed together into matrices and . We compute the matrix of outputs as: Attention( Q;K;V ) = softmax( QK (1) The two most commonly used attention functions are additive attention [ 2], and dot-product (multi- plicative) attention. Dot-product attention is identical to our algorithm, except for the scaling factor of . Additive attention computes the compatibility function using a feed-forward network with a single hidden layer. While the two are similar in theoretical complexity, dot-product attention is much faster and more space-efﬁcient in practice, since it can be implemented using highly optimized matrix multiplication code. While for small values of the two mechanisms perform similarly, additive attention outperforms dot product attention without scaling for larger values of [3]. We suspect that for large values of , the dot products grow large in magnitude, pushing the softmax function into regions where it has extremely small gradients . To counteract this effect, we scale the dot products by 3.2.2 Multi-Head Attention Instead of performing a single attention function with\n",
      "\n",
      "-dimensional keys, values and queries, we found it beneﬁcial to linearly project the queries, keys and values times with different, learned linear projections to and dimensions, respectively. On each of these projected versions of queries, keys and values we then perform the attention function in parallel, yielding -dimensional output values. These are concatenated and once again projected, resulting in the ﬁnal values, as depicted in Figure 2.\n",
      "\n",
      "To illustrate why the dot products get large, assume that the components of and are independent random variables with mean and variance . Then their dot product,\n",
      "\n",
      "Multi-head attention allows the model to jointly attend to information from different representation subspaces at different positions. With a single attention head, averaging inhibits this. MultiHead( Q;K;V ) = Concat(head ;:::; head where head = Attention( QW ;KW ;VW Where the projections are parameter matrices\n",
      "\n",
      "In this work we employ = 8 parallel attention layers, or heads. For each of these we use\n",
      "\n",
      "=h = 64 . Due to the reduced dimension of each head, the total computational cost is similar to that of single-head attention with full dimensionality. 3.2.3 Applications of Attention in our Model The Transformer uses multi-head attention in three different ways: In \"encoder-decoder attention\" layers, the queries come from the previous decoder layer, and the memory keys and values come from the output of the encoder. This allows every position in the decoder to attend over all positions in the input sequence. This mimics the typical encoder-decoder attention mechanisms in sequence-to-sequence models such as [38, 2, 9]. The encoder contains self-attention layers. In a self-attention layer all of the keys, values and queries come from the same place, in this case, the output of the previous layer in the encoder. Each position in the encoder can attend to all positions in the previous layer of the encoder. Similarly, self-attention layers in the decoder allow each position in the decoder to attend to all positions in the decoder up to and including that position. We need to prevent leftward information ﬂow in the decoder to preserve the auto-regressive property. We implement this inside of scaled dot-product attention by masking out (setting to \u00001 ) all values in the input of the softmax which correspond to illegal connections. See Figure 2. 3.3 Position-wise Feed-Forward Networks In addition to attention sub-layers, each of the layers in our encoder and decoder contains a fully connected feed-forward network, which is applied to each position separately and identically. This consists of two linear transformations with a ReLU activation in between. FFN( ) = max(0 ;xW (2) While the linear transformations are the same across different positions, they use different parameters from layer to layer. Another way of describing this is as two convolutions with kernel size 1. The dimensionality of input and output is\n",
      "\n",
      "= 2048 3.4 Embeddings and Softmax Similarly to other sequence transduction models, we use learned embeddings to convert the input tokens and output tokens to vectors of dimension\n",
      "\n",
      ". We also use the usual learned linear transfor- mation and softmax function to convert the decoder output to predicted next-token probabilities. In our model, we share the same weight matrix between the two embedding layers and the pre-softmax linear transformation, similar to [ 30]. In the embedding layers, we multiply those weights by\n",
      "\n",
      "Table 1: Maximum path lengths, per-layer complexity and minimum number of sequential operations for different layer types. is the sequence length, is the representation dimension, is the kernel size of convolutions and the size of the neighborhood in restricted self-attention. Layer Type Complexity per Layer Sequential Maximum Path Length Operations Self-Attention (1) (1) Recurrent Convolutional (1) log )) Self-Attention (restricted) (1) n=r tokens in the sequence. To this end, we add \"positional encodings\" to the input embeddings at the bottoms of the encoder and decoder stacks. The positional encodings have the same dimension\n",
      "\n",
      "as the embeddings, so that the two can be summed. There are many choices of positional encodings, learned and ﬁxed [9]. In this work, we use sine and cosine functions of different frequencies: PE\n",
      "\n",
      "where pos is the position and is the dimension. That is, each dimension of the positional encoding corresponds to a sinusoid. The wavelengths form a geometric progression from to 10000 . We chose this function because we hypothesized it would allow the model to easily learn to attend by relative positions, since for any ﬁxed offset PE\n",
      "\n",
      "We also experimented with using learned positional embeddings [ 9] instead, and found that the two versions produced nearly identical results (see Table 3 row (E)). We chose the sinusoidal version because it may allow the model to extrapolate to sequence lengths longer than the ones encountered during training.\n",
      "\n",
      "the input sequence centered around the respective output position. This would increase the maximum path length to n=r . We plan to investigate this approach further in future work. A single convolutional layer with kernel width k<n does not connect all pairs of input and output positions. Doing so requires a stack of n=k convolutional layers in the case of contiguous kernels, or log )) in the case of dilated convolutions [ 18], increasing the length of the longest paths between any two positions in the network. Convolutional layers are generally more expensive than recurrent layers, by a factor of . Separable convolutions [ 6], however, decrease the complexity considerably, to . Even with , however, the complexity of a separable convolution is equal to the combination of a self-attention layer and a point-wise feed-forward layer, the approach we take in our model. As side beneﬁt, self-attention could yield more interpretable models. We inspect attention distributions from our models and present and discuss examples in the appendix. Not only do individual attention heads clearly learn to perform different tasks, many appear to exhibit behavior related to the syntactic and semantic structure of the sentences.\n",
      "\n",
      "This section describes the training regime for our models. 5.1 Training Data and Batching We trained on the standard WMT 2014 English-German dataset consisting of about 4.5 million sentence pairs. Sentences were encoded using byte-pair encoding [ 3], which has a shared source- target vocabulary of about 37000 tokens. For English-French, we used the signiﬁcantly larger WMT 2014 English-French dataset consisting of 36M sentences and split tokens into a 32000 word-piece vocabulary [ 38]. Sentence pairs were batched together by approximate sequence length. Each training batch contained a set of sentence pairs containing approximately 25000 source tokens and 25000 target tokens. 5.2 Hardware and Schedule We trained our models on one machine with 8 NVIDIA P100 GPUs. For our base models using the hyperparameters described throughout the paper, each training step took about 0.4 seconds. We trained the base models for a total of 100,000 steps or 12 hours. For our big models,(described on the bottom line of table 3), step time was 1.0 seconds. The big models were trained for 300,000 steps (3.5 days). 5.3 Optimizer We used the Adam optimizer [ 20] with = 0 = 0 98 and = 10 . We varied the learning rate over the course of training, according to the formula: lrate\n",
      "\n",
      "min( step num ;step num warmup steps (3) This corresponds to increasing the learning rate linearly for the ﬁrst warmup steps training steps, and decreasing it thereafter proportionally to the inverse square root of the step number. We used warmup steps = 4000 5.4 Regularization We employ three types of regularization during training: Residual Dropout We apply dropout [ 33] to the output of each sub-layer, before it is added to the sub-layer input and normalized. In addition, we apply dropout to the sums of the embeddings and the positional encodings in both the encoder and decoder stacks. For the base model, we use a rate of\n",
      "\n",
      "Table 2: The Transformer achieves better BLEU scores than previous state-of-the-art models on the English-to-German and English-to-French newstest2014 tests at a fraction of the training cost. ModelBLEU Training Cost (FLOPs) EN-DE EN-FR EN-DE EN-FR ByteNet [18] 23.75 Deep-Att + PosUnk [39] 39.2 10\n",
      "\n",
      "Label Smoothing During training, we employed label smoothing of value\n",
      "\n",
      "= 0 [36]. This hurts perplexity, as the model learns to be more unsure, but improves accuracy and BLEU score.\n",
      "\n",
      "6.1 Machine Translation On the WMT 2014 English-to-German translation task, the big transformer model (Transformer (big) in Table 2) outperforms the best previously reported models (including ensembles) by more than BLEU, establishing a new state-of-the-art BLEU score of 28 . The conﬁguration of this model is listed in the bottom line of Table 3. Training took days on P100 GPUs. Even our base model surpasses all previously published models and ensembles, at a fraction of the training cost of any of the competitive models. On the WMT 2014 English-to-French translation task, our big model achieves a BLEU score of 41 outperforming all of the previously published single models, at less than the training cost of the previous state-of-the-art model. The Transformer (big) model trained for English-to-French used dropout rate\n",
      "\n",
      "= 0 , instead of For the base models, we used a single model obtained by averaging the last 5 checkpoints, which were written at 10-minute intervals. For the big models, we averaged the last 20 checkpoints. We used beam search with a beam size of and length penalty = 0 [38]. These hyperparameters were chosen after experimentation on the development set. We set the maximum output length during inference to input length + 50 , but terminate early when possible [38]. Table 2 summarizes our results and compares our translation quality and training costs to other model architectures from the literature. We estimate the number of ﬂoating point operations used to train a model by multiplying the training time, the number of GPUs used, and an estimate of the sustained single-precision ﬂoating-point capacity of each GPU 6.2 Model Variations To evaluate the importance of different components of the Transformer, we varied our base model in different ways, measuring the change in performance on English-to-German translation on the development set, newstest2013. We used beam search as described in the previous section, but no checkpoint averaging. We present these results in Table 3. In Table 3 rows (A), we vary the number of attention heads and the attention key and value dimensions, keeping the amount of computation constant, as described in Section 3.2.2. While single-head attention is 0.9 BLEU worse than the best setting, quality also drops off with too many heads.\n",
      "\n",
      "Table 3: Variations on the Transformer architecture. Unlisted values are identical to those of the base model. All metrics are on the English-to-German translation development set, newstest2013. Listed perplexities are per-wordpiece, according to our byte-pair encoding, and should not be compared to per-word perplexities. N d\n",
      "\n",
      "constraints and is signiﬁcantly longer than the input. Furthermore, RNN sequence-to-sequence models have not been able to attain state-of-the-art results in small-data regimes [37]. We trained a 4-layer transformer with\n",
      "\n",
      "= 1024 on the Wall Street Journal (WSJ) portion of the Penn Treebank [ 25], about 40K training sentences. We also trained it in a semi-supervised setting, using the larger high-conﬁdence and BerkleyParser corpora from with approximately 17M sentences [37]. We used a vocabulary of 16K tokens for the WSJ only setting and a vocabulary of 32K tokens for the semi-supervised setting. We performed only a small number of experiments to select the dropout, both attention and residual (section 5.4), learning rates and beam size on the Section 22 development set, all other parameters remained unchanged from the English-to-German base translation model. During inference, we increased the maximum output length to input length + 300 . We used a beam size of 21 and = 0 for both WSJ only and the semi-supervised setting. Our results in Table 4 show that despite the lack of task-speciﬁc tuning our model performs sur- prisingly well, yielding better results than all previously reported models with the exception of the Recurrent Neural Network Grammar [8]. In contrast to RNN sequence-to-sequence models [ 37], the Transformer outperforms the Berkeley- Parser [29] even when training only on the WSJ training set of 40K sentences.\n",
      "\n",
      "In this work, we presented the Transformer, the ﬁrst sequence transduction model based entirely on attention, replacing the recurrent layers most commonly used in encoder-decoder architectures with multi-headed self-attention. For translation tasks, the Transformer can be trained signiﬁcantly faster than architectures based on recurrent or convolutional layers. On both WMT 2014 English-to-German and WMT 2014 English-to-French translation tasks, we achieve a new state of the art. In the former task our best model outperforms even all previously reported ensembles. We are excited about the future of attention-based models and plan to apply them to other tasks. We plan to extend the Transformer to problems involving input and output modalities other than text and to investigate local, restricted attention mechanisms to efﬁciently handle large inputs and outputs such as images, audio and video. Making generation less sequential is another research goals of ours. The code we used to train and evaluate our models is available at https://github.com/ tensorflow/tensor2tensor Acknowledgements We are grateful to Nal Kalchbrenner and Stephan Gouws for their fruitful comments, corrections and inspiration.\n",
      "\n",
      "Input-Input Layer5 It is in this spirit that majority of American governments have passed new laws since 2009 making the registration or voting process more difficult <EOS> <pad> <pad> <pad> <pad> <pad> <pad> It is in of or\n",
      "\n",
      "Input-Input Layer5\n",
      "It\n",
      "is\n",
      "in\n",
      "this\n",
      "spirit\n",
      "that\n",
      "a\n",
      "majority\n",
      "of\n",
      "American\n",
      "governments\n",
      "have\n",
      "passed\n",
      "new\n",
      "laws\n",
      "since\n",
      "2009\n",
      "making\n",
      "the\n",
      "registration\n",
      "or\n",
      "voting\n",
      "process\n",
      "more\n",
      "difficult\n",
      ".\n",
      "<EOS>\n",
      "<pad>\n",
      "<pad>\n",
      "<pad>\n",
      "<pad>\n",
      "<pad>\n",
      "<pad>\n",
      "It\n",
      "is\n",
      "in\n",
      "this\n",
      "spirit\n",
      "that\n",
      "a\n",
      "majority\n",
      "of\n",
      "American\n",
      "governments\n",
      "have\n",
      "passed\n",
      "new\n",
      "laws\n",
      "since\n",
      "2009\n",
      "making\n",
      "the\n",
      "registration\n",
      "or\n",
      "voting\n",
      "process\n",
      "more\n",
      "difficult\n",
      ".\n",
      "<EOS>\n",
      "<pad>\n",
      "<pad>\n",
      "<pad>\n",
      "<pad>\n",
      "<pad>\n",
      "<pad>\n",
      "\n",
      "Input-Input Layer5 The Law will never be perfect but its application should be just this is what we are missing in my opinion <EOS> <pad> Input-Input Layer5 The Law will never be perfect but its application should be just this is what we are missing in my opinion <EOS> <pad> be its be is in\n",
      "\n",
      "Input-Input Layer5 The Law will never be perfect but its application should be just this is what we are missing in my opinion <EOS> <pad> Input-Input Layer5 The Law will never be perfect but its application should be just this is what we are missing in my opinion <EOS> <pad>\n",
      "\n"
     ]
    }
   ],
   "source": [
    "df = pd.DataFrame(filtered_paper_text)\n",
    "# df.head()\n",
    "\n",
    "for index, row in df.iterrows() :\n",
    "    print(row[\"text\"])\n",
    "    print()"
   ]
  },
  {
   "cell_type": "markdown",
   "id": "d9313eb7-6ca9-4c48-a6f9-332febf63bff",
   "metadata": {},
   "source": [
    "# Get Embeddings"
   ]
  },
  {
   "cell_type": "code",
   "execution_count": 27,
   "id": "d0cf6739-0c11-481b-95f4-73af34a6ec28",
   "metadata": {
    "execution": {
     "iopub.execute_input": "2023-03-28T20:34:12.611311Z",
     "iopub.status.busy": "2023-03-28T20:34:12.610987Z",
     "iopub.status.idle": "2023-03-28T20:34:19.099862Z",
     "shell.execute_reply": "2023-03-28T20:34:19.098930Z",
     "shell.execute_reply.started": "2023-03-28T20:34:12.611287Z"
    }
   },
   "outputs": [],
   "source": [
    "embedding_model = \"text-embedding-ada-002\"\n",
    "embeddings = df.text.apply([lambda x: get_embedding(x, engine=embedding_model)])\n",
    "df[\"embeddings\"] = embeddings"
   ]
  },
  {
   "cell_type": "markdown",
   "id": "c2ee83a9-bf94-40f4-821f-257217a6b202",
   "metadata": {},
   "source": [
    "# Search Embeddings"
   ]
  },
  {
   "cell_type": "code",
   "execution_count": 28,
   "id": "a1b1872c-0909-419f-a88b-aebba3c9627c",
   "metadata": {
    "execution": {
     "iopub.execute_input": "2023-03-28T20:34:28.977141Z",
     "iopub.status.busy": "2023-03-28T20:34:28.976741Z",
     "iopub.status.idle": "2023-03-28T20:34:28.982866Z",
     "shell.execute_reply": "2023-03-28T20:34:28.982102Z",
     "shell.execute_reply.started": "2023-03-28T20:34:28.977115Z"
    }
   },
   "outputs": [],
   "source": [
    "def search_embeddings(df, query, n=3, pprint=True):\n",
    "    query_embedding = get_embedding(\n",
    "        query,\n",
    "        engine=\"text-embedding-ada-002\"\n",
    "    )\n",
    "    df[\"similarity\"] = df.embeddings.apply(lambda x: cosine_similarity(x, query_embedding))\n",
    "\n",
    "    results = (\n",
    "        df.sort_values(\"similarity\", ascending=False)\n",
    "        \n",
    "    )\n",
    "    return results"
   ]
  },
  {
   "cell_type": "markdown",
   "id": "1029063d-b7ac-4c7d-9921-ee30baabf420",
   "metadata": {},
   "source": [
    "# Ask Questions"
   ]
  },
  {
   "cell_type": "code",
   "execution_count": 30,
   "id": "cf0336de-a20b-477d-9c25-a9de9b6ed37c",
   "metadata": {
    "execution": {
     "iopub.execute_input": "2023-03-28T20:35:06.262748Z",
     "iopub.status.busy": "2023-03-28T20:35:06.262426Z",
     "iopub.status.idle": "2023-03-28T20:35:06.435440Z",
     "shell.execute_reply": "2023-03-28T20:35:06.434571Z",
     "shell.execute_reply.started": "2023-03-28T20:35:06.262725Z"
    }
   },
   "outputs": [
    {
     "data": {
      "text/plain": [
       "'Equal contribution. Listing order is random. Jakob proposed replacing RNNs with self-attention and started the effort to evaluate this idea. Ashish, with Illia, designed and implemented the ﬁrst Transformer models and has been crucially involved in every aspect of this work. Noam proposed scaled dot-product attention, multi-head attention and the parameter-free position representation and became the other person involved in nearly every detail. Niki designed, implemented, tuned and evaluated countless model variants in our original codebase and tensor2tensor. Llion also experimented with novel model variants, was responsible for our initial codebase, and efﬁcient inference and visualizations. Lukasz and Aidan spent countless long days designing various parts of and implementing tensor2tensor, replacing our earlier codebase, greatly improving results and massively accelerating our research. Work performed while at Google Brain. Work performed while at Google Research. 31st Conference on Neural Information Processing Systems (NIPS 2017), Long Beach, CA, USA.'"
      ]
     },
     "execution_count": 30,
     "metadata": {},
     "output_type": "execute_result"
    }
   ],
   "source": [
    "results = search_embeddings(df, \"what model is introduced in this paper?\", n=3)\n",
    "results.iloc[0]['text']"
   ]
  }
 ],
 "metadata": {
  "kernelspec": {
   "display_name": "Python 3 (ipykernel)",
   "language": "python",
   "name": "python3"
  },
  "language_info": {
   "codemirror_mode": {
    "name": "ipython",
    "version": 3
   },
   "file_extension": ".py",
   "mimetype": "text/x-python",
   "name": "python",
   "nbconvert_exporter": "python",
   "pygments_lexer": "ipython3",
   "version": "3.9.16"
  }
 },
 "nbformat": 4,
 "nbformat_minor": 5
}
