{
  "nbformat": 4,
  "nbformat_minor": 0,
  "metadata": {
    "colab": {
      "provenance": [],
      "gpuType": "T4"
    },
    "kernelspec": {
      "name": "python3",
      "display_name": "Python 3"
    },
    "language_info": {
      "name": "python"
    },
    "accelerator": "GPU"
  },
  "cells": [
    {
      "cell_type": "code",
      "execution_count": 1,
      "metadata": {
        "id": "yCLrCSpSuOVJ"
      },
      "outputs": [],
      "source": [
        "import math, matplotlib.pyplot as plt, operator, torch\n",
        "from functools import partial"
      ]
    },
    {
      "cell_type": "code",
      "source": [
        "torch.manual_seed(42)\n",
        "torch.set_printoptions(precision=3, linewidth=140, sci_mode=False)"
      ],
      "metadata": {
        "id": "14tHAdzbbX13"
      },
      "execution_count": 2,
      "outputs": []
    },
    {
      "cell_type": "markdown",
      "source": [
        "## Create data"
      ],
      "metadata": {
        "id": "JIFQ7UB2bpjH"
      }
    },
    {
      "cell_type": "code",
      "source": [
        "n_clusters = 6\n",
        "n_samples = 250"
      ],
      "metadata": {
        "id": "QVrfYvFMbnDM"
      },
      "execution_count": 3,
      "outputs": []
    },
    {
      "cell_type": "markdown",
      "source": [
        "To generate our data, we're going to pick 6 random points, which we'll call centroids, and for each point we're going to generate 250 random points about it."
      ],
      "metadata": {
        "id": "lf_vuMQMbwOq"
      }
    },
    {
      "cell_type": "code",
      "source": [
        "centroids = torch.rand(n_clusters, 2) * 75 - 35"
      ],
      "metadata": {
        "id": "Lx4fF5g8bwot"
      },
      "execution_count": 4,
      "outputs": []
    },
    {
      "cell_type": "code",
      "source": [
        "centroids"
      ],
      "metadata": {
        "colab": {
          "base_uri": "https://localhost:8080/"
        },
        "id": "fCiWdF-I3OzD",
        "outputId": "85caa116-f481-417e-adf8-ce86f63ca865"
      },
      "execution_count": 5,
      "outputs": [
        {
          "output_type": "execute_result",
          "data": {
            "text/plain": [
              "tensor([[ 31.170,  33.625],\n",
              "        [ -6.285,  36.948],\n",
              "        [ -5.716,  10.067],\n",
              "        [-15.757,  24.523],\n",
              "        [ 35.558, -25.011],\n",
              "        [ 35.095,   9.518]])"
            ]
          },
          "metadata": {},
          "execution_count": 5
        }
      ]
    },
    {
      "cell_type": "code",
      "source": [
        "from torch.distributions.multivariate_normal import MultivariateNormal\n",
        "from torch import tensor"
      ],
      "metadata": {
        "id": "KZ5-K2E-cB7h"
      },
      "execution_count": 6,
      "outputs": []
    },
    {
      "cell_type": "code",
      "source": [
        "def sample(m):\n",
        "  return MultivariateNormal(m, torch.diag(tensor([5.,5.]))).sample((n_samples,))"
      ],
      "metadata": {
        "id": "mRLRIICPdDVf"
      },
      "execution_count": 7,
      "outputs": []
    },
    {
      "cell_type": "code",
      "source": [
        "slices = [sample(c) for c in centroids]\n",
        "data = torch.cat(slices)\n",
        "data.shape"
      ],
      "metadata": {
        "colab": {
          "base_uri": "https://localhost:8080/"
        },
        "id": "LgYaHTeveEwp",
        "outputId": "705682af-698e-4ab0-87ab-2b2930ceb2db"
      },
      "execution_count": 8,
      "outputs": [
        {
          "output_type": "execute_result",
          "data": {
            "text/plain": [
              "torch.Size([1500, 2])"
            ]
          },
          "metadata": {},
          "execution_count": 8
        }
      ]
    },
    {
      "cell_type": "code",
      "source": [
        "data[0]"
      ],
      "metadata": {
        "colab": {
          "base_uri": "https://localhost:8080/"
        },
        "id": "KX5B9mTF3YFD",
        "outputId": "ab526061-869d-43e8-e9a3-ab345685cca6"
      },
      "execution_count": 9,
      "outputs": [
        {
          "output_type": "execute_result",
          "data": {
            "text/plain": [
              "tensor([30.615, 30.924])"
            ]
          },
          "metadata": {},
          "execution_count": 9
        }
      ]
    },
    {
      "cell_type": "markdown",
      "source": [
        "Below we can see each centroid marked w/ X, and the coloring associated to each respective cluster."
      ],
      "metadata": {
        "id": "9EowWe_G2B0l"
      }
    },
    {
      "cell_type": "code",
      "source": [
        "def plot_data(centroids, data, n_samples, ax=None):\n",
        "  if ax is None:\n",
        "    _, ax = plt.subplots()\n",
        "  for i, centroid in enumerate(centroids):\n",
        "    samples = data[i*n_samples: (i+1)*n_samples]\n",
        "    ax.scatter(samples[:,0], samples[:,1], s=1)\n",
        "    ax.plot(*centroid, markersize=10, marker='x', color='k', mew=5)\n",
        "    ax.plot(*centroid, markersize=5, marker='o', color='b', mew=2)"
      ],
      "metadata": {
        "id": "7qtWjH9QeN6A"
      },
      "execution_count": 10,
      "outputs": []
    },
    {
      "cell_type": "code",
      "source": [
        "plot_data(centroids, data, n_samples)"
      ],
      "metadata": {
        "colab": {
          "base_uri": "https://localhost:8080/",
          "height": 430
        },
        "id": "L-WwZ6314Jy1",
        "outputId": "b2995a44-9a57-4e98-c791-63e148028543"
      },
      "execution_count": 11,
      "outputs": [
        {
          "output_type": "display_data",
          "data": {
            "text/plain": [
              "<Figure size 640x480 with 1 Axes>"
            ],
            "image/png": "[encoded data removed]"
          },
          "metadata": {}
        }
      ]
    },
    {
      "cell_type": "markdown",
      "source": [
        "## Mean shift"
      ],
      "metadata": {
        "id": "3iCJoSew4aDP"
      }
    },
    {
      "cell_type": "code",
      "source": [
        "midp = data.mean(0)\n",
        "midp"
      ],
      "metadata": {
        "colab": {
          "base_uri": "https://localhost:8080/"
        },
        "id": "CZlUlXOv4Q63",
        "outputId": "b85c9abf-99f2-494e-b88a-8357b7b52200"
      },
      "execution_count": 12,
      "outputs": [
        {
          "output_type": "execute_result",
          "data": {
            "text/plain": [
              "tensor([12.378, 14.934])"
            ]
          },
          "metadata": {},
          "execution_count": 12
        }
      ]
    },
    {
      "cell_type": "code",
      "source": [
        "plot_data([midp]*6, data, n_samples)"
      ],
      "metadata": {
        "colab": {
          "base_uri": "https://localhost:8080/",
          "height": 430
        },
        "id": "8RNrhwdZ4itR",
        "outputId": "2a463fb6-3ad1-42a6-b744-6a776a47f433"
      },
      "execution_count": 13,
      "outputs": [
        {
          "output_type": "display_data",
          "data": {
            "text/plain": [
              "<Figure size 640x480 with 1 Axes>"
            ],
            "image/png": "[encoded data removed]"
          },
          "metadata": {}
        }
      ]
    },
    {
      "cell_type": "markdown",
      "source": [
        "So here's the definition of the gaussian kernel, which you may remember from high school...\n",
        " This person at the science march certainly remembered!\n",
        "\n",
        "<img src=\"http://i.imgur.com/nijQLHw.jpg\" width=400>"
      ],
      "metadata": {
        "id": "1AAsbUfH4tEN"
      }
    },
    {
      "cell_type": "code",
      "source": [
        "def gaussian(d, bw):\n",
        "  return torch.exp(-0.5*((d/bw))**2) / (bw*math.sqrt(2*math.pi))"
      ],
      "metadata": {
        "id": "xUeRLliF4pv3"
      },
      "execution_count": 14,
      "outputs": []
    },
    {
      "cell_type": "code",
      "source": [
        "def plot_func(f):\n",
        "  x = torch.linspace(0, 10, 100)\n",
        "  plt.plot(x, f(x))"
      ],
      "metadata": {
        "id": "MnMHYqdz41fW"
      },
      "execution_count": 15,
      "outputs": []
    },
    {
      "cell_type": "code",
      "source": [
        "plot_func(partial(gaussian, bw=2.5))"
      ],
      "metadata": {
        "colab": {
          "base_uri": "https://localhost:8080/",
          "height": 430
        },
        "id": "_7zDgS0N5Emz",
        "outputId": "c11a18d0-3ee7-4fa3-8166-6f67d9057711"
      },
      "execution_count": 16,
      "outputs": [
        {
          "output_type": "display_data",
          "data": {
            "text/plain": [
              "<Figure size 640x480 with 1 Axes>"
            ],
            "image/png": "[encoded data removed]"
          },
          "metadata": {}
        }
      ]
    },
    {
      "cell_type": "markdown",
      "source": [
        "In our implementation, we choose the bandwidth to be 2.5.\n",
        "\n",
        "One easy way to choose bandwidth is to find which bandwidth covers one third of the data."
      ],
      "metadata": {
        "id": "UuVJcfaN5Psd"
      }
    },
    {
      "cell_type": "code",
      "source": [
        "def tri(d, i):\n",
        "  return (-d+i).clamp_min(0)/i"
      ],
      "metadata": {
        "id": "w-Aposot5LP1"
      },
      "execution_count": 17,
      "outputs": []
    },
    {
      "cell_type": "code",
      "source": [
        "plot_func(partial(tri, i=8))"
      ],
      "metadata": {
        "colab": {
          "base_uri": "https://localhost:8080/",
          "height": 430
        },
        "id": "7hEa9ICY7Zhk",
        "outputId": "08e79d48-cc0a-4acf-960f-552b97bd51c8"
      },
      "execution_count": 18,
      "outputs": [
        {
          "output_type": "display_data",
          "data": {
            "text/plain": [
              "<Figure size 640x480 with 1 Axes>"
            ],
            "image/png": "[encoded data removed]"
          },
          "metadata": {}
        }
      ]
    },
    {
      "cell_type": "code",
      "source": [
        "X = data.clone()\n",
        "x = data[0]"
      ],
      "metadata": {
        "id": "8pRgnFqV7a-B"
      },
      "execution_count": 19,
      "outputs": []
    },
    {
      "cell_type": "code",
      "source": [
        "x.shape, X.shape, x[None].shape"
      ],
      "metadata": {
        "colab": {
          "base_uri": "https://localhost:8080/"
        },
        "id": "NlTKZdxT7ljn",
        "outputId": "0e61e694-bdc1-4b94-a794-4c313dd42cf2"
      },
      "execution_count": 20,
      "outputs": [
        {
          "output_type": "execute_result",
          "data": {
            "text/plain": [
              "(torch.Size([2]), torch.Size([1500, 2]), torch.Size([1, 2]))"
            ]
          },
          "metadata": {},
          "execution_count": 20
        }
      ]
    },
    {
      "cell_type": "code",
      "source": [
        "(x[None]-X)[:8]"
      ],
      "metadata": {
        "colab": {
          "base_uri": "https://localhost:8080/"
        },
        "id": "sygnvypW7ps7",
        "outputId": "cecae2c8-ae39-4a79-ccdc-72fb59761163"
      },
      "execution_count": 21,
      "outputs": [
        {
          "output_type": "execute_result",
          "data": {
            "text/plain": [
              "tensor([[ 0.000,  0.000],\n",
              "        [ 0.513, -3.865],\n",
              "        [-4.227, -2.345],\n",
              "        [ 0.557, -3.685],\n",
              "        [-5.033, -3.745],\n",
              "        [-4.073, -0.638],\n",
              "        [-3.415, -5.601],\n",
              "        [-1.920, -5.686]])"
            ]
          },
          "metadata": {},
          "execution_count": 21
        }
      ]
    },
    {
      "cell_type": "code",
      "source": [
        "(x-X)[:8]"
      ],
      "metadata": {
        "colab": {
          "base_uri": "https://localhost:8080/"
        },
        "id": "3UavBtA898XG",
        "outputId": "2ccad5bb-530c-4954-a35a-e885e45476b7"
      },
      "execution_count": 22,
      "outputs": [
        {
          "output_type": "execute_result",
          "data": {
            "text/plain": [
              "tensor([[ 0.000,  0.000],\n",
              "        [ 0.513, -3.865],\n",
              "        [-4.227, -2.345],\n",
              "        [ 0.557, -3.685],\n",
              "        [-5.033, -3.745],\n",
              "        [-4.073, -0.638],\n",
              "        [-3.415, -5.601],\n",
              "        [-1.920, -5.686]])"
            ]
          },
          "metadata": {},
          "execution_count": 22
        }
      ]
    },
    {
      "cell_type": "code",
      "source": [
        "dist = ((x-X)**2).sum(1).sqrt()\n",
        "dist[:8]"
      ],
      "metadata": {
        "colab": {
          "base_uri": "https://localhost:8080/"
        },
        "id": "h3g5Twhq9_hp",
        "outputId": "612b666a-c6bc-44ef-ee05-257ff688f343"
      },
      "execution_count": 23,
      "outputs": [
        {
          "output_type": "execute_result",
          "data": {
            "text/plain": [
              "tensor([0.000, 3.899, 4.834, 3.726, 6.273, 4.122, 6.560, 6.002])"
            ]
          },
          "metadata": {},
          "execution_count": 23
        }
      ]
    },
    {
      "cell_type": "code",
      "source": [
        "weight = gaussian(dist, 2.5)\n",
        "weight"
      ],
      "metadata": {
        "colab": {
          "base_uri": "https://localhost:8080/"
        },
        "id": "tvxh34QN-I4r",
        "outputId": "a9528798-f390-4d3c-fbd8-8c7b4a8487e5"
      },
      "execution_count": 24,
      "outputs": [
        {
          "output_type": "execute_result",
          "data": {
            "text/plain": [
              "tensor([    0.160,     0.047,     0.025,  ...,     0.000,     0.000,     0.000])"
            ]
          },
          "metadata": {},
          "execution_count": 24
        }
      ]
    },
    {
      "cell_type": "code",
      "source": [
        "weight.shape, X.shape"
      ],
      "metadata": {
        "colab": {
          "base_uri": "https://localhost:8080/"
        },
        "id": "oYug8yg4-WMf",
        "outputId": "c509ceaf-f73a-47d2-b586-b7147e2a4e07"
      },
      "execution_count": 25,
      "outputs": [
        {
          "output_type": "execute_result",
          "data": {
            "text/plain": [
              "(torch.Size([1500]), torch.Size([1500, 2]))"
            ]
          },
          "metadata": {},
          "execution_count": 25
        }
      ]
    },
    {
      "cell_type": "code",
      "source": [
        "weight[:,None]*X"
      ],
      "metadata": {
        "colab": {
          "base_uri": "https://localhost:8080/"
        },
        "id": "ohwM2-o7-lis",
        "outputId": "e88e5ec3-f8fe-488e-93be-43eac34d5781"
      },
      "execution_count": 26,
      "outputs": [
        {
          "output_type": "execute_result",
          "data": {
            "text/plain": [
              "tensor([[    4.885,     4.935],\n",
              "        [    1.424,     1.646],\n",
              "        [    0.857,     0.819],\n",
              "        ...,\n",
              "        [    0.000,     0.000],\n",
              "        [    0.000,     0.000],\n",
              "        [    0.000,     0.000]])"
            ]
          },
          "metadata": {},
          "execution_count": 26
        }
      ]
    },
    {
      "cell_type": "code",
      "source": [
        "def one_update(X):\n",
        "  for i, x in enumerate(X):\n",
        "    dist = torch.sqrt(((x-X)**2).sum(1))\n",
        "    # weight = gaussian(dist, 2.5)\n",
        "    weight = tri(dist, 8)\n",
        "    X[i] = (weight[:,None]*X).sum(0)/weight.sum()"
      ],
      "metadata": {
        "id": "rEyz4o_h-u9F"
      },
      "execution_count": 27,
      "outputs": []
    },
    {
      "cell_type": "code",
      "source": [
        "def meanshift(X):\n",
        "  X = data.clone()\n",
        "  for it in range(5):\n",
        "    one_update(X)\n",
        "  return X"
      ],
      "metadata": {
        "id": "hMouAAdJ_aDZ"
      },
      "execution_count": 28,
      "outputs": []
    },
    {
      "cell_type": "code",
      "source": [
        "%time X=meanshift(data)"
      ],
      "metadata": {
        "colab": {
          "base_uri": "https://localhost:8080/"
        },
        "id": "xI0MOxrr_n_A",
        "outputId": "960d1945-fd39-47d0-f511-8a9ba9cfb892"
      },
      "execution_count": 29,
      "outputs": [
        {
          "output_type": "stream",
          "name": "stdout",
          "text": [
            "CPU times: user 928 ms, sys: 2.96 ms, total: 931 ms\n",
            "Wall time: 956 ms\n"
          ]
        }
      ]
    },
    {
      "cell_type": "code",
      "source": [
        "plot_data(centroids+2, X, n_samples)"
      ],
      "metadata": {
        "colab": {
          "base_uri": "https://localhost:8080/",
          "height": 430
        },
        "id": "Ntvt3mEI_oln",
        "outputId": "b28bfe1a-7d9b-40fc-ab63-b6ce76c6a57e"
      },
      "execution_count": 30,
      "outputs": [
        {
          "output_type": "display_data",
          "data": {
            "text/plain": [
              "<Figure size 640x480 with 1 Axes>"
            ],
            "image/png": "[encoded data removed]"
          },
          "metadata": {}
        }
      ]
    },
    {
      "cell_type": "markdown",
      "source": [
        "## Animation"
      ],
      "metadata": {
        "id": "ktkROTaZ_tu-"
      }
    },
    {
      "cell_type": "code",
      "source": [
        "from matplotlib.animation import FuncAnimation\n",
        "from IPython.display import HTML"
      ],
      "metadata": {
        "id": "T_WXC_uG_rBA"
      },
      "execution_count": 31,
      "outputs": []
    },
    {
      "cell_type": "code",
      "source": [
        "def do_one(d):\n",
        "    if d:\n",
        "      one_update(X)\n",
        "    ax.clear()\n",
        "    plot_data(centroids+2, X, n_samples, ax=ax)"
      ],
      "metadata": {
        "id": "cpWarDQJ_zoC"
      },
      "execution_count": 32,
      "outputs": []
    },
    {
      "cell_type": "code",
      "source": [
        "X = data.clone()\n",
        "fig,ax = plt.subplots()\n",
        "ani = FuncAnimation(fig, do_one, frames=5, interval=500, repeat=False)\n",
        "plt.close()\n",
        "HTML(ani.to_jshtml())"
      ],
      "metadata": {
        "colab": {
          "base_uri": "https://localhost:8080/",
          "height": 578
        },
        "id": "eAgcb5YS_2Ez",
        "outputId": "bde1e6b8-42c0-4af7-ccb0-d34899d9bd96"
      },
      "execution_count": 33,
      "outputs": [
        {
          "output_type": "execute_result",
          "data": {
            "text/plain": [
              "<IPython.core.display.HTML object>"
            ],
            "text/html": [
              "\n",
              "<link rel=\"stylesheet\"\n",
              "href=\"https://maxcdn.bootstrapcdn.com/font-awesome/4.4.0/css/font-awesome.min.css\">\n",
              "<script language=\"javascript\">\n",
              "  function isInternetExplorer() {\n",
              "    ua = navigator.userAgent;\n",
              "    /* MSIE used to detect old browsers and Trident used to newer ones*/\n",
              "    return ua.indexOf(\"MSIE \") > -1 || ua.indexOf(\"Trident/\") > -1;\n",
              "  }\n",
              "\n",
              "  /* Define the Animation class */\n",
              "  function Animation(frames, img_id, slider_id, interval, loop_select_id){\n",
              "    this.img_id = img_id;\n",
              "    this.slider_id = slider_id;\n",
              "    this.loop_select_id = loop_select_id;\n",
              "    this.interval = interval;\n",
              "    this.current_frame = 0;\n",
              "    this.direction = 0;\n",
              "    this.timer = null;\n",
              "    this.frames = new Array(frames.length);\n",
              "\n",
              "    for (var i=0; i<frames.length; i++)\n",
              "    {\n",
              "     this.frames[i] = new Image();\n",
              "     this.frames[i].src = frames[i];\n",
              "    }\n",
              "    var slider = document.getElementById(this.slider_id);\n",
              "    slider.max = this.frames.length - 1;\n",
              "    if (isInternetExplorer()) {\n",
              "        // switch from oninput to onchange because IE <= 11 does not conform\n",
              "        // with W3C specification. It ignores oninput and onchange behaves\n",
              "        // like oninput. In contrast, Microsoft Edge behaves correctly.\n",
              "        slider.setAttribute('onchange', slider.getAttribute('oninput'));\n",
              "        slider.setAttribute('oninput', null);\n",
              "    }\n",
              "    this.set_frame(this.current_frame);\n",
              "  }\n",
              "\n",
              "  Animation.prototype.get_loop_state = function(){\n",
              "    var button_group = document[this.loop_select_id].state;\n",
              "    for (var i = 0; i < button_group.length; i++) {\n",
              "        var button = button_group[i];\n",
              "        if (button.checked) {\n",
              "            return button.value;\n",
              "        }\n",
              "    }\n",
              "    return undefined;\n",
              "  }\n",
              "\n",
              "  Animation.prototype.set_frame = function(frame){\n",
              "    this.current_frame = frame;\n",
              "    document.getElementById(this.img_id).src =\n",
              "            this.frames[this.current_frame].src;\n",
              "    document.getElementById(this.slider_id).value = this.current_frame;\n",
              "  }\n",
              "\n",
              "  Animation.prototype.next_frame = function()\n",
              "  {\n",
              "    this.set_frame(Math.min(this.frames.length - 1, this.current_frame + 1));\n",
              "  }\n",
              "\n",
              "  Animation.prototype.previous_frame = function()\n",
              "  {\n",
              "    this.set_frame(Math.max(0, this.current_frame - 1));\n",
              "  }\n",
              "\n",
              "  Animation.prototype.first_frame = function()\n",
              "  {\n",
              "    this.set_frame(0);\n",
              "  }\n",
              "\n",
              "  Animation.prototype.last_frame = function()\n",
              "  {\n",
              "    this.set_frame(this.frames.length - 1);\n",
              "  }\n",
              "\n",
              "  Animation.prototype.slower = function()\n",
              "  {\n",
              "    this.interval /= 0.7;\n",
              "    if(this.direction > 0){this.play_animation();}\n",
              "    else if(this.direction < 0){this.reverse_animation();}\n",
              "  }\n",
              "\n",
              "  Animation.prototype.faster = function()\n",
              "  {\n",
              "    this.interval *= 0.7;\n",
              "    if(this.direction > 0){this.play_animation();}\n",
              "    else if(this.direction < 0){this.reverse_animation();}\n",
              "  }\n",
              "\n",
              "  Animation.prototype.anim_step_forward = function()\n",
              "  {\n",
              "    this.current_frame += 1;\n",
              "    if(this.current_frame < this.frames.length){\n",
              "      this.set_frame(this.current_frame);\n",
              "    }else{\n",
              "      var loop_state = this.get_loop_state();\n",
              "      if(loop_state == \"loop\"){\n",
              "        this.first_frame();\n",
              "      }else if(loop_state == \"reflect\"){\n",
              "        this.last_frame();\n",
              "        this.reverse_animation();\n",
              "      }else{\n",
              "        this.pause_animation();\n",
              "        this.last_frame();\n",
              "      }\n",
              "    }\n",
              "  }\n",
              "\n",
              "  Animation.prototype.anim_step_reverse = function()\n",
              "  {\n",
              "    this.current_frame -= 1;\n",
              "    if(this.current_frame >= 0){\n",
              "      this.set_frame(this.current_frame);\n",
              "    }else{\n",
              "      var loop_state = this.get_loop_state();\n",
              "      if(loop_state == \"loop\"){\n",
              "        this.last_frame();\n",
              "      }else if(loop_state == \"reflect\"){\n",
              "        this.first_frame();\n",
              "        this.play_animation();\n",
              "      }else{\n",
              "        this.pause_animation();\n",
              "        this.first_frame();\n",
              "      }\n",
              "    }\n",
              "  }\n",
              "\n",
              "  Animation.prototype.pause_animation = function()\n",
              "  {\n",
              "    this.direction = 0;\n",
              "    if (this.timer){\n",
              "      clearInterval(this.timer);\n",
              "      this.timer = null;\n",
              "    }\n",
              "  }\n",
              "\n",
              "  Animation.prototype.play_animation = function()\n",
              "  {\n",
              "    this.pause_animation();\n",
              "    this.direction = 1;\n",
              "    var t = this;\n",
              "    if (!this.timer) this.timer = setInterval(function() {\n",
              "        t.anim_step_forward();\n",
              "    }, this.interval);\n",
              "  }\n",
              "\n",
              "  Animation.prototype.reverse_animation = function()\n",
              "  {\n",
              "    this.pause_animation();\n",
              "    this.direction = -1;\n",
              "    var t = this;\n",
              "    if (!this.timer) this.timer = setInterval(function() {\n",
              "        t.anim_step_reverse();\n",
              "    }, this.interval);\n",
              "  }\n",
              "</script>\n",
              "\n",
              "<style>\n",
              ".animation {\n",
              "    display: inline-block;\n",
              "    text-align: center;\n",
              "}\n",
              "input[type=range].anim-slider {\n",
              "    width: 374px;\n",
              "    margin-left: auto;\n",
              "    margin-right: auto;\n",
              "}\n",
              ".anim-buttons {\n",
              "    margin: 8px 0px;\n",
              "}\n",
              ".anim-buttons button {\n",
              "    padding: 0;\n",
              "    width: 36px;\n",
              "}\n",
              ".anim-state label {\n",
              "    margin-right: 8px;\n",
              "}\n",
              ".anim-state input {\n",
              "    margin: 0;\n",
              "    vertical-align: middle;\n",
              "}\n",
              "</style>\n",
              "\n",
              "<div class=\"animation\">\n",
              "  <img id=\"_anim_img43d847c6bb6345d4be96032e767a26f7\">\n",
              "  <div class=\"anim-controls\">\n",
              "    <input id=\"_anim_slider43d847c6bb6345d4be96032e767a26f7\" type=\"range\" class=\"anim-slider\"\n",
              "           name=\"points\" min=\"0\" max=\"1\" step=\"1\" value=\"0\"\n",
              "           oninput=\"anim43d847c6bb6345d4be96032e767a26f7.set_frame(parseInt(this.value));\">\n",
              "    <div class=\"anim-buttons\">\n",
              "      <button title=\"Decrease speed\" aria-label=\"Decrease speed\" onclick=\"anim43d847c6bb6345d4be96032e767a26f7.slower()\">\n",
              "          <i class=\"fa fa-minus\"></i></button>\n",
              "      <button title=\"First frame\" aria-label=\"First frame\" onclick=\"anim43d847c6bb6345d4be96032e767a26f7.first_frame()\">\n",
              "        <i class=\"fa fa-fast-backward\"></i></button>\n",
              "      <button title=\"Previous frame\" aria-label=\"Previous frame\" onclick=\"anim43d847c6bb6345d4be96032e767a26f7.previous_frame()\">\n",
              "          <i class=\"fa fa-step-backward\"></i></button>\n",
              "      <button title=\"Play backwards\" aria-label=\"Play backwards\" onclick=\"anim43d847c6bb6345d4be96032e767a26f7.reverse_animation()\">\n",
              "          <i class=\"fa fa-play fa-flip-horizontal\"></i></button>\n",
              "      <button title=\"Pause\" aria-label=\"Pause\" onclick=\"anim43d847c6bb6345d4be96032e767a26f7.pause_animation()\">\n",
              "          <i class=\"fa fa-pause\"></i></button>\n",
              "      <button title=\"Play\" aria-label=\"Play\" onclick=\"anim43d847c6bb6345d4be96032e767a26f7.play_animation()\">\n",
              "          <i class=\"fa fa-play\"></i></button>\n",
              "      <button title=\"Next frame\" aria-label=\"Next frame\" onclick=\"anim43d847c6bb6345d4be96032e767a26f7.next_frame()\">\n",
              "          <i class=\"fa fa-step-forward\"></i></button>\n",
              "      <button title=\"Last frame\" aria-label=\"Last frame\" onclick=\"anim43d847c6bb6345d4be96032e767a26f7.last_frame()\">\n",
              "          <i class=\"fa fa-fast-forward\"></i></button>\n",
              "      <button title=\"Increase speed\" aria-label=\"Increase speed\" onclick=\"anim43d847c6bb6345d4be96032e767a26f7.faster()\">\n",
              "          <i class=\"fa fa-plus\"></i></button>\n",
              "    </div>\n",
              "    <form title=\"Repetition mode\" aria-label=\"Repetition mode\" action=\"#n\" name=\"_anim_loop_select43d847c6bb6345d4be96032e767a26f7\"\n",
              "          class=\"anim-state\">\n",
              "      <input type=\"radio\" name=\"state\" value=\"once\" id=\"_anim_radio1_43d847c6bb6345d4be96032e767a26f7\"\n",
              "             checked>\n",
              "      <label for=\"_anim_radio1_43d847c6bb6345d4be96032e767a26f7\">Once</label>\n",
              "      <input type=\"radio\" name=\"state\" value=\"loop\" id=\"_anim_radio2_43d847c6bb6345d4be96032e767a26f7\"\n",
              "             >\n",
              "      <label for=\"_anim_radio2_43d847c6bb6345d4be96032e767a26f7\">Loop</label>\n",
              "      <input type=\"radio\" name=\"state\" value=\"reflect\" id=\"_anim_radio3_43d847c6bb6345d4be96032e767a26f7\"\n",
              "             >\n",
              "      <label for=\"_anim_radio3_43d847c6bb6345d4be96032e767a26f7\">Reflect</label>\n",
              "    </form>\n",
              "  </div>\n",
              "</div>\n",
              "\n",
              "\n",
              "<script language=\"javascript\">\n",
              "  /* Instantiate the Animation class. */\n",
              "  /* The IDs given should match those used in the template above. */\n",
              "  (function() {\n",
              "    var img_id = \"_anim_img43d847c6bb6345d4be96032e767a26f7\";\n",
              "    var slider_id = \"_anim_slider43d847c6bb6345d4be96032e767a26f7\";\n",
              "    var loop_select_id = \"_anim_loop_select43d847c6bb6345d4be96032e767a26f7\";\n",
              "    var frames = new Array(5);\n",
              "    \n",
              "  frames[0] = \"data:image/png;base64,iVBORw0KGgoAAAANSUhEUgAAAoAAAAHgCAYAAAA10dzkAAAAOXRFWHRTb2Z0d2FyZQBNYXRwbG90\\\n",
              "bGliIHZlcnNpb24zLjcuMSwgaHR0cHM6Ly9tYXRwbG90bGliLm9yZy/bCgiHAAAACXBIWXMAAA9h\\\n",
              "AAAPYQGoP6dpAABrkklEQVR4nO3deXxU5d0+/msmk0wWyCRAyAJhETUoKIaUJRIpAgJKVRSk2iou\\\n",
              "iL/SRASpFYqS8FULLo8ITcQNtdZKqlaxVkvhQYGigCxBASWPogEkBLCQDIRkJpk5vz9O7pNzZstM\\\n",
              "tlnO9e6LV8jMOWdO5kWdK5/7/ty3QZIkCURERESkG8Zg3wARERERdS4GQCIiIiKdYQAkIiIi0hkG\\\n",
              "QCIiIiKdYQAkIiIi0hkGQCIiIiKdYQAkIiIi0hkGQCIiIiKdYQAkIiIi0hkGQCIiIiKdYQAkIiIi\\\n",
              "0hkGQCIiIiKdYQAkIiIi0hkGQCIiIiKdYQAkIiIi0hkGQCIiIiKdYQAkIiIi0hkGQCIiIiKdYQAk\\\n",
              "IiIi0hkGQCIiIiKdYQAkIiIi0hkGQCIiIiKdYQAkIiIi0hkGQCIiIiKdYQAkIiIi0hkGQCIiIiKd\\\n",
              "YQAkIiIi0hkGQCIiIiKdYQAkIiIi0hkGQCIiIiKdYQAkIiIi0hkGQCIiIiKdYQAkIiIi0hkGQCIi\\\n",
              "IiKdYQAkIiIi0hkGQCIiIiKdYQAkIiIi0hkGQCIiIiKdYQAkIiIi0hkGQCIiIiKdYQAkIiIi0hkG\\\n",
              "QCIiIiKdYQAkIiIi0hkGQCIiIiKdYQAkIiIi0hkGQCIiIiKdYQAkIiIi0hkGQCIiIiKdYQAkIiIi\\\n",
              "0hkGQCIiIiKdYQAkIiIi0hkGQCIiIiKdYQAkIiIi0hkGQCIiIiKdYQAkIiIi0hkGQCIiIiKdMQX7\\\n",
              "BsKZ0+lEZWUlunbtCoPBEOzbISIiIj9IkoSzZ88iIyMDRqM+a2EMgG1QWVmJzMzMYN8GERERtcLR\\\n",
              "o0fRu3fvYN9GUDAAtkHXrl0ByP+AEhMTg3w3RERE5A+r1YrMzEzlc1yPGADbQAz7JiYmMgASERGF\\\n",
              "GT1P39LnwDcRERGRjjEAEhEREekMAyARERGRzjAAEhEREekMAyARERGRzjAAEhEREekMAyARERGR\\\n",
              "zjAAEhEREekMAyARERGRzjAAEhEREekMAyARERGRzjAAEhEREekMAyDpy87VwPLB8lciIiKdYgAk\\\n",
              "fdm6HKg5Kn8lIiLSKQZA0pe8eYAlU/4aCFYOiYgogjAAkr4MmwnM2y9/DUQglUOGRSIiCnEMgET+\\\n",
              "CKRy2BnDzAyZRETUBgyARP4IpHLY2mHmQHAuIxERtYEp2DdAFHGGzQx8iDlQefPk8NeRIZOIiCIW\\\n",
              "K4AUGfQ2JNrauYxERERgAKRIwSFRIiIivzEAUmRwnXfXloqg67l6qy4SEVHEYwCkyOA6JNqWiqDr\\\n",
              "uR1RXWSoJCKiIGIApMjUloqg67kd0dXLIWsiIgoigyRJUrBvIlxZrVZYLBbU1NQgMTEx2LdDviwf\\\n",
              "LAcuS6ZcKXS1c3VzV217NVb4umZHvB4REfmFn9+sAJJeZI4ADFHyV0/aWpHzVGH0dU3XIWsOCRMR\\\n",
              "USfSRQBctmwZDAYD5s6dqzxWX1+P/Px8dO/eHV26dMHUqVNx4sSJ4N0kdayjOwDJIX/1JG8eEJcM\\\n",
              "2M75DmEiqL07UxvYPIW9vHlAbDJgl69ZVFSEkpISz9dtOr9k2SMoKipq1Y9IRETkr4gPgDt37sSL\\\n",
              "L76Iyy+/XPP4vHnz8OGHH+Kdd97B5s2bUVlZiZtvvjlId0kdrqV5fMNmAjFdgPozvquAIugdeF/+\\\n",
              "+vFDcgj0NOdw63LAAKDuDIoeWYglS5agoKDAcwjMm4eSffEoeK8KS5YsYQgkIqIOFdEB8Ny5c/j1\\\n",
              "r3+Nl19+GcnJycrjNTU1WL16NZ599lmMHTsWOTk5eO211/D5559j+/btQbxj6jC+Fk4WVb3MEd5D\\\n",
              "ousxg26Sh5QlB/DJY+7z+TY+JgfEBhuKtpmxZP0p5VIFBQUomZquqTSWfFGPgveqlO8ZAomIqCNF\\\n",
              "dADMz8/H5MmTMX78eM3ju3fvRkNDg+bxgQMHok+fPti2bZvX69lsNlitVs0figCiqnd0h/eQ6HpM\\\n",
              "3yuB2ER5iLfBJj+38bHm4w3yl6JNdZrwJxS8V4WSZY8AAEpKSlBQUOB2DEMgERF1lIgNgKWlpdiz\\\n",
              "Zw+WLl3q9lxVVRViYmKQlJSkeTw1NRVVVVVuxwtLly6FxWJR/mRmZrb3bVMw+LPMi+sxW5cDdWcA\\\n",
              "m1UJe8pXABj7qFz521jj5YJGFLyXhV7dZqGg4B14+7/ikiVLUDTrBjaIEBFRu4rIAHj06FE88MAD\\\n",
              "+Otf/4rY2Nh2u+7ChQtRU1Oj/Dl69Gi7XZuCyJ99dV2PyZvXPARsMsvhcOyjmuNTbij0crEpAL4H\\\n",
              "sAmVZ14GsAnAoabH3aWc3sk1A4mIqF1FZADcvXs3Tp48iaFDh8JkMsFkMmHz5s1YuXIlTCYTUlNT\\\n",
              "YbfbUV1drTnvxIkTSEtL83pds9mMxMREzR8KE966d9vCnCh3Do99VA6EW5drrpufn4/i4mKXk6YA\\\n",
              "+DuAvi6P92t6fIrm0eLiYuQveNy9QsllY4h0483thzFq2Sd4c/vhYN8KRZCIDIDjxo3Dvn37sHfv\\\n",
              "XuXPz372M/z6179W/h4dHY2NGzcq55SXl+PIkSPIzc0N4p1Th3Ht3vW3muYpaO1cLXf/1p+RO4eH\\\n",
              "zfS65l/+8FgU3yx+qTACeA7e/2+nfb64uBj5+fmeK5TcSYRIN1ZtOoRj1XVYtelQsG+FIogp2DfQ\\\n",
              "Ebp27YrBgwdrHktISED37t2Vx2fOnIkHH3wQ3bp1Q2JiIu6//37k5uZi5MiRwbhl6miiQpc5Qm7k\\\n",
              "8HdbN3XQGjazOfxJDnkIWFwncwRgrZS/qnf52Loc+ZedB5CGgvey4F75c9UXwFUofqgX8u2rgJ2x\\\n",
              "noemxc/TntvTEVFImj1mAFZtOoTZYwYE+1YogkRkAPTH8uXLYTQaMXXqVNhsNkycOBHPP/98sG+L\\\n",
              "OsqwmdpdN0TlrKVt2NTBDpCXfJEcAAzAdU83n69eaProjubQKELggnn44/aDqKxs+VYzMn6G/PR1\\\n",
              "zZ3FnraMU/88RBTRbh/ZF7ePbOmXR6LAROQQsCebNm3Cc889p3wfGxuLkpISnD59GrW1tXjvvfd8\\\n",
              "zv+jCPDuTGBJN+Dfj7gPn3qbU+e6g4innbN3rpZ3+zDFy189rCdY8s4nqKzc6ddtVlbuQsnxIfI1\\\n",
              "DOBQL1GYa685fJwLSO1JNwGQCAfel8NcY517U4W3OXV58+RgV/OjHCDHPQo5lUlyNVCcW3cGcNjk\\\n",
              "r2KIeetyYONjKNlwCAVPvwXgPwBa+g93BYD/oODpt1ASM1tuMPHWANKeDS1E1GECncPnLehxLiC1\\\n",
              "JwZA0oedq+XlWmAABk91b6rwtJXb8qZ5pA4bAAnY/678fWyS/FVSnRuXLF8/Ol7eT/gTeSeQki0n\\\n",
              "UPCv+qYDnQDmNn31xAlgnvJ8QUEBSr6o994AEmhDCxEFxewxA9ArKc7nHD516PMW9Dxdh1VBai2D\\\n",
              "JEmeBrXID1arFRaLBTU1NVwSJtQtHyyHpbhkuXNXzKlTN2yoQ5Y43hAFpF8OVJbJjxui5G3gRJVP\\\n",
              "nPNkP7n6p1LyhV0V/tSmQO72Vc/pqYAc/ta6Ha10AwvintUNLZwPSBTWRi37BMeq65SAJ5o+Wpr7\\\n",
              "pz7vswVjO+luwx8/v1kBpHAR6Lp3rsOkYl6eBG3VTFTTPnlMe/28eQAM8pDx6Qpg8rPNCz+L7eCA\\\n",
              "5nM8/Bp16ry3St9aABcAGIOMxBkAxgAYAE/hDwBOnXLZSk4sC9P3Sv/eCyIKeerq3u0j++KzBWP9\\\n",
              "avxoqbrICiF5wwBI4SHQde9ch0lFaBvnMqdODP26BsNhM4G4JPnvhqbvr3vafTs4cc64R+V9geOS\\\n",
              "gYxsAAYUje2KwqsTvNygE8XXfYFj//tzFN9cDm/DwoWFhd73A+ZagERhQR3CfAWyWlsjnvl3ufJc\\\n",
              "UVERSkpKfF67Zvc/cU39Fq9hUT2c7PraDIf6xgBI4cGf/Xo9HT/oJu15rosqi+9dg6Go6kXHN3/v\\\n",
              "em7mCLkqCMhrA3brJ59zqlwOj9c+iaLr+6Hw5zFut1d8XRzy774N+OQx5F92HsU3dnM7pnBCivfw\\\n",
              "15r3hIg6hWuwUocwb/P7Vm06hOq6BlTXNWDVpkO4+d65WLJkiTwX2EsILCkpQUFBgbxnuJf/Vqgr\\\n",
              "hK6vzaYSfWMApPDgz369no6ftlo7XOvaObtztTx/b+NjzUFq+WB5SLj+DNDY1NkrqmzqoWixREzN\\\n",
              "UflrZZl8TsP55nPy5qHoxotQeO/1yq0V39AN+UV/ku+taeg4f2RXFD/0K+WYwgkpKHp8afu+J0Tk\\\n",
              "piOqYK7BSh3CvA3Zzh4zAElx0UiKi0bqd//A+6tXKM95CoEi/AmuIVD8XACU4WTX1/anOYUiF5tA\\\n",
              "2oCTSEOQP00dYheP655uHkYF5CFccxf5+9hk+TGHDYgyyxXCYTOBZf3kkGeKl7t+DQCS+wHHv5Kb\\\n",
              "RU6WA43n5crhhMc191A06wakHNuA/OEx8vUXVLjtGlKy4RBOObqi6N8n/fu52vq+EOmcp+aLnL7J\\\n",
              "2H34jF9NGJ7MWVOGj76qxOTLM7Dytmy/z3tz+2EsfGQxftz4hsfnRUOYa/hTE9NG2BziGz+/WQGk\\\n",
              "SOM6L05U7EQTyKCbmkOgspWaQT7WgOZh1XGPyt83nG+eA4jmQ9FYJwfBeivQbQCQmNH0+Hn5q8ms\\\n",
              "3Xlk+WAUDfhKDn9A09Iy0Fbx8uYh/5oBnit/bZ3vx/mCRB55GiL96KvKNg2N7j58Bg5J/hoIX+EP\\\n",
              "MKKg4B306vUQCgregbePb1EJDOXqHucehgYGQIosYl6e2LpNBB/RBDJttbaZY9hMYPL/yN+PfVQb\\\n",
              "yBqbQpr4+u5MoK5aru5ZesuPSQ5g/9/l1xBLxQDy0K4In01rAsrh0dD8vGtXs/q1Xbue2zrfj/MF\\\n",
              "iTxSd9yK0DT58ow2hSdxnZy+yQEFnbFXXOjlmSkAvgewCZWVTwPYBOBQ0+PuUlJSAuok7mycexga\\\n",
              "OATcBiwhB5mnYU0x1CuGc32tledtWPSlMXKYMxgBydk8XLukW/M+wOp1X4zRgLOh6WsjYIoDBl4n\\\n",
              "B0NI8nBxQndt97D9nDxPUAxFu+5TLJ63ZMqhkEO4RCHvze2H8cy/ywEAoy9OwUdfVcIhQRmGFYs8\\\n",
              "+xpadh/enQLg7/Bcr3ECmAr1ElJu64aGIH/eh47Gz29WACncqCtjnoY1RaVL7KErKn+eQpO3YVFR\\\n",
              "yZOczcPBgDzHDwCMJu3xMV3k4659EiiqBiY+Li8/I0JiY11zcBNVvrGPaoeiXe9JgvclZ/x5b4go\\\n",
              "YP4OTfraqk108orwF2WAUkn0VfkS17Tk/ALFxcVNjxohLxrv7aNa+3xL4S9Uhl5DuTqpJwyAFF7U\\\n",
              "QcjTsKY6YHkb8nSdF+h6jDFa/mpw+b9H7U/yVxH4Bk9rDohi79+dq4F/P9JUKQSUauFHD8pDyOr7\\\n",
              "dF1XEGgewu7WT/va/gzhcp4fUUB8Ldfii6+t2kQnrxhGXnLjYCXo+JqXp75mfn5+Uwi8Ctodgzzp\\\n",
              "C+AqJfyJn2nOmjK3sMehV1LjEHAbsITczvwZ5vR3KNTXcWKYWAyvuh4PaIdhY5Plv4th3muf9H3N\\\n",
              "mh8hl/AM8vzCjx6UjzFEAYWnfb8H3rqV/Rn25TAxUUBcO2X9HZr0p8vXdTjYtatY/VoAlGN/NzFL\\\n",
              "OaZXr4ea5vz5lpHxOxw79ozmZ4oyQDP87Pqaeq++8fObFUAKJf5UsPxd+25jU+PFR/Pdh0Q9VdPU\\\n",
              "rz1splyJq6uWA199tRz+APmrp9fOHAHAAJytahoiNgCDp8rHWjLlY0SnsJq3Zg/XbmV/cF1AooCo\\\n",
              "K3KBhCPR5fvRV5Veh1Ndh4OPVdfhmX+XK1U518Whq+sacLa+QTm/pKQElZU7/fo5Kit34YIb5+DN\\\n",
              "7Yd9NrJw6JXUTC0fQtRJxDBqe3SqiuVaIDWHOkHMxfP12mIOn7NBe1yGy2/7oupmO6c93pIpdxwD\\\n",
              "gLWy+as4PnME8N1GOVxCkncSEfcGyMcMuqm5gYWI2t3tI/sqYUhUzlZtOoTbR/b1Ggjf3H4YtbZG\\\n",
              "GCBX2NS7aqjn+uX0TcbpWhvqG5xIs8SiqqYetkaHstOHWHZGnFP4wX44JPnrhnffwBv/sxhyjeYw\\\n",
              "fA8DVwD4D374x2YsBvD9BysZ8MgvHAJuA5aQQ9jO1fLyKxKAC8dpO4F9DZWK5xJ6NC/ufKocaKiT\\\n",
              "K3rTXKqJYmHo6KaFoRtsQLQZGKB6zcOfy4FSBLqao3DrJAaah6Q9DVF7ukcO9RK5ae0wp+uQ7KNr\\\n",
              "90MCkBQXjb2FE5TjRFBMiovWnF9d14CkuGhU1zX/0ii+F8OxBgCWuGiMvjgFW/7vFIDm4eGcvsn4\\\n",
              "6KtKVO/+J05veEF15SkItAvYkvMLn++B68+qx2Fhfn4zALYJ/wGFCddA5S1g7VwtV+Ikh/Y5sfyL\\\n",
              "pzl8T/aT5wnGJQMPV3h/TfVrfPKYfI4weJr/AVV97UDmBxLpRCA7YHgLi+IaABAXHYVuCTHKMeIc\\\n",
              "EdjUwc7W6EBdg1O5TlJcNBLMJs2xvZLiUGtrVIKiCIdRBiCz6j/Y/PqTHu50CuRuX3VAqwAwD+rw\\\n",
              "J/S/4X44L5no9T1Qv0cAdLljCD+/OQeQ9MB1zp+3jtqty5uDnvo5MR9v0E3u1xbdxmMf1c7nE6+R\\\n",
              "OUI7x2/YTLmLWIhLlquK6i7iluby5c0LfH4gkU4EsgOGP928ZpNROUaEv+4JMfjHl3KgA+RafoK5\\\n",
              "ae6vh/tZeVs2ltw4GElx0ai1NcLW6FCeNxrkcxwScOjocS93uhbABQDGICH5AQBjAAyAp/AHAOdr\\\n",
              "ziApLtrre+DP3sQU+RgAKfKJQAXIYQzwHLBEaHOtqvW9Um7g6Hul92sPm9ncSCLm883b3zzk67pW\\\n",
              "YWyyHP7GNq0x6GkLu2X95AqjaxOL6xIyXP+PSOFvo4OYy+cpKN0+si9+NzELCWYTRl+c4rZV3FfH\\\n",
              "ajTHGwDU2hrR6NBW/8R8vzlryvDo2v1KU0hdgxNx0UYkxUWjwSkp1+iSeytSf367lzt2Ysb8cRjy\\\n",
              "+xvx87tGQh7+dZc06jbEjrwVZ+sb8MUPp1tc94+NIfrFAEj60VKXsbfKm7f9hT11F7tW5rytVbig\\\n",
              "Qh4yFq/letzW5fLcwroznu/XU/BkNZDIL29uP4zCD/Yrw7Ciuqcmwt7uw2eUgJTTNxlRBqBXUiyi\\\n",
              "DMDlvSzolRQHS1PYa2wKc3HRUQCghMuPvqp0nfGLugYnRl+cgrho+WNYanosdqTnEFhcXIzveozC\\\n",
              "seo6HE27Ct2u+Y3bMak/vx2WvF8DgNKl7KnCyfUACWAAJD1oaeFn1+NaWjZGHbjU56grc2LoF/Bv\\\n",
              "aRbX8KmuErbUBextuJlIZ/zd6WLVpkPKvDsAbku0AFDCXveEGOVxsfxLVU09ltw4GP+4Pw+fLRiL\\\n",
              "303MQq+kOFw/RF56xWwyorquAQlmE24f2ReTL8+AAUBctBGX97Io97Hl/06hW4JZc29JcdFIu/oO\\\n",
              "WEbdpjzW67p8FFddgJPWehgADMqwYODYW/Dzux5Wjuk9bgaSr5LDX1y00eeexhz2JYBNIG3CSaRh\\\n",
              "oqWu2kCPUzdpiDDo2pDh77XaUzBekyiE+NsA4qkLVjRmRBnkgCWGedULKs8eM8Brd7D6ut0TYnCg\\\n",
              "ssbrQtFXLFmP6roGxEVHKWERkIPbN49dq1Qo//ufvyIq3oKuQ3+hOV/8fKOWfYKDn7wD5/kaWPJ+\\\n",
              "jbhoI+yNTky+PAPD+3fTZXevv/j5zQog6YE/26gFcpx6TqH9nPxVcsjdvZ6u5amy2BHz9vy9f6II\\\n",
              "5VrZ8lYRVM97E3//3cQsJeyp5/ipq2i3j+wLi2r5F9frP/PvchyrrsO+YzVwSPKC0Z6Mvjilqfoo\\\n",
              "KcvHyA0nUXhz+2HcPrIvltw4GN2v+rVb+BM/p/g6cOwtuCP/oabKY5TyumKYt/CD/UHf+5dCEyuA\\\n",
              "bcDfIHROVNzEmn6xyfLcPm/HqStzrNYRdbhAloQB/KvgqauHImSJ6zdX9ozolmD2Wn1TryWYYDa5\\\n",
              "XUt8n9M3WVkj8F/7jqPBKeHyXhb84/48tyVsxNZztkYnzCYjRl+coll6Rk9LvPiDn9+sABK1nqi4\\\n",
              "DZ4qfx33qO/j1JW5tlbr2PlL1KJA57qJauA/7s/DoaWTfYa/20f2VZaLqbU14s3th5XK3kU9u/p8\\\n",
              "ne4JMQCABHOUx3t1bUBZeVs2eibGAgC+PXkWAxZ+hCc++lrTyCG2k7M37Tay+/AZLLlxMOf6kVes\\\n",
              "ALYBf4MIc+G8owYriESdzlNF0dOiyoK3ytuAhR8pawi6Hvfm9sN44qOvUd/gxPVDmufyiWpgZXUd\\\n",
              "JDQvPg0Av5uYBQBNFUB5jUGzKQq/m5jF+X9e8PObFUDSs3BePoXz/YgU/nb/tva6c9aUYdSyT5DT\\\n",
              "N1mpqInnuifEIMogdw3PHjNAsxT06Vq7ck/qe5x8eYZmGZmcvsnKc6s2HUJdgxMStHP5RDXw+iHy\\\n",
              "udcPyUCC2aSsNXj7yL5IMJtQ1+CEvdGpPE7kDSuAbcDfIMKUqPxljtBuwebrWPUx4Vw5JIpAgc71\\\n",
              "A/zbM1hcV90JLK4v5vuJXb2jDMCSGwfjmX+Xa/YDVnfsertH8ZzRADhVW8uJyp6n+xRz/gDtfsLq\\\n",
              "r4F0ALd2D+Vwxc9vVgBJb8R+vzVH5fDX0hp9nqqE/lYOOU+PqFO0Zl07fxZDFtf1tp4eAMRGG5WA\\\n",
              "uGrTIfxuYhaijXIdMDrKoFQLve06on4dp2prub2FEzRdyq6hTMz5SzCbsPvwGRyrrsOW/zsFABje\\\n",
              "v1vAu3twcWj9YQCMEGdKS/Ht2HE4U1oa7FsJTSKMbXzM836/3uTNkxdjtp1rDnL+Dr+qt4ZjCCTq\\\n",
              "MK3ZzkwdGj0NIasrYitvy3a7vlj8edHkSzXNFreP7Atn08Ca0ynh9pF9lbAGeN51RNx/ryS50UN8\\\n",
              "9ff+xd8BaPYtFj+TP0PkXBxafzgE3AahVEL+duw4NFZWwpSRgYs+2RjUewlJomkiLhmI6RLY8K0/\\\n",
              "DRfehoo/fkgOnGzWIApZvpo7xNAu4D4UK0Kieuh1y/+dkvcFdkq4foi8jIw4Tiw23ZplWVxfy9NQ\\\n",
              "rbclagAEPEQe6ULp8ztYWAGMED3umwVTRgZ63Dcr2LcSOtRDsKJqN/ZR/7ZmU/On4udpWFi9NRyb\\\n",
              "NYiCzlslzFP1a/aYAZqhXU9DpOIxsefuR19VorquAQ1OCRlJccoyMmLJGEDeQUQ0fYjmEn+aV1xf\\\n",
              "y9NQrboS6qlCyOoeqbEC2Ab8DSLEdeZSKa4VQDaKEIWcQLeKU1fbAP8qgBu+rlKWcFFX/07X2lDX\\\n",
              "4ERSXDRsjQ7UNTiV1xNVRl9D2P5UAMl//PwGTMG+gY6yatUqrFq1ChUVFQCAQYMGYfHixbj22msB\\\n",
              "APX19Zg/fz5KS0ths9kwceJEPP/880hNTQ3iXVO7Env1dkb1bdhMbdBTVwQZAIlCghgabakSJqpt\\\n",
              "VTV1mmDmGvxmjxngtaNXbAMnrqVeHqZeFf4MaK4yiuPVu3uov2fgo/YUsUPAvXv3xrJly7B7927s\\\n",
              "2rULY8eOxY033ogDBw4AAObNm4cPP/wQ77zzDjZv3ozKykrcfPPNQb5raldiz95gBLDWrNPHrmGi\\\n",
              "DuVvs4jr8K8rXx2zYri1e0IMBiz8CICEKANwWdOaf7+bmIXrh2Qox8dGRynrCIq9hMXyLq7ft0ZH\\\n",
              "rZFI4S9iK4DXX3+95vsnnngCq1atwvbt29G7d2+sXr0ab731FsaOlX97e+2113DJJZdg+/btGDly\\\n",
              "ZDBumSKJa0XQH6waEoUEERC9VQv9qSTuO1YDCcCx6noAwH9r7Uq18PaRfZUdPmptjahrcCgVQ38E\\\n",
              "smafOqyygkhqEVsBVHM4HCgtLUVtbS1yc3Oxe/duNDQ0YPz48coxAwcORJ8+fbBt27Yg3ilFjNZU\\\n",
              "87i7B1HQiYoZAK/VQl+VRBG4xPqAYrcP17AoriGWk5k9ZoDyd7EAtOv34v4KP9jv95p9bAAhbyK6\\\n",
              "CWTfvn3Izc1FfX09unTpgrfeegvXXXcd3nrrLdx9992w2Wya44cPH46rr74aTz75pMfr2Ww2zTlW\\\n",
              "qxWZmZm6nkRKXnCvXqKw1JpdRdTU1TnA8y4e7XF//jSOkHdsAonwCmBWVhb27t2LHTt2YPbs2bjz\\\n",
              "zjvx9ddft/p6S5cuhcViUf5kZma2491GHl0vTs1qHlFYamvFTF0d7IjdNcT9MfxRW0V0BdDV+PHj\\\n",
              "MWDAAPzyl7/EuHHjcObMGSQlJSnP9+3bF3PnzsW8eZ4/tFkBDExHL059prQUP730MnrcNwvJt97a\\\n",
              "7tcnImoLve2vG05YAYzwCqArp9MJm82GnJwcREdHY+PG5lBSXl6OI0eOIDc31+v5ZrMZiYmJmj96\\\n",
              "EmhFr6MXp/7ppZfRWFmJn156uUOuT0TUFq3Zoo6os0RsAFy4cCG2bNmCiooK7Nu3DwsXLsSmTZvw\\\n",
              "61//GhaLBTNnzsSDDz6ITz/9FLt378bdd9+N3NzciO4AbuuQbKCBK/nWW3HRJxs7rDrH3U+IiIha\\\n",
              "J2ID4MmTJzFjxgxkZWVh3Lhx2LlzJ/7973/jmmuuAQAsX74cv/jFLzB16lSMHj0aaWlpeO+994J8\\\n",
              "1x3L3wDnLSh6ClzBnOfX0QGTiKgjcY0+CiZdzQFsb+E2h8DbnDnXxwOZu9fR8/yIiCJVWzuOqfXC\\\n",
              "7fO7I0RsBZDceauYuVYGAxlaFcfGZ2e7VQKLiopQUlLi8/ySkhIUFRUF/sMQEYU5rtFHwcQKYBtE\\\n",
              "ym8Qvrpp/e20da0EFhUVYcmSJQCA4uJi/Kp7d7frlJSUoKCgAABQWFjIIEhEYYHdveEvUj6/24IB\\\n",
              "sA1C7R9QRyyL4u8Qr3jt+OxsLHvv7yiuqNA8v/iii3Gr0ahcRx3+BIZAIgoHHLoNf6H2+R0MHAKO\\\n",
              "IC01eXhq2BCPHZv/O78bPzxdSwwvewp/APD/vv0/rKmvg7O2Fk/fc49b+AOAJUuWMAASUcjj0C1F\\\n",
              "AlYA2yDUfoNoqQLoqZp38IpsSPX1yjH+NnN4upZ62NedEcBV6BnVBycdRwD8B4DT45GsBBIRUUcK\\\n",
              "tc/vYDAF+wao/STfeqvPod8e981SAqIgqfdDjoryq/HjTGkpnLW1MFosmuNTUlK8nDEFwHMA+uKk\\\n",
              "QzxWAWAegLVuR3u/DhEREbUHDgGHuUDW4RPDtACUc2IHDZKfNJmQ9ugjHgOk62v89NLLcNbUwJiQ\\\n",
              "oDk+Pz8fxcXFLmdPAfB3AK4Tpfs1PT5F8+hTd9+NCX9/T5/7BxMREXUSBsAw15rt0NTn2I8eBQC3\\\n",
              "MOfrNXwtCP2r7t1VIdAIufLn7Z+Z9vni4mJMqTjc4s8TzMWniYiIIgEDYJiLz84GDAY4Tp9u9z16\\\n",
              "RdCKz86GKSMDpm7d8M2gwTi/c5cynKyuCorglp+fj6fuvhvAVXCv/LnqC+AqFBcXIz8/36974x7A\\\n",
              "REREbcMmkDYIhUmkohkD8L+BQ03dOAIAJ5c/BwDoOW+uErTEdb8ZNBhwOICoKJhSUzXPedpNJG9L\\\n",
              "L5x0vNHiPaQlzMLxc/6HuY5Y7oaIiPQjFD6/g40VwDAnKoCG2Fi/GjjUXIPUyeXPwVlTA2dNjfK4\\\n",
              "0WKB4/RplI8YidhLLpFfKzpaqQr2uG+WW4j8duw4vG1AU7dvy6pqv21xxxA17gFMRETUNgyAYcZ1\\\n",
              "/tv5sjJAkhDVrZvPQORp3pyvodT47GzlelJ9PZw1NWg8fRqm9HRI9fWwrlunCY6NlZU4ufw5/PTS\\\n",
              "y3jjwAE88sknkJd6aWmT8woA/0FBQUFAIZCIiIhajwEwzLR2315x3snlzylB0HX+YJe8POV467p1\\\n",
              "ODb/d3BarfIDBgN63DdLPgcAHA6PwXFtv754/OSJpu+cAObC23p/8uPzlOcZAomIiDoH5wC2QTDm\\\n",
              "ELR2/ps4z1lbKy/hYrHAee6cPKcP8vxBAMp8QgBAVJQy5y9x0iScLyuD4/RpeeFogwFphYuRfOut\\\n",
              "yrXX9uuL37/2modXnwKxDmCzCnhbB/Cpu+/GlIrDnONHREQdgnMAGQDbJBz/AbkGQRgMMCYmoue8\\\n",
              "uQDkSqGpWzfUf/MNYi+5BI2nTysdv5pwaDTClJaG+OxsnC8rQ4/7ZmHFwYN+7ASSiZOOo/C1E0hB\\\n",
              "v374rTm2VU0tRERELQnHz+/2xiHgMOLP+nctHSMaKHrOmwujxQJDbCwA4PzOXUplsfH0acDhQOPp\\\n",
              "00qzhRhqVjidaKyshHXdOmVIuqioCPNG5nq5Myce7VuBTRfuwiM9D8LXNnD/b+lSmDIyEJ+d7XOf\\\n",
              "YiIiImodBsAw4s/6d56OUYdC8XdBqquDs6YG1o8+QmNlJU4sexKNx4+7dRWL4Jg4eTIQFYXYwYNh\\\n",
              "yshA4qRJmjmIs+Pi8Nvu3d3uq7i4GPOWLQOiovCr5GQsvuhit2N+P3UqioqKlNc6X1Ymh8yme+O6\\\n",
              "f0RERO2DewGHEU97+fpzjGso9BqmoqLkvYElCVJDg8f5d/HDfobzZWVImjZVeV4MK5/fuQvO2loU\\\n",
              "9JD38n3+v/8FAGWRZ/X9zL1vFnr+978oKCgAAPy2e3fcc/RHt5+l6rHHlXmIgS5zQ0RERJ4xAIaR\\\n",
              "5FtvbbEpQjyvDnjO2loYLRYlQKkD4k8vvayZx1f97t9Rv38/TKmp+HbsOLdGDHWYVL9WY2UlrKo5\\\n",
              "ggU9UmAwRaN7YiJ+5aEiCMh7B5/fvRsV//gQBT16KI+rG13SHn2Eiz4TERG1MzaBtEGoTiIVu4OY\\\n",
              "MjI0Xb9ZO7ZrjvPUUVw+YqTSHAJJctvpA5AriKKLOHHSJNgPH0b9/v3KdQ2xsYjq1k3pGFa/tvre\\\n",
              "xHXVu4+IXUTUxxAREbWnUP387kysAEYg9TCwCFeeuA4N//TSy5DsdgByiDPExKDx1Cl8c8mlMJjN\\\n",
              "8vIvTZw1NQAA60cfaa5ptFiUIFc+YqRyjgiQ8dnZON90jwCU3UeMFgsAKHsPq48hIiKi9sUKYBt0\\\n",
              "1m8Qbdn71nWbNvV1js3/Hazr1iFx0iSc27oVzpoapXrntvSLwQBTerqyRAwkCXC6dPKaTDBER8MQ\\\n",
              "E6NZViY+OxvWdesAhwNGiwXGhARl2FldJTQmJARc+eO+wEREFChWANkFHBa8df+Kjt4fpt2CbwYN\\\n",
              "xrH5v3M7V71vrut1zpeVAQ6H/NUDZdcPALGDBgEAkqZNxSUH9iNt8aOAqbmAbIiNBRobla5i9b2e\\\n",
              "27pVaeQAoFk+xmA2w5SRgZ7z5rrtauLPsjf+dEYTERGRFgNgiFKHH3UwOlNaivIRI1E+YqSyB2/9\\\n",
              "/v2AwyFX2eA5OJ0pLYWzthaGuDg4a2vdrttz3lzNbiAnlz+nBEOjxYL6b77RBK3kW28FGhuV6xvM\\\n",
              "ZnkYNzoaMBgQn52thDPJZgMMBhiio9ElL0+zfEzPeXOVgOrKn3Dn71Z4RERE1IxDwG3QkSVkb40Q\\\n",
              "4nEAyrCpGJZNnDQJvf7nGY/nKuc1be/mbZj1YPZQSHV1MMTFIfXh32t3DQGQOHky4of9TJm7J6QV\\\n",
              "FSrz/sScvp7z5rqdj6gopD36iMfApz43a8d2zRB1r/95BoD/Q74cGiYiIm84BMwKYMjyVtnqcd8s\\\n",
              "Ofg1BayLPtmI/u++g0sO7Eev/3lGqfSpl31RXy/2kkuAqCjN8K5wprRUadowxMRodg0Rw7fny8rc\\\n",
              "wl/s4ME+Q1aXvDy5OmgwAA6H38O1noao/R3y5dAwERGRdwyAIUo9d8/18awd25G1Y7vXYVNnTQ2M\\\n",
              "CQma58V2bvXffAM4HDi3davbMPFPL70sN3dERSlNHOLctEcf8TrU2nj6tPJ3MZQsqn+NlZU4X1aG\\\n",
              "rB3bkVa42OdwrfpcwHMI9nfIl0PDRERE3nEZmAjja7eQn1562a0ZQ72gc3x2NqwnTiBx0iQAUBaC\\\n",
              "BqAsJ3N+5y4A8vBzTGYm6g8cgOP0aZwpLdUsVO1pyRd/FrIWryHOVwtkWNff1yIiItIjzgFsg3Ca\\\n",
              "Q6BecLlLXp7cmYvmxZcB7bxDAMqcQWOXLpo5fGIOoXIMoFneRSz54s9yLupQpyw70/QarvMVuUA0\\\n",
              "ERG1h3D6/O4oHALWCfXQ8PmyMo/DxOph0x73zWoOYoAy71B074pjxONA8/IuIrzFZ2f7XMblTGkp\\\n",
              "qpb8P6XrWLy+eA31a7neny/+LB9DRESkZ6wAtkGo/wbhWvUT+/0CaHUnrbdhWPFaks0Gg9msmQPo\\\n",
              "rWLn2tHsulVda7FSSEREvoT653dnYAUwTPm7SLKzpgbOmhpY161TQptoCDm5/DmUjxjp9RriuJ9e\\\n",
              "elk5xlt3rQiDootYnOurYufa0dzWn1d9XTaAEBEReccKYBsE8zcIf6pcoirntFoBSfK8LiDg8xpi\\\n",
              "bT6xRZzrmoOejm1LNc9bhZFVPSIiai+sALICGLbis7O9rucniCVjXJdfUXYFiY11Wy9QEBU3yW4H\\\n",
              "AEg2m7zrSNMyMp62j3NdxsXfqp36OG8VRlb1iIiI2k/EBsClS5di2LBh6Nq1K3r27IkpU6agvLxc\\\n",
              "c0x9fT3y8/PRvXt3dOnSBVOnTsWJEyeCdMeBaWkfXzXXoVwxNBzVrZvP9QQbKythiImRGzKuu85j\\\n",
              "Y4br66grjGKrukAWbRbDwmK7Otdrc2kXIiKitovYALh582bk5+dj+/bt2LBhAxoaGjBhwgTU1tYq\\\n",
              "x8ybNw8ffvgh3nnnHWzevBmVlZW4+eabg3jX/vNVEfNUeXMNWa7nup4jjhG7jfT6n2dw0ScbET/s\\\n",
              "Zy3em7KcC9Bi1c5155LkW2+FMSEBzpoa7uJBRETUQXQzB/DUqVPo2bMnNm/ejNGjR6OmpgYpKSl4\\\n",
              "6623MG3aNADAwYMHcckll2Dbtm0YOXJki9cM1TkEnubLtbSIsr9z7Pyde+jvgs2tuVciIqK2CNXP\\\n",
              "784UsRVAVzVNCxl369YNALB79240NDRg/PjxyjEDBw5Enz59sG3btqDcY3vxVOFraQi1PbdYC2S4\\\n",
              "tjX3SkRERG2jiwqg0+nEDTfcgOrqamxt2gHjrbfewt133w2bzaY5dvjw4bj66qvx5JNPul3HZrNp\\\n",
              "jrdarcjMzNT1bxCdiZVBIiJqD6wA6qQCmJ+fj/3796O0jTtDLF26FBaLRfmTmZnZTnfYMSJtRwxv\\\n",
              "HcJEREQUmIgPgAUFBfjnP/+JTz/9FL1791YeT0tLg91uR3V1teb4EydOIC0tzeO1Fi5ciJqaGuXP\\\n",
              "0aNHO/LW2yzSAhOXgiEiImofERsAJUlCQUEB3n//fXzyySfo37+/5vmcnBxER0dj48bmRoby8nIc\\\n",
              "OXIEubm5Hq9pNpuRmJio+RPKIi0wcW4gERFR+4jYOYC//e1v8dZbb+GDDz5AVlaW8rjFYkFcXBwA\\\n",
              "YPbs2fj444/x+uuvIzExEffffz8A4PPPP/frNTiHgIiIKPzw8zuCA6DBYPD4+GuvvYa77roLgLwQ\\\n",
              "9Pz587FmzRrYbDZMnDgRzz//vNchYFf8B0RERBR++PkdwQGwM4TiPyB2yhIREfkWip/fnS1i5wDq\\\n",
              "VaQ1fkRaJzMREVEoYACMMJHW+BFpgZaIiCgUMABGmFDqlG2P6l2kBVoiIqJQwABIHaY9qnehFGhb\\\n",
              "8nb525jw7gS8Xf52sG+FiIjIJwZA6jB6q969su8VHK89jlf2vRLsWyEiIvKJAZA6TDhV79rDvZfd\\\n",
              "i/SEdNx72b3BvhUiIiKfuAxMG7CNnIiIKPzw85sVQCIiIiLdYQAkIiIi0hkGQNINdukSERHJGABJ\\\n",
              "N9ilS0Tkny83fIyX8+/Blxs+DvatUAdhACTdYJcuEZF/vlj7Lqw/ncQXa98N9q1QBzEF+waIOsv0\\\n",
              "rOmYnjU92LdBRBTyhk+Zhi/WvovhU6YF+1aogzAAEhEREb7c8LES+oZccx2GXHNdsG+JOhCHgImI\\\n",
              "iKhNw76cMxh+GACJOkggXcfsUCaijuJvOBs+ZRoSe/Rs1bAv5wyGHwZAog4SSNcxO5SJ9Kezqmb+\\\n",
              "hrMh11yHWSWvtmroty3hkYKDAZCogwTSddzaDmVWDonCV2dVzTojnLUlPFJwcC/gNuBeghRsE96d\\\n",
              "gOO1x5GekI7109YH+3aIKACuTRehes1IxM9vVgCJOoSnylxHVOu4tiFR+OqIqhnn4pG/GACJ2tnb\\\n",
              "5W/jiR1PuM3pa+08P1/BcXrWdKyftt7j+oYcHibSn7YM97KTV18YAIlUWhua1Oe9su8VOCUnACC7\\\n",
              "Z7ZyjGu1rqioCCUlJT6vW1JSgoWPLmxVcGRjCZH+tLaq+OWGj7Hx1RdYPdQRBkAildaGJvV59152\\\n",
              "L4wG+f9aZSfLlGPU1bqioiIsWbIEBQUFXkNgSUkJCgoK8P073+P8R+cDHubl8DBR+OrsatwXa9+F\\\n",
              "5HTCYDSyk1cnGABJF/yt7HkLTS2drz5vetZ0LBqxCOkJ6egW2w1D3hiCh7c8rBwrwp+gDoHidWYu\\\n",
              "nomCggLlmO/f+R5fr/k6oJ/Z1/CwJxwyJgodrZ3L19rgOHzKNGz6/hhO9ejts3pYUlKCoqKigK5N\\\n",
              "oYlbwZEuqCt0vgKRt/2CV+xZAavdihV7Vng9/3zDeazYs0JznSFvDIFTcuLjHz5GTmoOvl7ztSb8\\\n",
              "CSLsfZD6AfZ/sB8b3tzgdow4r6P+4+vve0RE7ctT525r9+LduuYvqK89i61r/hLQMPD7n32Bf+7a\\\n",
              "i3/u2oveAwchPz/f7RgxKiG09r9F7FQODawAki60dTjUAAMAwO6wa6pkomq2cs9K1NhrYLVbNcPH\\\n",
              "k/pNUv6+8NGFHsOfzIiCgnewK/9iHH/zYnj7v+aSJUswYPqADqnScciYqP35U5HzVO1Tz+VTX8Pb\\\n",
              "9cTjjY12+QGD5Pac+hz1Y55GJRbe/1vN9V3D35IlS1odANmpHBq4DmAbcB2hyCYaOkQgWrFnBc7a\\\n",
              "z0KCBEuMBfHR8ThTfwb1jnrERsUCAGwOG67tfy2eHP2k23Uyv8rEq4+96uGVpgB4DkBf1WMVAOYB\\\n",
              "WOt2dPrt6Rh842Cu+0cUBl7OvwfWn04isUdPzCrx9P//liti6msAcLueaOCQnE7EJnRFTFyc5lqe\\\n",
              "7kE8tun7Y/jnrr0e76u4uBj5+flYeP9vsax4lcdjCgsLAw6CoVAB5Oc3K4CkU/7Md3NtCDnXcA4S\\\n",
              "JBgNRtgcNhyvPY56Rz0AwBxlRnJsMiRIWFexTnNdMRdv4q8nov9d/V1eZQqAv0Mb/gCgX9PjUzSP\\\n",
              "jp87HinXpGi6i4kodPmzLIu3ap/rNTKyBsJefx6xCV011xMNHADQ74pst2tlZA10uwcx589b+BOj\\\n",
              "Er16PYRlxV/D16gE5wSGJwZAijjewp3rUi3Ha49j5Z6VXoPgvZfdC0uMBbUNtVi5ZyWckhNGgxGL\\\n",
              "RixCTFQMACA2KhbpCemYM3SO0v3rlJweu4hf2fcKEsYkYODMgU2PGCFX/rz931D7fHFxMQyjDHBK\\\n",
              "Tk13MRGFHhG+AAS0LIuv4eDK8oOoP3cOMEj4Yu27SkgcPmUaDEb5vxOV5QeV87aWvgHrTydR8eUe\\\n",
              "TeVPnNc1LtbLXUwB8D2ATaisfBrAJgCH4PoLqZCSkuLXzybek61r/sIh4BDAAEgRx9tSLq5LtaQn\\\n",
              "pEOC5HXZl+lZ0xEfHQ+r3QoJEtIT0rFoxCJMz5qOB4Y+gPSEdDw07CGl01Z0/1piLDhTfwZ5a/Lw\\\n",
              "8JaHkbcmD6PWjEJ2z2ykJ6RjyUNLUFxcDOAquFf+XPUFcBUGzhyI/Px8ztMjChOegpw/8wF9VQyH\\\n",
              "T5mG2ISuqK+t1Vx7yDXXYdw9v3E/TzJovopAuLX0DXyx9l3kpHfHbVeNdHmVKQhkVEIME/tDvCeN\\\n",
              "jXYYjEZkZA1s+STqMAyAFHG8hSTXpVrWT1uvBDlvy76I0PbA0Ac0S6p4W2JFhMZ6Rz1q7DX41w//\\\n",
              "UppDyk6WKeekjE+BOdl1ONgzc3J/LHloic/XJaLQ4inI+Wp+8FQxdA2MQ665DjFxcYAkua3X52kB\\\n",
              "6H5XZMNgNKLfFU1TRpqCYH1trTIs/PCjjzb9Qgq0ZlTC3/Cnfk9MphhITqemWkmdj8vAUMTxtpSL\\\n",
              "p8e9HSuqhTgJTbOFujFEfd7b5W9jxZ4VMMCAUb1GoeqHKkhN/zPCCAmSZt5e4dOFsJ1J9evnsZ35\\\n",
              "Aaf+9xSQ5dfhRBQChlxznduwr6+lXdThUJzn6TFxjYysgZoKoKsvN3yM8m1bNUEr77Y7lGaRyvKD\\\n",
              "yrDwkGvkcwoK3oG/oxILCi71Gf48NXqI90T9HAUPK4BEKqLy1y22G4wGoya0edvjVzxutVtRY6/B\\\n",
              "1mNbkRjT3FXmhBMSJGXe3szFM3Fw9UEA/wFwuIU7qgDwH587hhBRePC1TZuniqHrYyI4ZWQNRPm2\\\n",
              "rT7n0al39sjIGoiSe27D1tI3kJWb53GIOT8/HxkZw/z6ORLj+iPlpx8DXtrGn/eBOg8rgBRWvFXg\\\n",
              "2ouo/FXVyhW8z459pnlONIJk98zGhHcn4N7L7sXTO59W9v61xFgAADX2GsRGxcLutOOSbpfgx7M/\\\n",
              "4kz9GQy4ewC+f/37pis6AcyFPK/G0+9iTshLwcjXFmtw+Tvk0tHvFRG1jWuVzDUQqR9TL/Vy9vRP\\\n",
              "LW7bpq42frH2XdTXngUgN4mIx4Qv1r6LPSdPo7Ky2q/7ttb9gK3lPwGvvqDcp6/Xp9DEdQDbgOsI\\\n",
              "db4J707A8drjSE9I75B18N4uf1tZ1FkY1H0QTtefRnbPbJSdLMO9l92rHGOJsShNIgYY8NWdX7mt\\\n",
              "H/jKvldwpv4Mjv37GI6/edzDq05BIOsA+jPvRlQlnZKzw94rImobf9YIdD3WYDQiKzdPCXLqgKgO\\\n",
              "XFvX/AWNjXaYTDHod0U2KvaWAQYJebfOUKpziT16wl5Xh4179+H9sgOQfxH9Hr6HgSsADADgxE3Z\\\n",
              "g3Bt7vAW7z0U8fM7goeAt2zZguuvvx4ZGRkwGAxYu3at5nlJkrB48WKkp6cjLi4O48ePx7fffhuc\\\n",
              "myW/eWrwaM89bEUTh9qB/x7A8drjmiYOCfLvTVa7FZd2vxRGgxHX9r9WuYY4TlQU6x31aDzb6OVV\\\n",
              "1wK4AMAYZGT8DsAYyP+BXevx6E3fbGrx51BXK9kxTBSa1EO8LXUIi2PH3fMbTJ7ze6XC9uWGj/HR\\\n",
              "yqfwv688rwy5iu3gGm021NeeRWX5QeS/ugb5q0sx5JrrNOsKbvxyf1P4A5pHJZxe7lg7KvF+2QF8\\\n",
              "b/S2lAyFuogNgLW1tRgyZIjXeVNPPfUUVq5ciRdeeAE7duxAQkICJk6ciPr6+k6+UwqEpy5YT8u+\\\n",
              "uIbCQEKiCJmDug+C0WDEoO6D3ELnA0MfgAEGSJBw9OxRfDnjS83uH67XMhlMSL0pFSk3elsvy4ni\\\n",
              "4ltw7NgzKC6+Bd7+A5xyYwpqxtR4fM7T64pla4go9KjnwrW0PZrrYtEbX31BOb5821bluOFTpsFu\\\n",
              "q1O+d100Wn2tP6/5G97fs9/lldYCmAr3+ckVTY+v1Ty6rHgV5yeHqYgNgNdeey0ef/xx3HTTTW7P\\\n",
              "SZKE5557Do888ghuvPFGXH755XjjjTdQWVnpVimk0OepKugaCsX3T+x4osUQKEJm6S9K8eWML1H6\\\n",
              "i1JN6BRDvCajPIW2rrEOo9aMQt6aPK/XFsem3pSKC265wO159bBufn4+xs8d73bMtPxpuOL2K/yq\\\n",
              "6HG5GKLg8We9P1dijT97/fkWz1M3eAyfMg1ZuXkwGI0YOGo0hlxzHZwOh3Ksra4WP37THPLU93au\\\n",
              "3ublFdYikFGJfds/D/jnpeCL2ADoyw8//ICqqiqMH9/8IWuxWDBixAhs27bN63k2mw1Wq1Xzh4LP\\\n",
              "Ney8Xf42zjecR2JMohKWWtqlIxAiTDY65SHdRmej0gH82PbHNEFQHBsTFQNLjAUmgwkJkxNw5V1X\\\n",
              "KtcbOHMgUsan4O3ytzHszWG4/M+XozqnGum3pyvHFBYW4pb7b/F5X+05FE5ErefPen+uYUms8Vd/\\\n",
              "7hw2vvoCPlr5lNdQpR4OBuTGDjE0DAADr7wKMMhr/klOJw5+/h/ltUXlcOOrLyD/7hn4xc+u8PJT\\\n",
              "+DcqUVhYiJxEM3f2CEO6DIBVVVUAgNRU7TpsqampynOeLF26FBaLRfmTmZnZofdJrfPKvldQY69B\\\n",
              "QnSCZuHmRSMWIT0hXengbc3wMABk98yG0WDEpd0vRXpCOq7tfy0MMCjP19hrlJCZ3TMbBhhgd9gx\\\n",
              "Z+gcZUmYc1efQ2FhIfrf1R+mq0xYsWcFXtn3Cuod9ZAgweawIeWaFKTfno4LbrkARUVFXnc4Uf/c\\\n",
              "x2uPY8WeFQyCREHkazcPX+Fw+JRpgMGghDaxa4drEBRDuAA0Q8EiXPa+ZDBiExKU441RUcpriz2D\\\n",
              "JacTFV/uwYc7y1BYWOh2L7+ZdqNmVKJ5sehmhYWFKCoq8mu/Ywo9ugyArbVw4ULU1NQof44ePRrs\\\n",
              "WyIPvO0EMj1rOu697F6sq1inBCn12n6e9gX2NJdwXcU6OCUnTtefxr2X3Yutx7YqQ7wmgwmWGIvy\\\n",
              "2mUnyyBBQr2jHq/sewWT+k2C0WDEpH6TcOltlyJhjPwfabvDrllz8Nr+12LRiEUYfONgLH1sqc+f\\\n",
              "y3XXEgMMPoMiEXWsQNf7+2jlU3j2thvw4zf7leBmiolBYo+egGRwC3giDLoOBYtwufHVF9DY0KBc\\\n",
              "39nYiJKZt8pbrxmaf1ltbGjAijumouvB3bhtUvOI2E3Zg3CRyakJna4hUIQ/8fOqm1IoPOhiGRiD\\\n",
              "wYD3338fU6ZMAQB8//33GDBgAMrKynDFFVcox/385z/HFVdcgRUrVvh1XbaRhx+xjAwAXNf/Omw9\\\n",
              "thVWuxUGGNA1piusdiuMBqPSPDFqzShY7VYkxiTigaEPKEuriGOUHUOaiID2yr5XkN0zG58c+QT1\\\n",
              "jnp56Dc6AXOGzsH0rOmaZVoAIDYqFsmxyX4vcaNeakbcgzhPvSuJeD0iCl3P3naDEuTG3fMbzdqA\\\n",
              "X274GFtL3wAkA+y2OjgbG2Eym/HAG3/XLAxd8eUeNNob0NhgByQJsQldAYOE+tpaoOljPrFHT9jr\\\n",
              "z6P+3Dn3mzAYsLH8B8RHm5B7QSYgSUpQVd9PSUkJTp06pYQ/wduSNp52BAkF/PzWaQWwf//+SEtL\\\n",
              "w8aNG5XHrFYrduzYgdzc3CDeGXU0MRcQkKtzYuhWBDwxT/Dx7Y8jb00e7A47AMAAg7K0CgDEGGMA\\\n",
              "AN1iuwEAjAajMudQBLJ1FetQ75C7yh2SAzX2GqzcsxIANNcCgJioGK8VPsC9EqkeDnY9b3rWdCRE\\\n",
              "J2iGoomo8wTaBCKaOLJy89y6feUlXWpRX3sWzsamecd2uxIM7XV1qPhyD+rPnUOj3YbY+C5I7NET\\\n",
              "ebfdgfzVpcp8QJPZjOFTpiHv1hkwGN0/+k3RMRh3cT/k9u8NY1SUsoOIesj6yw0fI+br3bhp1HC3\\\n",
              "870tadNSdzMFT8QGwHPnzmHv3r3Yu3cvALnxY+/evThy5AgMBgPmzp2Lxx9/HP/4xz+wb98+zJgx\\\n",
              "AxkZGUqVkCKLCFAAlLmA9152L+YMnYP0hHSlUjap3yQAgAQJNfYa1DvqERsVizlD52iCWb2jHiv2\\\n",
              "rMCB/8rrZ0mShAeGPqBU/tIT0jGp3yRYYixIjEmEOcqsXPft8rdR21ALS4wF1/W/DukJ6Xhg6AM+\\\n",
              "O3dd5/+pQ5+n83yFSSLqWIGGnslzfo8H1/wDk+f83i081deeBSQJBqMRqRdcKHf7XnkVtpa+gfpz\\\n",
              "55qeNyC2SxfEJnRF3m13YFbJq/jxm/149rYb8N2uHYAkIb6rRdlZZNw9v0Fsly7KcHBij54YM2Om\\\n",
              "8r2zsVGeI7i3TOlOPn+2Bv+7epXbzyXuF4DHJW04PzB0RWwA3LVrF7Kzs5GdLc+revDBB5GdnY3F\\\n",
              "ixcDAH7/+9/j/vvvx3333Ydhw4bh3LlzWLduHWJjuahlJFIHKBGYxOPqrdLEfr3qpg6bw+axkiaq\\\n",
              "gwBgjjIrryEWjM5JzVGeH9tnLBJjEmGAASv3rITVbkV8dLzmGF88VfnEzzDh3Ql4eMvDmgohl4Eh\\\n",
              "Cp62hB7X8GSKMQMGA7Jy83D70ucw7p7foLL8IBrtTXP8DAal2pd32x1Kpe7g5/+B5HSi0WZDbJcu\\\n",
              "msocAOSvLsX4mbOV+xxyzXXK9yazuenaktKd3GizKUFU/XNtLX1DaVZx/flFBdF1+Lc1y+RQ+9PF\\\n",
              "HMCOwjkE4cPTvrjqbeXuvexerNizAnaHHTFRMXhg6APYfWI3/vXDv5RdPywxFvTu2lup+lliLLA5\\\n",
              "bLA5bLi2/7XISc3RvIZ6vmF6gryky/Ha40iMSURCdILH+XuBUr8GAM38xba+P0TUOVy3cVOHJvUW\\\n",
              "cOPu+Y1S+TOZzYjvatGEK/U8vPNna+TQBnkx6PxX13icp+fptcWcQkgGZRs5u60OTocDqf0HoM5q\\\n",
              "VY7/39WrlDmH+a+u0fxc3uYFBrIFXkfh5zcDYJvwH1B489RIIVhiLJgzdI5mX+DYqFjsvH2n5rwV\\\n",
              "e1YoTSKf3faZ2/VX7lkJm6N5sdWYqBjk9cpT9hQG3KuQLd2r+jjXZhIAmoDpb5jr6D2WifQmkOYH\\\n",
              "X4FIrN0nOZ3K3r31tWdhijEjPlEbAF3DnAhnRpMJktOJnv0uQJ3Vioysgfhu1w402u0wRkUpjSWO\\\n",
              "hgbldQAowVM0qKi/uh4z7p7fuP2c3t6DUGgM4ed3BA8Bk/4Eup6fepj03svu9biWn6j+AVDm8anP\\\n",
              "E+cYYNC8vghsc4bOQXJsMuod9ah31CMhOgFlJ8sCXqbF2xqA6vUNxXzC1iwDwzmDRP7zZwhTvSRL\\\n",
              "S0Od3hooRFDKys1Tns+77Q55mDYm2uM8Q3tdHTb9ZTW2lr6B1P4DYDAalTl9Jyu+x/Ap01C+basy\\\n",
              "pKtuLBEBLyNrIOx1dYjt0kV5bfG1Z78LlGPEfWfl5rktAaPuUHZ9ztcyOdR5WAFsA/4GEVraWsV6\\\n",
              "u/xtPL3zaaXx46FhDwEAVu5ZCQmS0qjheo543gADauw1muFeEaqe3vm0MlQMAOsq1uGSbpfgm9Pf\\\n",
              "wCk5W7xn1wqgryFbDucSdSx/hjBdK3f+DnWqrw1A+bt6ORYA2PSX1Wi02zHwyquUHUDEuYKo1onq\\\n",
              "XlZuHirLD2qOMSd0ga1WXhbGZDZjzB0zlfAam9AVMXFxmiVpPP1Mnt4P9dB1oO9BZ+DnNyuAFEHa\\\n",
              "WsWanjUdybHJAIDk2GRMz5qO6VnTsfW2rfjsts88hqnpWdMRHx0Pq92K2oZaAPLSMK5dusmxyZAg\\\n",
              "oexkGcpOlsEpOXHgvweUNQXFPXtaeFp0L6ubOnztCsIGEKKO5U+Th+i2DbQZRH1t9d/VzSFfrH1X\\\n",
              "qeBV7C3TnBub0BUms1mp3sV26QKTKQbj7vkNel8yGPb684hN6CqvEwjAXndeOd/R0KAs6pzYoydg\\\n",
              "kDRVRteFp329H+rqILuAQxMrgG3A3yDCU1urZ+KY7J7ZKDtZpnytqq2CBAlGgxFfzvjS47Ei6Lku\\\n",
              "KO2pMWX9tPVeq5qs8hGFr9bMgRNrAsIgod+QofL+vpKE2C5dkHfrjBabSLxVFNXzAdXVRE/3+dHK\\\n",
              "p1C+bSuycvM0x3Xkz91R+PnNANgm/AcUnkSoEsuyeBveBTwHONEYIs4V4ezhLQ9jXcU6TOo3SekI\\\n",
              "rm2ohdVu1QQ49U4do3qN0oRI9eu0NNRLROHHdRjVdacNb+d8sfZdZReP2C5dAMmAxkY7TCZ5Ufr6\\\n",
              "2rNuIW9Wyaua0PXjN/vdApw/ocz19Vs7nBsK3b8CP78BU7BvgKijeAtPouv3fMN5pcNXrA/oep4Y\\\n",
              "aj1RcQJOyalpDDFHmZEcm4zsntmY8O4E3HvZvXhy9JMAmkOmJcbiNiz9yr5XlFAoGkKO/9DUgXwS\\\n",
              "mkqfGIYmosjgbf/eL9a+6zWAqefkqTuBDUYjGm02mMxmpTGj9yWDNdVAsfiz+rUryw+6XVs9zKue\\\n",
              "8/fF2neVJWVMZnObhnNd5zFScHEOIEUsX52z66etx5yhcxAbFQsDDMjume3xPDGXb1K/SUqQe2Do\\\n",
              "A0hPSMdDwx7C+mnrPXb1ivPmDJ2jWbD57fK3NfMD1VvTqecCugq0w5mIQoNrx7CYGyeWTfFnPqE4\\\n",
              "RuzykXfbHYhN6Iqo6Gh5jl90tBLsfHXYepurF9ulC+x1ddi65i9uYdD600k02uVF702mGL+7dz11\\\n",
              "SrP7N7SwAkgRS1TwvIWq6VnTNbt3qM9bsWcFzjfIk6M9ded6qiiqX8e1cqcOlZ4aNFoa5nUNsxwW\\\n",
              "JgoPrhU+dUUOgNv3rjwN0Yrt1up/OqssBt3aypp667bYLl00AVE9T7Cy/GBA1/ensknBxTmAbcA5\\\n",
              "BOHP2zBxa5eU8bVgc1tCm6dhaS7aTBT62tr44G3enOt1/Vl0WYSylq4VyH1728VE/fdQDID8/GYA\\\n",
              "bBP+AwofgQaw1gY2f4Nja6+vbiCZM3QOK4BEEc5XEFMvtly+bavH9fbU6/GJdQD9avhommfYUsOG\\\n",
              "ty7jYDd5tISf35wDSDrha908T1q7lp6/axEGej/q86x2K+Kj4xn+iHTA27w50U1s/ekkDn7+H0hO\\\n",
              "eTtIe/15zby74VOmKYsxV5YfbHEOnqgSwiD51fDhbd1CCn2cA0i60NJ8wPbib9duds9snKg4oWk+\\\n",
              "8Udn/RxEFNrU3cRR0dHywtAGA+rPndPMu1N3AGdkDcTL+ff4rAD6WpbG23xE1zmNFB44BNwGLCGH\\\n",
              "lnBaM08MFbsuBO0qnH4mIuo8nubeqZs1PAUx9XCtP+sP+jo/1Id4W8LPbwbANuE/oNDS1r2A26I1\\\n",
              "cwzFbiC+7jeYPxMRRRZ/GkL8PT/cK338/OYcQIogbd0LuC1aM8dw0YhFLd5vW38mrh9IFLk8rbXn\\\n",
              "63H1fMLWzNfjOn6RhRXANuBvECSE6lAtK4hEkcvbkKy681csON0akVTxc8XPb1YAibwKpHrmq2s4\\\n",
              "mFW4YFZFiUKZtypZOPFWxVN3/opdPVrDdZs4iiysALYBf4MIfW2pzLVX9WzUmlGw2q1IjEnEZ7d9\\\n",
              "1urrEFH7iaSGBk/ao3rXmsWgw6VSyM9vVgApwrV2vT2g/apnBhg0X4ko+EJ5zbovN3yMkntuQ8nM\\\n",
              "W1tdoWyP+Xr+XoOVwvDEAEgRrS0hrrWLQbuaM3QO0hPSMWfonDZdh4jaTyg3NHyx9l3U155V1vQL\\\n",
              "daEcpsk7DgG3AUvIRETU3r7c8DG2rvkLYJCQd+uMkAyp4Y6f3wyAbcJ/QEREROGHn98cAiYiIiLS\\\n",
              "HQZAIiIiIp1hACQiIiLSGQZAIiIiIp1hACQiIiLSGQZAIiIiIp1hACQiIiLSGQZAIiIiIp1hACQi\\\n",
              "IiLSGQZAIiIiIp1hACQiIiLSGd0HwJKSEvTr1w+xsbEYMWIEvvjii2DfEhEREVGH0nUA/Nvf/oYH\\\n",
              "H3wQhYWF2LNnD4YMGYKJEyfi5MmTwb41IiIiog6j6wD47LPPYtasWbj77rtx6aWX4oUXXkB8fDxe\\\n",
              "ffXVYN8aERERUYfRbQC02+3YvXs3xo8frzxmNBoxfvx4bNu2LYh3RkRERNSxTMG+gWD56aef4HA4\\\n",
              "kJqaqnk8NTUVBw8e9HiOzWaDzWZTvrdarR16j0REREQdQbcVwNZYunQpLBaL8iczMzPYt0REREQU\\\n",
              "MN0GwB49eiAqKgonTpzQPH7ixAmkpaV5PGfhwoWoqalR/hw9erQzbpWIiIioXek2AMbExCAnJwcb\\\n",
              "N25UHnM6ndi4cSNyc3M9nmM2m5GYmKj5Q0RERBRudDsHEAAefPBB3HnnnfjZz36G4cOH47nnnkNt\\\n",
              "bS3uvvvuYN8aERERUYfRdQD85S9/iVOnTmHx4sWoqqrCFVdcgXXr1rk1hhARERFFEoMkSVKwbyJc\\\n",
              "Wa1WWCwW1NTUcDiYiIgoTPDzW8dzAImIiIj0igGQiIiISGcYAImIiIh0hgGQiIiISGcYAImIiIh0\\\n",
              "hgGQiIiISGcYAImIiIh0hgGQiIiISGcYAImIiIh0hgGQiIiISGcYAImIiIh0hgGQiIiISGcYAImI\\\n",
              "iIh0hgGQiIiISGcYAImIiIh0hgGQiIiISGcYAImIiIh0hgGQiIiISGcYAImIiIh0hgGQiIiISGcY\\\n",
              "AImIiIh0hgGQiIiISGcYAImIiIh0hgGQiIiISGcYAImIiIh0hgGQiIiISGcYAImIiIh0hgGQiIiI\\\n",
              "SGcYAImIiIh0hgGQiIiISGcYAImIiIh0hgGQiIiISGcYAImIiIh0hgGQiIiISGciMgA+8cQTuPLK\\\n",
              "KxEfH4+kpCSPxxw5cgSTJ09GfHw8evbsiYceegiNjY2de6NEREREQWAK9g10BLvdjltuuQW5ublY\\\n",
              "vXq12/MOhwOTJ09GWloaPv/8cxw/fhwzZsxAdHQ0/vjHPwbhjomIiIg6j0GSJCnYN9FRXn/9dcyd\\\n",
              "OxfV1dWax//1r3/hF7/4BSorK5GamgoAeOGFF/Dwww/j1KlTiImJ8ev6VqsVFosFNTU1SExMbO/b\\\n",
              "JyIiog7Az+8IHQJuybZt23DZZZcp4Q8AJk6cCKvVigMHDgTxzoiIiIg6XkQOAbekqqpKE/4AKN9X\\\n",
              "VVV5Pc9ms8FmsynfW63WjrlBIiIiog4UNhXABQsWwGAw+Pxz8ODBDr2HpUuXwmKxKH8yMzM79PWI\\\n",
              "iIiIOkLYVADnz5+Pu+66y+cxF1xwgV/XSktLwxdffKF57MSJE8pz3ixcuBAPPvig8r3VamUIJCIi\\\n",
              "orATNgEwJSUFKSkp7XKt3NxcPPHEEzh58iR69uwJANiwYQMSExNx6aWXej3PbDbDbDa3yz0QERER\\\n",
              "BUvYBMBAHDlyBKdPn8aRI0fgcDiwd+9eAMCFF16ILl26YMKECbj00ktxxx134KmnnkJVVRUeeeQR\\\n",
              "5OfnM+ARERFRxIvIZWDuuusu/PnPf3Z7/NNPP8WYMWMAAIcPH8bs2bOxadMmJCQk4M4778SyZctg\\\n",
              "MvmfidlGTkREFH74+R2hAbCz8B8QERFR+OHndxh1ARMRERFR+2AAJCIiItIZBkAiIiIinWEAJCIi\\\n",
              "ItIZBkAiIiIinWEAJCIiItIZBkAiIiIinWEAJCIiItIZBkAiIiIinWEAJCIiItIZBkAiIiIinWEA\\\n",
              "JCIiItIZBkAiIiIinWEAJCIiItIZBkAiIiIinWEAJCIiItIZBkAiIiIinWEAJCIiItIZBkAiIiIi\\\n",
              "nWEAJCIiItIZBkAiIiIinWEAJCIiItIZBkAiIiIinWEAJCIiItIZBkAiIiIinWEAJCIiItIZBkAi\\\n",
              "IiIinWEAJCIiItIZBkAiIiIinWEAJCIi0pn9W47hjT98hv1bjgX7VihIGACJiIh0Zs+6Cpw9bcOe\\\n",
              "dRXBvhUKEgZAIiIinRk6qR+6djNj6KR+wb4VChJTsG+AiIiIOtfg0b0weHSvYN8GBRErgERERBQQ\\\n",
              "ziEMfwyAREREFBDOIQx/ERkAKyoqMHPmTPTv3x9xcXEYMGAACgsLYbfbNcd99dVXuOqqqxAbG4vM\\\n",
              "zEw89dRTQbpjIiKi8ME5hOEvIucAHjx4EE6nEy+++CIuvPBC7N+/H7NmzUJtbS2eeeYZAIDVasWE\\\n",
              "CRMwfvx4vPDCC9i3bx/uueceJCUl4b777gvyT0BERBS6OIcw/BkkSZKCfROd4emnn8aqVavw/fff\\\n",
              "AwBWrVqFRYsWoaqqCjExMQCABQsWYO3atTh48KBf17RarbBYLKipqUFiYmKH3TsRERG1H35+R+gQ\\\n",
              "sCc1NTXo1q2b8v22bdswevRoJfwBwMSJE1FeXo4zZ854vIbNZoPVatX8ISIiIgo3ugiA3333Hf70\\\n",
              "pz/h//v//j/lsaqqKqSmpmqOE99XVVV5vM7SpUthsViUP5mZmR1300RERE1a03Ub6p26oX5/kS6s\\\n",
              "AuCCBQtgMBh8/nEdvj127BgmTZqEW265BbNmzWrT6y9cuBA1NTXKn6NHj7bpekRERP5Qd936G5z8\\\n",
              "6dRtzxAW6LXYSRxcYdUEMn/+fNx1110+j7nggguUv1dWVuLqq6/GlVdeiZdeeklzXFpaGk6cOKF5\\\n",
              "THyflpbm8dpmsxlms7kVd05ERNR6Qyf1w551FcpXEZx8NWKoz/HGNYSJ41vT4OHvfQVyf9RxwioA\\\n",
              "pqSkICUlxa9jjx07hquvvho5OTl47bXXYDRqi525ublYtGgRGhoaEB0dDQDYsGEDsrKykJyc3O73\\\n",
              "TkRE5I/9W465BTHXrtvtaw/BXu/A/i3H3MKW+vwZfxzl87VaEyy9vVaggY6dxMEVVkPA/jp27BjG\\\n",
              "jBmDPn364JlnnsGpU6dQVVWlmdv3q1/9CjExMZg5cyYOHDiAv/3tb1ixYgUefPDBIN45ERHphbch\\\n",
              "05aGRgeP7oWY2CjYzjdiS2l5wOd705q1/VxD44w/jmKoCxMRGQA3bNiA7777Dhs3bkTv3r2Rnp6u\\\n",
              "/BEsFgvWr1+PH374ATk5OZg/fz4WL17MNQCJiKjD7d9yDFtKyz0GNX+C2NBJ/WAwApITbvMCAwly\\\n",
              "IsBtKS1H5bfVyuNFRUUoKSnxeW5JSQm2H/+75rXY2BE+dLMOYEfgOkJERNQab/zhM5w9bYPBCIy+\\\n",
              "NatVVTP18KsIcuZ4E2Jio/yexyeCqOSEEij/98CbWLv1NQBAcXEx8vPz3c4rKSlBQUEBAKCwsBBF\\\n",
              "RUXt9nN1Bn5+R2gFkIiIKJSJKl0gIcm1ujZ4dC8l/KUNSELXbnKTYiDDv4NH98LoW7PQtZsZF+ak\\\n",
              "asIfABQUFLhVAtXhDwCWLFmiBEDXyqSn+6bQEFZNIERERJGgNQ0Qnpo0xGNANWb8cZSmKhiotVtX\\\n",
              "a8KfIMJefn6+W/gTlixZAkAeOq78thrf7T6BtAFJmnvcUloOACFbFdQbBkAiIqIw4KnLduikfh47\\\n",
              "gkX1zZ+wtWddBUrXv4R/7X7DyxFGFBS8gz/+sQKVlTshDx463Y4SIfAC+zWQnEDVoWrlHsUwcyAd\\\n",
              "xtSxOARMREQUJIEMj3rqslV3BKvX8gtkGHjopH7o0b27l2enAPgewCZUVj4NYBOAQ02Pu0tJSXFr\\\n",
              "QlEPM3PNv9DBJpA24CRSIiJqC9E04a15w9OagK7Wrz6Ab3edgMlkxKhbLlKGYC/MScWEmYM0x/q6\\\n",
              "nvvw7hQAf4fnWpETwFQAa5VHvDWMhCJ+frMCSEREFDSiWga4N294WirGtWK4f8sxfLf7BCABjQ1O\\\n",
              "7FlXgapD1ZCcwLe7TuCVB7dojlVfz/Va+fn5+MPcx5te3QjgOXiPCdrnWxv+2CASPAyAREREfuiI\\\n",
              "sCKGdUdOGeA2RLpnXYWyPIt43HV4d/vaQ5BU0/HSBiQpzReQANv5RmxeU65U/tTX8zRU/MTyRSgu\\\n",
              "LgZwFYC+Ldx9XwBXeQ1//rxf3A84eBgAiYiI/NDasOIpCHla0sV1fp/rUjH7txxD3dkGwIDmkOei\\\n",
              "6lC10nyhkJq3jjPHm5Trqefqqe8nPz8fPXsM9etn69kjG12PXeEx5PnzfqUNSILB6P3noY7DLmAi\\\n",
              "IiI/BLrXreBr+RZfXbGuS8XsWVeBxga53CdC3sgpA7B5TTkgATBoK4VpA5Jw5MB/lfNt5xthjjdh\\\n",
              "z7oKVH5brXlu+9pDsJ1vxPa1h7B531qc/GmPXz/byZ/K8M8tDtjrp2nmFu7fcgx159zDquscRDFc\\\n",
              "7RZaqcMxABIREfmhNWv3Ad6XbwkkTO7fcgz2egdM0UZERRs1Hbbqpg8AHps8RPCy1ztw9rQN56pP\\\n",
              "KEPH29ceUo77dO/7eGv5c5AHCA/D9zBwBYD/4J3PNiM6JgpXXny9Emj3rKtAo10bVsW9qYNva0M1\\\n",
              "tR27gNuAXURERNQZRLdw125mZcFndXCznW/UNJOI49TU5/QZ1B3f7pKbR8zxJoycMgBPPfE/+Mv6\\\n",
              "5aozpiCQLuA7JszD7xfNVyqA4rVGThmghFF/upo7Az+/WQEkIiLqNK0NQGkDknCuWru7hu18IwA5\\\n",
              "wIm5fJXfVmuOUxPnGIxAxkVJyLgoSbmXNe+/7hL+ADncTYXc7auuBFYAmAd1+AOAv6xfjsxLu+OJ\\\n",
              "0Ys01VIxv1D8zIEuc0Mdg00gREREnaQ1jST7txzDt7vkIVsxb2/opH4wx5tgjjehz6DusNc7sH3t\\\n",
              "IRw58F+Pc+rEEDIg79O7fe0hTePJvu3feXn1tQAuADAGloT7AYwBMACu4U/4etcht8dcf2Z1w4n6\\\n",
              "OS4J07kYAImIiDqJ6LxNG5CEN/7wGdavPuDXUilomqzlaGoCGTy6F+59djRGThmA73afgO18I2zn\\\n",
              "G+FodGquv3/LMWX9P9v5RsDg+TUmD7sT1+bM8HIHTtwxYSieuP0m3DFhKDxtAwcA14+8C4898ZjX\\\n",
              "n9nTUjbq57gkTOfiEDAREVEnEUOgYk6faMbw1g2srtwBQFS0tm4j1vZTnjcZMeOPo5TrizAljknp\\\n",
              "0xX1Z+0YOqkf1q8+oDSPRJmMmPyzOwHAbU/g4uJiXBQ7Bt/tPoHbp8/EiBsGuOwYAlybMwM35N6t\\\n",
              "dBhXHarWDPm6Lm+jHvZ17XRmQ0jnYBNIG3ASKRERtYYY/kwbkKQJS67P2+sdyvItMbFRbse7Xsf1\\\n",
              "qwhTYqkY0fCxZ10Fzp6xAZK8MPSFOanydnLRRmyteBtvfrgKAPCHuY+jv+Eq2OoaAQlKc8mvx87D\\\n",
              "W58+BwCYfdc8jEyfqtyrwSgHTk+NKKGCn98MgG3Cf0BERNQRRAUPBsAcZ1I6aV95cIsylPvz27Lc\\\n",
              "umtFCHMNX+I8c7w88Gc73whjlAGSJOHCnFRUHarWdA8XFRUhJSUFXY9dId8HABgAk0lehqbPoO54\\\n",
              "8+3V6JIBPP/as5p7EOsPOhqciIo2arqAQwU/vzkHkIiIKCSomyCGTuoHgxGABMTERgGQQ6GYAwgJ\\\n",
              "mrlyn737Lc6etqHB5nDb3WP96gMAAFPT8LG4htFoQJckMzIuStLsyLF/yzFcYL8GP79siqbZxBxn\\\n",
              "QmODE7bzjfhh7ymMz5mK3949X7l3MXw7YeYgAFCObe2cPjaFdCwGQCIiohAgmiC2lJYDAEbfmuXW\\\n",
              "IAED5EpcjFEzV07sEOJ0NA/qbV97CGdP2/DtLrlJxOGQA1ljoxPmeBOioo3K66m7h10XaxbNJmqN\\\n",
              "jU5N9+6W0nKvDRz2ekeLIc5T2GNTSMdiACQiIgoBouqnbgoRy7SIbtkokxGQ5GaPPesqlC7ilD5d\\\n",
              "YTDKVT630CTJj0eZjMr3gLxAMwzy6zkanErYdO1UFtU9MYTctZsZF/0sVRNORZOJWH9w5JQB6NrN\\\n",
              "DHO8ya8qoKew59o9TO2LXcBERERB4LoIsnqfYG+hp8+g7qg6VI26cw04e7oRZ8+cUALdb58fq7km\\\n",
              "AGwpLZcDnsMphzQDlOMHj+6l7AEstpcT5w6d1E85Vzzma8FmcaxYf1D8PK73442nLeFau/Ue+YdN\\\n",
              "IG3ASaRERNRartu7+aJu4rj32dHK96ZoI+K6RnsNZiKAxXaNwakjZ2E0GBAdG6UM6W5fe0hp1gDc\\\n",
              "t5QzGOWhaG/XVm8t56mbOVTx85sVQCIioqDwVPVyJQKc0vzRRCzlol5cWay/57pUjOgehgQ4JQkx\\\n",
              "sVEYPLoXXrx/kzJ3sLHBqdlSTlzTV6BTb0dXdag6ZJd8Ic8YAImIiILAnyFOMTfOHG9CXNdoZV7e\\\n",
              "0En9MOOPo7B/yzFljb+zp08AgO/FpQ1QAl5jY3OoFHP+XIdwAe/79Q6d1A+fvfstGhucHvceptDG\\\n",
              "JhAiIqIQsn71ATz/20+wfvUBZRkWQA5cYr2+LaXlzUOwLhO5emR2dWueGDllgLKUi3DRz1JhMAIp\\\n",
              "fbsCAH7YewpnT9uUYV3B216+ld9Ww9HoBCT3vYcp9DEAEhERhZDvdssVvG93yhW9mNgopZNWVNpE\\\n",
              "hc+T+rN2pXtYGDy6l+Y6AJBxURK6JJlhPVWHs6dtmoqgmre9fMV9Goxgp24YYgAkIiIKIRfmpCp/\\\n",
              "F6FPLNIsKm3ie0Be4sUcb8JFw1I1Qc11bT11kFOv3QdAs7SL65p/6uVo1Ne5MEc+3luTiBoXdQ49\\\n",
              "nANIREQUQibMHISMi5I0y6+IJVbUjSOiCcNbF7Go1G1fe0gZ1hXbsr3xh8+U6p2/W7Wp5wIG2vDh\\\n",
              "urg0BR8rgERERCHG0yLQognD0+OC63ZyYkkX2/lGzfCvmFsYE2vyeK4nbdmZw9Pi0hRcXAewDbiO\\\n",
              "EBERhQoxrCs5oakKrl99AN/uOgFTtBGjpl2kVOBc1xb0tC5he6/1F8jahx2Jn98cAiYiIgpb6mFZ\\\n",
              "MVTs2pRRdagakIC4LtE+g5undQnbe60/f9Y+pM7BCmAb8DcIIiJS87ZmXkdRV9Rcw5Wnv6vvyZ97\\\n",
              "VVcA/Z0rGA74+c0A2Cb8B0RERGqdPcTpLcS19310drDtaPz8ZhMIERFRu/HUmNGRXJdo8fc+Al2W\\\n",
              "pS0NIBSaIjYA3nDDDejTpw9iY2ORnp6OO+64A5WVlZpjvvrqK1x11VWIjY1FZmYmnnrqqSDdLRER\\\n",
              "RQJvgSzU7iPQQBdosOW6f6EvYgPg1Vdfjbfffhvl5eX4+9//jkOHDmHatGnK81arFRMmTEDfvn2x\\\n",
              "e/duPP300ygqKsJLL70UxLsmIiLqeP4EOnWICzTYsmIY+nQzB/Af//gHpkyZApvNhujoaKxatQqL\\\n",
              "Fi1CVVUVYmJiAAALFizA2rVrcfDgQb+uyTkEREQUqfyZR+htbmCozxnk53cEVwDVTp8+jb/+9a+4\\\n",
              "8sorER0dDQDYtm0bRo8erYQ/AJg4cSLKy8tx5swZj9ex2WywWq2aP0RERG0RqsOlYrFoe70j4MWh\\\n",
              "Q2UonLyL6AD48MMPIyEhAd27d8eRI0fwwQcfKM9VVVUhNTVVc7z4vqqqyuP1li5dCovFovzJzMzs\\\n",
              "uJsnIiJdCLXhUhFIASAmNkqzg4irzm56ofYTVgFwwYIFMBgMPv+oh28feughlJWVYf369YiKisKM\\\n",
              "GTPQlhHvhQsXoqamRvlz9OjR9vixiIhIx0KtwUIdSFu6N1b6wldY7QQyf/583HXXXT6PueCCC5S/\\\n",
              "9+jRAz169MDFF1+MSy65BJmZmdi+fTtyc3ORlpaGEydOaM4V36elpXm8ttlshtlsbtsPQUREpDJ4\\\n",
              "dK+AApQ6oHVE8FIvKB3ovVH4CKsAmJKSgpSUlFad63Q6Acjz+AAgNzcXixYtQkNDgzIvcMOGDcjK\\\n",
              "ykJycnL73DAREVE76+jt1Bj69CEiu4B37NiBnTt3Ii8vD8nJyTh06BAeffRRnDhxAgcOHIDZbEZN\\\n",
              "TQ2ysrIwYcIEPPzww9i/fz/uueceLF++HPfdd59fr8MuIiIiovDDz+8wmwPor/j4eLz33nsYN24c\\\n",
              "srKyMHPmTFx++eXYvHmzMoRrsViwfv16/PDDD8jJycH8+fOxePFiv8MfERERUbiKyApgZ+FvEERE\\\n",
              "ROGHn98RWgEkIiIiIu8YAImIiIh0hgGQiIiISGcYAImIiIh0hgGQiIiISGcYAImIiIh0hgGQiIiI\\\n",
              "SGcYAImIiIh0hgGQiIiISGcYAImIiIh0hgGQiIiISGdMwb6BcCa2UbZarUG+EyIiIvKX+NwWn+N6\\\n",
              "xADYBmfPngUAZGZmBvlOiIiIKFBnz56FxWIJ9m0EhUHSc/xtI6fTicrKSnTt2hUGg6FTX9tqtSIz\\\n",
              "MxNHjx5FYmJip752OOD74x3fG9/4/vjG98c3vj++hcr7I0kSzp49i4yMDBiN+pwNxwpgGxiNRvTu\\\n",
              "3Tuo95CYmMj/yPjA98c7vje+8f3xje+Pb3x/fAuF90evlT9Bn7GXiIiISMcYAImIiIh0hgEwTJnN\\\n",
              "ZhQWFsJsNgf7VkIS3x/v+N74xvfHN74/vvH98Y3vT+hgEwgRERGRzrACSERERKQzDIBEREREOsMA\\\n",
              "SERERKQzDIBEREREOsMAGGYqKiowc+ZM9O/fH3FxcRgwYAAKCwtht9s1x3311Ve46qqrEBsbi8zM\\\n",
              "TDz11FNBuuPO9cQTT+DKK69EfHw8kpKSPB5z5MgRTJ48GfHx8ejZsyceeughNDY2du6NBlFJSQn6\\\n",
              "9euH2NhYjBgxAl988UWwbykotmzZguuvvx4ZGRkwGAxYu3at5nlJkrB48WKkp6cjLi4O48ePx7ff\\\n",
              "fhucm+1kS5cuxbBhw9C1a1f07NkTU6ZMQXl5ueaY+vp65Ofno3v37ujSpQumTp2KEydOBOmOO9eq\\\n",
              "Vatw+eWXK4sZ5+bm4l//+pfyvJ7fG0+WLVsGg8GAuXPnKo/xPQo+BsAwc/DgQTidTrz44os4cOAA\\\n",
              "li9fjhdeeAF/+MMflGOsVismTJiAvn37Yvfu3Xj66adRVFSEl156KYh33jnsdjtuueUWzJ492+Pz\\\n",
              "DocDkydPht1ux+eff44///nPeP3117F48eJOvtPg+Nvf/oYHH3wQhYWF2LNnD4YMGYKJEyfi5MmT\\\n",
              "wb61TldbW4shQ4agpKTE4/NPPfUUVq5ciRdeeAE7duxAQkICJk6ciPr6+k6+0863efNm5OfnY/v2\\\n",
              "7diwYQMaGhowYcIE1NbWKsfMmzcPH374Id555x1s3rwZlZWVuPnmm4N4152nd+/eWLZsGXbv3o1d\\\n",
              "u3Zh7NixuPHGG3HgwAEA+n5vXO3cuRMvvvgiLr/8cs3jfI9CgERh76mnnpL69++vfP/8889LycnJ\\\n",
              "ks1mUx57+OGHpaysrGDcXlC89tprksVicXv8448/loxGo1RVVaU8tmrVKikxMVHzfkWq4cOHS/n5\\\n",
              "+cr3DodDysjIkJYuXRrEuwo+ANL777+vfO90OqW0tDTp6aefVh6rrq6WzGaztGbNmiDcYXCdPHlS\\\n",
              "AiBt3rxZkiT5vYiOjpbeeecd5ZhvvvlGAiBt27YtWLcZVMnJydIrr7zC90bl7Nmz0kUXXSRt2LBB\\\n",
              "+vnPfy498MADkiTx30+oYAUwAtTU1KBbt27K99u2bcPo0aMRExOjPDZx4kSUl5fjzJkzwbjFkLFt\\\n",
              "2zZcdtllSE1NVR6bOHEirFar8tt7pLLb7di9ezfGjx+vPGY0GjF+/Hhs27YtiHcWen744QdUVVVp\\\n",
              "3iuLxYIRI0bo8r2qqakBAOW/M7t370ZDQ4Pm/Rk4cCD69Omju/fH4XCgtLQUtbW1yM3N5Xujkp+f\\\n",
              "j8mTJ2veC4D/fkKFKdg3QG3z3Xff4U9/+hOeeeYZ5bGqqir0799fc5wIPFVVVUhOTu7UewwlVVVV\\\n",
              "mvAHaN+bSPbTTz/B4XB4/PkPHjwYpLsKTeLfgqf3KtL/nbhyOp2YO3cuRo0ahcGDBwOQ35+YmBi3\\\n",
              "ebZ6en/27duH3Nxc1NfXo0uXLnj//fdx6aWXYu/evbp/bwCgtLQUe/bswc6dO92e47+f0MAKYIhY\\\n",
              "sGABDAaDzz+uH9LHjh3DpEmTcMstt2DWrFlBuvOO15r3hojaR35+Pvbv34/S0tJg30pIycrKwt69\\\n",
              "e7Fjxw7Mnj0bd955J77++utg31ZIOHr0KB544AH89a9/RWxsbLBvh7xgBTBEzJ8/H3fddZfPYy64\\\n",
              "4ALl75WVlbj66qtx5ZVXujV3pKWluXVTie/T0tLa54Y7UaDvjS9paWluXa/h/N4EokePHoiKivL4\\\n",
              "byPSf/ZAiffjxIkTSE9PVx4/ceIErrjiiiDdVecrKCjAP//5T2zZsgW9e/dWHk9LS4Pdbkd1dbWm\\\n",
              "iqOnf0sxMTG48MILAQA5OTnYuXMnVqxYgV/+8pe6f292796NkydPYujQocpjDocDW7ZsQXFxMf79\\\n",
              "73/r/j0KBQyAISIlJQUpKSl+HXvs2DFcffXVyMnJwWuvvQajUVvIzc3NxaJFi9DQ0IDo6GgAwIYN\\\n",
              "G5CVlRWWw7+BvDctyc3NxRNPPIGTJ0+iZ8+eAOT3JjExEZdeemm7vEaoiomJQU5ODjZu3IgpU6YA\\\n",
              "kIf3Nm7ciIKCguDeXIjp378/0tLSsHHjRiXwWa1WpdoT6SRJwv3334/3338fmzZtcptSkpOTg+jo\\\n",
              "aGzcuBFTp04FAJSXl+PIkSPIzc0Nxi0HndPphM1m43sDYNy4cdi3b5/msbvvvhsDBw7Eww8/jMzM\\\n",
              "TN2/RyEh2F0oFJgff/xRuvDCC6Vx48ZJP/74o3T8+HHlj1BdXS2lpqZKd9xxh7R//36ptLRUio+P\\\n",
              "l1588cUg3nnnOHz4sFRWViYtWbJE6tKli1RWViaVlZVJZ8+elSRJkhobG6XBgwdLEyZMkPbu3Sut\\\n",
              "W7dOSklJkRYuXBjkO+8cpaWlktlsll5//XXp66+/lu677z4pKSlJ0xWtF2fPnlX+fQCQnn32Wams\\\n",
              "rEw6fPiwJEmStGzZMikpKUn64IMPpK+++kq68cYbpf79+0t1dXVBvvOON3v2bMlisUibNm3S/Dfm\\\n",
              "/PnzyjG/+c1vpD59+kiffPKJtGvXLik3N1fKzc0N4l13ngULFkibN2+WfvjhB+mrr76SFixYIBkM\\\n",
              "Bmn9+vWSJOn7vfFG3QUsSXyPQgEDYJh57bXXJAAe/6h9+eWXUl5enmQ2m6VevXpJy5YtC9Idd647\\\n",
              "77zT43vz6aefKsdUVFRI1157rRQXFyf16NFDmj9/vtTQ0BC8m+5kf/rTn6Q+ffpIMTEx0vDhw6Xt\\\n",
              "27cH+5aC4tNPP/X4b+XOO++UJEleCubRRx+VUlNTJbPZLI0bN04qLy8P7k13Em//jXnttdeUY+rq\\\n",
              "6qTf/va3UnJyshQfHy/ddNNNml9EI9k999wj9e3bV4qJiZFSUlKkcePGKeFPkvT93njjGgD5HgWf\\\n",
              "QZIkqRMLjkREREQUZOwCJiIiItIZBkAiIiIinWEAJCIiItIZBkAiIiIinWEAJCIiItIZBkAiIiIi\\\n",
              "nWEAJCIiItIZBkAiIiIinWEAJCIiItIZBkAiIiIinWEAJCIiItIZBkAiIiIinWEAJCIiItIZBkAi\\\n",
              "IiIinWEAJCIiItIZBkAiIiIinWEAJCIiItIZBkAiIiIinWEAJCIiItIZBkAiIiIinWEAJCIiItIZ\\\n",
              "BkAiIiIinWEAJCIiItIZBkAiIiIinWEAJCIiItIZBkAiIiIinWEAJCIiItIZBkAiIiIinWEAJCIi\\\n",
              "ItIZBkAiIiIinWEAJCIiItKZ/x8W9+Ojbf5dIAAAAABJRU5ErkJggg==\\\n",
              "\"\n",
              "  frames[1] = \"data:image/png;base64,iVBORw0KGgoAAAANSUhEUgAAAoAAAAHgCAYAAAA10dzkAAAAOXRFWHRTb2Z0d2FyZQBNYXRwbG90\\\n",
              "bGliIHZlcnNpb24zLjcuMSwgaHR0cHM6Ly9tYXRwbG90bGliLm9yZy/bCgiHAAAACXBIWXMAAA9h\\\n",
              "AAAPYQGoP6dpAAA2A0lEQVR4nO3deXiU9aH//c9MQiYsmYFASIgEwaUgBURZJHUpBQpa7BFFant6\\\n",
              "KirgOXbiJWB9lFM14TlafMBfUZsR17qcFlHsIa2tGw+yuARkkXMASx43DIchIRSZwWgWMvfzxzBD\\\n",
              "JpkJgSyTme/7dV1zhfne99z5el8x9yff1WZZliUAAAAYwx7vCgAAAKBzEQABAAAMQwAEAAAwDAEQ\\\n",
              "AADAMARAAAAAwxAAAQAADEMABAAAMAwBEAAAwDAEQAAAAMMQAAEAAAxDAAQAADAMARAAAMAwBEAA\\\n",
              "AADDEAABAAAMQwAEAAAwDAEQAADAMARAAAAAwxAAAQAADEMABAAAMAwBEAAAwDAEQAAAAMMQAAEA\\\n",
              "AAxDAAQAADAMARAAAMAwBEAAAADDEAABAAAMQwAEAAAwDAEQAADAMARAAAAAwxAAAQAADEMABAAA\\\n",
              "MAwBEAAAwDAEQAAAAMMQAAEAAAxDAAQAADAMARAAAMAwBEAAAADDEAABAAAMQwAEAAAwDAEQAADA\\\n",
              "MARAAAAAwxAAAQAADEMABAAAMAwBEAAAwDAEQAAAAMMQAAEAAAxDAAQAADAMARAAAMAwBEAAAADD\\\n",
              "EAABAAAMQwAEAAAwDAEQAADAMARAAAAAwxAAAQAADEMABAAAMAwBEAAAwDCp8a5AIgsEAvJ6vcrI\\\n",
              "yJDNZot3dQAAQCtYlqVjx44pNzdXdruZbWEEwDbwer3Ky8uLdzUAAMAZ2L9/vwYOHBjvasQFAbAN\\\n",
              "MjIyJAV/gJxOZ5xrAwAAWsPv9ysvLy/8HDcRAbANQt2+TqeTAAgAQIIxefiWmR3fAAAABiMAAgAA\\\n",
              "GIYACAAAYBgCIAAAgGGMCIAPPfSQbDab5s+fHy6rqamR2+1W37591atXL82cOVOVlZXxqyQAAEAn\\\n",
              "SfoAuHXrVj355JMaNWpURPmCBQv02muvafXq1dq4caO8Xq+uu+66ONUSiaKoqEgej6fFczwej4qK\\\n",
              "ijqnQgAAnIGkXgbm66+/1s9//nM9/fTTeuCBB8LlPp9Pzz77rFauXKlJkyZJkp577jldcMEF2rx5\\\n",
              "syZMmBCvKqMLKyoq0uLFi8Pv3W53s3M8Ho8KCgoiPgMAQFeT1C2Abrdb06dP15QpUyLKt2/frvr6\\\n",
              "+ojyYcOGadCgQSotLe3saiIBNA1/BQUFzVoCm4a/xYsXEwABAF1S0rYArlq1Sjt27NDWrVubHauo\\\n",
              "qFBaWpp69+4dUZ6dna2KioqY16ytrVVtbW34vd/vb7f6outqGv5CQmHP7XY3C38hoc8RBAEAXUlS\\\n",
              "tgDu379fd9xxh/74xz8qPT293a67ZMkSuVyu8It9gJNfrPAXZFdBwWqdddZdKihYrVj/O9ESCADo\\\n",
              "apIyAG7fvl2HDh3SxRdfrNTUVKWmpmrjxo167LHHlJqaquzsbNXV1eno0aMRn6usrFROTk7M6y5a\\\n",
              "tEg+ny/82r9/fwf/lyDesrKyYhyZIelzSRvk9S6TtEHSZyfKT+c6AAB0vqTsAp48ebJ27doVUXbz\\\n",
              "zTdr2LBhuvvuu5WXl6du3bpp3bp1mjlzpiSprKxM5eXlys/Pj3ldh8Mhh8PRoXVH1xKa6BHZvTtD\\\n",
              "0p/U/O+nwSfKZ0oqCZcWFxdHnTACAEC8JGUAzMjI0IgRIyLKevbsqb59+4bL58yZo4ULFyozM1NO\\\n",
              "p1O333678vPzmQGcrLY+K723XLpsgTRuzml9NDIE2iU9otiN56Hjf5EUIPwBALqkpOwCbo3ly5fr\\\n",
              "6quv1syZM3XFFVcoJydH//Vf/xXvaqGjvLdc8u0Pfj0D7vHpKr4uR9Llks4+xdlnS7qc8AcA6LJs\\\n",
              "lmVZ8a5EovL7/XK5XPL5fHI6nfGuDhpr2uLXhhZASdLyEZJvv85aPkNe/wunPD0391c6cODhM6g4\\\n",
              "AKCj8fw2uAUQSa5pi9+4OdKC3dHD39ZngwFv67Oxr3fZAnl29ZDX/2Wrvr3Xu+2UO4YAABAvBEAk\\\n",
              "p8sWSK684Nemmga+VnQPez6sUcF/VUh6V9KpQuA+Se9GXSwaAICuICkngQAaNyd2V28o8L1+V/D9\\\n",
              "ZQtOdg9HEbnIc0DSfEWfBRw6vuDE18jFogEA6CpoAYQ5Qi1/eZdIthTJajgZAht3DzdqIYy+w0eJ\\\n",
              "gku9NG0J3KemS8BI0beNAwAgnmgBhDlCLX9+r/Tda6U9a4Ih8L3l0pcfBN9/91pp/5Zwl3CV7/oY\\\n",
              "FytRcKmXy5WbO1Ze7zYFu4cDUc+uqqrqkP8kAADOBC2ASH6hFr2e/YLvrYZgyPvutcH3vv+Vdr8a\\\n",
              "LN/9p4jxg0VFRSosLIxx4YCKi2fpwIGHVVw8S7HCX2FhIVvBAQC6FFoAkfwat/w1tvvVE/9ovBKS\\\n",
              "Ja37D2nyfeEu4VB4a7oncON1/qLvGEL4AwB0TbQAIvmFWvQGjDpZ5mthH+ear6S3740YC9i0JTDa\\\n",
              "Is9ut1vFxcXh94Q/AF1ZUVHRKccnezwefo8lKVoAkfxCM4KXjzj1uSH13wRbAmu+Cn4dNyf8SzAr\\\n",
              "KyvmrN5QeVVVFb80AXRZRUVFEb0a0X6nNZ0Ex++05MJOIG3ASuJdXNPdP56aKHk/Oo0L2CRZUvc+\\\n",
              "0t37OqaOANDJmoY/qXmvRrQVEJKpV4PnNy2ASGZN1/vz7jzNC1jB5WIm3dfeNQOAuIgW/qTINUuj\\\n",
              "L391chx0soRA0xEAkZy2PivVfS3JdnKpl27dg127p+NHy85s72AA6GJihb8guwoKVus3v9knr3er\\\n",
              "glMEmq9sQAhMHkwCQfJovMXbe8ulb7+S0nuf3BJu6I8U7NZtLRvhD0DSyMrKinFkhqTPJW2Q17tM\\\n",
              "0gZJn50oP53rIJEQAJE8Gu/pG5r5e97kk8c/XafIJV9aYpNGzOyIWgJAXDRdqSBohoJbW57dpHzw\\\n",
              "ifIZEaXRVkBAYiIAInk0WsBZ4+YEt3drtKtHqxr/bCnS9N9KRUels78nPTRY+n8GS6/OOdm6CAAJ\\\n",
              "KjIE2iU9othRIPI44S+5MAu4DZhFlAAazwSWpL/dqZOtgDbJZpOsRuNcpv/2ZLfv8hEn1wsM7R3s\\\n",
              "ygsGSwBIYMGJHqsV7O49lYkqLp6VVOGP5zcBsE34AUpAoUCYd0mwdfCbf5yYGGKTpv+fyDF/W58N\\\n",
              "rgFok3Tu5OD5odZFAEhwZ51114kxfy3Lzf2VDhx4uBNq1Hl4fjMLGMmu6VqAofD2+l3BFr30PlKP\\\n",
              "vtGDXePzASCJeDyeE7N9T83r3SaPx5NULYBgDCCS3Tv/EezGfec/Tpa9tzwY/mwpwT1/F+wm6AEw\\\n",
              "xsl1/t6V9OUpzt4n6V0VFBSccts4SfrD5i916UPv6A+bT3VdxBsBEMnNavJVOjlZJLTGX+PlYwAg\\\n",
              "iUUu8hyQNF/R1vs7eXxB+HhrQuCKDZ/pwNFvtWLDZ+1SX3QcAiCS2+T7gmFvcqPdPEIzhEOtftFa\\\n",
              "CQEgyUTf4aNE0kw1bwncd6K8JKL0VCHwtonn6qze3XXbxHPbWFt0NMYAInk0He8ntW4cX7RWQgBI\\\n",
              "IH/Y/KVWbPgsHLwefqtMkvSraUP1LxOCa/xVVVXF+HSJpL9Iuly5uWPl9W5TsHs4estg7OtI/zLh\\\n",
              "7PD3Q9dGCyCSR+OFoE9HtFZCAOiCYo2xa9z1umLDZzr6bb2Ofluve0t2a/Tit/VPv3tP/1k7TuOv\\\n",
              "uzXGlQMqLp6lAwceVnHxLMUKf4WFhWwDlyRYBqYNmEbexURrAQSAJPGHzV+q8M+71WBJvbt3U09H\\\n",
              "arjF78G/faya+oBye6fLe7SmxQ6Nhm2v6H/XvRhR1nSR52jdxckU/nh+EwDbhB8gAEBnGb34bR39\\\n",
              "tl42SakpNtU3WLLpzEavHH3vj/K9/5Kk2Dt8NA6ByRT+JJ7fEmMAAQDochqP6Ws6ps6SVN9ghf99\\\n",
              "Os7qna4KX42+e/UcfSzpwvMHxVzfL1ReVVWVVOEPQQRAAAC6kMZdvSs2fBYOgL+aNlT3lrR1K0qb\\\n",
              "gtnRpq/eW3nKs1n8OXkxCQQAgC5kxYbP1GBJKTZFLKfyLxPOlq2N166uPa7e3buxTAsIgAAAdCWh\\\n",
              "tfQWXzMiovv3D5u/VKr99CNg408c/bZePR2pLNUCuoABAOhKYq2lt2LDZ6oPtH7UXze7TYX/9F1J\\\n",
              "CncpN21VhLkIgAAAJIDbJp6r+0p2y1KwVW/kWS7tOuALTwSx2yRHql019QH9+MJcPfaziyI+H2tS\\\n",
              "CczEMjBtwDRyAEBnijY7uKUZw4iO5zcBsE34AQIAIPHw/GYSCAAAgHEIgAAAAIYhAAIAABiGAAgA\\\n",
              "AGAYAiAAAIBhCIAAAACGIQACAAAYhgAIAABgmKQNgCtWrNCoUaPkdDrldDqVn5+vN954I3y8pqZG\\\n",
              "brdbffv2Va9evTRz5kxVVlbGscYAAACdI2kD4MCBA/XQQw9p+/bt2rZtmyZNmqRrrrlGe/bskSQt\\\n",
              "WLBAr732mlavXq2NGzfK6/Xquuuui3OtAQAAOp5RW8FlZmZq2bJluv7665WVlaWVK1fq+uuvlyTt\\\n",
              "3btXF1xwgUpLSzVhwoRWXY+tZAAASDw8v5O4BbCxhoYGrVq1StXV1crPz9f27dtVX1+vKVOmhM8Z\\\n",
              "NmyYBg0apNLS0pjXqa2tld/vj3gBAAAkmqQOgLt27VKvXr3kcDj0b//2b1qzZo2GDx+uiooKpaWl\\\n",
              "qXfv3hHnZ2dnq6KiIub1lixZIpfLFX7l5eV18H8BAABA+0vqADh06FDt3LlTW7Zs0W233abZs2fr\\\n",
              "448/PuPrLVq0SD6fL/zav39/O9YWAACgc6TGuwIdKS0tTeedd54kacyYMdq6daseffRR3XDDDaqr\\\n",
              "q9PRo0cjWgErKyuVk5MT83oOh0MOh6Ojqw0AANChkroFsKlAIKDa2lqNGTNG3bp107p168LHysrK\\\n",
              "VF5ervz8/DjWEAAAoOMlbQvgokWLdNVVV2nQoEE6duyYVq5cqQ0bNuitt96Sy+XSnDlztHDhQmVm\\\n",
              "ZsrpdOr2229Xfn5+q2cAAwAAJKqkDYCHDh3SjTfeqIMHD8rlcmnUqFF666239MMf/lCStHz5ctnt\\\n",
              "ds2cOVO1tbWaNm2aHn/88TjXGgAAoOMZtQ5ge2MdIQAAEg/Pb8PGAAIAAIAACAAAYBwCoKGKiork\\\n",
              "8XhaPMfj8aioqKhzKgQAADpN0k4CQWxFRUVavHhx+L3b7W52jsfjUUFBQcRnAABAcqAF0DBNw19B\\\n",
              "QUGzlsCm4W/x4sUEQAAAkggB0CBNw19I4xDYNPyFEAIBAEgeLAPTBok0jTxW+AuyS7pcubnj5PVu\\\n",
              "lfSupEDUMwsLCwmCAICElkjP745CC2AX9dWqVfpk0mR9tWpVu1wvKysrxpEZkj6XtEFe7zJJGyR9\\\n",
              "dqL8dK4DAAASBQGwizr81NM67vXq8FNPt8v13G63iouLm5TOkPQnSWc3KR98onxGRGlxcXHUCSMA\\\n",
              "ACCxEAC7qH63zlNqbq763Tqv3a4ZGQLtkh5R7B+ByOOEPwAAkgdjANsgUccQBCd6rFawu/dUJqq4\\\n",
              "eBbhDwCQNBL1+d2eaAE0kNvtVm7uuFadm5s7lvAHAECSIQAayOPxnJjte2pe77ZT7hgCAAASCzuB\\\n",
              "GObkOn92SV+q+QSQxvZJelcFBRslRd8xBAAAJB5aAA0SuchzQNJ8xVrvL1i+IHw82o4hAAAgMREA\\\n",
              "DRF9h48SSTMVbAlsbN+J8pKIUkIgAADJgQCYZGItIF2+fn2MT5RIOkfSROXm/krSREnnqmn4C6mq\\\n",
              "qmqnmgIAgHghACagr1atUtklE7T3oou1d/RFKrtkQjjwxVpAeu6Rr/TLvn1jXDGg4uJZOnDgYRUX\\\n",
              "zxLbwAEAkNwIgAno8FNPK+Dzyfr2W1k1NQr4fDq0/BF9Mmmyelx0kewulxqOHIkIhv1unaf5oy7U\\\n",
              "/zVzZrPrNV7kOfqOIYQ/AACSCQtBt0FnLyT51apVOvzU00rNzFTN7t2xT7TbpUCwFc/ucmnols0R\\\n",
              "h4uKirR48WJJsXf4aDxmkPAHAEgmLATNMjAJIRT8AtXVCvh8On7wYMsfCJzswg0cO9bscCjMZWVl\\\n",
              "xVzaJVReVVVF+AMAIMnQAtgGnfUXxCeTJuu41yu7yyV7z546XlUl1de3+vPO6dP1zUcfqd+t89Tn\\\n",
              "pz/tsHoCAJAIaAFkDGCXdeDOX+nv3x2hA3f+Sv1unSe7yyVJ6nHRRacV/iTJ/+abOu71quI/Hmg2\\\n",
              "OxgAAJiHANhF+d98U2pokP/NN9Xnpz+VvWdPBXw++f/2t9O/WKhLuKFBh5Y/0q71BAAAiYcA2EU5\\\n",
              "r7xSSkkJflVwFq9SUs7sYo16+QPV1VHXCQQAAOZgDGAbxGMWcMXi/zsi0J2p1Nxcnf/OunaoFQAA\\\n",
              "iYUxgLQAJoTQ7h6SZG/6g2qzRf9QSorSR4wIf7Wlp0cc63frvA6qLQAA6OoIgAmg8e4evS67TLLZ\\\n",
              "ZEtPV05RoXIK75fd5ZItPV12l0vO6dODXcUNDTp+5Igu2LNbQ15drZTMzODFUlKUc9+9zAYGAMBg\\\n",
              "rAOYAPrdOk+Hn3o6/FWWpZTMzHCIaxrmeowbGz4/2jUIfwAAmI0xgG0QjzEEoUWhzzTItfXzAAAk\\\n",
              "OsYAEgDbJBF/gEKLSjMJBABgqkR8frc3xgAapt+t85Sam8skEAAADEYLYBvwFwQAAImH5zctgAAA\\\n",
              "AMYhAAIAABiGAAgAAGAYAiAAAIBhCIAAAACGIQACAAAYhgAIAABgmKQNgEuWLNG4ceOUkZGh/v37\\\n",
              "a8aMGSorK4s4p6amRm63W3379lWvXr00c+ZMVVZWxqnGAAAAnSNpA+DGjRvldru1efNmrV27VvX1\\\n",
              "9Zo6daqqq6vD5yxYsECvvfaaVq9erY0bN8rr9eq6666LY60BAAA6njE7gVRVVal///7auHGjrrji\\\n",
              "Cvl8PmVlZWnlypW6/vrrJUl79+7VBRdcoNLSUk2YMOGU12QlcQAAEg/P7yRuAWzK5/NJkjIzMyVJ\\\n",
              "27dvV319vaZMmRI+Z9iwYRo0aJBKS0vjUkcAAIDOkBrvCnSGQCCg+fPn69JLL9WIESMkSRUVFUpL\\\n",
              "S1Pv3r0jzs3OzlZFRUXU69TW1qq2tjb83u/3d1idAQAAOooRLYBut1u7d+/WqlWr2nSdJUuWyOVy\\\n",
              "hV95eXntVEMAAIDOk/QBsKCgQH/961+1fv16DRw4MFyek5Ojuro6HT16NOL8yspK5eTkRL3WokWL\\\n",
              "5PP5wq/9+/d3ZNUBAAA6RNIGQMuyVFBQoDVr1uidd97RkCFDIo6PGTNG3bp107p168JlZWVlKi8v\\\n",
              "V35+ftRrOhwOOZ3OiBcAAECiSdoxgG63WytXrtSf//xnZWRkhMf1uVwude/eXS6XS3PmzNHChQuV\\\n",
              "mZkpp9Op22+/Xfn5+a2aAQwAAJCoknYZGJvNFrX8ueee00033SQpuBD0nXfeqZdeekm1tbWaNm2a\\\n",
              "Hn/88ZhdwE0xjRwAgMTD8zuJA2Bn4AcIAIDEw/M7iccAAgAAIDoCIAAAgGEIgAAAAIYhAAIAABiG\\\n",
              "AAgAAGAYAiAAAIBhCIAAAACGIQACAAAYhgAIAABgGAIgAACAYQiAAAAAhiEAAgAAGIYACAAAYBgC\\\n",
              "IAAAgGEIgAAAAIYhAAIAABiGAAgAAGAYAiAAAIBhCIAAAACGIQACAAAYhgAIAABgGAIgAACAYQiA\\\n",
              "AAAAhiEAAgAAGIYACAAAYBgCIAAAgGEIgEAbFRUVyePxtHiOx+NRUVFR51QIAIBTSI13BYCu4JWy\\\n",
              "V/TMrmc0d+Rc/WToT1r9uaKiIi1evDj83u12NzvH4/GooKAg4jMAAMQTLYCApGd2PaOD1Qf1zK5n\\\n",
              "Wv2ZpuGvoKCgWUtg0/C3ePFiAiAAnEAPSvzQAoikdTqtenNHzg2f2xpNw19IKOy53e5m4S8k9Dl+\\\n",
              "oQEwGT0o8WWzLMuKdyUSld/vl8vlks/nk9PpjHd10MTUV6fqYPVBDeg5QG9f/3a7XTdW+AuyS7pc\\\n",
              "ubnj5PVulfSupEDUMwsLC/llBsBI0X6PFhcXR4TAaH9Et9fvTZ7fdAEjic0dOVcDeg5odatea2Vl\\\n",
              "ZcU4MkPS55I2yOtdJmmDpM9OlJ/OdQAgebXUgxLqDm6pB4U/nNsHLYBtwF8Q5mr+y2mGpD8p+t9U\\\n",
              "AUkzJZWES5r+pQsAJugqPSg8v2kBBM6I2+1WcXHxiXd2SY8o9v9OkccJfwBMRQ9K18EkEOAMhUJc\\\n",
              "QcFqSWef4uyzJV2u4uJZhD8Axjr5e7M1PSiDT5TTg9IRaAEE2sDtdis3d1yrzs3NHcsvLQDGowel\\\n",
              "ayAAAm3g8XhOjFU5Na932ynXuwIAE5wMgZer9T0ohL/2RAAEztDJiSDvSvryFGfvk/Ru1MWiAcBE\\\n",
              "9KDEFwEQaOKVslc09dWpeqXslZjnRM4CDkiar1iz1YLlC8LHCYEAQA9KvBEAgUZeKXtFD255sMVt\\\n",
              "4aKvT1Wi4EDlpi2B+9R0ALNECASQnP577et62n2L/nvt6y2eRw9K/BEAYZyWWvge3fGoAlawpe5g\\\n",
              "9UH99K8/1dRXp+ruTXeHP1NVVRXjyiWSzpE0UY4+N0uaKOlcNQ1/IbGvAwCJ6cOSV+U/fEgflrwa\\\n",
              "8xx6ULqGpA2AmzZt0o9//GPl5ubKZrOppKQk4rhlWbr//vs1YMAAde/eXVOmTNEnn3wSn8qiwzUO\\\n",
              "fc/seiaihe+Vsld02UuX6dKXLtXXdV9HfG7PP/boYPVBvf7F6zpYfVAPbnlQw382XIWFhTG+U0DD\\\n",
              "5lTqxdKrVFw8S2wDB8AEoZa/3KHD5OzXX+NnXB/1PHpQuo6kXQewurpaF154oW655RZdd911zY4v\\\n",
              "XbpUjz32mF544QUNGTJE9913n6ZNm6aPP/5Y6enpcagxOlLj0Dd35Nzw11CXb6jVryV2m10BK6Bn\\\n",
              "dj2jt4ve1p7De/SqJ/Kv3IhZakODXzpqL0sAiKe/PbZUZaXvaWj+ZfKW7ZX/8CFJ0jzP7yUFQ+GH\\\n",
              "Ja9q/IzrdeEPfySppZ6PEkl/UXAnkLHyereppZ1A6EFpu6RtAbzqqqv0wAMP6Nprr212zLIsPfLI\\\n",
              "I7r33nt1zTXXaNSoUXrxxRfl9XqbtRQiOcwdOVfONKe+qf9GkvT29W/rJ0N/omVbl7Uq/EnSBZkX\\\n",
              "yG6z66L+F0mSfBN9yrrm5Gr00ZYoiFzvivAHILG0NKZv7wfvygoEtPeDd9X9xHZqtd9+o9/+7J/0\\\n",
              "t8eW6r1VL8p/+JA2/Oez4WsUFRXp6rGjY3y3gIqLZ+nAgYfpQekERuwFbLPZtGbNGs2YMUOS9Pnn\\\n",
              "n+vcc8/VRx99pNGjR4fP+/73v6/Ro0fr0UcfjXqd2tpa1dbWht/7/X7l5eUZvZdgIpn66lQdrD4o\\\n",
              "u82uKwdfqY8OfaSD1Qdb/flQC6ArzaUe3Xroov4X6aNDH8m1waWJF0xscYkCj8ejqqoqfmkBSChP\\\n",
              "u2+R//AhOfv1D7fshSz/+QwFjh+XzW6XFWge1lLTHDpeVyvZbJJlKb1nhtK6d1fu0GF67Kln9fae\\\n",
              "/y/i/KZ/REfrLm6v8MdewEncBdySiooKSVJ2dnZEeXZ2dvhYNEuWLGlhE2t0dXNHzg13977xxRuy\\\n",
              "dHp/+1yQeYGO1BxRdX11MDgeCrYkKvpQlwisXwUgEY2fcX24G1eK7Na1p6QocPx41PAnSYFAQ/Af\\\n",
              "liV7SqpqvvlaNdXHJElLly9X2r//Wn/dtlNS7B4U6eQwGlr+2peRAfBMLVq0SAsXLgy/D7UAIjH8\\\n",
              "ZOhPJAXHA1ZWV552APzs6Gfqk95HeRl5+vuRv4e7ggEgWV34wx+Fx+/999rXte73T8gKBPTeS/+p\\\n",
              "43V1LX42cPz4yX83BP9ts9vDYwJf++GPVFRUpKysrJh/JIfK6UFpf0YGwJycHElSZWWlBgwYEC6v\\\n",
              "rKyM6BJuyuFwyOFwdHT10AkCMZcciK2moUYHqw+qorpClix9dOijDqgZAHRNH5a8Gm7tC7XktZaj\\\n",
              "Zy/VffuNhuZfFg6UkloV6uhB6RhJOwmkJUOGDFFOTo7WrVsXLvP7/dqyZYvy8/PjWDN0tNBs4G72\\\n",
              "bq063yabpOD4v/SU4OxwR4pDA3oO0NyRczusngDQ1Yyfcb2c/foHx/Sdptrqr2UFAiorfU//54ar\\\n",
              "9YdF89u/gjgtSRsAv/76a+3cuVM7d+6UJH3xxRfauXOnysvLZbPZNH/+fD3wwAP6y1/+ol27dunG\\\n",
              "G29Ubm5ueKIIktPckXM1oOcAdU/tfspz01PSNbzvcNlkU5o9TZMGTZIzzSlHikNzR84NdykDQLKK\\\n",
              "Ngs4e8i5stnPLD6EWhArP/+0XeqHM5e0s4A3bNigH/zgB83KZ8+ereeff16WZamwsFBPPfWUjh49\\\n",
              "qssuu0yPP/64vvOd77T6ezCLKHG9UvaKlm1dppqGGqWnpOvc3ufq4398LEeKQ44Uh3x1PtltdmV0\\\n",
              "y5CvzidJcqW5dKz+mAJWQAN6DghOAAGAJNZ4FrAk+Q8fks1u1+Rb/k3/+/fd2vv+plZfKzXNoYbj\\\n",
              "9bICAWWfc55GTprabJ3AzsLzO4kDYGfgBygxhHb/OFWrXWiZmPSUdNU01EgKdgE7UhxKS0mTJPnr\\\n",
              "/LLb7Pr1Jb+mBRBA0gvN+s0dOkz7dn6kmm++liwrvCyM55aftWo8YEa/LNlki1hSpqUlZjoaz+8k\\\n",
              "7gIGQppu/RZLqHvYkXJyoo8lS33S++j9n72vOy6+QwN6DiD8ATDGhT/8keZ5fi9v2V7VVB9Teo9e\\\n",
              "EVu9DR4dYzUEmy3cTezs11+3ep4LjyEMfbbpe3QuWgDbgL8gEkNrWwCbnh9a6JnxfgBMF21bN+lk\\\n",
              "F3FTwy69QgMvGKH3XvpPyWbpsp/e2OndvC3h+W3oMjBAS34y9CcEPgBopPF6gI2Nn3G93lv1omTZ\\\n",
              "NHj0RfKW7Y0IiR+WvCr/4UP6sOTVLhUAQQtgm/AXRGIIje1j4gYAdK5YLYfxxvObFkAYYO7IueEu\\\n",
              "YABA54nVcoj4owWwDfgLAgCAxMPzm1nAAAAAxiEAAgAAGIYACABAkoi2dRsQDQEQAIAk0XjZFaAl\\\n",
              "BEAAAJIEu2ugtZgF3AbMIgIAIPHw/KYFEAAAwDgEQAAAAMMQAAEAAAxDAAQAADAMARAAAMAwBEAA\\\n",
              "AADDEAABAAAMQwAEAAAwDAEQAADAMARAAAAAwxAAAQAADEMABAAAMAwBEAAAwDAEQAAAAMMQAAEA\\\n",
              "AAxDAAQAADAMARAAAMAwBEAAAADDEAABAAAMQwAEAAAwDAEQAADAMARAAAAAwxAAAQAADEMABAAA\\\n",
              "MAwBEAAAwDAEQAAAAMMQAAEAAAxDAAQAADCM8QHQ4/Fo8ODBSk9P1yWXXKIPP/ww3lUCAADoUEYH\\\n",
              "wJdfflkLFy5UYWGhduzYoQsvvFDTpk3ToUOH4l01AACADmN0APztb3+refPm6eabb9bw4cP1xBNP\\\n",
              "qEePHvr9738f76oBAAB0GGMDYF1dnbZv364pU6aEy+x2u6ZMmaLS0tI41gwAAKBjpca7AvFy+PBh\\\n",
              "NTQ0KDs7O6I8Oztbe/fujfqZ2tpa1dbWht/7/f4OrSMAAEBHMLYF8EwsWbJELpcr/MrLy4t3lQAA\\\n",
              "AE6bsQGwX79+SklJUWVlZUR5ZWWlcnJyon5m0aJF8vl84df+/fs7o6oAAADtytgAmJaWpjFjxmjd\\\n",
              "unXhskAgoHXr1ik/Pz/qZxwOh5xOZ8QLAAAg0Rg7BlCSFi5cqNmzZ2vs2LEaP368HnnkEVVXV+vm\\\n",
              "m2+Od9UAAAA6jNEB8IYbblBVVZXuv/9+VVRUaPTo0XrzzTebTQwBAABIJjbLsqx4VyJR+f1+uVwu\\\n",
              "+Xw+uoMBAEgQPL8NHgMIAABgKgIgAACAYQiAAAAAhiEAAgAAGIYACAAAYBgCIAAAgGEIgAAAAIYh\\\n",
              "AAIAABiGAAgAAGAYAiAAAIBhCIAAAACGIQACAAAYhgAIAABgGAIgAACAYQiAAAAAhiEAAgAAGIYA\\\n",
              "CAAAYBgCIAAAgGEIgAAAAIYhAAIAABiGAAgAAGAYAiAAAIBhCIAAAACGIQACAAAYhgAIAABgGAIg\\\n",
              "AACAYQiAAAAAhiEAAgAAGIYACAAAYBgCIAAAgGEIgAAAAIYhAAIAABiGAAgAAGAYAiAAAIBhCIAA\\\n",
              "AACGIQACAAAYhgAIAABgGAIgAACAYQiAAAAAhiEAAgAAGIYACAAAYJikDIAPPvigvve976lHjx7q\\\n",
              "3bt31HPKy8s1ffp09ejRQ/3799ddd92l48ePd25FAQAA4iA13hXoCHV1dZo1a5by8/P17LPPNjve\\\n",
              "0NCg6dOnKycnRx988IEOHjyoG2+8Ud26ddNvfvObONQYAACg89gsy7LiXYmO8vzzz2v+/Pk6evRo\\\n",
              "RPkbb7yhq6++Wl6vV9nZ2ZKkJ554QnfffbeqqqqUlpbWquv7/X65XC75fD45nc72rj4AAOgAPL+T\\\n",
              "tAv4VEpLSzVy5Mhw+JOkadOmye/3a8+ePTE/V1tbK7/fH/ECAABINEYGwIqKiojwJyn8vqKiIubn\\\n",
              "lixZIpfLFX7l5eV1aD0BAAA6QsIEwHvuuUc2m63F1969ezu0DosWLZLP5wu/9u/f36HfDwAAoCMk\\\n",
              "zCSQO++8UzfddFOL55xzzjmtulZOTo4+/PDDiLLKysrwsVgcDoccDkervgcAAEBXlTABMCsrS1lZ\\\n",
              "We1yrfz8fD344IM6dOiQ+vfvL0lau3atnE6nhg8f3i7fAwAAoKtKmAB4OsrLy3XkyBGVl5eroaFB\\\n",
              "O3fulCSdd9556tWrl6ZOnarhw4frF7/4hZYuXaqKigrde++9crvdtPABAICkl5TLwNx000164YUX\\\n",
              "mpWvX79eEydOlCR9+eWXuu2227Rhwwb17NlTs2fP1kMPPaTU1NZnYqaRAwCQeHh+J2kA7Cz8AAEA\\\n",
              "kHh4fifQLGAAAAC0DwIgAACAYQiAAAAAhiEAAgAAGIYACAAAYBgCIAAAgGEIgAAAAIYhAAIAABiG\\\n",
              "AAgAAGAYAiAAAIBhCIAAAACGIQACAAAYhgAIAABgGAIgAACAYQiAAAAAhiEAAgAAGIYACAAAYBgC\\\n",
              "IAAAgGEIgAAAAIYhAAIAABiGAAgAAGAYAiAAAIBhCIAAAACGIQACAAAYhgAIAABgGAIgAACAYQiA\\\n",
              "AAAAhiEAAgAAGIYACAAAYBgCIAAAgGEIgAAAAIYhAAIAABiGAAgAAGAYAiAAAIBhCIAAAACGIQAC\\\n",
              "AAAYhgAIAABgGAIgAACAYQiAAAAAhiEAAgAAGCYpA+C+ffs0Z84cDRkyRN27d9e5556rwsJC1dXV\\\n",
              "RZz3P//zP7r88suVnp6uvLw8LV26NE41BgAA6Dyp8a5AR9i7d68CgYCefPJJnXfeedq9e7fmzZun\\\n",
              "6upqPfzww5Ikv9+vqVOnasqUKXriiSe0a9cu3XLLLerdu7duvfXWOP8XAAAAdBybZVlWvCvRGZYt\\\n",
              "W6YVK1bo888/lyStWLFCv/71r1VRUaG0tDRJ0j333KOSkhLt3bu3Vdf0+/1yuVzy+XxyOp0dVncA\\\n",
              "ANB+eH4naRdwND6fT5mZmeH3paWluuKKK8LhT5KmTZumsrIyffXVV/GoIgAAQKcwIgB++umn+t3v\\\n",
              "fqd//dd/DZdVVFQoOzs74rzQ+4qKiqjXqa2tld/vj3gBAAAkmoQKgPfcc49sNluLr6bdtwcOHNCV\\\n",
              "V16pWbNmad68eW36/kuWLJHL5Qq/8vLy2nQ9AACAeEioMYBVVVX6xz/+0eI555xzTrhb1+v1auLE\\\n",
              "iZowYYKef/552e0n8+6NN94ov9+vkpKScNn69es1adIkHTlyRH369Gl27draWtXW1obf+/1+5eXl\\\n",
              "GT2GAACARMMYwASbBZyVlaWsrKxWnXvgwAH94Ac/0JgxY/Tcc89FhD9Jys/P169//WvV19erW7du\\\n",
              "kqS1a9dq6NChUcOfJDkcDjkcjrb9RwAAAMRZQnUBt9aBAwc0ceJEDRo0SA8//LCqqqpUUVERMbbv\\\n",
              "n//5n5WWlqY5c+Zoz549evnll/Xoo49q4cKFcaw5AABAx0uoFsDWWrt2rT799FN9+umnGjhwYMSx\\\n",
              "UI+3y+XS22+/LbfbrTFjxqhfv366//77WQMQAAAkvYQaA9jVMIYAAIDEw/M7SbuAAQBAYikqKpLH\\\n",
              "42nxHI/Ho6Kios6pUJJLyi5gAACQOIqKirR48eLwe7fb3ewcj8ejgoKCiM/gzNECCAAA4qZp+Cso\\\n",
              "KGjWEtg0/C1evJgA2EYEQAAAEBdNw19I4xDYNPyFEALbhkkgbcAgUgAAzkys8Bdkl3S5cnPHyevd\\\n",
              "KuldSYGoZxYWFp52EOT5zRhAAAAQB7E3dpgh6RFJZ8vrDZXtk7RAUslpXActoQsYAAB0OrfbreLi\\\n",
              "4ialMyT9SdLZTcoHnyifEVFaXFwcdcIITo0ACAAA4iIyBNoVbPmLFU0ijxP+2oYuYAAA0Kl2bzqg\\\n",
              "HW/u08VXDg6HuIKC1Wre8tfU2ZIuV3HxLMJfG9ECCAAAOtWON/fp2JFa7Xhzn6RgS2Bu7rhWfTY3\\\n",
              "dyzhrx0QAAEAQKe6+MrBysh06OIrB0sKLvUSnO17al7vtlPuGIJTowsYAAB0qhFXnKURV5wlqfE6\\\n",
              "f3ZJX6rlbuB9kt5VQcFGSdF3DEHr0AIIAABabfemA3rx39/X7k0HTutYNJGLPAckzVes9f6C5QvC\\\n",
              "x6PtGILWIwACAIBWazp+r7H3V3+iY0dq9f7qT8JlsUJh9B0+SiTNVLAlsLF9J8pLIkoJgWeOLmAA\\\n",
              "ANBqF185WDve3Kecc3vrxX9/XxdfOTjcnXu8PhD+usK9Xpff8B1tLvlMtd8c1+aSzyQp/Nn/d9X2\\\n",
              "GN+hRNJfFNwJZKy83m1qaSeQqqqq9vzPMwYtgAAAIKamLXgjrjhLN/7mUlV8dlTHjtRq48oyvf3s\\\n",
              "nmYtfIEGSxtXlqn2m+OSpNpvjuv9V4MthJ9sq9SU7/6LfjzhphjfNaDi4lk6cOBhFRfPUntuA4cg\\\n",
              "AiAAAIgpWpfv7k0HVFfTEH7/ybZKbVpVdsprHa8LyGaTZAXfXzn6F5px2c3Nzmu8yHP0HUMIf21F\\\n",
              "AAQAADE1XbJFCobC2m+OK7WbXTa7JEuyYs3daMKyIv/9sx/dFhECo+3w0TQEEv7ajjGAAAAgpsZL\\\n",
              "toQ0HgdYvucf4W7eM3F4/zGteff3KioapKysrJhLu4TKq6qqCH/twGZZjbM4Toff75fL5ZLP55PT\\\n",
              "6Yx3dQAA6DS7Nx3QplVlrW75i+X8cdmaOue7EdcNbRPXNHi2F57fdAEDAIAzsOPNfcHwZzvza2Sd\\\n",
              "nRER/kLXjbXMDNoPARAAAJy20NjA88dmt/5DTcJizbG6mNdtPOYQ7Y8xgAAA4IyV7/lH1HJ7ik19\\\n",
              "B/bS4f3HZJNNgYAVnv0rm+Tonho15EUbc4j2RwsgAAA4baGuWknKyHTo+/88VBmZDkmSzR5cB7Dm\\\n",
              "WJ1++fgkXf7T75xs/bNJ3//ZUM397RWSdFpbx6H90AIIAABOW2gmcNPJGqHZwRWfHQ238I244qzw\\\n",
              "jiCO7sHo8eK/v6+6mgbVfnNcO97cR6tfJ2MWcBswiwgAgNZpPLs31Hro6JGqtPSUDp3xGw3Pb1oA\\\n",
              "AQBAJ2g6tq+jl3pBywiAAACgUzHRI/6YBAIAAGAYAiAAAIBhCIAAAACGIQACAAAYhgAIAABgGAIg\\\n",
              "AACAYQiAAAAAhiEAAgAAGIYACAAAYBgCIAAAgGEIgAAAAIYhAAIAABiGAAgAAGCY1HhXIJFZliVJ\\\n",
              "8vv9ca4JAABordBzO/QcNxEBsA2OHTsmScrLy4tzTQAAwOk6duyYXC5XvKsRFzbL5PjbRoFAQF6v\\\n",
              "VxkZGbLZbPGuTsLy+/3Ky8vT/v375XQ6412dhMV9bD/cy/bBfWwf3Mf2E7qX5eXlstlsys3Nld1u\\\n",
              "5mg4WgDbwG63a+DAgfGuRtJwOp38cmsH3Mf2w71sH9zH9sF9bD8ul8v4e2lm7AUAADAYARAAAMAw\\\n",
              "BEDEncPhUGFhoRwOR7yrktC4j+2He9k+uI/tg/vYfriXJzEJBAAAwDC0AAIAABiGAAgAAGAYAiAA\\\n",
              "AIBhCIAAAACGIQAirh588EF973vfU48ePdS7d++o55SXl2v69Onq0aOH+vfvr7vuukvHjx/v3Iom\\\n",
              "AI/Ho8GDBys9PV2XXHKJPvzww3hXqUvbtGmTfvzjHys3N1c2m00lJSURxy3L0v33368BAwaoe/fu\\\n",
              "mjJlij755JP4VLYLW7JkicaNG6eMjAz1799fM2bMUFlZWcQ5NTU1crvd6tu3r3r16qWZM2eqsrIy\\\n",
              "TjXuulasWKFRo0aFF3zOz8/XG2+8ET7OfTwzDz30kGw2m+bPnx8u414SABFndXV1mjVrlm677bao\\\n",
              "xxsaGjR9+nTV1dXpgw8+0AsvvKDnn39e999/fyfXtGt7+eWXtXDhQhUWFmrHjh268MILNW3aNB06\\\n",
              "dCjeVeuyqqurdeGFF8rj8UQ9vnTpUj322GN64okntGXLFvXs2VPTpk1TTU1NJ9e0a9u4caPcbrc2\\\n",
              "b96stWvXqr6+XlOnTlV1dXX4nAULFui1117T6tWrtXHjRnm9Xl133XVxrHXXNHDgQD300EPavn27\\\n",
              "tm3bpkmTJumaa67Rnj17JHEfz8TWrVv15JNPatSoURHl3EtJFtAFPPfcc5bL5WpW/vrrr1t2u92q\\\n",
              "qKgIl61YscJyOp1WbW1tJ9awaxs/frzldrvD7xsaGqzc3FxryZIlcaxV4pBkrVmzJvw+EAhYOTk5\\\n",
              "1rJly8JlR48etRwOh/XSSy/FoYaJ49ChQ5Yka+PGjZZlBe9bt27drNWrV4fP+fvf/25JskpLS+NV\\\n",
              "zYTRp08f65lnnuE+noFjx45Z559/vrV27Vrr+9//vnXHHXdYlsXPZAgtgOjSSktLNXLkSGVnZ4fL\\\n",
              "pk2bJr/fH/6r2HR1dXXavn27pkyZEi6z2+2aMmWKSktL41izxPXFF1+ooqIi4p66XC5dcskl3NNT\\\n",
              "8Pl8kqTMzExJ0vbt21VfXx9xL4cNG6ZBgwZxL1vQ0NCgVatWqbq6Wvn5+dzHM+B2uzV9+vSIeybx\\\n",
              "MxmSGu8KAC2pqKiICH+Swu8rKiriUaUu5/Dhw2poaIh6n/bu3RunWiW20M9WtHvKz11sgUBA8+fP\\\n",
              "16WXXqoRI0ZICt7LtLS0ZmN8uZfR7dq1S/n5+aqpqVGvXr20Zs0aDR8+XDt37uQ+noZVq1Zpx44d\\\n",
              "2rp1a7Nj/EwG0QKIdnfPPffIZrO1+CKYAMnH7XZr9+7dWrVqVbyrkrCGDh2qnTt3asuWLbrttts0\\\n",
              "e/Zsffzxx/GuVkLZv3+/7rjjDv3xj39Uenp6vKvTZdECiHZ355136qabbmrxnHPOOadV18rJyWk2\\\n",
              "mzU0UysnJ+eM6pds+vXrp5SUlGYz2CorK7lHZyh03yorKzVgwIBweWVlpUaPHh2nWnVtBQUF+utf\\\n",
              "/6pNmzZp4MCB4fKcnBzV1dXp6NGjES0u/HxGl5aWpvPOO0+SNGbMGG3dulWPPvqobrjhBu5jK23f\\\n",
              "vl2HDh3SxRdfHC5raGjQpk2bVFxcrLfeeot7KVoA0QGysrI0bNiwFl9paWmtulZ+fr527doVMZt1\\\n",
              "7dq1cjqdGj58eEf9JySUtLQ0jRkzRuvWrQuXBQIBrVu3Tvn5+XGsWeIaMmSIcnJyIu6p3+/Xli1b\\\n",
              "uKdNWJalgoICrVmzRu+8846GDBkScXzMmDHq1q1bxL0sKytTeXk597IVAoGAamtruY+nYfLkydq1\\\n",
              "a5d27twZfo0dO1Y///nPw//mXtICiDgrLy/XkSNHVF5eroaGBu3cuVOSdN5556lXr16aOnWqhg8f\\\n",
              "rl/84hdaunSpKioqdO+998rtdsvhcMS38l3IwoULNXv2bI0dO1bjx4/XI488ourqat18883xrlqX\\\n",
              "9fXXX+vTTz8Nv//iiy+0c+dOZWZmatCgQZo/f74eeOABnX/++RoyZIjuu+8+5ebmasaMGfGrdBfk\\\n",
              "dru1cuVK/fnPf1ZGRkZ4DJXL5VL37t3lcrk0Z84cLVy4UJmZmXI6nbr99tuVn5+vCRMmxLn2Xcui\\\n",
              "RYt01VVXadCgQTp27JhWrlypDRs26K233uI+noaMjIzwGNSQnj17qm/fvuFy7qVYBgbxNXv2bEtS\\\n",
              "s9f69evD5+zbt8+66qqrrO7du1v9+vWz7rzzTqu+vj5+le6ifve731mDBg2y0tLSrPHjx1ubN2+O\\\n",
              "d5W6tPXr10f92Zs9e7ZlWcGlYO677z4rOzvbcjgc1uTJk62ysrL4VroLinYPJVnPPfdc+Jxvv/3W\\\n",
              "+uUvf2n16dPH6tGjh3XttddaBw8ejF+lu6hbbrnFOvvss620tDQrKyvLmjx5svX222+Hj3Mfz1zj\\\n",
              "ZWAsi3tpWZZlsyzL6vzYCQAAgHhhDCAAAIBhCIAAAACGIQACAAAYhgAIAABgGAIgAACAYQiAAAAA\\\n",
              "hiEAAgAAGIYACAAAYBgCIAAAgGEIgAAAAIYhAAIAABiGAAgAAGAYAiAAAIBhCIAAAACGIQACAAAY\\\n",
              "hgAIAABgGAIgAACAYQiAAAAAhiEAAgAAGIYACAAAYBgCIAAAgGEIgAAAAIYhAAIAABiGAAgAAGAY\\\n",
              "AiAAAIBhCIAAAACGIQACAAAYhgAIAABgGAIgAACAYQiAAAAAhiEAAgAAGOb/B5iKyrgylCnYAAAA\\\n",
              "AElFTkSuQmCC\\\n",
              "\"\n",
              "  frames[2] = \"data:image/png;base64,iVBORw0KGgoAAAANSUhEUgAAAoAAAAHgCAYAAAA10dzkAAAAOXRFWHRTb2Z0d2FyZQBNYXRwbG90\\\n",
              "bGliIHZlcnNpb24zLjcuMSwgaHR0cHM6Ly9tYXRwbG90bGliLm9yZy/bCgiHAAAACXBIWXMAAA9h\\\n",
              "AAAPYQGoP6dpAAApPklEQVR4nO3df3BU9aH38U9SyPIruxhcErckiMURGQWnAWXrpddiSi5DO6ZG\\\n",
              "xju3U6Nl7H3ormMIj7cwVbKZUcOgT0W7Kzi9Ldp5ijhMh1idWsugBmcaEOJkLtrClKdiMqwb0lp2\\\n",
              "MdNsaHKeP8KubLIbgvlxsvt9v2Z2Lvs9Z49fzk2zb845ezbPsixLAAAAMEa+3RMAAADAxCIAAQAA\\\n",
              "DEMAAgAAGIYABAAAMAwBCAAAYBgCEAAAwDAEIAAAgGEIQAAAAMMQgAAAAIYhAAEAAAxDAAIAABiG\\\n",
              "AAQAADAMAQgAAGAYAhAAAMAwBCAAAIBhCEAAAADDEIAAAACGIQABAAAMQwACAAAYhgAEAAAwDAEI\\\n",
              "AABgGAIQAADAMAQgAACAYQhAAAAAwxCAAAAAhiEAAQAADEMAAgAAGIYABAAAMAwBCAAAYBgCEAAA\\\n",
              "wDAEIAAAgGEIQAAAAMMQgAAAAIYhAAEAAAxDAAIAABiGAAQAADAMAQgAAGAYAhAAAMAwBCAAAIBh\\\n",
              "CEAAAADDEIAAAACGIQABAAAMQwACAAAYhgAEAAAwDAEIAABgGAIQAADAMAQgAACAYQhAAAAAwxCA\\\n",
              "AAAAhiEAAQAADEMAAgAAGIYABAAAMAwBCAAAYBgCEAAAwDAEIAAAgGEIQAAAAMNMsXsC2ay/v1/h\\\n",
              "cFiFhYXKy8uzezoAAGAELMvS+fPn5fF4lJ9v5rEwAnAUwuGwSktL7Z4GAAD4Ajo6OjRv3jy7p2EL\\\n",
              "AnAUCgsLJQ38ADmdTptnAwAARiIWi6m0tDT5Pm4iAnAUEqd9nU4nAQgAQJYx+fItM098AwAAGIwA\\\n",
              "BAAAMAwBCAAAYBgjAnDbtm3Ky8tTbW1tcqynp0c+n09z5szRrFmzVF1drc7OTvsmCQAAMEFyPgCP\\\n",
              "Hj2qF154QUuWLEkZ37hxo1577TXt27dPzc3NCofDuvvuu22aJewWCAQUCoWGXScUCikQCEzMhAAA\\\n",
              "GEc5/Sngzz77TN/97nf1s5/9TI8//nhyPBqN6uc//7n27NmjVatWSZJ2796tG2+8UYcPH9aKFSvs\\\n",
              "mjJsEAgE1NDQkHzu8/mGrBMKheT3+1NeAwBAtsrpI4A+n09r165VRUVFynhra6suXLiQMr5o0SKV\\\n",
              "lZWppaVloqcJGw2OP7/fP+RI4OD4a2hoIAABAFktZ48A7t27V++//76OHj06ZFkkElFBQYFmz56d\\\n",
              "Ml5cXKxIJJJxm/F4XPF4PPk8FouN2Xwx8QbHX0Ii9nw+35D4S0i8jhAEAGSjnDwC2NHRoYcffli/\\\n",
              "+tWvNG3atDHbbmNjo1wuV/LB18Blr0zxNyBffv8+ffnLj8jv36dM/zPhSCAAIFvlZAC2trbq7Nmz\\\n",
              "+upXv6opU6ZoypQpam5u1nPPPacpU6aouLhYvb29OnfuXMrrOjs7VVJSknG7W7ZsUTQaTT46OjrG\\\n",
              "+W+C8eJ2uzMsqZL0F0nvKBx+StI7kv7fxfEr2Q4AAJNXTp4CvvPOO3X8+PGUsQceeECLFi3Sj370\\\n",
              "I5WWlmrq1Kk6ePCgqqurJUknT55Ue3u7vF5vxu06HA45HI5xnTsmRuKDHqmnd6sk/VpD/1107cXx\\\n",
              "aklNydFgMJj2AyMAAEx2ORmAhYWFuummm1LGZs6cqTlz5iTH169fr7q6OhUVFcnpdOqhhx6S1+vl\\\n",
              "E8AGSY3AfEk7lPmgeGL5byT1E38AgKyWkwE4Es8884zy8/NVXV2teDyuyspKPf/883ZPCxPs8wjc\\\n",
              "J2n+ZdaeL2mlgsF1xB8AIKvlWZZl2T2JbBWLxeRyuRSNRuV0Ou2eDkbhy19+5OI1f8PzeP63zpx5\\\n",
              "egJmBAAYL7x/5+iHQIArEQqFFA4PvV1QOuHwsct+YwgAAJOdsaeAAenSmzznS/pYw58GPi3pXfn9\\\n",
              "zZLSf2MIAADZgCOAMFbqTZ77JdVe/L/p9EvamFye7htDAADIFgQgjJT+Gz6aNHCrl48HjZ/W4FvA\\\n",
              "SEQgACB7cQoYRurq6sqwpEkDt3pZKY9nmcLhY5LeVaYjg5m3AwDA5MURQBgpEAiovr4+w9J+BYPr\\\n",
              "dObM0woG1ylT/NXX1/NVcACArEQAwliZIvDSmzz7fD4Fg8Eh6xB/AIBsRgDCaIMjMN03fAyOQOIP\\\n",
              "AJDtuAYQxkvEnNvtznhrl8R4V1cX8Qcg6wUCgWF/50kDH5bjd17uIgCRe565SYp2DPx52lXS5tOX\\\n",
              "fclIfsFx3z8AuSAQCKihoSH5PN3vtsF3SiACcw+ngJF7EvEnST1/t28eADDJDI6/dLezGhx/DQ0N\\\n",
              "BGAOIgABADDA4PhLuDQC098jlQjMRZwCBgAgx2WKvwH58vv36cknT1/8XvR8pbv9VeL1hGBuIACR\\\n",
              "ewJRu2cAAJOK2+3OsKRK0g5J8xUOJ8ZOa+CrL5uuYDvINpwCBgAgx6W/p2mVpF9Lmj9o/NqL41Up\\\n",
              "o+luk4XsRQACAGCA1AjM18CRv0wZkLqc+Ms9nAIGAMAQiYjz+/dp6JG/weZLWqlgcB3xl4M4AggA\\\n",
              "gEF8Pp88nuUjWtfjWUb85SgCEAAAg4RCoYuf9r28cPjYkPsEIjdwChgAAEN8fp+/fEkfa/jTwKcl\\\n",
              "vSu/v1kS34aUazgCCACAAVJv8twvqVbp7vf3+fKNyeXpvjEE2Y0ABAAgx6X/ho8mSdUaOBJ4qdMX\\\n",
              "x5tSRonA3MIpYAAAclxXV1eGJU2SfiNppTyeZQqHj0l6V5mODGbeDrINRwABAMhxgUBA9fX1GZb2\\\n",
              "KxhcpzNnnlYwuE6Z4q++vp6vgcshBCAAAAbIFIGX3uQ5/TeGEH+5iAAEAMAQgyMw3Td8DI5A4i83\\\n",
              "cQ0gAABZ7P8e/liPNn2QfH5629ph10/EnNvtznhrl8R4V1cX8Zej8izLsuyeRLaKxWJyuVyKRqNy\\\n",
              "Op12TwcAYKDbt72lM+f+kXx+uQAE798Sp4ABAMhqG+74it1TQBbiCOAo8C8IAACyD+/fHAEEAAAw\\\n",
              "DgEIAABgGAIQAADAMAQgAACAYQhAAAAAwxCAAAAAhiEAAQAADEMAAgAAGIYABAAAMAwBCAAAYBgC\\\n",
              "EAAAwDAEIAAAgGFyNgB37typJUuWyOl0yul0yuv16o033kgu7+npkc/n05w5czRr1ixVV1ers7PT\\\n",
              "xhkDAABMjJwNwHnz5mnbtm1qbW3VsWPHtGrVKt1111368MMPJUkbN27Ua6+9pn379qm5uVnhcFh3\\\n",
              "3323zbMGAAAYf3mWZVl2T2KiFBUV6amnntI999wjt9utPXv26J577pEknThxQjfeeKNaWlq0YsWK\\\n",
              "EW0vFovJ5XIpGo3K6XSO59QBAMAY4f07h48AXqqvr0979+5Vd3e3vF6vWltbdeHCBVVUVCTXWbRo\\\n",
              "kcrKytTS0mLjTAEAAMbfFLsnMJ6OHz8ur9ernp4ezZo1S/v379fixYvV1tamgoICzZ49O2X94uJi\\\n",
              "RSKRjNuLx+OKx+PJ57FYbLymDgAAMG5y+gjgDTfcoLa2Nh05ckQbNmxQTU2N/vjHP37h7TU2Nsrl\\\n",
              "ciUfpaWlYzhbAACAiZHTAVhQUKCFCxeqvLxcjY2NWrp0qZ599lmVlJSot7dX586dS1m/s7NTJSUl\\\n",
              "Gbe3ZcsWRaPR5KOjo2Oc/wYAAABjL6cDcLD+/n7F43GVl5dr6tSpOnjwYHLZyZMn1d7eLq/Xm/H1\\\n",
              "DocjeVuZxAMAACDb5Ow1gFu2bNGaNWtUVlam8+fPa8+ePXrnnXf05ptvyuVyaf369aqrq1NRUZGc\\\n",
              "Tqceeugheb3eEX8CGAAAIFvlbACePXtW9913nz755BO5XC4tWbJEb775pr75zW9Kkp555hnl5+er\\\n",
              "urpa8XhclZWVev75522eNQAAwPgz6j6AY437CAEAkH14/zbsGkAAAAAQgAAAAMYhAAEAAAxDAOaI\\\n",
              "QCCgUCg07DqhUEiBQGBiJgQAACatnP0UsEkCgYAaGhqSz30+35B1QqGQ/H5/ymsAAICZOAKY5QbH\\\n",
              "n9/vH3IkcHD8NTQ0EIAAABiMAMxig+Mv4dIIHBx/CUQgAADm4j6Ao2DnfYQyxd+AfEkr5fEsVzh8\\\n",
              "VNK7kvrTrllfX08IAgCMwn0AuQYwa7nd7gxLqiTtkDRf4XBi7LSkjZKarmA7AAAgV3EKOEv5fD4F\\\n",
              "g8FBo1WSfi1p/qDxay+OV6WMBoPBtB8YAQAAuY0AzGKpEZivgSN/mf5fmrqc+AMAwFycAs5yiYjz\\\n",
              "+/dp6JG/weZLWqlgcB3xBwCAwTgCmAN8Pp88nuUjWtfjWUb8AQBgOAIwB4RCoYuf9r28cPjYZb8x\\\n",
              "BAAA5DZOAWe5z+/zly/pYw1/Gvi0pHfl9zdLSv+NIQAAIPdxBDCLpd7kuV9SrTLd729gfGNyebpv\\\n",
              "DAEAAGYgALNU+m/4aJJUrYEjgZc6fXG8KWWUCAQAwEycAs5SXV1dGZY0SfqNBr4JZJnC4WMa7ptA\\\n",
              "Mm8HAADkKo4AZqlAIKD6+voMS/sVDK7TmTNPKxhcJ74GDgAAXIoAzGKZIvDSmzyn/8YQ4g8AAJMR\\\n",
              "gFlucASm+4aPwRFI/AEAYDauAcwBiZhzu90Zb+2SGO/q6iL+AAAwXJ5lWZbdk8hWsVhMLpdL0WhU\\\n",
              "TqdzTLf9p0U3Jv9844k/jem2AQAw2Xi+f2cLTgEDAAAYhgAEAAAwDNcATlKc9gUAAOOFI4AAAACG\\\n",
              "IQABAAAMQwACAAAYhgAEAAAwDAEIAABgGAIQAADAMAQgAACAYQhAAAAAwxCAAAAAhiEAAQAADEMA\\\n",
              "AgAAGIYABAAAMAwBCAAAYBgCEAAAwDAEIAAAgGEIQAAAAMPkbAA2NjZq+fLlKiws1Ny5c1VVVaWT\\\n",
              "J0+mrNPT0yOfz6c5c+Zo1qxZqq6uVmdnp00zBgAAmBg5G4DNzc3y+Xw6fPiwDhw4oAsXLmj16tXq\\\n",
              "7u5OrrNx40a99tpr2rdvn5qbmxUOh3X33XfbOGsAAIDxl2dZlmX3JCZCV1eX5s6dq+bmZn39619X\\\n",
              "NBqV2+3Wnj17dM8990iSTpw4oRtvvFEtLS1asWLFZbcZi8XkcrkUjUbldDrH+68AAADGAO/fOXwE\\\n",
              "cLBoNCpJKioqkiS1trbqwoULqqioSK6zaNEilZWVqaWlJe024vG4YrFYygMAACDbGBGA/f39qq2t\\\n",
              "1e23366bbrpJkhSJRFRQUKDZs2enrFtcXKxIJJJ2O42NjXK5XMlHaWnpeE8dAABgzBkRgD6fTx98\\\n",
              "8IH27t07qu1s2bJF0Wg0+ejo6BijGQIAAEycKXZPYLz5/X69/vrrOnTokObNm5ccLykpUW9vr86d\\\n",
              "O5dyFLCzs1MlJSVpt+VwOORwOMZ7ygAAAOMqZ48AWpYlv9+v/fv366233tKCBQtSlpeXl2vq1Kk6\\\n",
              "ePBgcuzkyZNqb2+X1+ud6OkCAABMmJw9Aujz+bRnzx69+uqrKiwsTF7X53K5NH36dLlcLq1fv151\\\n",
              "dXUqKiqS0+nUQw89JK/XO6JPAAMAAGSrnL0NTF5eXtrx3bt36/7775c0cCPoTZs26eWXX1Y8Hldl\\\n",
              "ZaWef/75jKeAB+Nj5AAAZB/ev3M4ACcCP0AAAGQf3r9z+BpAAAAApEcAAgAAGIYABAAAMAwBCAAA\\\n",
              "YBgCEAAAwDAEIAAAgGEIQAAAAMMQgAAAAIYhAAEAAAxDAAIAABiGAAQAADAMAQgAAGAYAhAAAMAw\\\n",
              "BCAAAIBhCEAAAADDEIAAAACGIQABAAAMQwACAAAYhgAEAAAwDAEIAABgGAIQAADAMAQgAACAYQhA\\\n",
              "AAAAwxCAAAAAhiEAAQAADEMAAgAAGIYABDIIBAIKhULDrhMKhRQIBCZmQgAAjJEpdk8AmIwCgYAa\\\n",
              "GhqSz30+35B1QqGQ/H5/ymsAAMgGHAEEBhkcf36/f8iRwMHx19DQQAACALIGAQhcYnD8JVwagYPj\\\n",
              "L4EIBIArw6U29uEUMHBRpvgbkC+/f5+efPK0wuGjGvi3U/+QtRKv55cVAAyPS23sRQACF7nd7gxL\\\n",
              "qiTtkDRf4XBi7LSkjZKarmA7AAAp/aU2UmoEprvUJvFajB6ngIGLfD6fgsHgoNEqSb+WNH/Q+LUX\\\n",
              "x6tSRoPBYNp/xQIABnCpzeSQZ1mWZfckslUsFpPL5VI0GpXT6bR7Ohgjn//iyZf0Fw2Nv0t9LOk6\\\n",
              "Sf3EHwBcxuUutZFWyuNZfvFSm3eV7lIbSaqvrx9VCPL+zSlgYIhExPn9+zR8/Oni8pUKBtcRfwBw\\\n",
              "GVxqM3lwChhIw+fzyeNZPqJ1PZ5lxB8AjACX2kweBCCQRigUungK4vLC4WOXvY0BAGBAagTma+DI\\\n",
              "X6YcSV1O/I0dTgEDg6ReA/ixhj8NfFrSu/L7myWlv40BACAVl9rYjyOAwCVSP3nWL6lWmS5CHhjf\\\n",
              "mFye7htDAADpcamNvQhA4KL0tx1oklStgSOBlzp9cbwpZZQIBICR4VIbe3EKGLioq6srw5ImSb/R\\\n",
              "wO0JlikcPqbhbk+QeTsAAIlLbSaDnD0CeOjQIX3729+Wx+NRXl6empqaUpZblqWtW7fqmmuu0fTp\\\n",
              "01VRUaE///nP9kwWk0IgEFB9fX2Gpf0KBtfpzJmnFQyu03jdmwoAch2X2kwOORuA3d3dWrp0acYf\\\n",
              "lO3bt+u5557Trl27dOTIEc2cOVOVlZXq6emZ4JliMskUgZd+8iz9bQyIPwC4HC61mTxy9hTwmjVr\\\n",
              "tGbNmrTLLMvSjh079Oijj+quu+6SJP3yl79UcXGxmpqa9O///u8TOVVMMomIS9ytPt1tBz7/BNvA\\\n",
              "LzLiDwAuj0ttJo+cDcDhfPTRR4pEIqqoqEiOuVwu3XbbbWppaSEAkYw5t9ud8XqTxHhXVxfxBwAj\\\n",
              "MPgf2Kn6k7d6GThS2Jx2G/yDe2wYGYCRSESSVFxcnDJeXFycXJZOPB5XPB5PPo/FYuMzQYy5m1+6\\\n",
              "Ofnn4zXHR/SakfyC4WJkALgymSJw8KU2koacLib+xk7OXgM4HhobG+VyuZKP0tJSu6cEAEDWGXy9\\\n",
              "daZLbS693pr4G1tGHgEsKSmRJHV2duqaa65Jjnd2duqWW27J+LotW7aorq4u+TwWixGBAAB8AVxq\\\n",
              "Yy8jA3DBggUqKSnRwYMHk8EXi8V05MgRbdiwIePrHA6HHA7HBM0SY2mkp30BAFfu/9z7rZTnm155\\\n",
              "fUSv41Ib++RsAH722Wc6depU8vlHH32ktrY2FRUVqaysTLW1tXr88cd1/fXXa8GCBXrsscfk8XhU\\\n",
              "VVVl36QBAAAmQM4G4LFjx/SNb3wj+Txx6rampkYvvvii/uu//kvd3d36wQ9+oHPnzulf/uVf9Lvf\\\n",
              "/U7Tpk2za8oAAAATIs+yLMvuSWSrWCwml8ulaDQqp9Np93QAAMAI8P7Np4ABAACMQwACAAAYhgAE\\\n",
              "AAAwDAEIAABgGAIQAADAMAQgAACAYQhAAAAAwxCAAAAAhiEAAQAADEMAAgAAGIYABAAAMAwBCAAA\\\n",
              "YBgCEAAAwDAEIAAAgGEIQAAAAMMQgAAAAIYhAAEAAAxDAAIAABiGAAQAADAMAQgAAGAYAhAAAMAw\\\n",
              "BCAAAIBhCEAAAADDEIAAAACGIQABAAAMQwACAAAYhgAEAAAwDAEIAABgGAIQAADAMAQgAACAYQhA\\\n",
              "AAAAwxCAAAAAhiEAAQAADEMAAgAAGIYABAAAMAwBCAAAYBgCEAAAwDAEIAAAgGEIQAAAAMMQgAAA\\\n",
              "AIYhAAEAAAxDAAIAABjG+AAMhUK69tprNW3aNN12221677337J4SAADAuDI6AF955RXV1dWpvr5e\\\n",
              "77//vpYuXarKykqdPXvW7qkBAACMG6MD8Cc/+YkefPBBPfDAA1q8eLF27dqlGTNm6Be/+IXdUwMA\\\n",
              "ABg3xgZgb2+vWltbVVFRkRzLz89XRUWFWlpabJwZAADA+Jpi9wTs8te//lV9fX0qLi5OGS8uLtaJ\\\n",
              "EyfSviYejysejyefx2KxcZ0jAADAeDD2COAX0djYKJfLlXyUlpbaPSUAAIArZmwAXn311frSl76k\\\n",
              "zs7OlPHOzk6VlJSkfc2WLVsUjUaTj46OjomYKgAAwJgyNgALCgpUXl6ugwcPJsf6+/t18OBBeb3e\\\n",
              "tK9xOBxyOp0pDwAAgGxj7DWAklRXV6eamhotW7ZMt956q3bs2KHu7m498MADdk8NAABg3BgdgPfe\\\n",
              "e6+6urq0detWRSIR3XLLLfrd73435IMhAAAAuSTPsizL7klkq1gsJpfLpWg0yulgAACyBO/fBl8D\\\n",
              "CAAAYCoCEAAAwDAEIAAAgGEIQAAAAMMQgAAAAIYhAAEAAAxDAAIAABiGAAQAADAMAQgAAGAYAhAA\\\n",
              "AMAwBCAAAIBhCEAAAADDEIAAAACGIQABAAAMQwACAAAYhgAEAAAwDAEIAABgGAIQAADAMAQgAACA\\\n",
              "YQhAAAAAwxCAAAAAhiEAAQAADEMAAgAAGIYABAAAMAwBCAAAYBgCEAAAwDAEIAAAgGEIQAAAAMMQ\\\n",
              "gAAAAIYhAAEAAAxDAAIAABiGAAQAADAMAQgAAGAYAhAAAMAwBCAAAIBhCEAAAADDEIAAAACGIQAB\\\n",
              "AAAMQwACAAAYhgAEAAAwDAEIAABgGAIQAADAMDkZgE888YS+9rWvacaMGZo9e3baddrb27V27VrN\\\n",
              "mDFDc+fO1SOPPKJ//vOfEztRAAAAG0yxewLjobe3V+vWrZPX69XPf/7zIcv7+vq0du1alZSU6A9/\\\n",
              "+IM++eQT3XfffZo6daqefPJJG2YMAAAwcfIsy7LsnsR4efHFF1VbW6tz586ljL/xxhv61re+pXA4\\\n",
              "rOLiYknSrl279KMf/UhdXV0qKCgY0fZjsZhcLpei0aicTudYTx8AAIwD3r9z9BTw5bS0tOjmm29O\\\n",
              "xp8kVVZWKhaL6cMPP8z4ung8rlgslvIAAADINkYGYCQSSYk/ScnnkUgk4+saGxvlcrmSj9LS0nGd\\\n",
              "JwAAwHjImgDcvHmz8vLyhn2cOHFiXOewZcsWRaPR5KOjo2Nc/3sAAADjIWs+BLJp0ybdf//9w65z\\\n",
              "3XXXjWhbJSUleu+991LGOjs7k8sycTgccjgcI/pvAAAATFZZE4But1tut3tMtuX1evXEE0/o7Nmz\\\n",
              "mjt3riTpwIEDcjqdWrx48Zj8NwAAACarrAnAK9He3q5PP/1U7e3t6uvrU1tbmyRp4cKFmjVrllav\\\n",
              "Xq3Fixfre9/7nrZv365IJKJHH31UPp+PI3wAACDn5eRtYO6//3699NJLQ8bffvtt3XHHHZKkjz/+\\\n",
              "WBs2bNA777yjmTNnqqamRtu2bdOUKSNvYj5GDgBA9uH9O0cDcKLwAwQAQPbh/TuLPgUMAACAsUEA\\\n",
              "AgAAGIYABAAAMAwBCAAAYBgCEAAAwDAEIAAAgGEIQAAAAMMQgAAAAIYhAAEAAAxDAAIAABiGAAQA\\\n",
              "ADAMAQgAAGAYAhAAAMAwBCAAAIBhCEAAAADDEIAAAACGIQABAAAMQwACAAAYhgAEAAAwDAEIAABg\\\n",
              "GAIQAADAMAQgAACAYQhAAAAAwxCAAAAAhiEAAQAADEMAAgAAGIYABAAAMAwBCAAAYBgCEAAAwDAE\\\n",
              "IAAAgGEIQAAAAMMQgAAAAIYhAAEAAAxDAAIAABiGAAQAADAMAQgAAGAYAhAAAMAwBCAAAIBhCEAA\\\n",
              "AADDEIAAAACGIQABAAAMk5MBePr0aa1fv14LFizQ9OnT9ZWvfEX19fXq7e1NWe9//ud/tHLlSk2b\\\n",
              "Nk2lpaXavn27TTMGAACYOFPsnsB4OHHihPr7+/XCCy9o4cKF+uCDD/Tggw+qu7tbTz/9tCQpFotp\\\n",
              "9erVqqio0K5du3T8+HF9//vf1+zZs/WDH/zA5r8BAADA+MmzLMuyexIT4amnntLOnTv1l7/8RZK0\\\n",
              "c+dO/fjHP1YkElFBQYEkafPmzWpqatKJEydGtM1YLCaXy6VoNCqn0zlucwcAAGOH9+8cPQWcTjQa\\\n",
              "VVFRUfJ5S0uLvv71ryfjT5IqKyt18uRJ/f3vf7djigAAABPCiAA8deqUfvrTn+o///M/k2ORSETF\\\n",
              "xcUp6yWeRyKRtNuJx+OKxWIpDwAAgGyTVQG4efNm5eXlDfsYfPr2zJkz+rd/+zetW7dODz744Kj+\\\n",
              "+42NjXK5XMlHaWnpqLYHAABgh6y6BrCrq0t/+9vfhl3nuuuuS57WDYfDuuOOO7RixQq9+OKLys//\\\n",
              "vHfvu+8+xWIxNTU1JcfefvttrVq1Sp9++qmuuuqqIduOx+OKx+PJ57FYTKWlpUZfQwAAQLbhGsAs\\\n",
              "+xSw2+2W2+0e0bpnzpzRN77xDZWXl2v37t0p8SdJXq9XP/7xj3XhwgVNnTpVknTgwAHdcMMNaeNP\\\n",
              "khwOhxwOx+j+EgAAADbLqlPAI3XmzBndcccdKisr09NPP62uri5FIpGUa/v+4z/+QwUFBVq/fr0+\\\n",
              "/PBDvfLKK3r22WdVV1dn48wBAADGX1YdARypAwcO6NSpUzp16pTmzZuXsixxxtvlcun3v/+9fD6f\\\n",
              "ysvLdfXVV2vr1q3cAxAAAOS8rLoGcLLhGgIAALIP7985egoYAAAAmRGAAADAdoFAQKFQaNh1QqGQ\\\n",
              "AoHAxEwox+XkNYAAACB7BAIBNTQ0JJ/7fL4h64RCIfn9/pTX4IvjCCAAALDN4Pjz+/1DjgQOjr+G\\\n",
              "hgYCcJQIQAAAYIvB8ZdwaQQOjr8EInB0+BTwKPApIgAAvphM8TcgX9JKeTzLFQ4flfSupP60a9bX\\\n",
              "119xCPL+zTWAAADABpm/2atK0g5J8xUOJ8ZOS9ooqekKtoPhcAoYAABMOJ/Pp2AwOGi0StKvJc0f\\\n",
              "NH7txfGqlNFgMJj2AyO4PAIQAADYIjUC8zVw5C9TmqQuJ/5Gh1PAAADANomI8/v3aeiRv8HmS1qp\\\n",
              "YHAd8TdKHAEEAAC28vl88niWj2hdj2cZ8TcGCEAAAGCrUCh08dO+lxcOH7vsN4bg8jgFDAAAbPP5\\\n",
              "ff7yJX2s4U8Dn5b0rvz+ZknpvzEEI8MRQAAAYIvUmzz3S6pVpvv9DYxvTC5P940hGDkCEAAATLj0\\\n",
              "3/DRJKlaA0cCL3X64nhTyigR+MVxChgAAEy4rq6uDEuaJP1GA98Eskzh8DEN900gmbeD4XAEEAAA\\\n",
              "TLhAIKD6+voMS/sVDK7TmTNPKxhcp7H8GjgMIAABAIAtMkXgpTd5Tv+NIcTfaHEKGAAAjLnQ/3or\\\n",
              "5blv16q06yUirqGhQVL6b/j4/GbRA9cMEn+jRwACAABbJWLO7XZnvLVLYryrq4v4GwMEIAAAsN1I\\\n",
              "oo77/o0dAhAAAIy5TKd8MTnwIRAAAADDEIAAAACGIQABAAAMQwACAAAYhgAEAAAwDAEIAABgGAIQ\\\n",
              "AADAMAQgAACAYQhAAAAAwxCAAAAAhiEAAQAADEMAAgAAGIYABAAAMMwUuyeQzSzLkiTFYjGbZwIA\\\n",
              "AEYq8b6deB83EQE4CufPn5cklZaW2jwTAABwpc6fPy+Xy2X3NGyRZ5mcv6PU39+vcDiswsJC5eXl\\\n",
              "2T2dSSUWi6m0tFQdHR1yOp12TycnsE/HFvtz7LFPxxb7c+wl9ml7e7vy8vLk8XiUn2/m1XAcARyF\\\n",
              "/Px8zZs3z+5pTGpOp5NfXGOMfTq22J9jj306ttifY8/lchm/T83MXgAAAIMRgAAAAIYhADEuHA6H\\\n",
              "6uvr5XA47J5KzmCfji3259hjn44t9ufYY59+jg+BAAAAGIYjgAAAAIYhAAEAAAxDAAIAABiGAAQA\\\n",
              "ADAMAYgx98QTT+hrX/uaZsyYodmzZ6ddp729XWvXrtWMGTM0d+5cPfLII/rnP/85sRPNIqFQSNde\\\n",
              "e62mTZum2267Te+9957dU8oahw4d0re//W15PB7l5eWpqakpZbllWdq6dauuueYaTZ8+XRUVFfrz\\\n",
              "n/9sz2SzQGNjo5YvX67CwkLNnTtXVVVVOnnyZMo6PT098vl8mjNnjmbNmqXq6mp1dnbaNOPJb+fO\\\n",
              "nVqyZEnyhs9er1dvvPFGcjn7c3S2bdumvLw81dbWJsfYpwQgxkFvb6/WrVunDRs2pF3e19entWvX\\\n",
              "qre3V3/4wx/00ksv6cUXX9TWrVsneKbZ4ZVXXlFdXZ3q6+v1/vvva+nSpaqsrNTZs2ftnlpW6O7u\\\n",
              "1tKlSxUKhdIu3759u5577jnt2rVLR44c0cyZM1VZWamenp4Jnml2aG5uls/n0+HDh3XgwAFduHBB\\\n",
              "q1evVnd3d3KdjRs36rXXXtO+ffvU3NyscDisu+++28ZZT27z5s3Ttm3b1NraqmPHjmnVqlW66667\\\n",
              "9OGHH0pif47G0aNH9cILL2jJkiUp4+xTSRYwTnbv3m25XK4h47/97W+t/Px8KxKJJMd27txpOZ1O\\\n",
              "Kx6PT+AMs8Ott95q+Xy+5PO+vj7L4/FYjY2NNs4qO0my9u/fn3ze399vlZSUWE899VRy7Ny5c5bD\\\n",
              "4bBefvllG2aYfc6ePWtJspqbmy3LGth/U6dOtfbt25dc509/+pMlyWppabFrmlnnqquusv77v/+b\\\n",
              "/TkK58+ft66//nrrwIED1r/+679aDz/8sGVZ/IwmcAQQE66lpUU333yziouLk2OVlZWKxWLJf/Fi\\\n",
              "QG9vr1pbW1VRUZEcy8/PV0VFhVpaWmycWW746KOPFIlEUvavy+XSbbfdxv4doWg0KkkqKiqSJLW2\\\n",
              "turChQsp+3TRokUqKytjn45AX1+f9u7dq+7ubnm9XvbnKPh8Pq1duzZl30n8jCZMsXsCME8kEkmJ\\\n",
              "P0nJ55FIxI4pTVp//etf1dfXl3Z/nThxwqZZ5Y7Ez1u6/cvP4uX19/ertrZWt99+u2666SZJA/u0\\\n",
              "oKBgyPW/7NPhHT9+XF6vVz09PZo1a5b279+vxYsXq62tjf35Bezdu1fvv/++jh49OmQZP6MDOAKI\\\n",
              "Edm8ebPy8vKGfRAkgFl8Pp8++OAD7d271+6pZL0bbrhBbW1tOnLkiDZs2KCamhr98Y9/tHtaWamj\\\n",
              "o0MPP/ywfvWrX2natGl2T2fS4gggRmTTpk26//77h13nuuuuG9G2SkpKhnyKNfHpq5KSki80v1x1\\\n",
              "9dVX60tf+tKQT6d1dnayr8ZAYh92dnbqmmuuSY53dnbqlltusWlW2cHv9+v111/XoUOHNG/evOR4\\\n",
              "SUmJent7de7cuZQjLPzMDq+goEALFy6UJJWXl+vo0aN69tlnde+997I/r1Bra6vOnj2rr371q8mx\\\n",
              "vr4+HTp0SMFgUG+++Sb7VBwBxAi53W4tWrRo2EdBQcGItuX1enX8+PGUT7EeOHBATqdTixcvHq+/\\\n",
              "QlYqKChQeXm5Dh48mBzr7+/XwYMH5fV6bZxZbliwYIFKSkpS9m8sFtORI0fYvxlYliW/36/9+/fr\\\n",
              "rbfe0oIFC1KWl5eXa+rUqSn79OTJk2pvb2efXoH+/n7F43H25xdw55136vjx42pra0s+li1bpu9+\\\n",
              "97vJP7NPOQKIcdDe3q5PP/1U7e3t6uvrU1tbmyRp4cKFmjVrllavXq3Fixfre9/7nrZv365IJKJH\\\n",
              "H31UPp9PDofD3slPQnV1daqpqdGyZct06623aseOHeru7tYDDzxg99SywmeffaZTp04ln3/00Udq\\\n",
              "a2tTUVGRysrKVFtbq8cff1zXX3+9FixYoMcee0wej0dVVVX2TXoS8/l82rNnj1599VUVFhYmr5ly\\\n",
              "uVyaPn26XC6X1q9fr7q6OhUVFcnpdOqhhx6S1+vVihUrbJ795LRlyxatWbNGZWVlOn/+vPbs2aN3\\\n",
              "3nlHb775JvvzCygsLExek5owc+ZMzZkzJznOPhW3gcHYq6mpsSQNebz99tvJdU6fPm2tWbPGmj59\\\n",
              "unX11VdbmzZtsi5cuGDfpCe5n/70p1ZZWZlVUFBg3Xrrrdbhw4ftnlLWePvtt9P+PNbU1FiWNXAr\\\n",
              "mMcee8wqLi62HA6Hdeedd1onT560d9KTWLp9KcnavXt3cp1//OMf1g9/+EPrqquusmbMmGF95zvf\\\n",
              "sT755BP7Jj3Jff/737fmz59vFRQUWG6327rzzjut3//+98nl7M/Ru/Q2MJbFPrUsy8qzLMua+OwE\\\n",
              "AACAXbgGEAAAwDAEIAAAgGEIQAAAAMMQgAAAAIYhAAEAAAxDAAIAABiGAAQAADAMAQgAAGAYAhAA\\\n",
              "AMAwBCAAAIBhCEAAAADDEIAAAACGIQABAAAMQwACAAAYhgAEAAAwDAEIAABgGAIQAADAMAQgAACA\\\n",
              "YQhAAAAAwxCAAAAAhiEAAQAADEMAAgAAGIYABAAAMAwBCAAAYBgCEAAAwDAEIAAAgGEIQAAAAMMQ\\\n",
              "gAAAAIYhAAEAAAxDAAIAABiGAAQAADDM/wfUtL5duvwDVAAAAABJRU5ErkJggg==\\\n",
              "\"\n",
              "  frames[3] = \"data:image/png;base64,iVBORw0KGgoAAAANSUhEUgAAAoAAAAHgCAYAAAA10dzkAAAAOXRFWHRTb2Z0d2FyZQBNYXRwbG90\\\n",
              "bGliIHZlcnNpb24zLjcuMSwgaHR0cHM6Ly9tYXRwbG90bGliLm9yZy/bCgiHAAAACXBIWXMAAA9h\\\n",
              "AAAPYQGoP6dpAAAo8ElEQVR4nO3df2xT96H38U8yiPkVm4aauBkJpaMqRS1UC7R1N3bXNiMXsalZ\\\n",
              "U9SrO22hQ919uHbVEJ7eEa0ljtQ2iPbZaGcXeveDdtIYFZrI1j636xBtQ6WlFFJFl3YDjWeliXAd\\\n",
              "Mu1i02g4LDnPH8EuTuwQSJwT+/t+SdbF33N8+uXcLH5zzvFxgWVZlgAAAGCMQrsnAAAAgMlFAAIA\\\n",
              "ABiGAAQAADAMAQgAAGAYAhAAAMAwBCAAAIBhCEAAAADDEIAAAACGIQABAAAMQwACAAAYhgAEAAAw\\\n",
              "DAEIAABgGAIQAADAMAQgAACAYQhAAAAAwxCAAAAAhiEAAQAADEMAAgAAGIYABAAAMAwBCAAAYBgC\\\n",
              "EAAAwDAEIAAAgGEIQAAAAMMQgAAAAIYhAAEAAAxDAAIAABiGAAQAADAMAQgAAGAYAhAAAMAwBCAA\\\n",
              "AIBhCEAAAADDEIAAAACGIQABAAAMQwACAAAYhgAEAAAwDAEIAABgGAIQAADAMAQgAACAYQhAAAAA\\\n",
              "wxCAAAAAhiEAAQAADEMAAgAAGIYABAAAMAwBCAAAYBgCEAAAwDAEIAAAgGEIQAAAAMMQgAAAAIYh\\\n",
              "AAEAAAxDAAIAABiGAAQAADAMAQgAAGAYAhAAAMAwBCAAAIBhCEAAAADDEIAAAACGmWb3BHLZ4OCg\\\n",
              "wuGwiouLVVBQYPd0AADAGFiWpXPnzqmsrEyFhWYeCyMAxyEcDqu8vNzuaQAAgKvQ3d2tBQsW2D0N\\\n",
              "WxCA41BcXCxp6AfI6XTaPBsAADAWsVhM5eXlyfdxExGA45A47et0OglAAAByjMmXb5l54hsAAMBg\\\n",
              "BCAAAIBhCEAAAADDGBGA27ZtU0FBgerr65Nj58+fl8/n07x58zRnzhzV1taqp6fHvkkCAABMkrwP\\\n",
              "wCNHjujFF1/UsmXLUsY3bdqkV199Vfv27VNbW5vC4bDuv/9+m2YJuwUCAYVCoVHXCYVCCgQCkzMh\\\n",
              "AACyKK8/Bfzpp5/qW9/6ln7yk5/oySefTI5Ho1H97Gc/0549e3TPPfdIknbv3q2bb75Z7777ru68\\\n",
              "8067pgwbBAIBNTc3J5/7fL4R64RCIfn9/pTXAACQq/L6CKDP59PatWtVVVWVMt7R0aELFy6kjC9Z\\\n",
              "skQVFRVqb2+f7GnCRsPjz+/3jzgSODz+mpubCUAAQE7L2yOAe/fu1fvvv68jR46MWBaJRFRUVKS5\\\n",
              "c+emjJeWlioSiWTcZjweVzweTz6PxWITNl9MvuHxl5CIPZ/PNyL+EhKvIwQBALkoL48Adnd369FH\\\n",
              "H9Uvf/lLzZgxY8K229LSIpfLlXzwNXC5K1P8DSmU379Pn//8Y/L79ynT/0w4EggAyFV5GYAdHR06\\\n",
              "c+aMvvjFL2ratGmaNm2a2tra9Pzzz2vatGkqLS1Vf3+/zp49m/K6np4eeTyejNttbGxUNBpNPrq7\\\n",
              "u7P8N0G2uN3uDEtqJP1F0tsKh5+R9Lak/3dx/Eq2AwDA1JWXp4DvvfdeHTt2LGXsoYce0pIlS/T9\\\n",
              "739f5eXlmj59ug4ePKja2lpJ0okTJ9TV1SWv15txuw6HQw6HI6tzx+RIfNAj9fRujaRfa+S/i66/\\\n",
              "OF4rqTU5GgwG035gBACAqS4vA7C4uFi33HJLytjs2bM1b9685PiGDRvU0NCgkpISOZ1OPfLII/J6\\\n",
              "vXwC2CCpEVgoaYcyHxRPLP+tpEHiDwCQ0/IyAMfiRz/6kQoLC1VbW6t4PK7q6mq98MILdk8Lk+yz\\\n",
              "CNwnaeFl1l4oaZWCwXXEHwAgpxVYlmXZPYlcFYvF5HK5FI1G5XQ67Z4OxuHzn3/s4jV/oysr+986\\\n",
              "ffrZSZgRACBbeP/O0w+BAFciFAopHB55u6B0wuGjl/3GEAAApjpjTwED0qU3eS6U9LFGPw18StI7\\\n",
              "8vvbJKX/xhAAAHIBRwBhrNSbPA9Kqr/4f9MZlLQpuTzdN4YAAJArCEAYKf03fLRq6FYvHw8bP6Xh\\\n",
              "t4CRiEAAQO7iFDCM1Nvbm2FJq4Zu9bJKZWUrFA4flfSOMh0ZzLwdAACmLo4AwkiBQEBNTU0Zlg4q\\\n",
              "GFyn06efVTC4Tpnir6mpia+CAwDkJAIQxsoUgZfe5Nnn8ykYDI5Yh/gDAOQyAhBGGx6B6b7hY3gE\\\n",
              "En8AgFzHNYAwXiLm3G53xlu7JMZ7e3uJPwA5LxAIjPo7Txr6sBy/8/IXAQhIY/oFx33/AOSDQCCg\\\n",
              "5ubm5PN0v9uG3ymBCMw/BCDyT8B1yZ+j9s0DAKaY4fGXiLxLI3B4/CXWJwLzC9cAAgBggOHxl3Dp\\\n",
              "PU3T3yN1KAIJwPzCEUAAAPJcpvgbUii/f5+efvrUxe9FL1S6219xJDC/EIDIP5z2BYAUbrc7w5Ia\\\n",
              "STskLVQ4nBg7paGvvmy9gu0g13AKGACAPJf+nqY1kn4taeGw8esvjtekjKa7TRZyFwEIAIABUiOw\\\n",
              "UENH/jJlQOpy4i//cAoYAABDJCLO79+nkUf+hlsoaZWCwXXEXx7iCCAAAAbx+XwqK1s5pnXLylYQ\\\n",
              "f3mKAAQAwCChUOjip30vLxw+mrxFDPILp4ABADDEZ/f5K5T0sUY/DXxK0jvy+9sk8W1I+YYjgAAA\\\n",
              "GCD1Js+DkuqV7n5/ny3flFx+6c2ikR8IQAAA8lz6b/holVSroSOBlzp1cbw1ZZQIzC+cAgYAIM/1\\\n",
              "9vZmWNIq6beSVqmsbIXC4aOS3lGmI4OZt4NcwxFAAADyXCAQUFNTU4algwoG1+n06WcVDK5Tpvhr\\\n",
              "amria+DyCAEIAIABMkXgpTd5Tv+NIcRfPiIAAQAwxPAITPcNH8MjkPjLT1wDCABAjrt+y/9N/vnU\\\n",
              "trWjrpuIObfbnfHWLonx3t5e4i9PEYAAABhmLFHHff/yG6eAAQAADMMRQAAActzlTvsCw3EEEAAA\\\n",
              "wDAEIAAAgGEIQAAAAMMQgAAAAIYhAAEAAAxDAAIAABiGAAQAADAMAQgAAGAYAhAAAMAwBCAAAIBh\\\n",
              "CEAAAADDEIAAAACGydsA3Llzp5YtWyan0ymn0ymv16vXX389ufz8+fPy+XyaN2+e5syZo9raWvX0\\\n",
              "9Ng4YwAAgMmRtwG4YMECbdu2TR0dHTp69Kjuuece3Xffffrwww8lSZs2bdKrr76qffv2qa2tTeFw\\\n",
              "WPfff7/NswYAAMi+AsuyLLsnMVlKSkr0zDPP6IEHHpDb7daePXv0wAMPSJKOHz+um2++We3t7brz\\\n",
              "zjvHtL1YLCaXy6VoNCqn05nNqQMAgAnC+3ceHwG81MDAgPbu3au+vj55vV51dHTowoULqqqqSq6z\\\n",
              "ZMkSVVRUqL293caZAgAAZN80uyeQTceOHZPX69X58+c1Z84c7d+/X0uXLlVnZ6eKioo0d+7clPVL\\\n",
              "S0sViUQybi8ejysejyefx2KxbE0dAAAga/L6COBNN92kzs5OHT58WBs3blRdXZ3++Mc/XvX2Wlpa\\\n",
              "5HK5ko/y8vIJnC0AAMDkyOsALCoq0uLFi1VZWamWlhYtX75czz33nDwej/r7+3X27NmU9Xt6euTx\\\n",
              "eDJur7GxUdFoNPno7u7O8t8AAABg4uV1AA43ODioeDyuyspKTZ8+XQcPHkwuO3HihLq6uuT1ejO+\\\n",
              "3uFwJG8rk3gAAADkmry9BrCxsVFr1qxRRUWFzp07pz179ujtt9/WG2+8IZfLpQ0bNqihoUElJSVy\\\n",
              "Op165JFH5PV6x/wJYAAAgFyVtwF45swZfec739Enn3wil8ulZcuW6Y033tDXvvY1SdKPfvQjFRYW\\\n",
              "qra2VvF4XNXV1XrhhRdsnjUAAED2GXUfwInGfYQAAMg9vH8bdg0gAAAACEAAAADjEIAAAACGIQDz\\\n",
              "RCAQUCgUGnWdUCikQCAwORMCAABTVt5+CtgkgUBAzc3Nyec+n2/EOqFQSH6/P+U1AADATBwBzHHD\\\n",
              "48/v9484Ejg8/pqbmwlAAAAMRgDmsOHxl3BpBA6PvwQiEAAAc3EfwHGw8z5CmeJvSKGkVSorW6lw\\\n",
              "+IikdyQNpl2zqamJEAQAGIX7AHINYM5yu90ZltRI2iFpocLhxNgpSZsktV7BdgAAQL7iFHCO8vl8\\\n",
              "CgaDw0ZrJP1a0sJh49dfHK9JGQ0Gg2k/MAIAAPIbAZjDUiOwUENH/jL9vzR1OfEHAIC5OAWc4xIR\\\n",
              "5/fv08gjf8MtlLRKweA64g8AAINxBDAP+Hw+lZWtHNO6ZWUriD8AAAxHAOaBUCh08dO+lxcOH73s\\\n",
              "N4YAAID8xingHPfZff4KJX2s0U8Dn5L0jvz+NknpvzEEAADkP44A5rDUmzwPSqpXpvv9DY1vSi5P\\\n",
              "940hAADADARgjkr/DR+tkmo1dCTwUqcujremjBKBAACYiVPAOaq3tzfDklZJv9XQN4GsUDh8VKN9\\\n",
              "E0jm7QAAgHzFEcAcFQgE1NTUlGHpoILBdTp9+lkFg+vE18ABAIBLEYA5LFMEXnqT5/TfGEL8AQBg\\\n",
              "MgIwxw2PwHTf8DE8Aok/AADMxjWAeSARc263O+OtXRLjvb29xB8AAIYrsCzLsnsSuSoWi8nlcika\\\n",
              "jcrpdE7otv+05Obkn28+/qcJ3TYAACbL5vt3ruAUMAAAgGEIQAAAAMNwDeAUxWlfAACQLRwBBAAA\\\n",
              "MAwBCAAAYBgCEAAAwDAEIAAAgGEIQAAAAMMQgAAAAIYhAAEAAAxDAAIAABiGAAQAADAMAQgAAGAY\\\n",
              "AhAAAMAwBCAAAIBhCEAAAADDEIAAAACGIQABAAAMQwACAAAYJm8DsKWlRStXrlRxcbHmz5+vmpoa\\\n",
              "nThxImWd8+fPy+fzad68eZozZ45qa2vV09Nj04wBAAAmR94GYFtbm3w+n959910dOHBAFy5c0OrV\\\n",
              "q9XX15dcZ9OmTXr11Ve1b98+tbW1KRwO6/7777dx1gAAANlXYFmWZfckJkNvb6/mz5+vtrY2feUr\\\n",
              "X1E0GpXb7daePXv0wAMPSJKOHz+um2++We3t7brzzjsvu81YLCaXy6VoNCqn05ntvwIAAJgAvH/n\\\n",
              "8RHA4aLRqCSppKREktTR0aELFy6oqqoquc6SJUtUUVGh9vb2tNuIx+OKxWIpDwAAgFxjRAAODg6q\\\n",
              "vr5eX/rSl3TLLbdIkiKRiIqKijR37tyUdUtLSxWJRNJup6WlRS6XK/koLy/P9tQBAAAmnBEB6PP5\\\n",
              "9MEHH2jv3r3j2k5jY6Oi0Wjy0d3dPUEzBAAAmDzT7J5Atvn9fr322ms6dOiQFixYkBz3eDzq7+/X\\\n",
              "2bNnU44C9vT0yOPxpN2Ww+GQw+HI9pQBAACyKm+PAFqWJb/fr/379+vNN9/UokWLUpZXVlZq+vTp\\\n",
              "OnjwYHLsxIkT6urqktfrnezpAgAATJq8PQLo8/m0Z88e/eY3v1FxcXHyuj6Xy6WZM2fK5XJpw4YN\\\n",
              "amhoUElJiZxOpx555BF5vd4xfQIYAAAgV+XtbWAKCgrSju/evVvr16+XNHQj6M2bN+tXv/qV4vG4\\\n",
              "qqur9cILL2Q8BTwcHyMHACD38P6dxwE4GfgBAgAg9/D+ncfXAAIAACA9AhAAAMAwBCAAAIBhCEAA\\\n",
              "AADDEIAAAACGIQABAAAMQwACAAAYhgAEAAAwDAEIAABgGAIQAADAMAQgAACAYQhAAAAAwxCAAAAA\\\n",
              "hiEAAQAADEMAAgAAGIYABAAAMAwBCAAAYBgCEAAAwDAEIAAAgGEIQAAAAMMQgAAAAIYhAAEAAAxD\\\n",
              "AAIAABiGAAQAADAMAQgAAGAYAhAAAMAwBCCQQSAQUCgUGnWdUCikQCAwORMCAGCCTLN7AsBUFAgE\\\n",
              "1NzcnHzu8/lGrBMKheT3+1NeAwBALuAIIDDM8Pjz+/0jjgQOj7/m5mYCEACQMwhA4BLD4y/h0ggc\\\n",
              "Hn8JRCAAXBkutbEPp4CBizLF35BC+f379PTTpxQOH9HQv50GR6yVeD2/rABgdFxqYy8CELjI7XZn\\\n",
              "WFIjaYekhQqHE2OnJG2S1HoF2wEASOkvtZFSIzDdpTaJ12L8OAUMXOTz+RQMBoeN1kj6taSFw8av\\\n",
              "vzhekzIaDAbT/isWADCES22mhgLLsiy7J5GrYrGYXC6XotGonE6n3dPBBPnsF0+hpL9oZPxd6mNJ\\\n",
              "N0gaJP4A4DIud6mNtEplZSsvXmrzjtJdaiNJTU1N4wpB3r85BQyMkIg4v3+fRo8/XVy+SsHgOuIP\\\n",
              "AC6DS22mDk4BA2n4fD6Vla0c07plZSuIPwAYAy61mToIQCCNUCh08RTE5YXDRy97GwMAwJDUCCzU\\\n",
              "0JG/TDmSupz4mzicAgaGSb0G8GONfhr4lKR35Pe3SUp/GwMAQCoutbEfRwCBS6R+8mxQUr0yXYQ8\\\n",
              "NL4puTzdN4YAANLjUht7EYDARelvO9AqqVZDRwIvderieGvKKBEIAGPDpTb24hQwcFFvb2+GJa2S\\\n",
              "fquh2xOsUDh8VKPdniDzdgAAEpfaTAV5ewTw0KFD+sY3vqGysjIVFBSotbU1ZbllWdq6dauuu+46\\\n",
              "zZw5U1VVVfrzn/9sz2QxJQQCATU1NWVYOqhgcJ1On35WweA6ZeveVACQ77jUZmrI2wDs6+vT8uXL\\\n",
              "M/6gbN++Xc8//7x27dqlw4cPa/bs2aqurtb58+cneaaYSjJF4KWfPEt/GwPiDwAuh0ttpo68PQW8\\\n",
              "Zs0arVmzJu0yy7K0Y8cOPf7447rvvvskSb/4xS9UWlqq1tZW/cu//MtkThVTTCLiEnerT3fbgc8+\\\n",
              "wTb0i4z4A4DL41KbqSNvA3A0H330kSKRiKqqqpJjLpdLd9xxh9rb2wlAJGPO7XZnvN4kMd7b20v8\\\n",
              "AcAYDP8HdqrB5K1eho4UtqXdBv/gnhhGBmAkEpEklZaWpoyXlpYml6UTj8cVj8eTz2OxWHYmiAl3\\\n",
              "68u3Jv98rO7YmF4zll8wXIwMAFcmUwQOv9RG0ojTxcTfxMnbawCzoaWlRS6XK/koLy+3e0oAAOSc\\\n",
              "4ddbZ7rU5tLrrYm/iWXkEUCPxyNJ6unp0XXXXZcc7+np0W233ZbxdY2NjWpoaEg+j8ViRCAAAFeB\\\n",
              "S23sZWQALlq0SB6PRwcPHkwGXywW0+HDh7Vx48aMr3M4HHI4HJM0S0yksZ72BQBcnf/z4NeTf978\\\n",
              "ymtjeg2X2tgnbwPw008/1cmTJ5PPP/roI3V2dqqkpEQVFRWqr6/Xk08+qRtvvFGLFi3SE088obKy\\\n",
              "MtXU1Ng3aQAAgEmQtwF49OhR3X333cnniVO3dXV1eumll/Qf//Ef6uvr0/e+9z2dPXtWX/7yl/W7\\\n",
              "3/1OM2bMsGvKAAAAk6LAsizL7knkqlgsJpfLpWg0KqfTafd0AADAGPD+zaeAAQAAjEMAAgAAGIYA\\\n",
              "BAAAMAwBCAAAYBgCEAAAwDAEIAAAgGEIQAAAAMMQgAAAAIYhAAEAAAxDAAIAABiGAAQAADAMAQgA\\\n",
              "AGAYAhAAAMAwBCAAAIBhCEAAAADDEIAAAACGIQABAAAMQwACAAAYhgAEAAAwDAEIAABgGAIQAADA\\\n",
              "MAQgAACAYQhAAAAAwxCAAAAAhiEAAQAADEMAAgAAGIYABAAAMAwBCAAAYBgCEAAAwDAEIAAAgGEI\\\n",
              "QAAAAMMQgAAAAIYhAAEAAAxDAAIAABiGAAQAADAMAQgAAGAYAhAAAMAwBCAAAIBhCEAAAADDEIAA\\\n",
              "AACGIQABAAAMQwACAAAYxvgADIVCuv766zVjxgzdcccdeu+99+yeEgAAQFYZHYCvvPKKGhoa1NTU\\\n",
              "pPfff1/Lly9XdXW1zpw5Y/fUAAAAssboAPzhD3+ohx9+WA899JCWLl2qXbt2adasWfr5z39u99QA\\\n",
              "AACyxtgA7O/vV0dHh6qqqpJjhYWFqqqqUnt7u40zAwAAyK5pdk/ALn/96181MDCg0tLSlPHS0lId\\\n",
              "P3487Wvi8bji8XjyeSwWy+ocAQAAssHYI4BXo6WlRS6XK/koLy+3e0oAAABXzNgAvPbaa/W5z31O\\\n",
              "PT09KeM9PT3yeDxpX9PY2KhoNJp8dHd3T8ZUAQAAJpSxAVhUVKTKykodPHgwOTY4OKiDBw/K6/Wm\\\n",
              "fY3D4ZDT6Ux5AAAA5BpjrwGUpIaGBtXV1WnFihW6/fbbtWPHDvX19emhhx6ye2oAAABZY3QAPvjg\\\n",
              "g+rt7dXWrVsViUR022236Xe/+92ID4YAAADkkwLLsiy7J5GrYrGYXC6XotEop4MBAMgRvH8bfA0g\\\n",
              "AACAqQhAAAAAwxCAAAAAhiEAAQAADEMAAgAAGIYABAAAMAwBCAAAYBgCEAAAwDAEIAAAgGEIQAAA\\\n",
              "AMMQgAAAAIYhAAEAAAxDAAIAABiGAAQAADAMAQgAAGAYAhAAAMAwBCAAAIBhCEAAAADDEIAAAACG\\\n",
              "IQABAAAMQwACAAAYhgAEAAAwDAEIAABgGAIQAADAMAQgAACAYQhAAAAAwxCAAAAAhiEAAQAADEMA\\\n",
              "AgAAGIYABAAAMAwBCAAAYBgCEAAAwDAEIAAAgGEIQAAAAMMQgAAAAIYhAAEAAAxDAAIAABiGAAQA\\\n",
              "ADAMAQgAAGAYAhAAAMAwBCAAAIBhCEAAAADD5GUAPvXUU7rrrrs0a9YszZ07N+06XV1dWrt2rWbN\\\n",
              "mqX58+frscce0z/+8Y/JnSgAAIANptk9gWzo7+/XunXr5PV69bOf/WzE8oGBAa1du1Yej0d/+MMf\\\n",
              "9Mknn+g73/mOpk+frqefftqGGQMAAEyeAsuyLLsnkS0vvfSS6uvrdfbs2ZTx119/XV//+tcVDodV\\\n",
              "WloqSdq1a5e+//3vq7e3V0VFRWPafiwWk8vlUjQaldPpnOjpAwCALOD9O09PAV9Oe3u7br311mT8\\\n",
              "SVJ1dbVisZg+/PDDjK+Lx+OKxWIpDwAAgFxjZABGIpGU+JOUfB6JRDK+rqWlRS6XK/koLy/P6jwB\\\n",
              "AACyIWcCcMuWLSooKBj1cfz48azOobGxUdFoNPno7u7O6n8PAAAgG3LmQyCbN2/W+vXrR13nhhtu\\\n",
              "GNO2PB6P3nvvvZSxnp6e5LJMHA6HHA7HmP4bAAAAU1XOBKDb7Zbb7Z6QbXm9Xj311FM6c+aM5s+f\\\n",
              "L0k6cOCAnE6nli5dOiH/DQAAgKkqZwLwSnR1delvf/uburq6NDAwoM7OTknS4sWLNWfOHK1evVpL\\\n",
              "ly7Vt7/9bW3fvl2RSESPP/64fD4fR/gAAEDey8vbwKxfv14vv/zyiPG33npLX/3qVyVJH3/8sTZu\\\n",
              "3Ki3335bs2fPVl1dnbZt26Zp08bexHyMHACA3MP7d54G4GThBwgAgNzD+3cOfQoYAAAAE4MABAAA\\\n",
              "MAwBCAAAYBgCEAAAwDAEIAAAgGEIQAAAAMMQgAAAAIYhAAEAAAxDAAIAABiGAAQAADAMAQgAAGAY\\\n",
              "AhAAAMAwBCAAAIBhCEAAAADDEIAAAACGIQABAAAMQwACAAAYhgAEAAAwDAEIAABgGAIQAADAMAQg\\\n",
              "AACAYQhAAAAAwxCAAAAAhiEAAQAADEMAAgAAGIYABAAAMAwBCAAAYBgCEAAAwDAEIAAAgGEIQAAA\\\n",
              "AMMQgAAAAIYhAAEAAAxDAAIAABiGAAQAADAMAQgAAGAYAhAAAMAwBCAAAIBhCEAAAADDEIAAAACG\\\n",
              "IQABAAAMQwACAAAYhgAEAAAwTF4G4KlTp7RhwwYtWrRIM2fO1Be+8AU1NTWpv78/Zb3//u//1qpV\\\n",
              "qzRjxgyVl5dr+/btNs0YAABg8kyzewLZcPz4cQ0ODurFF1/U4sWL9cEHH+jhhx9WX1+fnn32WUlS\\\n",
              "LBbT6tWrVVVVpV27dunYsWP67ne/q7lz5+p73/uezX8DAACA7CmwLMuyexKT4ZlnntHOnTv1l7/8\\\n",
              "RZK0c+dO/eAHP1AkElFRUZEkacuWLWptbdXx48fHtM1YLCaXy6VoNCqn05m1uQMAgInD+3eengJO\\\n",
              "JxqNqqSkJPm8vb1dX/nKV5LxJ0nV1dU6ceKE/ud//iftNuLxuGKxWMoDAAAg1xgRgCdPntSPf/xj\\\n",
              "/du//VtyLBKJqLS0NGW9xPNIJJJ2Oy0tLXK5XMlHeXl59iYNAACQJTkVgFu2bFFBQcGoj+Gnb0+f\\\n",
              "Pq1//ud/1rp16/Twww+P67/f2NioaDSafHR3d49rewAAAHbIqQ+BbN68WevXrx91nRtuuCH553A4\\\n",
              "rLvvvlt33XWX/vM//zNlPY/Ho56enpSxxHOPx5N22w6HQw6H4ypmDgAAMHXkVAC63W653e4xrXv6\\\n",
              "9Gndfffdqqys1O7du1VYmHqw0+v16gc/+IEuXLig6dOnS5IOHDigm266Sddcc82Ezx0AAGCqyKlT\\\n",
              "wGN1+vRpffWrX1VFRYWeffZZ9fb2KhKJpFzb96//+q8qKirShg0b9OGHH+qVV17Rc889p4aGBhtn\\\n",
              "DgAAkH05dQRwrA4cOKCTJ0/q5MmTWrBgQcqyxF1vXC6Xfv/738vn86myslLXXnuttm7dyj0AAQBA\\\n",
              "3jPmPoDZwH2EAADIPbx/5+kpYAAAkFsCgYBCodCo64RCIQUCgcmZUJ7Ly1PAAAAgdwQCATU3Nyef\\\n",
              "+3y+EeuEQiH5/f6U1+DqcQQQAADYZnj8+f3+EUcCh8dfc3MzAThOBCAAALDF8PhLuDQCh8dfAhE4\\\n",
              "PnwIZBy4iBQAgKuTKf6GFEpapbKylQqHj0h6R9Jg2jWbmpquOAR5/+YaQAAAYIPMX+xQI2mHpIUK\\\n",
              "hxNjpyRtktR6BdvBaDgFDAAAJp3P51MwGBw2WiPp15IWDhu//uJ4TcpoMBhM+4ERXB4BCAAAbJEa\\\n",
              "gYUaOvKXKU1SlxN/48MpYAAAYJtExPn9+zTyyN9wCyWtUjC4jvgbJ44AAgAAW/l8PpWVrRzTumVl\\\n",
              "K4i/CUAAAgAAW4VCoYuf9r28cPjoZb8xBJfHKWAAAGCbz+7zVyjpY41+GviUpHfk97dJSv+NIRgb\\\n",
              "jgACAABbpN7keVBSvTLd729ofFNyebpvDMHYEYAAAGDSpf+Gj1ZJtRo6EnipUxfHW1NGicCrxylg\\\n",
              "AAAw6Xp7ezMsaZX0Ww19E8gKhcNHNdo3gWTeDkbDEUAAADDpAoGAmpqaMiwdVDC4TqdPP6tgcJ0m\\\n",
              "8mvgMIQABAAAtsgUgZfe5Dn9N4YQf+PFKWAAAJAVof/1ZvLPvl33pF0nEXHNzc2S0n/Dx2c3ix66\\\n",
              "ZpD4Gz8CEAAA2CoRc263O+OtXRLjvb29xN8EIAABAIDtxhJ13Pdv4hCAAAAgKzKd9oX9+BAIAACA\\\n",
              "YQhAAAAAwxCAAAAAhiEAAQAADEMAAgAAGIYABAAAMAwBCAAAYBgCEAAAwDAEIAAAgGEIQAAAAMMQ\\\n",
              "gAAAAIYhAAEAAAxDAAIAABhmmt0TyGWWZUmSYrGYzTMBAABjlXjfTryPm4gAHIdz585JksrLy22e\\\n",
              "CQAAuFLnzp2Ty+Wyexq2KLBMzt9xGhwcVDgcVnFxsQoKCuyezpQSi8VUXl6u7u5uOZ1Ou6eT89if\\\n",
              "E499OvHYpxOL/TnxEvu0q6tLBQUFKisrU2GhmVfDcQRwHAoLC7VgwQK7pzGlOZ1OfnFNIPbnxGOf\\\n",
              "Tjz26cRif048l8tl/D41M3sBAAAMRgACAAAYhgBEVjgcDjU1NcnhcNg9lbzA/px47NOJxz6dWOzP\\\n",
              "icc+/QwfAgEAADAMRwABAAAMQwACAAAYhgAEAAAwDAEIAABgGAIQE+6pp57SXXfdpVmzZmnu3Llp\\\n",
              "1+nq6tLatWs1a9YszZ8/X4899pj+8Y9/TO5Ec0goFNL111+vGTNm6I477tB7771n95RyxqFDh/SN\\\n",
              "b3xDZWVlKigoUGtra8pyy7K0detWXXfddZo5c6aqqqr05z//2Z7J5oCWlhatXLlSxcXFmj9/vmpq\\\n",
              "anTixImUdc6fPy+fz6d58+Zpzpw5qq2tVU9Pj00znvp27typZcuWJW/47PV69frrryeXsz/HZ9u2\\\n",
              "bSooKFB9fX1yjH1KACIL+vv7tW7dOm3cuDHt8oGBAa1du1b9/f36wx/+oJdfflkvvfSStm7dOskz\\\n",
              "zQ2vvPKKGhoa1NTUpPfff1/Lly9XdXW1zpw5Y/fUckJfX5+WL1+uUCiUdvn27dv1/PPPa9euXTp8\\\n",
              "+LBmz56t6upqnT9/fpJnmhva2trk8/n07rvv6sCBA7pw4YJWr16tvr6+5DqbNm3Sq6++qn379qmt\\\n",
              "rU3hcFj333+/jbOe2hYsWKBt27apo6NDR48e1T333KP77rtPH374oST253gcOXJEL774opYtW5Yy\\\n",
              "zj6VZAFZsnv3bsvlco0Y/6//+i+rsLDQikQiybGdO3daTqfTisfjkzjD3HD77bdbPp8v+XxgYMAq\\\n",
              "KyuzWlpabJxVbpJk7d+/P/l8cHDQ8ng81jPPPJMcO3v2rOVwOKxf/epXNsww95w5c8aSZLW1tVmW\\\n",
              "NbT/pk+fbu3bty+5zp/+9CdLktXe3m7XNHPONddcY/30pz9lf47DuXPnrBtvvNE6cOCA9U//9E/W\\\n",
              "o48+alkWP6MJHAHEpGtvb9ett96q0tLS5Fh1dbVisVjyX7wY0t/fr46ODlVVVSXHCgsLVVVVpfb2\\\n",
              "dhtnlh8++ugjRSKRlP3rcrl0xx13sH/HKBqNSpJKSkokSR0dHbpw4ULKPl2yZIkqKirYp2MwMDCg\\\n",
              "vXv3qq+vT16vl/05Dj6fT2vXrk3ZdxI/ownT7J4AzBOJRFLiT1LyeSQSsWNKU9Zf//pXDQwMpN1f\\\n",
              "x48ft2lW+SPx85Zu//KzeHmDg4Oqr6/Xl770Jd1yyy2ShvZpUVHRiOt/2aejO3bsmLxer86fP685\\\n",
              "c+Zo//79Wrp0qTo7O9mfV2Hv3r16//33deTIkRHL+BkdwhFAjMmWLVtUUFAw6oMgAczi8/n0wQcf\\\n",
              "aO/evXZPJefddNNN6uzs1OHDh7Vx40bV1dXpj3/8o93Tyknd3d169NFH9ctf/lIzZsywezpTFkcA\\\n",
              "MSabN2/W+vXrR13nhhtuGNO2PB7PiE+xJj595fF4rmp++eraa6/V5z73uRGfTuvp6WFfTYDEPuzp\\\n",
              "6dF1112XHO/p6dFtt91m06xyg9/v12uvvaZDhw5pwYIFyXGPx6P+/n6dPXs25QgLP7OjKyoq0uLF\\\n",
              "iyVJlZWVOnLkiJ577jk9+OCD7M8r1NHRoTNnzuiLX/xicmxgYECHDh1SMBjUG2+8wT4VRwAxRm63\\\n",
              "W0uWLBn1UVRUNKZteb1eHTt2LOVTrAcOHJDT6dTSpUuz9VfISUVFRaqsrNTBgweTY4ODgzp48KC8\\\n",
              "Xq+NM8sPixYtksfjSdm/sVhMhw8fZv9mYFmW/H6/9u/frzfffFOLFi1KWV5ZWanp06en7NMTJ06o\\\n",
              "q6uLfXoFBgcHFY/H2Z9X4d5779WxY8fU2dmZfKxYsULf+ta3kn9mn3IEEFnQ1dWlv/3tb+rq6tLA\\\n",
              "wIA6OzslSYsXL9acOXO0evVqLV26VN/+9re1fft2RSIRPf744/L5fHI4HPZOfgpqaGhQXV2dVqxY\\\n",
              "odtvv107duxQX1+fHnroIbunlhM+/fRTnTx5Mvn8o48+Umdnp0pKSlRRUaH6+no9+eSTuvHGG7Vo\\\n",
              "0SI98cQTKisrU01NjX2TnsJ8Pp/27Nmj3/zmNyouLk5eM+VyuTRz5ky5XC5t2LBBDQ0NKikpkdPp\\\n",
              "1COPPCKv16s777zT5tlPTY2NjVqzZo0qKip07tw57dmzR2+//bbeeOMN9udVKC4uTl6TmjB79mzN\\\n",
              "mzcvOc4+FbeBwcSrq6uzJI14vPXWW8l1Tp06Za1Zs8aaOXOmde2111qbN2+2Lly4YN+kp7gf//jH\\\n",
              "VkVFhVVUVGTdfvvt1rvvvmv3lHLGW2+9lfbnsa6uzrKsoVvBPPHEE1ZpaanlcDise++91zpx4oS9\\\n",
              "k57C0u1LSdbu3buT6/z973+3/v3f/9265pprrFmzZlnf/OY3rU8++cS+SU9x3/3ud62FCxdaRUVF\\\n",
              "ltvttu69917r97//fXI5+3P8Lr0NjGWxTy3Lsgosy7ImPzsBAABgF64BBAAAMAwBCAAAYBgCEAAA\\\n",
              "wDAEIAAAgGEIQAAAAMMQgAAAAIYhAAEAAAxDAAIAABiGAAQAADAMAQgAAGAYAhAAAMAwBCAAAIBh\\\n",
              "CEAAAADDEIAAAACGIQABAAAMQwACAAAYhgAEAAAwDAEIAABgGAIQAADAMAQgAACAYQhAAAAAwxCA\\\n",
              "AAAAhiEAAQAADEMAAgAAGIYABAAAMAwBCAAAYBgCEAAAwDAEIAAAgGEIQAAAAMMQgAAAAIYhAAEA\\\n",
              "AAzz/wElPYBGwhKoBgAAAABJRU5ErkJggg==\\\n",
              "\"\n",
              "  frames[4] = \"data:image/png;base64,iVBORw0KGgoAAAANSUhEUgAAAoAAAAHgCAYAAAA10dzkAAAAOXRFWHRTb2Z0d2FyZQBNYXRwbG90\\\n",
              "bGliIHZlcnNpb24zLjcuMSwgaHR0cHM6Ly9tYXRwbG90bGliLm9yZy/bCgiHAAAACXBIWXMAAA9h\\\n",
              "AAAPYQGoP6dpAAAo8ElEQVR4nO3df2xT96H38U8yiPkVm4aauBkJpaMqRS1UC7R1N3bXNiMXsalZ\\\n",
              "U9SrO22hQ919uHbVEJ7eEa0ljtQ2iPbZaGcXeveDdtIYFZrI1j636xBtQ6WlFFJFl3YDjWeliXAd\\\n",
              "Mu1i02g4LDnPH8EuTuwQSJwT+/t+SdbF33N8+uXcLH5zzvFxgWVZlgAAAGCMQrsnAAAAgMlFAAIA\\\n",
              "ABiGAAQAADAMAQgAAGAYAhAAAMAwBCAAAIBhCEAAAADDEIAAAACGIQABAAAMQwACAAAYhgAEAAAw\\\n",
              "DAEIAABgGAIQAADAMAQgAACAYQhAAAAAwxCAAAAAhiEAAQAADEMAAgAAGIYABAAAMAwBCAAAYBgC\\\n",
              "EAAAwDAEIAAAgGEIQAAAAMMQgAAAAIYhAAEAAAxDAAIAABiGAAQAADAMAQgAAGAYAhAAAMAwBCAA\\\n",
              "AIBhCEAAAADDEIAAAACGIQABAAAMQwACAAAYhgAEAAAwDAEIAABgGAIQAADAMAQgAACAYQhAAAAA\\\n",
              "wxCAAAAAhiEAAQAADEMAAgAAGIYABAAAMAwBCAAAYBgCEAAAwDAEIAAAgGEIQAAAAMMQgAAAAIYh\\\n",
              "AAEAAAxDAAIAABiGAAQAADAMAQgAAGAYAhAAAMAwBCAAAIBhCEAAAADDEIAAAACGmWb3BHLZ4OCg\\\n",
              "wuGwiouLVVBQYPd0AADAGFiWpXPnzqmsrEyFhWYeCyMAxyEcDqu8vNzuaQAAgKvQ3d2tBQsW2D0N\\\n",
              "WxCA41BcXCxp6AfI6XTaPBsAADAWsVhM5eXlyfdxExGA45A47et0OglAAAByjMmXb5l54hsAAMBg\\\n",
              "BCAAAIBhCEAAAADDGBGA27ZtU0FBgerr65Nj58+fl8/n07x58zRnzhzV1taqp6fHvkkCAABMkrwP\\\n",
              "wCNHjujFF1/UsmXLUsY3bdqkV199Vfv27VNbW5vC4bDuv/9+m2YJuwUCAYVCoVHXCYVCCgQCkzMh\\\n",
              "AACyKK8/Bfzpp5/qW9/6ln7yk5/oySefTI5Ho1H97Gc/0549e3TPPfdIknbv3q2bb75Z7777ru68\\\n",
              "8067pgwbBAIBNTc3J5/7fL4R64RCIfn9/pTXAACQq/L6CKDP59PatWtVVVWVMt7R0aELFy6kjC9Z\\\n",
              "skQVFRVqb2+f7GnCRsPjz+/3jzgSODz+mpubCUAAQE7L2yOAe/fu1fvvv68jR46MWBaJRFRUVKS5\\\n",
              "c+emjJeWlioSiWTcZjweVzweTz6PxWITNl9MvuHxl5CIPZ/PNyL+EhKvIwQBALkoL48Adnd369FH\\\n",
              "H9Uvf/lLzZgxY8K229LSIpfLlXzwNXC5K1P8DSmU379Pn//8Y/L79ynT/0w4EggAyFV5GYAdHR06\\\n",
              "c+aMvvjFL2ratGmaNm2a2tra9Pzzz2vatGkqLS1Vf3+/zp49m/K6np4eeTyejNttbGxUNBpNPrq7\\\n",
              "u7P8N0G2uN3uDEtqJP1F0tsKh5+R9Lak/3dx/Eq2AwDA1JWXp4DvvfdeHTt2LGXsoYce0pIlS/T9\\\n",
              "739f5eXlmj59ug4ePKja2lpJ0okTJ9TV1SWv15txuw6HQw6HI6tzx+RIfNAj9fRujaRfa+S/i66/\\\n",
              "OF4rqTU5GgwG035gBACAqS4vA7C4uFi33HJLytjs2bM1b9685PiGDRvU0NCgkpISOZ1OPfLII/J6\\\n",
              "vXwC2CCpEVgoaYcyHxRPLP+tpEHiDwCQ0/IyAMfiRz/6kQoLC1VbW6t4PK7q6mq98MILdk8Lk+yz\\\n",
              "CNwnaeFl1l4oaZWCwXXEHwAgpxVYlmXZPYlcFYvF5HK5FI1G5XQ67Z4OxuHzn3/s4jV/oysr+986\\\n",
              "ffrZSZgRACBbeP/O0w+BAFciFAopHB55u6B0wuGjl/3GEAAApjpjTwED0qU3eS6U9LFGPw18StI7\\\n",
              "8vvbJKX/xhAAAHIBRwBhrNSbPA9Kqr/4f9MZlLQpuTzdN4YAAJArCEAYKf03fLRq6FYvHw8bP6Xh\\\n",
              "t4CRiEAAQO7iFDCM1Nvbm2FJq4Zu9bJKZWUrFA4flfSOMh0ZzLwdAACmLo4AwkiBQEBNTU0Zlg4q\\\n",
              "GFyn06efVTC4Tpnir6mpia+CAwDkJAIQxsoUgZfe5Nnn8ykYDI5Yh/gDAOQyAhBGGx6B6b7hY3gE\\\n",
              "En8AgFzHNYAwXiLm3G53xlu7JMZ7e3uJPwA5LxAIjPo7Txr6sBy/8/IXAQhIY/oFx33/AOSDQCCg\\\n",
              "5ubm5PN0v9uG3ymBCMw/BCDyT8B1yZ+j9s0DAKaY4fGXiLxLI3B4/CXWJwLzC9cAAgBggOHxl3Dp\\\n",
              "PU3T3yN1KAIJwPzCEUAAAPJcpvgbUii/f5+efvrUxe9FL1S6219xJDC/EIDIP5z2BYAUbrc7w5Ia\\\n",
              "STskLVQ4nBg7paGvvmy9gu0g13AKGACAPJf+nqY1kn4taeGw8esvjtekjKa7TRZyFwEIAIABUiOw\\\n",
              "UENH/jJlQOpy4i//cAoYAABDJCLO79+nkUf+hlsoaZWCwXXEXx7iCCAAAAbx+XwqK1s5pnXLylYQ\\\n",
              "f3mKAAQAwCChUOjip30vLxw+mrxFDPILp4ABADDEZ/f5K5T0sUY/DXxK0jvy+9sk8W1I+YYjgAAA\\\n",
              "GCD1Js+DkuqV7n5/ny3flFx+6c2ikR8IQAAA8lz6b/holVSroSOBlzp1cbw1ZZQIzC+cAgYAIM/1\\\n",
              "9vZmWNIq6beSVqmsbIXC4aOS3lGmI4OZt4NcwxFAAADyXCAQUFNTU4algwoG1+n06WcVDK5Tpvhr\\\n",
              "amria+DyCAEIAIABMkXgpTd5Tv+NIcRfPiIAAQAwxPAITPcNH8MjkPjLT1wDCABAjrt+y/9N/vnU\\\n",
              "trWjrpuIObfbnfHWLonx3t5e4i9PEYAAABhmLFHHff/yG6eAAQAADMMRQAAActzlTvsCw3EEEAAA\\\n",
              "wDAEIAAAgGEIQAAAAMMQgAAAAIYhAAEAAAxDAAIAABiGAAQAADAMAQgAAGAYAhAAAMAwBCAAAIBh\\\n",
              "CEAAAADDEIAAAACGydsA3Llzp5YtWyan0ymn0ymv16vXX389ufz8+fPy+XyaN2+e5syZo9raWvX0\\\n",
              "9Ng4YwAAgMmRtwG4YMECbdu2TR0dHTp69Kjuuece3Xffffrwww8lSZs2bdKrr76qffv2qa2tTeFw\\\n",
              "WPfff7/NswYAAMi+AsuyLLsnMVlKSkr0zDPP6IEHHpDb7daePXv0wAMPSJKOHz+um2++We3t7brz\\\n",
              "zjvHtL1YLCaXy6VoNCqn05nNqQMAgAnC+3ceHwG81MDAgPbu3au+vj55vV51dHTowoULqqqqSq6z\\\n",
              "ZMkSVVRUqL293caZAgAAZN80uyeQTceOHZPX69X58+c1Z84c7d+/X0uXLlVnZ6eKioo0d+7clPVL\\\n",
              "S0sViUQybi8ejysejyefx2KxbE0dAAAga/L6COBNN92kzs5OHT58WBs3blRdXZ3++Mc/XvX2Wlpa\\\n",
              "5HK5ko/y8vIJnC0AAMDkyOsALCoq0uLFi1VZWamWlhYtX75czz33nDwej/r7+3X27NmU9Xt6euTx\\\n",
              "eDJur7GxUdFoNPno7u7O8t8AAABg4uV1AA43ODioeDyuyspKTZ8+XQcPHkwuO3HihLq6uuT1ejO+\\\n",
              "3uFwJG8rk3gAAADkmry9BrCxsVFr1qxRRUWFzp07pz179ujtt9/WG2+8IZfLpQ0bNqihoUElJSVy\\\n",
              "Op165JFH5PV6x/wJYAAAgFyVtwF45swZfec739Enn3wil8ulZcuW6Y033tDXvvY1SdKPfvQjFRYW\\\n",
              "qra2VvF4XNXV1XrhhRdsnjUAAED2GXUfwInGfYQAAMg9vH8bdg0gAAAACEAAAADjEIAAAACGIQDz\\\n",
              "RCAQUCgUGnWdUCikQCAwORMCAABTVt5+CtgkgUBAzc3Nyec+n2/EOqFQSH6/P+U1AADATBwBzHHD\\\n",
              "48/v9484Ejg8/pqbmwlAAAAMRgDmsOHxl3BpBA6PvwQiEAAAc3EfwHGw8z5CmeJvSKGkVSorW6lw\\\n",
              "+IikdyQNpl2zqamJEAQAGIX7AHINYM5yu90ZltRI2iFpocLhxNgpSZsktV7BdgAAQL7iFHCO8vl8\\\n",
              "CgaDw0ZrJP1a0sJh49dfHK9JGQ0Gg2k/MAIAAPIbAZjDUiOwUENH/jL9vzR1OfEHAIC5OAWc4xIR\\\n",
              "5/fv08gjf8MtlLRKweA64g8AAINxBDAP+Hw+lZWtHNO6ZWUriD8AAAxHAOaBUCh08dO+lxcOH73s\\\n",
              "N4YAAID8xingHPfZff4KJX2s0U8Dn5L0jvz+NknpvzEEAADkP44A5rDUmzwPSqpXpvv9DY1vSi5P\\\n",
              "940hAADADARgjkr/DR+tkmo1dCTwUqcujremjBKBAACYiVPAOaq3tzfDklZJv9XQN4GsUDh8VKN9\\\n",
              "E0jm7QAAgHzFEcAcFQgE1NTUlGHpoILBdTp9+lkFg+vE18ABAIBLEYA5LFMEXnqT5/TfGEL8AQBg\\\n",
              "MgIwxw2PwHTf8DE8Aok/AADMxjWAeSARc263O+OtXRLjvb29xB8AAIYrsCzLsnsSuSoWi8nlcika\\\n",
              "jcrpdE7otv+05Obkn28+/qcJ3TYAACbL5vt3ruAUMAAAgGEIQAAAAMNwDeAUxWlfAACQLRwBBAAA\\\n",
              "MAwBCAAAYBgCEAAAwDAEIAAAgGEIQAAAAMMQgAAAAIYhAAEAAAxDAAIAABiGAAQAADAMAQgAAGAY\\\n",
              "AhAAAMAwBCAAAIBhCEAAAADDEIAAAACGIQABAAAMQwACAAAYJm8DsKWlRStXrlRxcbHmz5+vmpoa\\\n",
              "nThxImWd8+fPy+fzad68eZozZ45qa2vV09Nj04wBAAAmR94GYFtbm3w+n959910dOHBAFy5c0OrV\\\n",
              "q9XX15dcZ9OmTXr11Ve1b98+tbW1KRwO6/7777dx1gAAANlXYFmWZfckJkNvb6/mz5+vtrY2feUr\\\n",
              "X1E0GpXb7daePXv0wAMPSJKOHz+um2++We3t7brzzjsvu81YLCaXy6VoNCqn05ntvwIAAJgAvH/n\\\n",
              "8RHA4aLRqCSppKREktTR0aELFy6oqqoquc6SJUtUUVGh9vb2tNuIx+OKxWIpDwAAgFxjRAAODg6q\\\n",
              "vr5eX/rSl3TLLbdIkiKRiIqKijR37tyUdUtLSxWJRNJup6WlRS6XK/koLy/P9tQBAAAmnBEB6PP5\\\n",
              "9MEHH2jv3r3j2k5jY6Oi0Wjy0d3dPUEzBAAAmDzT7J5Atvn9fr322ms6dOiQFixYkBz3eDzq7+/X\\\n",
              "2bNnU44C9vT0yOPxpN2Ww+GQw+HI9pQBAACyKm+PAFqWJb/fr/379+vNN9/UokWLUpZXVlZq+vTp\\\n",
              "OnjwYHLsxIkT6urqktfrnezpAgAATJq8PQLo8/m0Z88e/eY3v1FxcXHyuj6Xy6WZM2fK5XJpw4YN\\\n",
              "amhoUElJiZxOpx555BF5vd4xfQIYAAAgV+XtbWAKCgrSju/evVvr16+XNHQj6M2bN+tXv/qV4vG4\\\n",
              "qqur9cILL2Q8BTwcHyMHACD38P6dxwE4GfgBAgAg9/D+ncfXAAIAACA9AhAAAMAwBCAAAIBhCEAA\\\n",
              "AADDEIAAAACGIQABAAAMQwACAAAYhgAEAAAwDAEIAABgGAIQAADAMAQgAACAYQhAAAAAwxCAAAAA\\\n",
              "hiEAAQAADEMAAgAAGIYABAAAMAwBCAAAYBgCEAAAwDAEIAAAgGEIQAAAAMMQgAAAAIYhAAEAAAxD\\\n",
              "AAIAABiGAAQAADAMAQgAAGAYAhAAAMAwBCCQQSAQUCgUGnWdUCikQCAwORMCAGCCTLN7AsBUFAgE\\\n",
              "1NzcnHzu8/lGrBMKheT3+1NeAwBALuAIIDDM8Pjz+/0jjgQOj7/m5mYCEACQMwhA4BLD4y/h0ggc\\\n",
              "Hn8JRCAAXBkutbEPp4CBizLF35BC+f379PTTpxQOH9HQv50GR6yVeD2/rABgdFxqYy8CELjI7XZn\\\n",
              "WFIjaYekhQqHE2OnJG2S1HoF2wEASOkvtZFSIzDdpTaJ12L8OAUMXOTz+RQMBoeN1kj6taSFw8av\\\n",
              "vzhekzIaDAbT/isWADCES22mhgLLsiy7J5GrYrGYXC6XotGonE6n3dPBBPnsF0+hpL9oZPxd6mNJ\\\n",
              "N0gaJP4A4DIud6mNtEplZSsvXmrzjtJdaiNJTU1N4wpB3r85BQyMkIg4v3+fRo8/XVy+SsHgOuIP\\\n",
              "AC6DS22mDk4BA2n4fD6Vla0c07plZSuIPwAYAy61mToIQCCNUCh08RTE5YXDRy97GwMAwJDUCCzU\\\n",
              "0JG/TDmSupz4mzicAgaGSb0G8GONfhr4lKR35Pe3SUp/GwMAQCoutbEfRwCBS6R+8mxQUr0yXYQ8\\\n",
              "NL4puTzdN4YAANLjUht7EYDARelvO9AqqVZDRwIvderieGvKKBEIAGPDpTb24hQwcFFvb2+GJa2S\\\n",
              "fquh2xOsUDh8VKPdniDzdgAAEpfaTAV5ewTw0KFD+sY3vqGysjIVFBSotbU1ZbllWdq6dauuu+46\\\n",
              "zZw5U1VVVfrzn/9sz2QxJQQCATU1NWVYOqhgcJ1On35WweA6ZeveVACQ77jUZmrI2wDs6+vT8uXL\\\n",
              "M/6gbN++Xc8//7x27dqlw4cPa/bs2aqurtb58+cneaaYSjJF4KWfPEt/GwPiDwAuh0ttpo68PQW8\\\n",
              "Zs0arVmzJu0yy7K0Y8cOPf7447rvvvskSb/4xS9UWlqq1tZW/cu//MtkThVTTCLiEnerT3fbgc8+\\\n",
              "wTb0i4z4A4DL41KbqSNvA3A0H330kSKRiKqqqpJjLpdLd9xxh9rb2wlAJGPO7XZnvN4kMd7b20v8\\\n",
              "AcAYDP8HdqrB5K1eho4UtqXdBv/gnhhGBmAkEpEklZaWpoyXlpYml6UTj8cVj8eTz2OxWHYmiAl3\\\n",
              "68u3Jv98rO7YmF4zll8wXIwMAFcmUwQOv9RG0ojTxcTfxMnbawCzoaWlRS6XK/koLy+3e0oAAOSc\\\n",
              "4ddbZ7rU5tLrrYm/iWXkEUCPxyNJ6unp0XXXXZcc7+np0W233ZbxdY2NjWpoaEg+j8ViRCAAAFeB\\\n",
              "S23sZWQALlq0SB6PRwcPHkwGXywW0+HDh7Vx48aMr3M4HHI4HJM0S0yksZ72BQBcnf/z4NeTf978\\\n",
              "ymtjeg2X2tgnbwPw008/1cmTJ5PPP/roI3V2dqqkpEQVFRWqr6/Xk08+qRtvvFGLFi3SE088obKy\\\n",
              "MtXU1Ng3aQAAgEmQtwF49OhR3X333cnniVO3dXV1eumll/Qf//Ef6uvr0/e+9z2dPXtWX/7yl/W7\\\n",
              "3/1OM2bMsGvKAAAAk6LAsizL7knkqlgsJpfLpWg0KqfTafd0AADAGPD+zaeAAQAAjEMAAgAAGIYA\\\n",
              "BAAAMAwBCAAAYBgCEAAAwDAEIAAAgGEIQAAAAMMQgAAAAIYhAAEAAAxDAAIAABiGAAQAADAMAQgA\\\n",
              "AGAYAhAAAMAwBCAAAIBhCEAAAADDEIAAAACGIQABAAAMQwACAAAYhgAEAAAwDAEIAABgGAIQAADA\\\n",
              "MAQgAACAYQhAAAAAwxCAAAAAhiEAAQAADEMAAgAAGIYABAAAMAwBCAAAYBgCEAAAwDAEIAAAgGEI\\\n",
              "QAAAAMMQgAAAAIYhAAEAAAxDAAIAABiGAAQAADAMAQgAAGAYAhAAAMAwBCAAAIBhCEAAAADDEIAA\\\n",
              "AACGIQABAAAMQwACAAAYxvgADIVCuv766zVjxgzdcccdeu+99+yeEgAAQFYZHYCvvPKKGhoa1NTU\\\n",
              "pPfff1/Lly9XdXW1zpw5Y/fUAAAAssboAPzhD3+ohx9+WA899JCWLl2qXbt2adasWfr5z39u99QA\\\n",
              "AACyxtgA7O/vV0dHh6qqqpJjhYWFqqqqUnt7u40zAwAAyK5pdk/ALn/96181MDCg0tLSlPHS0lId\\\n",
              "P3487Wvi8bji8XjyeSwWy+ocAQAAssHYI4BXo6WlRS6XK/koLy+3e0oAAABXzNgAvPbaa/W5z31O\\\n",
              "PT09KeM9PT3yeDxpX9PY2KhoNJp8dHd3T8ZUAQAAJpSxAVhUVKTKykodPHgwOTY4OKiDBw/K6/Wm\\\n",
              "fY3D4ZDT6Ux5AAAA5BpjrwGUpIaGBtXV1WnFihW6/fbbtWPHDvX19emhhx6ye2oAAABZY3QAPvjg\\\n",
              "g+rt7dXWrVsViUR022236Xe/+92ID4YAAADkkwLLsiy7J5GrYrGYXC6XotEop4MBAMgRvH8bfA0g\\\n",
              "AACAqQhAAAAAwxCAAAAAhiEAAQAADEMAAgAAGIYABAAAMAwBCAAAYBgCEAAAwDAEIAAAgGEIQAAA\\\n",
              "AMMQgAAAAIYhAAEAAAxDAAIAABiGAAQAADAMAQgAAGAYAhAAAMAwBCAAAIBhCEAAAADDEIAAAACG\\\n",
              "IQABAAAMQwACAAAYhgAEAAAwDAEIAABgGAIQAADAMAQgAACAYQhAAAAAwxCAAAAAhiEAAQAADEMA\\\n",
              "AgAAGIYABAAAMAwBCAAAYBgCEAAAwDAEIAAAgGEIQAAAAMMQgAAAAIYhAAEAAAxDAAIAABiGAAQA\\\n",
              "ADAMAQgAAGAYAhAAAMAwBCAAAIBhCEAAAADD5GUAPvXUU7rrrrs0a9YszZ07N+06XV1dWrt2rWbN\\\n",
              "mqX58+frscce0z/+8Y/JnSgAAIANptk9gWzo7+/XunXr5PV69bOf/WzE8oGBAa1du1Yej0d/+MMf\\\n",
              "9Mknn+g73/mOpk+frqefftqGGQMAAEyeAsuyLLsnkS0vvfSS6uvrdfbs2ZTx119/XV//+tcVDodV\\\n",
              "WloqSdq1a5e+//3vq7e3V0VFRWPafiwWk8vlUjQaldPpnOjpAwCALOD9O09PAV9Oe3u7br311mT8\\\n",
              "SVJ1dbVisZg+/PDDjK+Lx+OKxWIpDwAAgFxjZABGIpGU+JOUfB6JRDK+rqWlRS6XK/koLy/P6jwB\\\n",
              "AACyIWcCcMuWLSooKBj1cfz48azOobGxUdFoNPno7u7O6n8PAAAgG3LmQyCbN2/W+vXrR13nhhtu\\\n",
              "GNO2PB6P3nvvvZSxnp6e5LJMHA6HHA7HmP4bAAAAU1XOBKDb7Zbb7Z6QbXm9Xj311FM6c+aM5s+f\\\n",
              "L0k6cOCAnE6nli5dOiH/DQAAgKkqZwLwSnR1delvf/uburq6NDAwoM7OTknS4sWLNWfOHK1evVpL\\\n",
              "ly7Vt7/9bW3fvl2RSESPP/64fD4fR/gAAEDey8vbwKxfv14vv/zyiPG33npLX/3qVyVJH3/8sTZu\\\n",
              "3Ki3335bs2fPVl1dnbZt26Zp08bexHyMHACA3MP7d54G4GThBwgAgNzD+3cOfQoYAAAAE4MABAAA\\\n",
              "MAwBCAAAYBgCEAAAwDAEIAAAgGEIQAAAAMMQgAAAAIYhAAEAAAxDAAIAABiGAAQAADAMAQgAAGAY\\\n",
              "AhAAAMAwBCAAAIBhCEAAAADDEIAAAACGIQABAAAMQwACAAAYhgAEAAAwDAEIAABgGAIQAADAMAQg\\\n",
              "AACAYQhAAAAAwxCAAAAAhiEAAQAADEMAAgAAGIYABAAAMAwBCAAAYBgCEAAAwDAEIAAAgGEIQAAA\\\n",
              "AMMQgAAAAIYhAAEAAAxDAAIAABiGAAQAADAMAQgAAGAYAhAAAMAwBCAAAIBhCEAAAADDEIAAAACG\\\n",
              "IQABAAAMQwACAAAYhgAEAAAwTF4G4KlTp7RhwwYtWrRIM2fO1Be+8AU1NTWpv78/Zb3//u//1qpV\\\n",
              "qzRjxgyVl5dr+/btNs0YAABg8kyzewLZcPz4cQ0ODurFF1/U4sWL9cEHH+jhhx9WX1+fnn32WUlS\\\n",
              "LBbT6tWrVVVVpV27dunYsWP67ne/q7lz5+p73/uezX8DAACA7CmwLMuyexKT4ZlnntHOnTv1l7/8\\\n",
              "RZK0c+dO/eAHP1AkElFRUZEkacuWLWptbdXx48fHtM1YLCaXy6VoNCqn05m1uQMAgInD+3eengJO\\\n",
              "JxqNqqSkJPm8vb1dX/nKV5LxJ0nV1dU6ceKE/ud//iftNuLxuGKxWMoDAAAg1xgRgCdPntSPf/xj\\\n",
              "/du//VtyLBKJqLS0NGW9xPNIJJJ2Oy0tLXK5XMlHeXl59iYNAACQJTkVgFu2bFFBQcGoj+Gnb0+f\\\n",
              "Pq1//ud/1rp16/Twww+P67/f2NioaDSafHR3d49rewAAAHbIqQ+BbN68WevXrx91nRtuuCH553A4\\\n",
              "rLvvvlt33XWX/vM//zNlPY/Ho56enpSxxHOPx5N22w6HQw6H4ypmDgAAMHXkVAC63W653e4xrXv6\\\n",
              "9Gndfffdqqys1O7du1VYmHqw0+v16gc/+IEuXLig6dOnS5IOHDigm266Sddcc82Ezx0AAGCqyKlT\\\n",
              "wGN1+vRpffWrX1VFRYWeffZZ9fb2KhKJpFzb96//+q8qKirShg0b9OGHH+qVV17Rc889p4aGBhtn\\\n",
              "DgAAkH05dQRwrA4cOKCTJ0/q5MmTWrBgQcqyxF1vXC6Xfv/738vn86myslLXXnuttm7dyj0AAQBA\\\n",
              "3jPmPoDZwH2EAADIPbx/5+kpYAAAkFsCgYBCodCo64RCIQUCgcmZUJ7Ly1PAAAAgdwQCATU3Nyef\\\n",
              "+3y+EeuEQiH5/f6U1+DqcQQQAADYZnj8+f3+EUcCh8dfc3MzAThOBCAAALDF8PhLuDQCh8dfAhE4\\\n",
              "PnwIZBy4iBQAgKuTKf6GFEpapbKylQqHj0h6R9Jg2jWbmpquOAR5/+YaQAAAYIPMX+xQI2mHpIUK\\\n",
              "hxNjpyRtktR6BdvBaDgFDAAAJp3P51MwGBw2WiPp15IWDhu//uJ4TcpoMBhM+4ERXB4BCAAAbJEa\\\n",
              "gYUaOvKXKU1SlxN/48MpYAAAYJtExPn9+zTyyN9wCyWtUjC4jvgbJ44AAgAAW/l8PpWVrRzTumVl\\\n",
              "K4i/CUAAAgAAW4VCoYuf9r28cPjoZb8xBJfHKWAAAGCbz+7zVyjpY41+GviUpHfk97dJSv+NIRgb\\\n",
              "jgACAABbpN7keVBSvTLd729ofFNyebpvDMHYEYAAAGDSpf+Gj1ZJtRo6EnipUxfHW1NGicCrxylg\\\n",
              "AAAw6Xp7ezMsaZX0Ww19E8gKhcNHNdo3gWTeDkbDEUAAADDpAoGAmpqaMiwdVDC4TqdPP6tgcJ0m\\\n",
              "8mvgMIQABAAAtsgUgZfe5Dn9N4YQf+PFKWAAAJAVof/1ZvLPvl33pF0nEXHNzc2S0n/Dx2c3ix66\\\n",
              "ZpD4Gz8CEAAA2CoRc263O+OtXRLjvb29xN8EIAABAIDtxhJ13Pdv4hCAAAAgKzKd9oX9+BAIAACA\\\n",
              "YQhAAAAAwxCAAAAAhiEAAQAADEMAAgAAGIYABAAAMAwBCAAAYBgCEAAAwDAEIAAAgGEIQAAAAMMQ\\\n",
              "gAAAAIYhAAEAAAxDAAIAABhmmt0TyGWWZUmSYrGYzTMBAABjlXjfTryPm4gAHIdz585JksrLy22e\\\n",
              "CQAAuFLnzp2Ty+Wyexq2KLBMzt9xGhwcVDgcVnFxsQoKCuyezpQSi8VUXl6u7u5uOZ1Ou6eT89if\\\n",
              "E499OvHYpxOL/TnxEvu0q6tLBQUFKisrU2GhmVfDcQRwHAoLC7VgwQK7pzGlOZ1OfnFNIPbnxGOf\\\n",
              "Tjz26cRif048l8tl/D41M3sBAAAMRgACAAAYhgBEVjgcDjU1NcnhcNg9lbzA/px47NOJxz6dWOzP\\\n",
              "icc+/QwfAgEAADAMRwABAAAMQwACAAAYhgAEAAAwDAEIAABgGAIQE+6pp57SXXfdpVmzZmnu3Llp\\\n",
              "1+nq6tLatWs1a9YszZ8/X4899pj+8Y9/TO5Ec0goFNL111+vGTNm6I477tB7771n95RyxqFDh/SN\\\n",
              "b3xDZWVlKigoUGtra8pyy7K0detWXXfddZo5c6aqqqr05z//2Z7J5oCWlhatXLlSxcXFmj9/vmpq\\\n",
              "anTixImUdc6fPy+fz6d58+Zpzpw5qq2tVU9Pj00znvp27typZcuWJW/47PV69frrryeXsz/HZ9u2\\\n",
              "bSooKFB9fX1yjH1KACIL+vv7tW7dOm3cuDHt8oGBAa1du1b9/f36wx/+oJdfflkvvfSStm7dOskz\\\n",
              "zQ2vvPKKGhoa1NTUpPfff1/Lly9XdXW1zpw5Y/fUckJfX5+WL1+uUCiUdvn27dv1/PPPa9euXTp8\\\n",
              "+LBmz56t6upqnT9/fpJnmhva2trk8/n07rvv6sCBA7pw4YJWr16tvr6+5DqbNm3Sq6++qn379qmt\\\n",
              "rU3hcFj333+/jbOe2hYsWKBt27apo6NDR48e1T333KP77rtPH374oST253gcOXJEL774opYtW5Yy\\\n",
              "zj6VZAFZsnv3bsvlco0Y/6//+i+rsLDQikQiybGdO3daTqfTisfjkzjD3HD77bdbPp8v+XxgYMAq\\\n",
              "KyuzWlpabJxVbpJk7d+/P/l8cHDQ8ng81jPPPJMcO3v2rOVwOKxf/epXNsww95w5c8aSZLW1tVmW\\\n",
              "NbT/pk+fbu3bty+5zp/+9CdLktXe3m7XNHPONddcY/30pz9lf47DuXPnrBtvvNE6cOCA9U//9E/W\\\n",
              "o48+alkWP6MJHAHEpGtvb9ett96q0tLS5Fh1dbVisVjyX7wY0t/fr46ODlVVVSXHCgsLVVVVpfb2\\\n",
              "dhtnlh8++ugjRSKRlP3rcrl0xx13sH/HKBqNSpJKSkokSR0dHbpw4ULKPl2yZIkqKirYp2MwMDCg\\\n",
              "vXv3qq+vT16vl/05Dj6fT2vXrk3ZdxI/ownT7J4AzBOJRFLiT1LyeSQSsWNKU9Zf//pXDQwMpN1f\\\n",
              "x48ft2lW+SPx85Zu//KzeHmDg4Oqr6/Xl770Jd1yyy2ShvZpUVHRiOt/2aejO3bsmLxer86fP685\\\n",
              "c+Zo//79Wrp0qTo7O9mfV2Hv3r16//33deTIkRHL+BkdwhFAjMmWLVtUUFAw6oMgAczi8/n0wQcf\\\n",
              "aO/evXZPJefddNNN6uzs1OHDh7Vx40bV1dXpj3/8o93Tyknd3d169NFH9ctf/lIzZsywezpTFkcA\\\n",
              "MSabN2/W+vXrR13nhhtuGNO2PB7PiE+xJj595fF4rmp++eraa6/V5z73uRGfTuvp6WFfTYDEPuzp\\\n",
              "6dF1112XHO/p6dFtt91m06xyg9/v12uvvaZDhw5pwYIFyXGPx6P+/n6dPXs25QgLP7OjKyoq0uLF\\\n",
              "iyVJlZWVOnLkiJ577jk9+OCD7M8r1NHRoTNnzuiLX/xicmxgYECHDh1SMBjUG2+8wT4VRwAxRm63\\\n",
              "W0uWLBn1UVRUNKZteb1eHTt2LOVTrAcOHJDT6dTSpUuz9VfISUVFRaqsrNTBgweTY4ODgzp48KC8\\\n",
              "Xq+NM8sPixYtksfjSdm/sVhMhw8fZv9mYFmW/H6/9u/frzfffFOLFi1KWV5ZWanp06en7NMTJ06o\\\n",
              "q6uLfXoFBgcHFY/H2Z9X4d5779WxY8fU2dmZfKxYsULf+ta3kn9mn3IEEFnQ1dWlv/3tb+rq6tLA\\\n",
              "wIA6OzslSYsXL9acOXO0evVqLV26VN/+9re1fft2RSIRPf744/L5fHI4HPZOfgpqaGhQXV2dVqxY\\\n",
              "odtvv107duxQX1+fHnroIbunlhM+/fRTnTx5Mvn8o48+Umdnp0pKSlRRUaH6+no9+eSTuvHGG7Vo\\\n",
              "0SI98cQTKisrU01NjX2TnsJ8Pp/27Nmj3/zmNyouLk5eM+VyuTRz5ky5XC5t2LBBDQ0NKikpkdPp\\\n",
              "1COPPCKv16s777zT5tlPTY2NjVqzZo0qKip07tw57dmzR2+//bbeeOMN9udVKC4uTl6TmjB79mzN\\\n",
              "mzcvOc4+FbeBwcSrq6uzJI14vPXWW8l1Tp06Za1Zs8aaOXOmde2111qbN2+2Lly4YN+kp7gf//jH\\\n",
              "VkVFhVVUVGTdfvvt1rvvvmv3lHLGW2+9lfbnsa6uzrKsoVvBPPHEE1ZpaanlcDise++91zpx4oS9\\\n",
              "k57C0u1LSdbu3buT6/z973+3/v3f/9265pprrFmzZlnf/OY3rU8++cS+SU9x3/3ud62FCxdaRUVF\\\n",
              "ltvttu69917r97//fXI5+3P8Lr0NjGWxTy3Lsgosy7ImPzsBAABgF64BBAAAMAwBCAAAYBgCEAAA\\\n",
              "wDAEIAAAgGEIQAAAAMMQgAAAAIYhAAEAAAxDAAIAABiGAAQAADAMAQgAAGAYAhAAAMAwBCAAAIBh\\\n",
              "CEAAAADDEIAAAACGIQABAAAMQwACAAAYhgAEAAAwDAEIAABgGAIQAADAMAQgAACAYQhAAAAAwxCA\\\n",
              "AAAAhiEAAQAADEMAAgAAGIYABAAAMAwBCAAAYBgCEAAAwDAEIAAAgGEIQAAAAMMQgAAAAIYhAAEA\\\n",
              "AAzz/wElPYBGwhKoBgAAAABJRU5ErkJggg==\\\n",
              "\"\n",
              "\n",
              "\n",
              "    /* set a timeout to make sure all the above elements are created before\n",
              "       the object is initialized. */\n",
              "    setTimeout(function() {\n",
              "        anim43d847c6bb6345d4be96032e767a26f7 = new Animation(frames, img_id, slider_id, 500.0,\n",
              "                                 loop_select_id);\n",
              "    }, 0);\n",
              "  })()\n",
              "</script>\n"
            ]
          },
          "metadata": {},
          "execution_count": 33
        }
      ]
    },
    {
      "cell_type": "markdown",
      "source": [
        "## GPU batched algorithm"
      ],
      "metadata": {
        "id": "VGIeAOGFACSW"
      }
    },
    {
      "cell_type": "markdown",
      "source": [
        "To truly accelerate the algorithm, we need to be performing updates on a batch of points per iteration, instead of just one as we were doing."
      ],
      "metadata": {
        "id": "hm2q6I7oAHGX"
      }
    },
    {
      "cell_type": "code",
      "source": [
        "bs=5\n",
        "X = data.clone()\n",
        "x = X[:bs]\n",
        "x.shape,X.shape"
      ],
      "metadata": {
        "colab": {
          "base_uri": "https://localhost:8080/"
        },
        "id": "ZHVshCHd_9c8",
        "outputId": "2c5782ab-c16d-4b45-bb92-004aaf32cd19"
      },
      "execution_count": 34,
      "outputs": [
        {
          "output_type": "execute_result",
          "data": {
            "text/plain": [
              "(torch.Size([5, 2]), torch.Size([1500, 2]))"
            ]
          },
          "metadata": {},
          "execution_count": 34
        }
      ]
    },
    {
      "cell_type": "code",
      "source": [
        "def dist_b(a,b):\n",
        "  return (((a[None]-b[:,None])**2).sum(2)).sqrt()"
      ],
      "metadata": {
        "id": "dH5m7spDAaDd"
      },
      "execution_count": 35,
      "outputs": []
    },
    {
      "cell_type": "code",
      "source": [
        "dist_b(X, x)"
      ],
      "metadata": {
        "colab": {
          "base_uri": "https://localhost:8080/"
        },
        "id": "lgjmDc3XAfE1",
        "outputId": "c32259bf-596f-4d7c-d16a-22a7e5df18e2"
      },
      "execution_count": 36,
      "outputs": [
        {
          "output_type": "execute_result",
          "data": {
            "text/plain": [
              "tensor([[ 0.000,  3.899,  4.834,  ..., 19.248, 24.237, 23.242],\n",
              "        [ 3.899,  0.000,  4.978,  ..., 23.123, 28.136, 27.126],\n",
              "        [ 4.834,  4.978,  0.000,  ..., 20.986, 26.353, 25.012],\n",
              "        [ 3.726,  0.185,  4.969,  ..., 22.958, 27.964, 26.959],\n",
              "        [ 6.273,  5.547,  1.615,  ..., 22.378, 27.788, 26.392]])"
            ]
          },
          "metadata": {},
          "execution_count": 36
        }
      ]
    },
    {
      "cell_type": "code",
      "source": [
        "dist_b(X, x).shape"
      ],
      "metadata": {
        "colab": {
          "base_uri": "https://localhost:8080/"
        },
        "id": "sn9HY-PaAg1n",
        "outputId": "a374795f-ddf1-42f7-9c5f-bdacc58f0a37"
      },
      "execution_count": 37,
      "outputs": [
        {
          "output_type": "execute_result",
          "data": {
            "text/plain": [
              "torch.Size([5, 1500])"
            ]
          },
          "metadata": {},
          "execution_count": 37
        }
      ]
    },
    {
      "cell_type": "code",
      "source": [
        "X[None,:].shape, x[:,None].shape, (X[None,:]-x[:,None]).shape"
      ],
      "metadata": {
        "colab": {
          "base_uri": "https://localhost:8080/"
        },
        "id": "FMNEdYe3AkAs",
        "outputId": "abdf71ad-6f4c-4aa9-b3db-c1acdf8c9ec0"
      },
      "execution_count": 38,
      "outputs": [
        {
          "output_type": "execute_result",
          "data": {
            "text/plain": [
              "(torch.Size([1, 1500, 2]), torch.Size([5, 1, 2]), torch.Size([5, 1500, 2]))"
            ]
          },
          "metadata": {},
          "execution_count": 38
        }
      ]
    },
    {
      "cell_type": "code",
      "source": [
        "weight = gaussian(dist_b(X, x), 2)\n",
        "weight"
      ],
      "metadata": {
        "colab": {
          "base_uri": "https://localhost:8080/"
        },
        "id": "fAG44PJCAnM1",
        "outputId": "da94ab04-28bc-4e19-ee9d-7b267468a6b9"
      },
      "execution_count": 39,
      "outputs": [
        {
          "output_type": "execute_result",
          "data": {
            "text/plain": [
              "tensor([[    0.199,     0.030,     0.011,  ...,     0.000,     0.000,     0.000],\n",
              "        [    0.030,     0.199,     0.009,  ...,     0.000,     0.000,     0.000],\n",
              "        [    0.011,     0.009,     0.199,  ...,     0.000,     0.000,     0.000],\n",
              "        [    0.035,     0.199,     0.009,  ...,     0.000,     0.000,     0.000],\n",
              "        [    0.001,     0.004,     0.144,  ...,     0.000,     0.000,     0.000]])"
            ]
          },
          "metadata": {},
          "execution_count": 39
        }
      ]
    },
    {
      "cell_type": "code",
      "source": [
        "weight.shape,X.shape"
      ],
      "metadata": {
        "colab": {
          "base_uri": "https://localhost:8080/"
        },
        "id": "vSTSAQz5AqUm",
        "outputId": "9d428f7b-452b-4cf9-b908-7c3e846d56be"
      },
      "execution_count": 40,
      "outputs": [
        {
          "output_type": "execute_result",
          "data": {
            "text/plain": [
              "(torch.Size([5, 1500]), torch.Size([1500, 2]))"
            ]
          },
          "metadata": {},
          "execution_count": 40
        }
      ]
    },
    {
      "cell_type": "code",
      "source": [
        "weight[...,None].shape, X[None].shape"
      ],
      "metadata": {
        "colab": {
          "base_uri": "https://localhost:8080/"
        },
        "id": "WKNBEa51Asng",
        "outputId": "6e7390ae-737f-4456-fea8-a2d858f2d14e"
      },
      "execution_count": 41,
      "outputs": [
        {
          "output_type": "execute_result",
          "data": {
            "text/plain": [
              "(torch.Size([5, 1500, 1]), torch.Size([1, 1500, 2]))"
            ]
          },
          "metadata": {},
          "execution_count": 41
        }
      ]
    },
    {
      "cell_type": "code",
      "source": [
        "num = (weight[...,None]*X[None]).sum(1)\n",
        "num.shape"
      ],
      "metadata": {
        "colab": {
          "base_uri": "https://localhost:8080/"
        },
        "id": "u9U4toEFAuo3",
        "outputId": "af49003b-55fb-47ed-b079-c659ddf4f3ac"
      },
      "execution_count": 42,
      "outputs": [
        {
          "output_type": "execute_result",
          "data": {
            "text/plain": [
              "torch.Size([5, 2])"
            ]
          },
          "metadata": {},
          "execution_count": 42
        }
      ]
    },
    {
      "cell_type": "code",
      "source": [
        "num"
      ],
      "metadata": {
        "colab": {
          "base_uri": "https://localhost:8080/"
        },
        "id": "O8RKnJWBAw8E",
        "outputId": "c1a1d810-27b1-49c3-ca28-2223a885eb70"
      },
      "execution_count": 43,
      "outputs": [
        {
          "output_type": "execute_result",
          "data": {
            "text/plain": [
              "tensor([[429.396, 450.040],\n",
              "        [605.937, 679.535],\n",
              "        [379.999, 382.983],\n",
              "        [616.894, 690.807],\n",
              "        [266.098, 270.242]])"
            ]
          },
          "metadata": {},
          "execution_count": 43
        }
      ]
    },
    {
      "cell_type": "code",
      "source": [
        "torch.einsum('ij,jk->ik', weight, X)"
      ],
      "metadata": {
        "colab": {
          "base_uri": "https://localhost:8080/"
        },
        "id": "Eiuq4U44Ayfe",
        "outputId": "112746dd-c509-45b9-a837-8ccb419239a0"
      },
      "execution_count": 44,
      "outputs": [
        {
          "output_type": "execute_result",
          "data": {
            "text/plain": [
              "tensor([[429.396, 450.040],\n",
              "        [605.937, 679.535],\n",
              "        [379.999, 382.983],\n",
              "        [616.894, 690.807],\n",
              "        [266.098, 270.242]])"
            ]
          },
          "metadata": {},
          "execution_count": 44
        }
      ]
    },
    {
      "cell_type": "code",
      "source": [
        "weight@X"
      ],
      "metadata": {
        "colab": {
          "base_uri": "https://localhost:8080/"
        },
        "id": "n_y3Yk2SA0Q3",
        "outputId": "ccbef800-6d7d-4121-cd3d-0cebd8d2ffdf"
      },
      "execution_count": 45,
      "outputs": [
        {
          "output_type": "execute_result",
          "data": {
            "text/plain": [
              "tensor([[429.396, 450.040],\n",
              "        [605.937, 679.535],\n",
              "        [379.999, 382.983],\n",
              "        [616.894, 690.807],\n",
              "        [266.098, 270.242]])"
            ]
          },
          "metadata": {},
          "execution_count": 45
        }
      ]
    },
    {
      "cell_type": "code",
      "source": [
        "div = weight.sum(1, keepdim=True)\n",
        "div.shape"
      ],
      "metadata": {
        "colab": {
          "base_uri": "https://localhost:8080/"
        },
        "id": "3Yk46MQJA2HV",
        "outputId": "2e491dbe-7466-4044-f092-da26d7b2ddcf"
      },
      "execution_count": 46,
      "outputs": [
        {
          "output_type": "execute_result",
          "data": {
            "text/plain": [
              "torch.Size([5, 1])"
            ]
          },
          "metadata": {},
          "execution_count": 46
        }
      ]
    },
    {
      "cell_type": "code",
      "source": [
        "num/div"
      ],
      "metadata": {
        "colab": {
          "base_uri": "https://localhost:8080/"
        },
        "id": "SZFn2bGpA60U",
        "outputId": "54839266-e32d-4c79-b5ef-0b0ee56fc461"
      },
      "execution_count": 47,
      "outputs": [
        {
          "output_type": "execute_result",
          "data": {
            "text/plain": [
              "tensor([[30.787, 32.267],\n",
              "        [30.512, 34.218],\n",
              "        [33.304, 33.565],\n",
              "        [30.482, 34.134],\n",
              "        [33.735, 34.260]])"
            ]
          },
          "metadata": {},
          "execution_count": 47
        }
      ]
    },
    {
      "cell_type": "code",
      "source": [
        "def meanshift(data, bs=500):\n",
        "    n = len(data)\n",
        "    X = data.clone()\n",
        "    for it in range(5):\n",
        "        for i in range(0, n, bs):\n",
        "            s = slice(i, min(i+bs,n))\n",
        "            weight = gaussian(dist_b(X, X[s]), 2.5)\n",
        "#             weight = tri(dist_b(X, X[s]), 8)\n",
        "            div = weight.sum(1, keepdim=True)\n",
        "            X[s] = weight@X/div\n",
        "    return X"
      ],
      "metadata": {
        "id": "y2csDpbRA8_Y"
      },
      "execution_count": 48,
      "outputs": []
    },
    {
      "cell_type": "code",
      "source": [
        "data = data.cuda()"
      ],
      "metadata": {
        "id": "f71imP5RBGCz"
      },
      "execution_count": 49,
      "outputs": []
    },
    {
      "cell_type": "code",
      "source": [
        "X = meanshift(data).cpu()"
      ],
      "metadata": {
        "id": "6PFXLnNFBHld"
      },
      "execution_count": 50,
      "outputs": []
    },
    {
      "cell_type": "code",
      "source": [
        "%timeit -n 5 _=meanshift(data, 1250).cpu()"
      ],
      "metadata": {
        "colab": {
          "base_uri": "https://localhost:8080/"
        },
        "id": "W_oa77rNBJzg",
        "outputId": "79785d94-45e4-495e-8a5f-ed91058ec68d"
      },
      "execution_count": 51,
      "outputs": [
        {
          "output_type": "stream",
          "name": "stdout",
          "text": [
            "5.85 ms ± 416 µs per loop (mean ± std. dev. of 7 runs, 5 loops each)\n"
          ]
        }
      ]
    },
    {
      "cell_type": "code",
      "source": [
        "plot_data(centroids+2, X, n_samples)"
      ],
      "metadata": {
        "colab": {
          "base_uri": "https://localhost:8080/",
          "height": 430
        },
        "id": "M4kF6YBUBMA2",
        "outputId": "bd493a90-ca27-43dd-93db-12f5cf67c632"
      },
      "execution_count": 52,
      "outputs": [
        {
          "output_type": "display_data",
          "data": {
            "text/plain": [
              "<Figure size 640x480 with 1 Axes>"
            ],
            "image/png": "[encoded data removed]"
          },
          "metadata": {}
        }
      ]
    },
    {
      "cell_type": "markdown",
      "source": [
        "**Homework:** implement k-means clustering, dbscan, locality sensitive hashing, or some other clustering, fast nearest neighbors, or similar algorithm of your choice, on the GPU. Check if your version is faster than a pure python or CPU version.\n",
        "\n",
        "Bonus: Implement it in APL too!\n",
        "\n",
        "Super bonus: Invent a new meanshift algorithm which picks only the closest points, to avoid quadratic time.\n",
        "\n",
        "Super super bonus: Publish a paper that describes it :D"
      ],
      "metadata": {
        "id": "ij9kAfpxBQDa"
      }
    },
    {
      "cell_type": "code",
      "source": [],
      "metadata": {
        "id": "-3UQj66SBNcr"
      },
      "execution_count": 52,
      "outputs": []
    }
  ]
}