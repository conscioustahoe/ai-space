{
 "cells": [
  {
   "cell_type": "code",
   "execution_count": null,
   "id": "ba836471-a09b-47ac-b969-2b4d10132019",
   "metadata": {},
   "outputs": [],
   "source": []
  }
 ],
 "metadata": {
  "kernelspec": {
   "display_name": "Python 3 (ipykernel)",
   "language": "python",
   "name": "python3"
  },
  "language_info": {
   "name": ""
  }
 },
 "nbformat": 4,
 "nbformat_minor": 5
}
