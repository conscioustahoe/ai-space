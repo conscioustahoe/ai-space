{
 "cells": [
  {
   "cell_type": "markdown",
   "id": "3e2c6255-68e2-4eac-9a47-3ebf7188bc8d",
   "metadata": {},
   "source": [
    "# Add Dependencies"
   ]
  },
  {
   "cell_type": "code",
   "execution_count": 1,
   "id": "bd02f93f-23ce-40ef-ac03-b8cb5004205f",
   "metadata": {
    "execution": {
     "iopub.execute_input": "2023-03-26T10:31:56.940821Z",
     "iopub.status.busy": "2023-03-26T10:31:56.940009Z",
     "iopub.status.idle": "2023-03-26T10:32:04.740409Z",
     "shell.execute_reply": "2023-03-26T10:32:04.739703Z",
     "shell.execute_reply.started": "2023-03-26T10:31:56.940788Z"
    }
   },
   "outputs": [
    {
     "name": "stdout",
     "output_type": "stream",
     "text": [
      "Collecting nbdev\n",
      "  Downloading nbdev-2.3.12-py3-none-any.whl (64 kB)\n",
      "\u001b[2K     \u001b[90m━━━━━━━━━━━━━━━━━━━━━━━━━━━━━━━━━━━━━━━━\u001b[0m \u001b[32m64.8/64.8 kB\u001b[0m \u001b[31m14.6 MB/s\u001b[0m eta \u001b[36m0:00:00\u001b[0m\n",
      "\u001b[?25hCollecting ghapi>=1.0.3\n",
      "  Downloading ghapi-1.0.3-py3-none-any.whl (58 kB)\n",
      "\u001b[2K     \u001b[90m━━━━━━━━━━━━━━━━━━━━━━━━━━━━━━━━━━━━━━━━\u001b[0m \u001b[32m58.1/58.1 kB\u001b[0m \u001b[31m11.7 MB/s\u001b[0m eta \u001b[36m0:00:00\u001b[0m\n",
      "\u001b[?25hRequirement already satisfied: PyYAML in /usr/local/lib/python3.9/dist-packages (from nbdev) (5.4.1)\n",
      "Requirement already satisfied: asttokens in /usr/local/lib/python3.9/dist-packages (from nbdev) (2.2.1)\n",
      "Requirement already satisfied: astunparse in /usr/local/lib/python3.9/dist-packages (from nbdev) (1.6.3)\n",
      "Requirement already satisfied: fastcore>=1.5.27 in /usr/local/lib/python3.9/dist-packages (from nbdev) (1.5.28)\n",
      "Collecting watchdog\n",
      "  Downloading watchdog-3.0.0-py3-none-manylinux2014_x86_64.whl (82 kB)\n",
      "\u001b[2K     \u001b[90m━━━━━━━━━━━━━━━━━━━━━━━━━━━━━━━━━━━━━━━━\u001b[0m \u001b[32m82.1/82.1 kB\u001b[0m \u001b[31m22.9 MB/s\u001b[0m eta \u001b[36m0:00:00\u001b[0m\n",
      "\u001b[?25hCollecting execnb>=0.1.4\n",
      "  Downloading execnb-0.1.5-py3-none-any.whl (13 kB)\n",
      "Requirement already satisfied: ipython in /usr/local/lib/python3.9/dist-packages (from execnb>=0.1.4->nbdev) (8.5.0)\n",
      "Requirement already satisfied: packaging in /usr/local/lib/python3.9/dist-packages (from fastcore>=1.5.27->nbdev) (23.0)\n",
      "Requirement already satisfied: pip in /usr/local/lib/python3.9/dist-packages (from fastcore>=1.5.27->nbdev) (22.3.1)\n",
      "Requirement already satisfied: six in /usr/lib/python3/dist-packages (from asttokens->nbdev) (1.14.0)\n",
      "Requirement already satisfied: wheel<1.0,>=0.23.0 in /usr/local/lib/python3.9/dist-packages (from astunparse->nbdev) (0.35.1)\n",
      "Requirement already satisfied: decorator in /usr/local/lib/python3.9/dist-packages (from ipython->execnb>=0.1.4->nbdev) (5.1.1)\n",
      "Requirement already satisfied: prompt-toolkit<3.1.0,>3.0.1 in /usr/local/lib/python3.9/dist-packages (from ipython->execnb>=0.1.4->nbdev) (3.0.36)\n",
      "Requirement already satisfied: pickleshare in /usr/local/lib/python3.9/dist-packages (from ipython->execnb>=0.1.4->nbdev) (0.7.5)\n",
      "Requirement already satisfied: jedi>=0.16 in /usr/local/lib/python3.9/dist-packages (from ipython->execnb>=0.1.4->nbdev) (0.18.2)\n",
      "Requirement already satisfied: backcall in /usr/local/lib/python3.9/dist-packages (from ipython->execnb>=0.1.4->nbdev) (0.2.0)\n",
      "Requirement already satisfied: matplotlib-inline in /usr/local/lib/python3.9/dist-packages (from ipython->execnb>=0.1.4->nbdev) (0.1.6)\n",
      "Requirement already satisfied: pexpect>4.3 in /usr/local/lib/python3.9/dist-packages (from ipython->execnb>=0.1.4->nbdev) (4.8.0)\n",
      "Requirement already satisfied: pygments>=2.4.0 in /usr/local/lib/python3.9/dist-packages (from ipython->execnb>=0.1.4->nbdev) (2.14.0)\n",
      "Requirement already satisfied: traitlets>=5 in /usr/local/lib/python3.9/dist-packages (from ipython->execnb>=0.1.4->nbdev) (5.8.1)\n",
      "Requirement already satisfied: stack-data in /usr/local/lib/python3.9/dist-packages (from ipython->execnb>=0.1.4->nbdev) (0.6.2)\n",
      "Requirement already satisfied: parso<0.9.0,>=0.8.0 in /usr/local/lib/python3.9/dist-packages (from jedi>=0.16->ipython->execnb>=0.1.4->nbdev) (0.8.3)\n",
      "Requirement already satisfied: ptyprocess>=0.5 in /usr/local/lib/python3.9/dist-packages (from pexpect>4.3->ipython->execnb>=0.1.4->nbdev) (0.7.0)\n",
      "Requirement already satisfied: wcwidth in /usr/local/lib/python3.9/dist-packages (from prompt-toolkit<3.1.0,>3.0.1->ipython->execnb>=0.1.4->nbdev) (0.2.6)\n",
      "Requirement already satisfied: executing>=1.2.0 in /usr/local/lib/python3.9/dist-packages (from stack-data->ipython->execnb>=0.1.4->nbdev) (1.2.0)\n",
      "Requirement already satisfied: pure-eval in /usr/local/lib/python3.9/dist-packages (from stack-data->ipython->execnb>=0.1.4->nbdev) (0.2.2)\n",
      "Installing collected packages: watchdog, ghapi, execnb, nbdev\n",
      "Successfully installed execnb-0.1.5 ghapi-1.0.3 nbdev-2.3.12 watchdog-3.0.0\n",
      "\u001b[33mWARNING: Running pip as the 'root' user can result in broken permissions and conflicting behaviour with the system package manager. It is recommended to use a virtual environment instead: https://pip.pypa.io/warnings/venv\u001b[0m\u001b[33m\n",
      "\u001b[0m"
     ]
    }
   ],
   "source": [
    "!pip install -Uqq fastai\n",
    "!pip install nbdev"
   ]
  },
  {
   "cell_type": "markdown",
   "id": "e02a539a-28cc-4122-ab0c-d8f301624292",
   "metadata": {},
   "source": [
    "# Add Plot Function"
   ]
  },
  {
   "cell_type": "code",
   "execution_count": 4,
   "id": "1b01bca1-a0ee-47ec-9230-f6fdcf944a3e",
   "metadata": {
    "execution": {
     "iopub.execute_input": "2023-03-26T10:35:07.818242Z",
     "iopub.status.busy": "2023-03-26T10:35:07.817066Z",
     "iopub.status.idle": "2023-03-26T10:35:07.824125Z",
     "shell.execute_reply": "2023-03-26T10:35:07.823230Z",
     "shell.execute_reply.started": "2023-03-26T10:35:07.818202Z"
    }
   },
   "outputs": [],
   "source": [
    "from ipywidgets import interact\n",
    "from fastai.basics import *\n",
    "\n",
    "plt.rc('figure', dpi=90)\n",
    "\n",
    "def plot_function(f, title=None, min=-2.1, max=2.1, color='r', ylim=None):\n",
    "    x = torch.linspace(min,max, 100)[:,None]\n",
    "    if ylim: plt.ylim(ylim)\n",
    "    plt.plot(x, f(x), color)\n",
    "    if title is not None: plt.title(title)"
   ]
  },
  {
   "cell_type": "markdown",
   "id": "967441fa-a649-43b1-a60b-ebd96e8703a8",
   "metadata": {},
   "source": [
    "# Fitting Function Using Gradient Descent\n",
    "\n",
    "A neural network is just a mathematical function. In the most standard kind of neural network, the function:\n",
    "\n",
    "1. Multiplies each input by a number of values. These values are known as parameters\n",
    "2. Adds them up for each group of values\n",
    "3. Replaces the negative numbers with zeros\n",
    "4. This represents one \"layer\". Then these three steps are repeated, using the outputs of the previous layer as the inputs to the next layer. Initially, the parameters in this function are selected randomly. Therefore a newly created neural network doesn't do anything useful at all -- it's just random!\n",
    "\n",
    "To get the function to \"learn\" to do something useful, we have to change the parameters to make them \"better\" in some way. We do this using gradient descent. Let's see how this works..."
   ]
  },
  {
   "cell_type": "markdown",
   "id": "9dff8548-6942-401e-9c52-ce4b15d27113",
   "metadata": {},
   "source": [
    "To learn how gradient descent works, we're going to start by fitting a quadratic, since that's a function most of us are probably more familiar with than a neural network. Here's the quadratic we're going to try to fit:"
   ]
  },
  {
   "cell_type": "code",
   "execution_count": 5,
   "id": "1e61e5c3-0163-4326-a067-74af83a54dbb",
   "metadata": {
    "execution": {
     "iopub.execute_input": "2023-03-26T10:36:39.685614Z",
     "iopub.status.busy": "2023-03-26T10:36:39.685187Z",
     "iopub.status.idle": "2023-03-26T10:36:39.922180Z",
     "shell.execute_reply": "2023-03-26T10:36:39.921610Z",
     "shell.execute_reply.started": "2023-03-26T10:36:39.685587Z"
    }
   },
   "outputs": [
    {
     "data": {
      "image/png": "[encoded data removed]",
      "text/plain": [
       "<Figure size 576x432 with 1 Axes>"
      ]
     },
     "metadata": {},
     "output_type": "display_data"
    }
   ],
   "source": [
    "def f(x): return 3*x**2 + 2*x + 1\n",
    "\n",
    "plot_function(f, \"$3x^2 + 2x + 1$\")"
   ]
  },
  {
   "cell_type": "markdown",
   "id": "60787f1d-2e34-4f3e-bba9-2b8b30e1c639",
   "metadata": {},
   "source": [
    "This quadratic is of the form $ax^2+bx+c$, with parameters $a=3$, $b=2$, $c=1$. To make it easier to try out different quadratics for fitting a model to the data we'll create, let's create a function that calculates the value of a point on any quadratic:\n"
   ]
  },
  {
   "cell_type": "code",
   "execution_count": 6,
   "id": "9c23381d-fd42-4132-a309-9071be60cea8",
   "metadata": {
    "execution": {
     "iopub.execute_input": "2023-03-26T10:39:04.156956Z",
     "iopub.status.busy": "2023-03-26T10:39:04.156227Z",
     "iopub.status.idle": "2023-03-26T10:39:04.162004Z",
     "shell.execute_reply": "2023-03-26T10:39:04.160563Z",
     "shell.execute_reply.started": "2023-03-26T10:39:04.156926Z"
    }
   },
   "outputs": [],
   "source": [
    "def quad(a, b, c, x): return a*x**2 + b*x + c"
   ]
  },
  {
   "cell_type": "markdown",
   "id": "fe67f3b8-fe3e-4c90-9597-92efed1595cc",
   "metadata": {},
   "source": [
    "If we fix some particular values of a, b, and c, then we'll have made a quadratic. To fix values passed to a function in python, we use the `partial` function, like so:"
   ]
  },
  {
   "cell_type": "code",
   "execution_count": 7,
   "id": "eb08eead-b2c2-4557-a541-e1aaf5893c9f",
   "metadata": {
    "execution": {
     "iopub.execute_input": "2023-03-26T10:39:54.328358Z",
     "iopub.status.busy": "2023-03-26T10:39:54.327581Z",
     "iopub.status.idle": "2023-03-26T10:39:54.332170Z",
     "shell.execute_reply": "2023-03-26T10:39:54.331497Z",
     "shell.execute_reply.started": "2023-03-26T10:39:54.328327Z"
    }
   },
   "outputs": [],
   "source": [
    "def mk_quad(a,b,c): return partial(quad, a,b,c)"
   ]
  },
  {
   "cell_type": "markdown",
   "id": "07701e02-51f5-4d0f-9d24-2cd6c21b1ad6",
   "metadata": {},
   "source": [
    "So for instance, we can recreate our previous quadratic:"
   ]
  },
  {
   "cell_type": "code",
   "execution_count": 8,
   "id": "c81b6408-e2f1-4cc2-8e71-868740266206",
   "metadata": {
    "execution": {
     "iopub.execute_input": "2023-03-26T10:45:09.946640Z",
     "iopub.status.busy": "2023-03-26T10:45:09.945950Z",
     "iopub.status.idle": "2023-03-26T10:45:10.068645Z",
     "shell.execute_reply": "2023-03-26T10:45:10.067427Z",
     "shell.execute_reply.started": "2023-03-26T10:45:09.946611Z"
    }
   },
   "outputs": [
    {
     "data": {
      "image/png": "[encoded data removed]",
      "text/plain": [
       "<Figure size 576x432 with 1 Axes>"
      ]
     },
     "metadata": {},
     "output_type": "display_data"
    }
   ],
   "source": [
    "f2 = mk_quad(3,2,1)\n",
    "plot_function(f2)"
   ]
  },
  {
   "cell_type": "markdown",
   "id": "23189a04-d0f9-4737-9e19-f897359e31aa",
   "metadata": {},
   "source": [
    "Now let's simulate making some noisy measurements of our quadratic `f`. We'll then use gradient descent to see if we can recreate the original function from the data.\n",
    "\n",
    "Here's a couple of functions to add some random noise to data:"
   ]
  },
  {
   "cell_type": "code",
   "execution_count": 9,
   "id": "fe9f36cc-7d53-42ea-8907-6c2a6c253b01",
   "metadata": {
    "execution": {
     "iopub.execute_input": "2023-03-26T10:46:10.097468Z",
     "iopub.status.busy": "2023-03-26T10:46:10.097093Z",
     "iopub.status.idle": "2023-03-26T10:46:10.102703Z",
     "shell.execute_reply": "2023-03-26T10:46:10.101821Z",
     "shell.execute_reply.started": "2023-03-26T10:46:10.097442Z"
    }
   },
   "outputs": [],
   "source": [
    "def noise(x, scale): return np.random.normal(scale=scale, size=x.shape)\n",
    "def add_noise(x, mult, add): return x * (1+noise(x,mult)) + noise(x,add)"
   ]
  },
  {
   "cell_type": "markdown",
   "id": "dbbcc8b0-1a1a-47b0-ab00-a6e975f5dcb9",
   "metadata": {},
   "source": [
    "Let's use the now to create our noisy measurements based on the quadratic above:"
   ]
  },
  {
   "cell_type": "code",
   "execution_count": 10,
   "id": "29a47752-2368-4e40-9d80-1446bb4fe81a",
   "metadata": {
    "execution": {
     "iopub.execute_input": "2023-03-26T10:46:48.684624Z",
     "iopub.status.busy": "2023-03-26T10:46:48.683676Z",
     "iopub.status.idle": "2023-03-26T10:46:48.708777Z",
     "shell.execute_reply": "2023-03-26T10:46:48.708015Z",
     "shell.execute_reply.started": "2023-03-26T10:46:48.684586Z"
    }
   },
   "outputs": [],
   "source": [
    "np.random.seed(42)\n",
    "\n",
    "x = torch.linspace(-2, 2, steps=20)[:,None]\n",
    "y = add_noise(f(x), 0.15, 1.5)"
   ]
  },
  {
   "cell_type": "markdown",
   "id": "e7058232-b767-487a-bfec-3de0c7034633",
   "metadata": {},
   "source": [
    "Here's the first few values of each of `x` and `y`:"
   ]
  },
  {
   "cell_type": "code",
   "execution_count": 11,
   "id": "52789018-6b1d-4071-911a-430420c1366e",
   "metadata": {
    "execution": {
     "iopub.execute_input": "2023-03-26T10:47:29.709835Z",
     "iopub.status.busy": "2023-03-26T10:47:29.708947Z",
     "iopub.status.idle": "2023-03-26T10:47:29.726989Z",
     "shell.execute_reply": "2023-03-26T10:47:29.726229Z",
     "shell.execute_reply.started": "2023-03-26T10:47:29.709805Z"
    }
   },
   "outputs": [
    {
     "data": {
      "text/plain": [
       "(tensor([[-2.0000],\n",
       "         [-1.7895],\n",
       "         [-1.5789],\n",
       "         [-1.3684],\n",
       "         [-1.1579]]),\n",
       " tensor([[11.8690],\n",
       "         [ 6.5433],\n",
       "         [ 5.9396],\n",
       "         [ 2.6304],\n",
       "         [ 1.7947]], dtype=torch.float64))"
      ]
     },
     "execution_count": 11,
     "metadata": {},
     "output_type": "execute_result"
    }
   ],
   "source": [
    "x[:5],y[:5]"
   ]
  },
  {
   "cell_type": "markdown",
   "id": "b9b90a0d-b0aa-421c-bd98-6a7e04ba9d9b",
   "metadata": {},
   "source": [
    "As you can see, they're tensors. A tensor is just like an array in numpy (if you're not familiar with numpy, I strongly recommend reading this great book, because it's a critical foundation for nearly all numeric programming in Python. Furthermore, PyTorch, which most researchers use for deep learning, is modeled closely on numpy.) A tensor can be a single number (a scalar or rank-0 tensor), a list of numbers (a vector or rank-1 tensor), a table of numbers (a matrix or rank-2 tensor), a table of tables of numbers (a rank-3 tensor), and so forth."
   ]
  },
  {
   "cell_type": "markdown",
   "id": "981516b1-fded-4303-b3c0-37fb0a548c91",
   "metadata": {},
   "source": [
    "We're not going to learn much about our data by just looking at the raw numbers, so let's draw a picture:"
   ]
  },
  {
   "cell_type": "code",
   "execution_count": 12,
   "id": "3098fc0d-7fba-467b-b94d-6dd6aea45519",
   "metadata": {
    "execution": {
     "iopub.execute_input": "2023-03-26T10:50:12.623334Z",
     "iopub.status.busy": "2023-03-26T10:50:12.622611Z",
     "iopub.status.idle": "2023-03-26T10:50:12.792302Z",
     "shell.execute_reply": "2023-03-26T10:50:12.791315Z",
     "shell.execute_reply.started": "2023-03-26T10:50:12.623298Z"
    }
   },
   "outputs": [
    {
     "data": {
      "text/plain": [
       "<matplotlib.collections.PathCollection at 0x7fb5b22506a0>"
      ]
     },
     "execution_count": 12,
     "metadata": {},
     "output_type": "execute_result"
    },
    {
     "data": {
      "image/png": "[encoded data removed]",
      "text/plain": [
       "<Figure size 576x432 with 1 Axes>"
      ]
     },
     "metadata": {},
     "output_type": "display_data"
    }
   ],
   "source": [
    "plt.scatter(x, y)"
   ]
  },
  {
   "cell_type": "markdown",
   "id": "eb74dc82-91ca-4b18-9b47-263673f79cab",
   "metadata": {},
   "source": [
    "How do we find values of a, b, and c which fit this data? One approach is to try a few values and see what fits. Here's a function which overlays a quadratic on top of our data, along with some sliders to change a, b, and c, and see how it looks:"
   ]
  },
  {
   "cell_type": "code",
   "execution_count": 16,
   "id": "426a9cd9-4fb5-49bf-9f63-bfb85b599012",
   "metadata": {
    "execution": {
     "iopub.execute_input": "2023-03-26T11:34:44.319679Z",
     "iopub.status.busy": "2023-03-26T11:34:44.319345Z",
     "iopub.status.idle": "2023-03-26T11:34:44.442637Z",
     "shell.execute_reply": "2023-03-26T11:34:44.441960Z",
     "shell.execute_reply.started": "2023-03-26T11:34:44.319655Z"
    }
   },
   "outputs": [
    {
     "data": {
      "image/png": "[encoded data removed]",
      "text/plain": [
       "<Figure size 576x432 with 1 Axes>"
      ]
     },
     "metadata": {},
     "output_type": "display_data"
    },
    {
     "data": {
      "application/vnd.jupyter.widget-view+json": {
       "model_id": "e13c5c18bbe34041adb08069daa5566f",
       "version_major": 2,
       "version_minor": 0
      },
      "text/plain": [
       "interactive(children=(FloatSlider(value=1.1, description='a', max=3.3000000000000003, min=-1.1), FloatSlider(v…"
      ]
     },
     "metadata": {},
     "output_type": "display_data"
    }
   ],
   "source": [
    "@interact(a=1.1, b=1.1, c=1.1)\n",
    "def plot_quad(a, b, c):\n",
    "    plt.scatter(x,y)\n",
    "    plot_function(mk_quad(a,b,c), ylim=(-3,13))"
   ]
  },
  {
   "cell_type": "markdown",
   "id": "1a5333e8-6d1f-49cc-a094-188822ac44b7",
   "metadata": {},
   "source": [
    "Try moving slider a a bit to the left. Does that look better or worse? How about if you move it a bit to the right? Find out which direction seems to improve the fit of the quadratic to the data, and move the slider a bit in that direction. Next, do the same for slider b: first figure out which direction improves the fit, then move it a bit in that direction. Then do the same for c.\n",
    "\n",
    "OK, now go back to slider a and repeat the process. Do it again for b and c as well.\n",
    "\n",
    "Did you notice that by going back and doing the sliders a second time that you were able to improve things a bit further? That's an important insight -- it's only after changing b and c, for instance, that you realise that a actually needs some adjustment based on those new values.\n",
    "\n",
    "One thing that's making this tricky is that we don't really have a great sense of whether our fit is really better or worse. It would be easier if we had a numeric measure of that. On easy metric we could use is mean absolute error -- which is the distance from each data point to the curve:"
   ]
  },
  {
   "cell_type": "code",
   "execution_count": 17,
   "id": "ac0f4cef-65de-463d-8766-1d912fa38bac",
   "metadata": {
    "execution": {
     "iopub.execute_input": "2023-03-26T11:35:10.865477Z",
     "iopub.status.busy": "2023-03-26T11:35:10.864936Z",
     "iopub.status.idle": "2023-03-26T11:35:10.872751Z",
     "shell.execute_reply": "2023-03-26T11:35:10.872037Z",
     "shell.execute_reply.started": "2023-03-26T11:35:10.865423Z"
    }
   },
   "outputs": [],
   "source": [
    "def mae(preds, acts): return (torch.abs(preds-acts)).mean()"
   ]
  },
  {
   "cell_type": "markdown",
   "id": "fac2db9f-117a-4a00-be8a-170eb1a85269",
   "metadata": {},
   "source": [
    "We'll update our interactive function to print this at the top for us.\n",
    "\n",
    "Use this to repeat the approach we took before to try to find the best fit, but this time just use the value of the metric to decide which direction to move each slider, and how far to move it.\n",
    "\n",
    "This time around, try doing it in the opposite order: c, then b, then a.\n",
    "\n",
    "You'll probably find that you have to go through the set of sliders a couple of times to get the best fit."
   ]
  },
  {
   "cell_type": "code",
   "execution_count": 18,
   "id": "f4b13f2c-9a43-406c-89b6-c5fa624433cf",
   "metadata": {
    "execution": {
     "iopub.execute_input": "2023-03-26T11:35:52.580498Z",
     "iopub.status.busy": "2023-03-26T11:35:52.580105Z",
     "iopub.status.idle": "2023-03-26T11:35:52.722547Z",
     "shell.execute_reply": "2023-03-26T11:35:52.721586Z",
     "shell.execute_reply.started": "2023-03-26T11:35:52.580479Z"
    }
   },
   "outputs": [
    {
     "data": {
      "image/png": "[encoded data removed]",
      "text/plain": [
       "<Figure size 576x432 with 1 Axes>"
      ]
     },
     "metadata": {},
     "output_type": "display_data"
    },
    {
     "data": {
      "application/vnd.jupyter.widget-view+json": {
       "model_id": "9e05c5e3b99b4e58abb7ec1cefdaf7fa",
       "version_major": 2,
       "version_minor": 0
      },
      "text/plain": [
       "interactive(children=(FloatSlider(value=1.1, description='a', max=3.3000000000000003, min=-1.1), FloatSlider(v…"
      ]
     },
     "metadata": {},
     "output_type": "display_data"
    }
   ],
   "source": [
    "@interact(a=1.1, b=1.1, c=1.1)\n",
    "def plot_quad(a, b, c):\n",
    "    f = mk_quad(a,b,c)\n",
    "    plt.scatter(x,y)\n",
    "    loss = mae(f(x), y)\n",
    "    plot_function(f, ylim=(-3,12), title=f\"MAE: {loss:.2f}\")"
   ]
  },
  {
   "cell_type": "markdown",
   "id": "9bfdfd1a-f938-4640-a93d-a5fe0050d9a6",
   "metadata": {},
   "source": [
    "In a modern neural network we'll often have tens of millions of parameters to fit, or more, and thousands or millions of data points to fit them to. We're not going to be able to do that by moving sliders around! We'll need to automate this process.\n",
    "\n",
    "Thankfully, that turns out to be pretty straightforward. We can use calculus to figure out, for each parameter, whether we should increase or decrease it."
   ]
  },
  {
   "cell_type": "markdown",
   "id": "d11ee3b0-7c24-41ed-a525-72cb6824c6c8",
   "metadata": {},
   "source": [
    "# Automating Gradient Descent\n",
    "The basic idea is this: if we know the gradient of our mae() function with respect to our parameters, a, b, and c, then that means we know how adjusting (for instance) a will change the value of mae(). If, say, a has a negative gradient, then we know that increasing a will decrease mae(). Then we know that's what we need to do, since we trying to make mae() as low as possible.\n",
    "\n",
    "So, we find the gradient of mae() for each of our parameters, and then adjust our parameters a bit in the opposite direction to the sign of the gradient.\n",
    "\n",
    "To do this, first we need a function that takes all the parameters a, b, and c as a single vector input, and returns the value mae() based on those parameters:"
   ]
  },
  {
   "cell_type": "code",
   "execution_count": 19,
   "id": "a286d02f-5fd0-4356-9547-617da082ea8b",
   "metadata": {
    "execution": {
     "iopub.execute_input": "2023-03-26T11:40:27.183000Z",
     "iopub.status.busy": "2023-03-26T11:40:27.182561Z",
     "iopub.status.idle": "2023-03-26T11:40:27.188071Z",
     "shell.execute_reply": "2023-03-26T11:40:27.186978Z",
     "shell.execute_reply.started": "2023-03-26T11:40:27.182957Z"
    }
   },
   "outputs": [],
   "source": [
    "def quad_mae(params):\n",
    "    f = mk_quad(*params)\n",
    "    return mae(f(x), y)"
   ]
  },
  {
   "cell_type": "code",
   "execution_count": 21,
   "id": "3ec8dcc4-6163-4fa0-a555-53dfe4dea012",
   "metadata": {
    "execution": {
     "iopub.execute_input": "2023-03-26T12:29:25.235802Z",
     "iopub.status.busy": "2023-03-26T12:29:25.235479Z",
     "iopub.status.idle": "2023-03-26T12:29:25.241911Z",
     "shell.execute_reply": "2023-03-26T12:29:25.240992Z",
     "shell.execute_reply.started": "2023-03-26T12:29:25.235777Z"
    }
   },
   "outputs": [
    {
     "data": {
      "text/plain": [
       "tensor(2.4219, dtype=torch.float64)"
      ]
     },
     "execution_count": 21,
     "metadata": {},
     "output_type": "execute_result"
    }
   ],
   "source": [
    "quad_mae([1.1, 1.1, 1.1])"
   ]
  },
  {
   "cell_type": "markdown",
   "id": "a3fbcd92-6e03-4744-86ff-8e94b24229d4",
   "metadata": {},
   "source": [
    "Yup, that's the same as the starting mae() we had in our plot before.\n",
    "\n",
    "We're first going to do exactly the same thing as we did manually -- pick some arbritrary starting point for our parameters. We'll put them all into a single tensor:"
   ]
  },
  {
   "cell_type": "code",
   "execution_count": 22,
   "id": "c0246466-dc79-4fa0-8e97-6db2f8aa7a72",
   "metadata": {
    "execution": {
     "iopub.execute_input": "2023-03-26T12:29:46.517608Z",
     "iopub.status.busy": "2023-03-26T12:29:46.516479Z",
     "iopub.status.idle": "2023-03-26T12:29:46.522006Z",
     "shell.execute_reply": "2023-03-26T12:29:46.520919Z",
     "shell.execute_reply.started": "2023-03-26T12:29:46.517572Z"
    }
   },
   "outputs": [],
   "source": [
    "abc = torch.tensor([1.1,1.1,1.1])"
   ]
  },
  {
   "cell_type": "markdown",
   "id": "68f12f91-d964-463a-8277-4eb8eebf0c34",
   "metadata": {},
   "source": [
    "To tell PyTorch that we want it to calculate gradients for these parameters, we need to call requires_grad_():"
   ]
  },
  {
   "cell_type": "code",
   "execution_count": 23,
   "id": "46d0a61b-c8ee-4166-961a-83413a2166e6",
   "metadata": {
    "execution": {
     "iopub.execute_input": "2023-03-26T12:30:17.370012Z",
     "iopub.status.busy": "2023-03-26T12:30:17.369215Z",
     "iopub.status.idle": "2023-03-26T12:30:17.376162Z",
     "shell.execute_reply": "2023-03-26T12:30:17.375321Z",
     "shell.execute_reply.started": "2023-03-26T12:30:17.369981Z"
    }
   },
   "outputs": [
    {
     "data": {
      "text/plain": [
       "tensor([1.1000, 1.1000, 1.1000], requires_grad=True)"
      ]
     },
     "execution_count": 23,
     "metadata": {},
     "output_type": "execute_result"
    }
   ],
   "source": [
    "abc.requires_grad_()"
   ]
  },
  {
   "cell_type": "markdown",
   "id": "1bdae4f8-59de-4cd0-8503-3ef2fc643820",
   "metadata": {},
   "source": [
    "We can now calculate mae(). Generally, when doing gradient descent, the thing we're trying to minimise is called the loss:"
   ]
  },
  {
   "cell_type": "code",
   "execution_count": 25,
   "id": "0107fe2d-256b-4f4e-8daa-afb3aa0e3450",
   "metadata": {
    "execution": {
     "iopub.execute_input": "2023-03-26T12:40:08.895350Z",
     "iopub.status.busy": "2023-03-26T12:40:08.894667Z",
     "iopub.status.idle": "2023-03-26T12:40:08.902370Z",
     "shell.execute_reply": "2023-03-26T12:40:08.901378Z",
     "shell.execute_reply.started": "2023-03-26T12:40:08.895321Z"
    }
   },
   "outputs": [
    {
     "data": {
      "text/plain": [
       "tensor(2.4219, dtype=torch.float64, grad_fn=<MeanBackward0>)"
      ]
     },
     "execution_count": 25,
     "metadata": {},
     "output_type": "execute_result"
    }
   ],
   "source": [
    "loss = quad_mae(abc)\n",
    "loss"
   ]
  },
  {
   "cell_type": "markdown",
   "id": "f7184b74-e26b-4a6e-96a5-311768709d56",
   "metadata": {},
   "source": [
    "To get PyTorch to now calculate the gradients, we need to call backward()"
   ]
  },
  {
   "cell_type": "code",
   "execution_count": 26,
   "id": "586fb2b0-02af-4b8b-b8ec-0d32546c433c",
   "metadata": {
    "execution": {
     "iopub.execute_input": "2023-03-26T12:40:48.835990Z",
     "iopub.status.busy": "2023-03-26T12:40:48.835172Z",
     "iopub.status.idle": "2023-03-26T12:40:48.871046Z",
     "shell.execute_reply": "2023-03-26T12:40:48.870013Z",
     "shell.execute_reply.started": "2023-03-26T12:40:48.835958Z"
    }
   },
   "outputs": [],
   "source": [
    "loss.backward()"
   ]
  },
  {
   "cell_type": "markdown",
   "id": "f684e3f6-746e-4f88-8bfb-063227f71498",
   "metadata": {},
   "source": [
    "The gradients will be stored for us in an attribute called grad:"
   ]
  },
  {
   "cell_type": "code",
   "execution_count": 27,
   "id": "fe24f6fc-4637-4a5a-811c-fc015eb5248e",
   "metadata": {
    "execution": {
     "iopub.execute_input": "2023-03-26T12:41:23.747327Z",
     "iopub.status.busy": "2023-03-26T12:41:23.746084Z",
     "iopub.status.idle": "2023-03-26T12:41:23.752903Z",
     "shell.execute_reply": "2023-03-26T12:41:23.752193Z",
     "shell.execute_reply.started": "2023-03-26T12:41:23.747257Z"
    }
   },
   "outputs": [
    {
     "data": {
      "text/plain": [
       "tensor([-1.3529, -0.0316, -0.5000])"
      ]
     },
     "execution_count": 27,
     "metadata": {},
     "output_type": "execute_result"
    }
   ],
   "source": [
    "abc.grad"
   ]
  },
  {
   "cell_type": "markdown",
   "id": "b4154eb5-274b-45ca-bbae-1362a940051c",
   "metadata": {},
   "source": [
    "According to these gradients, all our parameters are a little low. So let's increase them a bit. If we subtract the gradient, multiplied by a small number, that should improve them a bit:"
   ]
  },
  {
   "cell_type": "code",
   "execution_count": 28,
   "id": "aa06e729-87ed-4820-a772-633d567c3e5e",
   "metadata": {
    "execution": {
     "iopub.execute_input": "2023-03-26T12:42:06.872629Z",
     "iopub.status.busy": "2023-03-26T12:42:06.871973Z",
     "iopub.status.idle": "2023-03-26T12:42:06.877344Z",
     "shell.execute_reply": "2023-03-26T12:42:06.876659Z",
     "shell.execute_reply.started": "2023-03-26T12:42:06.872600Z"
    }
   },
   "outputs": [
    {
     "name": "stdout",
     "output_type": "stream",
     "text": [
      "loss=2.40\n"
     ]
    }
   ],
   "source": [
    "with torch.no_grad():\n",
    "    abc -= abc.grad*0.01\n",
    "    loss = quad_mae(abc)\n",
    "    \n",
    "print(f'loss={loss:.2f}')"
   ]
  },
  {
   "cell_type": "markdown",
   "id": "4a05152e-eefe-4b61-ba18-b96cf17c7c61",
   "metadata": {},
   "source": [
    "Yes, our loss has gone down!\n",
    "\n",
    "The \"small number\" we multiply is called the learning rate, and is the most important hyper-parameter to set when training a neural network.\n",
    "\n",
    "BTW, you'll see we had to wrap our calculation of the new parameters in `with torch.no_grad()`. That disables the calculation of gradients for any operations inside that context manager. We have to do that, because `abc -= abc.grad*0.01` isn't actually part of our quadratic model, so we don't want derivitives to include that calculation.\n",
    "\n",
    "We can use a loop to do a few more iterations of this:"
   ]
  },
  {
   "cell_type": "code",
   "execution_count": 30,
   "id": "4d997e54-0b8b-4f99-8632-58cb1829dbb4",
   "metadata": {
    "execution": {
     "iopub.execute_input": "2023-03-26T12:45:50.556877Z",
     "iopub.status.busy": "2023-03-26T12:45:50.555818Z",
     "iopub.status.idle": "2023-03-26T12:45:50.565362Z",
     "shell.execute_reply": "2023-03-26T12:45:50.564349Z",
     "shell.execute_reply.started": "2023-03-26T12:45:50.556840Z"
    }
   },
   "outputs": [
    {
     "name": "stdout",
     "output_type": "stream",
     "text": [
      "step=0; loss=2.40\n",
      "step=1; loss=2.36\n",
      "step=2; loss=2.30\n",
      "step=3; loss=2.21\n",
      "step=4; loss=2.11\n",
      "step=5; loss=1.98\n",
      "step=6; loss=1.85\n",
      "step=7; loss=1.72\n",
      "step=8; loss=1.58\n",
      "step=9; loss=1.46\n"
     ]
    }
   ],
   "source": [
    "for i in range(10):\n",
    "    loss = quad_mae(abc)\n",
    "    loss.backward()\n",
    "    with torch.no_grad(): abc -= abc.grad*0.01\n",
    "    print(f'step={i}; loss={loss:.2f}')"
   ]
  },
  {
   "cell_type": "markdown",
   "id": "07f62030-29b2-4b95-8a33-98d9fd400cdc",
   "metadata": {},
   "source": [
    "As you can see, our loss keeps going down!\n",
    "\n",
    "If you keep running this loop for long enough however, you'll see that the loss eventually starts increasing for a while. That's because once the parameters get close to the correct answer, our parameter updates will jump right over the correct answer! To avoid this, we need to decrease our learning rate as we train. This is done using a learning rate schedule, and can be automated in most deep learning frameworks, such as fastai and PyTorch."
   ]
  },
  {
   "cell_type": "markdown",
   "id": "f925bdbc-5365-42b5-a3c7-79ab261a5573",
   "metadata": {},
   "source": [
    "## How A Neural Network Approximates Any Given Function"
   ]
  },
  {
   "cell_type": "markdown",
   "id": "5c415e43-8361-454f-84af-bb00ba180470",
   "metadata": {},
   "source": [
    "But neural nets are much more convenient and powerful than this example showed, because we can learn much more than just a quadratic with them. How does *that* work?\n",
    "\n",
    "The trick is that a neural network is a very expressive function. In fact -- it's [infinitely expressive](https://en.wikipedia.org/wiki/Universal_approximation_theorem). A neural network can approximate any computable function, given enough parameters. A \"computable function\" can cover just about anything you can imagine: understand and translate human speech; paint a picture; diagnose a disease from medical imaging; write an essay; etc...\n",
    "\n",
    "The way a neural network approximates a function actually turns out to be very simple. The key trick is to combine two extremely basic steps:\n",
    "\n",
    "1. Matrix multiplication, which is just multiplying things together and then adding them up\n",
    "1. The function $max(x,0)$, which simply replaces all negative numbers with zero.\n",
    "\n",
    "In PyTorch, the function $max(x,0)$ is written as `np.clip(x,0)`. The combination of a linear function and this *max()* is called a *rectified linear function*, and it can be implemented like this:"
   ]
  },
  {
   "cell_type": "code",
   "execution_count": 31,
   "id": "3ba02037-526c-480a-91d6-7e39d8bf44fa",
   "metadata": {
    "execution": {
     "iopub.execute_input": "2023-03-26T12:51:36.042448Z",
     "iopub.status.busy": "2023-03-26T12:51:36.042148Z",
     "iopub.status.idle": "2023-03-26T12:51:36.047546Z",
     "shell.execute_reply": "2023-03-26T12:51:36.046450Z",
     "shell.execute_reply.started": "2023-03-26T12:51:36.042422Z"
    }
   },
   "outputs": [],
   "source": [
    "def rectified_linear(m,b,x):\n",
    "    y = m*x+b\n",
    "    return torch.clip(y, 0.)"
   ]
  },
  {
   "cell_type": "code",
   "execution_count": 32,
   "id": "4661770f-f8e8-4049-8c45-5584fef86c1d",
   "metadata": {
    "execution": {
     "iopub.execute_input": "2023-03-26T12:51:46.160577Z",
     "iopub.status.busy": "2023-03-26T12:51:46.160231Z",
     "iopub.status.idle": "2023-03-26T12:51:46.274374Z",
     "shell.execute_reply": "2023-03-26T12:51:46.273546Z",
     "shell.execute_reply.started": "2023-03-26T12:51:46.160551Z"
    }
   },
   "outputs": [
    {
     "data": {
      "image/png": "[encoded data removed]",
      "text/plain": [
       "<Figure size 576x432 with 1 Axes>"
      ]
     },
     "metadata": {},
     "output_type": "display_data"
    }
   ],
   "source": [
    "plot_function(partial(rectified_linear, 1,1))"
   ]
  },
  {
   "cell_type": "markdown",
   "id": "a8c2e44a-ef05-4a45-bc2d-58123a26d0e4",
   "metadata": {},
   "source": [
    "BTW, instead of `torch.clip(y, 0.)`, we can instead use `F.relu(x)`, which does exactly the same thing. In PyTorch, `F` refers to the `torch.nn.functional` module."
   ]
  },
  {
   "cell_type": "code",
   "execution_count": 33,
   "id": "63f96541-5c14-4c59-b16d-277af33f2fed",
   "metadata": {
    "execution": {
     "iopub.execute_input": "2023-03-26T12:52:31.792974Z",
     "iopub.status.busy": "2023-03-26T12:52:31.792058Z",
     "iopub.status.idle": "2023-03-26T12:52:31.905088Z",
     "shell.execute_reply": "2023-03-26T12:52:31.904226Z",
     "shell.execute_reply.started": "2023-03-26T12:52:31.792932Z"
    }
   },
   "outputs": [
    {
     "data": {
      "image/png": "[encoded data removed]",
      "text/plain": [
       "<Figure size 576x432 with 1 Axes>"
      ]
     },
     "metadata": {},
     "output_type": "display_data"
    }
   ],
   "source": [
    "import torch.nn.functional as F\n",
    "def rectified_linear2(m,b,x): return F.relu(m*x+b)\n",
    "plot_function(partial(rectified_linear2, 1,1))"
   ]
  },
  {
   "cell_type": "markdown",
   "id": "e6a0ca67-0676-4c65-8145-aee35b79f474",
   "metadata": {},
   "source": [
    "To understand how this function works, try using this interactive version to play around with the parameters `m` and `b`:"
   ]
  },
  {
   "cell_type": "code",
   "execution_count": 34,
   "id": "39107c06-9e26-4818-a730-6891f59bcd4a",
   "metadata": {
    "execution": {
     "iopub.execute_input": "2023-03-26T12:54:42.184441Z",
     "iopub.status.busy": "2023-03-26T12:54:42.184088Z",
     "iopub.status.idle": "2023-03-26T12:54:42.287561Z",
     "shell.execute_reply": "2023-03-26T12:54:42.286873Z",
     "shell.execute_reply.started": "2023-03-26T12:54:42.184415Z"
    }
   },
   "outputs": [
    {
     "data": {
      "image/png": "[encoded data removed]",
      "text/plain": [
       "<Figure size 576x432 with 1 Axes>"
      ]
     },
     "metadata": {},
     "output_type": "display_data"
    },
    {
     "data": {
      "application/vnd.jupyter.widget-view+json": {
       "model_id": "2885d8690b404ebf84680190bfbba288",
       "version_major": 2,
       "version_minor": 0
      },
      "text/plain": [
       "interactive(children=(FloatSlider(value=1.5, description='m', max=4.5, min=-1.5), FloatSlider(value=1.5, descr…"
      ]
     },
     "metadata": {},
     "output_type": "display_data"
    }
   ],
   "source": [
    "@interact(m=1.5, b=1.5)\n",
    "def plot_relu(m, b):\n",
    "    plot_function(partial(rectified_linear, m,b), ylim=(-1,4))"
   ]
  },
  {
   "cell_type": "markdown",
   "id": "e2910a36-2d11-4fac-9471-3b7e050e00d5",
   "metadata": {},
   "source": [
    "As you see, `m` changes the slope, and `b` changes where the \"hook\" appears. This function doesn't do much on its own, but look what happens when we add two of them together:"
   ]
  },
  {
   "cell_type": "code",
   "execution_count": 35,
   "id": "1853f2cd-9d36-47f5-8bd9-d7e2e09f4f31",
   "metadata": {
    "execution": {
     "iopub.execute_input": "2023-03-26T12:55:18.257459Z",
     "iopub.status.busy": "2023-03-26T12:55:18.256656Z",
     "iopub.status.idle": "2023-03-26T12:55:18.381704Z",
     "shell.execute_reply": "2023-03-26T12:55:18.380814Z",
     "shell.execute_reply.started": "2023-03-26T12:55:18.257425Z"
    }
   },
   "outputs": [
    {
     "data": {
      "image/png": "[encoded data removed]",
      "text/plain": [
       "<Figure size 576x432 with 1 Axes>"
      ]
     },
     "metadata": {},
     "output_type": "display_data"
    },
    {
     "data": {
      "application/vnd.jupyter.widget-view+json": {
       "model_id": "c125ad9a7156443a8d2f6edbc1478155",
       "version_major": 2,
       "version_minor": 0
      },
      "text/plain": [
       "interactive(children=(FloatSlider(value=-1.5, description='m1', max=1.5, min=-4.5), FloatSlider(value=-1.5, de…"
      ]
     },
     "metadata": {},
     "output_type": "display_data"
    }
   ],
   "source": [
    "def double_relu(m1,b1,m2,b2,x):\n",
    "    return rectified_linear(m1,b1,x) + rectified_linear(m2,b2,x)\n",
    "\n",
    "@interact(m1=-1.5, b1=-1.5, m2=1.5, b2=1.5)\n",
    "def plot_double_relu(m1, b1, m2, b2):\n",
    "    plot_function(partial(double_relu, m1,b1,m2,b2), ylim=(-1,6))"
   ]
  },
  {
   "cell_type": "markdown",
   "id": "7f8ea908-063e-49da-8b6b-f981f3285432",
   "metadata": {},
   "source": [
    "If you play around with that for a while, you notice something quite profound: with enough of these rectified linear functions added together, you could approximate any function with a single input, to whatever accuracy you like! Any time the function doesn't quite match, you can just add a few more additions to the mix to make it a bit closer. As an experiment, perhaps you'd like to try creating your own `plot_triple_relu` interactive function, and maybe even include the scatter plot of our data from before, to see how close you can get?\n",
    "\n",
    "This exact same approach can be expanded to functions of 2, 3, or more parameters."
   ]
  },
  {
   "cell_type": "code",
   "execution_count": null,
   "id": "a99dca28-aaac-4c86-98bd-936a77a8eebf",
   "metadata": {},
   "outputs": [],
   "source": []
  }
 ],
 "metadata": {
  "kernelspec": {
   "display_name": "Python 3 (ipykernel)",
   "language": "python",
   "name": "python3"
  },
  "language_info": {
   "codemirror_mode": {
    "name": "ipython",
    "version": 3
   },
   "file_extension": ".py",
   "mimetype": "text/x-python",
   "name": "python",
   "nbconvert_exporter": "python",
   "pygments_lexer": "ipython3",
   "version": "3.9.16"
  }
 },
 "nbformat": 4,
 "nbformat_minor": 5
}
