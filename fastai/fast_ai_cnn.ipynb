{
 "cells": [
  {
   "cell_type": "code",
   "execution_count": null,
   "id": "7333b5ee-f427-4d08-8657-029974d32735",
   "metadata": {},
   "outputs": [],
   "source": []
  }
 ],
 "metadata": {
  "kernelspec": {
   "display_name": "Python 3 (ipykernel)",
   "language": "python",
   "name": "python3"
  },
  "language_info": {
   "name": ""
  }
 },
 "nbformat": 4,
 "nbformat_minor": 5
}
