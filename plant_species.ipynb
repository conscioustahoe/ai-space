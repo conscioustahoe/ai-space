{
 "cells": [
  {
   "cell_type": "code",
   "execution_count": 280,
   "id": "aa7b710d-70db-4377-86e0-3034e1a03ca0",
   "metadata": {
    "execution": {
     "iopub.execute_input": "2023-04-02T19:42:37.807153Z",
     "iopub.status.busy": "2023-04-02T19:42:37.806303Z",
     "iopub.status.idle": "2023-04-02T19:42:50.734935Z",
     "shell.execute_reply": "2023-04-02T19:42:50.733634Z",
     "shell.execute_reply.started": "2023-04-02T19:42:37.807121Z"
    }
   },
   "outputs": [
    {
     "name": "stdout",
     "output_type": "stream",
     "text": [
      "Requirement already satisfied: datasets[vision] in /usr/local/lib/python3.9/dist-packages (2.4.0)\n",
      "Requirement already satisfied: numpy>=1.17 in /usr/local/lib/python3.9/dist-packages (from datasets[vision]) (1.23.4)\n",
      "Requirement already satisfied: fsspec[http]>=2021.11.1 in /usr/local/lib/python3.9/dist-packages (from datasets[vision]) (2023.1.0)\n",
      "Requirement already satisfied: aiohttp in /usr/local/lib/python3.9/dist-packages (from datasets[vision]) (3.8.3)\n",
      "Requirement already satisfied: huggingface-hub<1.0.0,>=0.1.0 in /usr/local/lib/python3.9/dist-packages (from datasets[vision]) (0.12.0)\n",
      "Requirement already satisfied: packaging in /usr/local/lib/python3.9/dist-packages (from datasets[vision]) (23.0)\n",
      "Requirement already satisfied: pyarrow>=6.0.0 in /usr/local/lib/python3.9/dist-packages (from datasets[vision]) (10.0.1)\n",
      "Requirement already satisfied: dill<0.3.6 in /usr/local/lib/python3.9/dist-packages (from datasets[vision]) (0.3.5.1)\n",
      "Requirement already satisfied: pandas in /usr/local/lib/python3.9/dist-packages (from datasets[vision]) (1.5.0)\n",
      "Requirement already satisfied: tqdm>=4.62.1 in /usr/local/lib/python3.9/dist-packages (from datasets[vision]) (4.64.1)\n",
      "Requirement already satisfied: requests>=2.19.0 in /usr/local/lib/python3.9/dist-packages (from datasets[vision]) (2.28.2)\n",
      "Requirement already satisfied: xxhash in /usr/local/lib/python3.9/dist-packages (from datasets[vision]) (3.2.0)\n",
      "Requirement already satisfied: multiprocess in /usr/local/lib/python3.9/dist-packages (from datasets[vision]) (0.70.13)\n",
      "Requirement already satisfied: responses<0.19 in /usr/local/lib/python3.9/dist-packages (from datasets[vision]) (0.18.0)\n",
      "Requirement already satisfied: Pillow>=6.2.1 in /usr/local/lib/python3.9/dist-packages (from datasets[vision]) (9.2.0)\n",
      "Requirement already satisfied: yarl<2.0,>=1.0 in /usr/local/lib/python3.9/dist-packages (from aiohttp->datasets[vision]) (1.8.2)\n",
      "Requirement already satisfied: async-timeout<5.0,>=4.0.0a3 in /usr/local/lib/python3.9/dist-packages (from aiohttp->datasets[vision]) (4.0.2)\n",
      "Requirement already satisfied: multidict<7.0,>=4.5 in /usr/local/lib/python3.9/dist-packages (from aiohttp->datasets[vision]) (6.0.4)\n",
      "Requirement already satisfied: attrs>=17.3.0 in /usr/local/lib/python3.9/dist-packages (from aiohttp->datasets[vision]) (18.2.0)\n",
      "Requirement already satisfied: frozenlist>=1.1.1 in /usr/local/lib/python3.9/dist-packages (from aiohttp->datasets[vision]) (1.3.3)\n",
      "Requirement already satisfied: aiosignal>=1.1.2 in /usr/local/lib/python3.9/dist-packages (from aiohttp->datasets[vision]) (1.3.1)\n",
      "Requirement already satisfied: charset-normalizer<3.0,>=2.0 in /usr/local/lib/python3.9/dist-packages (from aiohttp->datasets[vision]) (2.1.1)\n",
      "Requirement already satisfied: pyyaml>=5.1 in /usr/local/lib/python3.9/dist-packages (from huggingface-hub<1.0.0,>=0.1.0->datasets[vision]) (5.4.1)\n",
      "Requirement already satisfied: filelock in /usr/local/lib/python3.9/dist-packages (from huggingface-hub<1.0.0,>=0.1.0->datasets[vision]) (3.9.0)\n",
      "Requirement already satisfied: typing-extensions>=3.7.4.3 in /usr/local/lib/python3.9/dist-packages (from huggingface-hub<1.0.0,>=0.1.0->datasets[vision]) (4.4.0)\n",
      "Requirement already satisfied: urllib3<1.27,>=1.21.1 in /usr/local/lib/python3.9/dist-packages (from requests>=2.19.0->datasets[vision]) (1.26.14)\n",
      "Requirement already satisfied: certifi>=2017.4.17 in /usr/lib/python3/dist-packages (from requests>=2.19.0->datasets[vision]) (2019.11.28)\n",
      "Requirement already satisfied: idna<4,>=2.5 in /usr/lib/python3/dist-packages (from requests>=2.19.0->datasets[vision]) (2.8)\n",
      "Requirement already satisfied: pytz>=2020.1 in /usr/local/lib/python3.9/dist-packages (from pandas->datasets[vision]) (2022.7.1)\n",
      "Requirement already satisfied: python-dateutil>=2.8.1 in /usr/local/lib/python3.9/dist-packages (from pandas->datasets[vision]) (2.8.2)\n",
      "Requirement already satisfied: six>=1.5 in /usr/lib/python3/dist-packages (from python-dateutil>=2.8.1->pandas->datasets[vision]) (1.14.0)\n",
      "\u001b[33mWARNING: Running pip as the 'root' user can result in broken permissions and conflicting behaviour with the system package manager. It is recommended to use a virtual environment instead: https://pip.pypa.io/warnings/venv\u001b[0m\u001b[33m\n",
      "\u001b[0mRequirement already satisfied: huggingface_hub in /usr/local/lib/python3.9/dist-packages (0.12.0)\n",
      "Requirement already satisfied: requests in /usr/local/lib/python3.9/dist-packages (from huggingface_hub) (2.28.2)\n",
      "Requirement already satisfied: tqdm>=4.42.1 in /usr/local/lib/python3.9/dist-packages (from huggingface_hub) (4.64.1)\n",
      "Requirement already satisfied: typing-extensions>=3.7.4.3 in /usr/local/lib/python3.9/dist-packages (from huggingface_hub) (4.4.0)\n",
      "Requirement already satisfied: packaging>=20.9 in /usr/local/lib/python3.9/dist-packages (from huggingface_hub) (23.0)\n",
      "Requirement already satisfied: filelock in /usr/local/lib/python3.9/dist-packages (from huggingface_hub) (3.9.0)\n",
      "Requirement already satisfied: pyyaml>=5.1 in /usr/local/lib/python3.9/dist-packages (from huggingface_hub) (5.4.1)\n",
      "Requirement already satisfied: urllib3<1.27,>=1.21.1 in /usr/local/lib/python3.9/dist-packages (from requests->huggingface_hub) (1.26.14)\n",
      "Requirement already satisfied: charset-normalizer<4,>=2 in /usr/local/lib/python3.9/dist-packages (from requests->huggingface_hub) (2.1.1)\n",
      "Requirement already satisfied: idna<4,>=2.5 in /usr/lib/python3/dist-packages (from requests->huggingface_hub) (2.8)\n",
      "Requirement already satisfied: certifi>=2017.4.17 in /usr/lib/python3/dist-packages (from requests->huggingface_hub) (2019.11.28)\n",
      "\u001b[33mWARNING: Running pip as the 'root' user can result in broken permissions and conflicting behaviour with the system package manager. It is recommended to use a virtual environment instead: https://pip.pypa.io/warnings/venv\u001b[0m\u001b[33m\n",
      "\u001b[0mRequirement already satisfied: torch in /usr/local/lib/python3.9/dist-packages (1.12.1+cu116)\n",
      "Requirement already satisfied: torchvision in /usr/local/lib/python3.9/dist-packages (0.13.1+cu116)\n",
      "Requirement already satisfied: typing-extensions in /usr/local/lib/python3.9/dist-packages (from torch) (4.4.0)\n",
      "Requirement already satisfied: numpy in /usr/local/lib/python3.9/dist-packages (from torchvision) (1.23.4)\n",
      "Requirement already satisfied: requests in /usr/local/lib/python3.9/dist-packages (from torchvision) (2.28.2)\n",
      "Requirement already satisfied: pillow!=8.3.*,>=5.3.0 in /usr/local/lib/python3.9/dist-packages (from torchvision) (9.2.0)\n",
      "Requirement already satisfied: certifi>=2017.4.17 in /usr/lib/python3/dist-packages (from requests->torchvision) (2019.11.28)\n",
      "Requirement already satisfied: urllib3<1.27,>=1.21.1 in /usr/local/lib/python3.9/dist-packages (from requests->torchvision) (1.26.14)\n",
      "Requirement already satisfied: charset-normalizer<4,>=2 in /usr/local/lib/python3.9/dist-packages (from requests->torchvision) (2.1.1)\n",
      "Requirement already satisfied: idna<4,>=2.5 in /usr/lib/python3/dist-packages (from requests->torchvision) (2.8)\n",
      "\u001b[33mWARNING: Running pip as the 'root' user can result in broken permissions and conflicting behaviour with the system package manager. It is recommended to use a virtual environment instead: https://pip.pypa.io/warnings/venv\u001b[0m\u001b[33m\n",
      "\u001b[0m"
     ]
    }
   ],
   "source": [
    "!pip install datasets[vision]\n",
    "!pip install -Uqq fastai\n",
    "!pip install huggingface_hub\n",
    "!pip3 install torch torchvision"
   ]
  },
  {
   "cell_type": "code",
   "execution_count": 281,
   "id": "8c8ee106-1b96-4d6a-b95a-dc898a613f52",
   "metadata": {
    "execution": {
     "iopub.execute_input": "2023-04-02T19:42:50.737284Z",
     "iopub.status.busy": "2023-04-02T19:42:50.736997Z",
     "iopub.status.idle": "2023-04-02T19:42:52.323557Z",
     "shell.execute_reply": "2023-04-02T19:42:52.322790Z",
     "shell.execute_reply.started": "2023-04-02T19:42:50.737259Z"
    }
   },
   "outputs": [
    {
     "name": "stderr",
     "output_type": "stream",
     "text": [
      "Using custom data configuration jbarat--plant_species-efbaed60a3c7fd6e\n",
      "Reusing dataset parquet (/root/.cache/huggingface/datasets/jbarat___parquet/jbarat--plant_species-efbaed60a3c7fd6e/0.0.0/2a3b91fbd88a2c90d1dbbb32b460cf621d31bd5b05b934492fdef7d8d6f236ec)\n"
     ]
    }
   ],
   "source": [
    "from datasets import load_dataset, Image\n",
    "dataset = load_dataset(\"jbarat/plant_species\", split=\"train\")"
   ]
  },
  {
   "cell_type": "code",
   "execution_count": 282,
   "id": "01139bbf-050e-414c-a2fe-b8c807e54c72",
   "metadata": {
    "execution": {
     "iopub.execute_input": "2023-04-02T19:42:57.991104Z",
     "iopub.status.busy": "2023-04-02T19:42:57.990749Z",
     "iopub.status.idle": "2023-04-02T19:43:01.190964Z",
     "shell.execute_reply": "2023-04-02T19:43:01.190143Z",
     "shell.execute_reply.started": "2023-04-02T19:42:57.991078Z"
    }
   },
   "outputs": [],
   "source": [
    "from io import BytesIO\n",
    "from datasets import Dataset\n",
    "from PIL import Image\n",
    "\n",
    "images_dict = {}\n",
    "\n",
    "for index, example in enumerate(dataset):\n",
    "    label = str(example[\"label\"])\n",
    "    image = Image.open(BytesIO(example[\"image\"][\"bytes\"]))\n",
    "    if label in images_dict:\n",
    "        images_dict[label].append(image)\n",
    "    else:\n",
    "        images_dict[label] = [image]\n",
    "\n",
    "dataset = Dataset.from_dict(images_dict)"
   ]
  },
  {
   "cell_type": "code",
   "execution_count": 283,
   "id": "d251c1af-a221-4aa1-920b-125c60b9f5dd",
   "metadata": {
    "execution": {
     "iopub.execute_input": "2023-04-02T19:43:04.397358Z",
     "iopub.status.busy": "2023-04-02T19:43:04.396280Z",
     "iopub.status.idle": "2023-04-02T19:43:04.401615Z",
     "shell.execute_reply": "2023-04-02T19:43:04.400549Z",
     "shell.execute_reply.started": "2023-04-02T19:43:04.397326Z"
    }
   },
   "outputs": [],
   "source": [
    "import torch\n",
    "from torchvision.transforms import transforms\n",
    "\n",
    "# Define a function to convert bytes to PILImage\n",
    "def bytes_to_pil(bytes):\n",
    "    pil_image = PILImage.open(BytesIO(bytes))\n",
    "    return pil_image\n",
    "\n",
    "# Load the dataset\n",
    "dataset = load_dataset(\"jbarat/plant_species\", split=\"train\")\n",
    "\n",
    "# Define a custom PyTorch dataset\n",
    "class PlantSpeciesDataset(Dataset):\n",
    "    def __init__(self, dataset):\n",
    "        self.dataset = dataset\n",
    "        self.transform = transforms.Compose([transforms.Resize((224,224)),\n",
    "                                             transforms.ToTensor(),\n",
    "                                             transforms.Normalize([0.485, 0.456, 0.406], [0.229, 0.224, 0.225])])\n",
    "\n",
    "    def __getitem__(self, index):\n",
    "        example = self.dataset[index]\n",
    "        image_bytes = example['image']['bytes']\n",
    "        label = example['label']\n",
    "        pil_image = bytes_to_pil(image_bytes)\n",
    "        image = self.transform(pil_image)\n",
    "        return image, label\n",
    "\n",
    "    def __len__(self):\n",
    "        return len(self.dataset)\n",
    "\n",
    "# Create an instance of the custom dataset\n",
    "custom_dataset = PlantSpeciesDataset(dataset)\n",
    "\n",
    "# Create a PyTorch DataLoader\n",
    "dataloader = DataLoader(custom_dataset, batch_size=32, shuffle=True)\n",
    "\n",
    "# Iterate over the DataLoader\n",
    "for i, batch in enumerate(dataloader):\n",
    "    images, labels = batch\n",
    "    # Do something with the batch of images and labels\n",
    "    print(f\"Batch {i}: Images shape - {images.shape}, Labels shape - {labels.shape}\")\n"
   ]
  },
  {
   "cell_type": "code",
   "execution_count": null,
   "id": "40c129a5-eb15-4477-991d-24b1acf55abf",
   "metadata": {},
   "outputs": [],
   "source": []
  }
 ],
 "metadata": {
  "kernelspec": {
   "display_name": "Python 3 (ipykernel)",
   "language": "python",
   "name": "python3"
  },
  "language_info": {
   "codemirror_mode": {
    "name": "ipython",
    "version": 3
   },
   "file_extension": ".py",
   "mimetype": "text/x-python",
   "name": "python",
   "nbconvert_exporter": "python",
   "pygments_lexer": "ipython3",
   "version": "3.9.16"
  }
 },
 "nbformat": 4,
 "nbformat_minor": 5
}
