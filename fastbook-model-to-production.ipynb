{
 "cells": [
  {
   "cell_type": "markdown",
   "id": "98149ec2-73b9-4995-a9d5-8b7355925785",
   "metadata": {},
   "source": [
    "# From model to production"
   ]
  },
  {
   "cell_type": "code",
   "execution_count": null,
   "id": "4e65a612-5476-4f73-821d-adb7af452f97",
   "metadata": {},
   "outputs": [],
   "source": [
    "!pip install -Uqq duckduckgo_search"
   ]
  },
  {
   "cell_type": "code",
   "execution_count": null,
   "id": "cb1b0766-d99f-45a2-a83d-15a44fd36cad",
   "metadata": {},
   "outputs": [],
   "source": [
    "from duckduckgo_search import ddg_images\n",
    "from fastcore.all import *\n",
    "\n",
    "def search_images(term, max_images=30):\n",
    "    print(f\"Searching for {term}\")\n",
    "    return L(ddg_images(term, max_results=max_images)).itemgot(\"image\")"
   ]
  },
  {
   "cell_type": "code",
   "execution_count": null,
   "id": "0c266d95-e8b9-4125-8ded-ec54c3af8025",
   "metadata": {},
   "outputs": [],
   "source": [
    "urls = search_images(term=\"grizzly bear\", max_images=1)\n",
    "urls[0]"
   ]
  },
  {
   "cell_type": "code",
   "execution_count": null,
   "id": "b87ba707-fe87-4628-bfcd-25e5789c9713",
   "metadata": {},
   "outputs": [],
   "source": [
    "from fastdownload import download_url\n",
    "from fastai.vision.all import *\n",
    "\n",
    "download_url(url=urls[0], dest=\"data/grizzly.jpg\", show_progress=False)\n",
    "\n",
    "im = Image.open(\"data/grizzly.jpg\")\n",
    "im.to_thumb(256, 256)"
   ]
  },
  {
   "cell_type": "code",
   "execution_count": null,
   "id": "581beeda-fbdf-42ae-8f85-958a51e67306",
   "metadata": {},
   "outputs": [],
   "source": [
    "download_url(url=search_images(term=\"grizzly bear\", max_images=1)[0], dest=\"data/grizzly.jpg\", show_progress=False)\n",
    "im = Image.open(\"data/grizzly.jpg\")\n",
    "im.to_thumb(256, 256)"
   ]
  },
  {
   "cell_type": "code",
   "execution_count": null,
   "id": "240ddd14-48bd-4972-b103-f7a675fc49fd",
   "metadata": {},
   "outputs": [],
   "source": [
    "import os\n",
    "from time import sleep\n",
    "\n",
    "directory_path = \"grizly_or_not\"\n",
    "search_terms = [\"grizzly bear\"]\n",
    "path = Path(\"grizzly_or_not\")\n",
    "\n",
    "if os.path.exists(directory_path) and any(os.scandir(directory_path)):\n",
    "    print(\"Dataset already downloaded!\")\n",
    "else:\n",
    "    print(\"Downloading dataset...\")\n",
    "    for search_term in search_terms:\n",
    "        dest = (path/search_term)\n",
    "        dest.mkdir(exist_ok=True, parents=True)\n",
    "        download_images(dest=dest, urls=search_images(f\"{search_term} photo\"))\n",
    "        sleep(10)\n",
    "        download_images(dest=dest, urls=search_images(f\"{search_term} sun photo\"))\n",
    "        sleep(10)\n",
    "        download_images(dest=dest, urls=search_images(f\"{search_term} shade photo\"))\n",
    "        sleep(10)\n",
    "        resize_images(path/search_term, max_size=400, dest=path/search_term)"
   ]
  },
  {
   "cell_type": "code",
   "execution_count": null,
   "id": "0d1b9479-7563-4ecf-b6d5-a97c71020ce5",
   "metadata": {},
   "outputs": [],
   "source": [
    "failed = verify_images(get_image_files(path))\n",
    "failed.map(Path.unlink)\n",
    "len(failed)"
   ]
  },
  {
   "cell_type": "code",
   "execution_count": null,
   "id": "b2540132-e30b-435f-a74a-efa4d7f2db93",
   "metadata": {},
   "outputs": [],
   "source": [
    "dls = DataBlock(\n",
    "    blocks=(ImageBlock, CategoryBlock),\n",
    "    get_items=get_image_files,\n",
    "    splitter=RandomSplitter(valid_pct=0.2, seed=42),\n",
    "    get_y=parent_label,\n",
    "    item_tfms=[Resize(192, method=\"squish\")]\n",
    ").dataloaders(path, bs=32)"
   ]
  },
  {
   "cell_type": "code",
   "execution_count": null,
   "id": "f23a9149-801d-469e-a9f4-581b2769cc72",
   "metadata": {},
   "outputs": [],
   "source": [
    "dls.show_batch(max_n=8)"
   ]
  },
  {
   "cell_type": "code",
   "execution_count": null,
   "id": "b8a476a5-3591-405e-b23d-6d52a56a4748",
   "metadata": {},
   "outputs": [],
   "source": [
    "learner = vision_learner(dls, resnet34, metrics=error_rate)\n",
    "learner.fine_tune(4)"
   ]
  },
  {
   "cell_type": "code",
   "execution_count": null,
   "id": "71ba2b0e-bded-4978-87f3-980a4a3804c9",
   "metadata": {},
   "outputs": [],
   "source": [
    "is_grizzly, _, probs = learner.predict(PILImage.create(\"data/grizzly.jpg\"))\n",
    "print(f\"This is a {is_grizzly}!\")\n",
    "print(f\"Probability this is a grizzly bear is: {probs[0]:.4f}\")"
   ]
  },
  {
   "cell_type": "code",
   "execution_count": null,
   "id": "f7532ff1-92e4-4d9e-92d1-48b3895fe70e",
   "metadata": {},
   "outputs": [],
   "source": [
    "interp = ClassificationInterpretation.from_learner(learner)\n",
    "interp.plot_confusion_matrix()"
   ]
  },
  {
   "cell_type": "code",
   "execution_count": null,
   "id": "cd5efc13-8344-4467-b28f-32a2f83e43ef",
   "metadata": {},
   "outputs": [],
   "source": [
    "interp.plot_top_losses(5, nrows=1)"
   ]
  },
  {
   "cell_type": "code",
   "execution_count": null,
   "id": "94e2d702-5aed-4171-8579-33f2cacc64ce",
   "metadata": {},
   "outputs": [],
   "source": [
    "cleaner = ImageClassifierCleaner(learner)\n",
    "cleaner"
   ]
  },
  {
   "cell_type": "code",
   "execution_count": null,
   "id": "0516a5a0-b9a5-4a14-b7cc-a255ec833722",
   "metadata": {},
   "outputs": [],
   "source": [
    "learn.export()"
   ]
  },
  {
   "cell_type": "code",
   "execution_count": null,
   "id": "a061df30-3b6e-4dca-9ca5-55f1b0b917ca",
   "metadata": {},
   "outputs": [],
   "source": [
    "learner_inf = load_learner(path/'export.pkl')"
   ]
  },
  {
   "cell_type": "code",
   "execution_count": null,
   "id": "7926e632-708e-44f0-9c1c-b3a95ed9daa4",
   "metadata": {},
   "outputs": [],
   "source": [
    "learner_inf.predict('data/grizzly.jpg')"
   ]
  },
  {
   "cell_type": "code",
   "execution_count": null,
   "id": "c3df5cc5-5c8b-4210-bcd7-9d3f63edc744",
   "metadata": {},
   "outputs": [],
   "source": [
    "learn_inf.dls.vocab"
   ]
  },
  {
   "cell_type": "code",
   "execution_count": null,
   "id": "8ead8c95-67be-4997-a5ec-3b89c51ed488",
   "metadata": {},
   "outputs": [],
   "source": [
    "import ipywidgets as widgets\n",
    "uploader = widgets.FileUpload()\n",
    "uploader"
   ]
  },
  {
   "cell_type": "code",
   "execution_count": null,
   "id": "010aec10-fa77-470b-8958-314b61dfb0f7",
   "metadata": {},
   "outputs": [],
   "source": [
    "img = PILImage.create(uploader.data[0])\n",
    "is_grizzly,_,probs = learner.predict(img)\n",
    "print(f\"Is this a dog?: {is_dog}.\")\n",
    "print(f\"Probability it's a grizzly bear: {probs[1].item():.6f}\")"
   ]
  },
  {
   "cell_type": "markdown",
   "id": "c87127dc-1e65-44e7-bb0b-5251be378e2a",
   "metadata": {},
   "source": [
    "## Deploying our model on the web\n",
    "\n",
    "<a href=\"https://www.tanishq.ai/blog/gradio_hf_spaces_tutorial\">Gradio + HuggingFace Spaces: A Tutorial</a>"
   ]
  },
  {
   "cell_type": "code",
   "execution_count": null,
   "id": "1c45457e-f71b-4742-9937-ebc5de9a3976",
   "metadata": {},
   "outputs": [],
   "source": []
  }
 ],
 "metadata": {
  "kernelspec": {
   "display_name": "Python 3 (ipykernel)",
   "language": "python",
   "name": "python3"
  },
  "language_info": {
   "codemirror_mode": {
    "name": "ipython",
    "version": 3
   },
   "file_extension": ".py",
   "mimetype": "text/x-python",
   "name": "python",
   "nbconvert_exporter": "python",
   "pygments_lexer": "ipython3",
   "version": "3.9.13"
  }
 },
 "nbformat": 4,
 "nbformat_minor": 5
}
