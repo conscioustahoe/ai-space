{
 "cells": [
  {
   "cell_type": "markdown",
   "metadata": {
    "colab_type": "text",
    "id": "j5yGqm4Nl39f"
   },
   "source": [
    "# Optimization Algorithms\n",
    "\n",
    "Code adapted from [Optimization chapter](http://www.d2l.ai/chapter_optimization/) of Dive into Deep Learning"
   ]
  },
  {
   "cell_type": "code",
   "execution_count": null,
   "metadata": {
    "colab": {},
    "colab_type": "code",
    "id": "4gJMsVnYl39r"
   },
   "outputs": [],
   "source": [
    "import numpy as np\n",
    "\n",
    "import matplotlib.pyplot as plt\n",
    "\n",
    "%matplotlib inline\n",
    "\n",
    "def show_trace_2d(f, res , color = 'red'):\n",
    "    \"\"\"Show the trace of 2d variables during optimization.\"\"\"\n",
    "    x1, x2 = zip(*res)\n",
    "    plt.plot(x1, x2, '-o', color=color)\n",
    "    x1 = np.arange(-5.5, 3.5, 0.1)\n",
    "    x2 = np.arange(min(-3.0, min(x2) - 1), max(1.0, max(x2) + 1), 0.1)\n",
    "    x1, x2 = np.meshgrid(x1, x2)\n",
    "    plt.contour(x1, x2, f(x1, x2), colors='blue')\n",
    "    plt.xlabel('x1')\n",
    "    plt.ylabel('x2')"
   ]
  },
  {
   "cell_type": "code",
   "execution_count": null,
   "metadata": {
    "colab": {},
    "colab_type": "code",
    "id": "k2TDCgM3l399"
   },
   "outputs": [],
   "source": [
    "def train_2d(trainer):\n",
    "    \"\"\"Optimize the objective function of 2d variables with a customized trainer.\"\"\"\n",
    "    \"\"\"trainer(x1,x2,s_x1,s_x2) should return the updated positions x1, x2 and possible memory terms.\"\"\"\n",
    "    x1, x2 = -5, -2\n",
    "    s_x1, s_x2 = 0, 0\n",
    "    res = [(x1, x2)]\n",
    "    for i in range(20):\n",
    "        x1, x2, s_x1, s_x2 = trainer(x1, x2, s_x1, s_x2)\n",
    "        res.append((x1, x2))\n",
    "    print('epoch %d, x1 %f, x2 %f' % (i+1, x1, x2))\n",
    "    return res"
   ]
  },
  {
   "cell_type": "markdown",
   "metadata": {
    "colab_type": "text",
    "id": "KlFPt-C9l3-N"
   },
   "source": [
    "# Gradient descent"
   ]
  },
  {
   "cell_type": "code",
   "execution_count": null,
   "metadata": {
    "colab": {},
    "colab_type": "code",
    "id": "UVnxAGegl3-R"
   },
   "outputs": [],
   "source": [
    "eta = 0.4\n",
    "\n",
    "def f_2d(x1, x2):\n",
    "    return 0.1 * x1 ** 2 + 2 * x2 ** 2\n",
    "\n",
    "def gd_2d(x1, x2, s1, s2):\n",
    "    return (x1 - eta * 0.2 * x1, x2 - eta * 4 * x2, 0, 0)"
   ]
  },
  {
   "cell_type": "code",
   "execution_count": null,
   "metadata": {
    "colab": {
     "base_uri": "https://localhost:8080/",
     "height": 297
    },
    "colab_type": "code",
    "id": "npaYk5WUl3-e",
    "outputId": "f27bad51-3718-4da0-9421-7265248bdcd1"
   },
   "outputs": [],
   "source": [
    "show_trace_2d(f_2d, train_2d(gd_2d))"
   ]
  },
  {
   "cell_type": "code",
   "execution_count": null,
   "metadata": {
    "colab": {
     "base_uri": "https://localhost:8080/",
     "height": 297
    },
    "colab_type": "code",
    "id": "7VfX0pq7l3-q",
    "outputId": "daa4cfd0-d362-41f5-e9e6-77435225d801"
   },
   "outputs": [],
   "source": [
    "eta = 0.6\n",
    "show_trace_2d(f_2d, train_2d(gd_2d))"
   ]
  },
  {
   "cell_type": "markdown",
   "metadata": {
    "colab_type": "text",
    "id": "pcsKwAyRl3-y"
   },
   "source": [
    "# Momemtum"
   ]
  },
  {
   "cell_type": "code",
   "execution_count": null,
   "metadata": {
    "colab": {},
    "colab_type": "code",
    "id": "8qnyJQwnl3-0"
   },
   "outputs": [],
   "source": [
    "eta, gamma = 0.4, 0.5\n",
    "\n",
    "def momentum_2d(x1, x2, v1, v2):\n",
    "    v1 = # your code\n",
    "    v2 = # your code\n",
    "    return x1 - v1, x2 - v2, v1, v2"
   ]
  },
  {
   "cell_type": "code",
   "execution_count": null,
   "metadata": {
    "colab": {
     "base_uri": "https://localhost:8080/",
     "height": 297
    },
    "colab_type": "code",
    "id": "pT8vz7dKl3-7",
    "outputId": "f11697ca-5287-4dd9-8068-71e457f4e815"
   },
   "outputs": [],
   "source": [
    "show_trace_2d(f_2d, train_2d(momentum_2d))"
   ]
  },
  {
   "cell_type": "code",
   "execution_count": null,
   "metadata": {
    "colab": {
     "base_uri": "https://localhost:8080/",
     "height": 297
    },
    "colab_type": "code",
    "id": "qylwkBDBl3_C",
    "outputId": "0d1d51e5-778c-412b-bbae-9b7e31ec5595"
   },
   "outputs": [],
   "source": [
    "eta = 0.6\n",
    "show_trace_2d(f_2d, train_2d(momentum_2d))"
   ]
  },
  {
   "cell_type": "code",
   "execution_count": null,
   "metadata": {
    "colab": {
     "base_uri": "https://localhost:8080/",
     "height": 297
    },
    "colab_type": "code",
    "id": "fSZCrah6l3_K",
    "outputId": "2b006204-3c66-4d9c-c9f1-03ff12ed8483"
   },
   "outputs": [],
   "source": [
    "eta, gamma = 0.05, 0.9\n",
    "show_trace_2d(f_2d, train_2d(momentum_2d))"
   ]
  },
  {
   "cell_type": "markdown",
   "metadata": {
    "colab_type": "text",
    "id": "6WjZp2WPl3_T"
   },
   "source": [
    "# Nesterov accelerated gradient"
   ]
  },
  {
   "cell_type": "code",
   "execution_count": null,
   "metadata": {
    "colab": {},
    "colab_type": "code",
    "id": "s02JrcZRl3_V"
   },
   "outputs": [],
   "source": [
    "eta, gamma = 0.05, 0.9\n",
    "\n",
    "def Nesterov_2d(x1, x2, v1, v2):\n",
    "    v1 = # your code\n",
    "    v2 = # your code\n",
    "    return x1 - v1, x2 - v2, v1, v2"
   ]
  },
  {
   "cell_type": "code",
   "execution_count": null,
   "metadata": {
    "colab": {
     "base_uri": "https://localhost:8080/",
     "height": 315
    },
    "colab_type": "code",
    "id": "upxkjOqIl3_b",
    "outputId": "e48007f6-069b-4ead-e4e8-fa06ccfc8d4e"
   },
   "outputs": [],
   "source": [
    "show_trace_2d(f_2d, train_2d(Nesterov_2d))\n",
    "show_trace_2d(f_2d, train_2d(momentum_2d), color= 'green')"
   ]
  },
  {
   "cell_type": "markdown",
   "metadata": {
    "colab_type": "text",
    "id": "RyzF7aAXl3_h"
   },
   "source": [
    "# Adagrad"
   ]
  },
  {
   "cell_type": "code",
   "execution_count": null,
   "metadata": {
    "colab": {},
    "colab_type": "code",
    "id": "-Mk4sixgl3_i"
   },
   "outputs": [],
   "source": [
    "import math\n",
    "\n",
    "def adagrad_2d(x1, x2, s1, s2):\n",
    "    # The first two terms are the independent variable gradients\n",
    "    g1, g2, eps = 0.2 * x1, 4 * x2, 1e-6\n",
    "    #\n",
    "    # your code here (hint: use math.sqrt)\n",
    "    #\n",
    "    return x1, x2, s1, s2"
   ]
  },
  {
   "cell_type": "code",
   "execution_count": null,
   "metadata": {
    "colab": {
     "base_uri": "https://localhost:8080/",
     "height": 297
    },
    "colab_type": "code",
    "id": "TVc4sPtFl3_o",
    "outputId": "e74c06ce-f86a-42c7-8822-9313ff5a07e1"
   },
   "outputs": [],
   "source": [
    "eta = 0.4\n",
    "show_trace_2d(f_2d, train_2d(adagrad_2d))"
   ]
  },
  {
   "cell_type": "code",
   "execution_count": null,
   "metadata": {
    "colab": {
     "base_uri": "https://localhost:8080/",
     "height": 297
    },
    "colab_type": "code",
    "id": "XY90pzoLl3_v",
    "outputId": "4ac7254c-9ebb-4de2-f50e-02724cd5655b"
   },
   "outputs": [],
   "source": [
    "eta = 2\n",
    "show_trace_2d(f_2d, train_2d(adagrad_2d))"
   ]
  },
  {
   "cell_type": "markdown",
   "metadata": {
    "colab_type": "text",
    "id": "RtU9tLiml3_2"
   },
   "source": [
    "# RMSProp"
   ]
  },
  {
   "cell_type": "code",
   "execution_count": null,
   "metadata": {
    "colab": {},
    "colab_type": "code",
    "id": "OBbRL5h3l3_3"
   },
   "outputs": [],
   "source": [
    "def rmsprop_2d(x1, x2, s1, s2):\n",
    "    g1, g2, eps = 0.2 * x1, 4 * x2, 1e-6\n",
    "    #\n",
    "    # your code here\n",
    "    #\n",
    "    return x1, x2, s1, s2"
   ]
  },
  {
   "cell_type": "code",
   "execution_count": null,
   "metadata": {
    "colab": {
     "base_uri": "https://localhost:8080/",
     "height": 301
    },
    "colab_type": "code",
    "id": "nc3_6I-Ul3_9",
    "outputId": "03bdc363-bca6-4a91-eafa-281630282ecc"
   },
   "outputs": [],
   "source": [
    "eta, gamma = 0.4, 0.9\n",
    "show_trace_2d(f_2d, train_2d(rmsprop_2d))"
   ]
  },
  {
   "cell_type": "markdown",
   "metadata": {
    "colab_type": "text",
    "id": "BD9ILdGVl4AD"
   },
   "source": [
    "# Adam"
   ]
  },
  {
   "cell_type": "code",
   "execution_count": null,
   "metadata": {
    "colab": {},
    "colab_type": "code",
    "id": "vC3McRDZl4AF"
   },
   "outputs": [],
   "source": [
    "def adam_2d(x1, x2, s1, s2 , t):\n",
    "    beta1, beta2, eps = 0.9, 0.99, 1e-6\n",
    "    g1, g2 = 0.2 * x1, 4 * x2\n",
    "    #\n",
    "    # your code here\n",
    "    #\n",
    "    return x1, x2, s1, s2"
   ]
  },
  {
   "cell_type": "code",
   "execution_count": null,
   "metadata": {
    "colab": {},
    "colab_type": "code",
    "id": "rT5IwhY8l4AK"
   },
   "outputs": [],
   "source": [
    "def train_adam_2d(trainer):\n",
    "    \"\"\"Optimize the objective function of 2d variables with Adam-li trainer.\"\"\"\n",
    "    \"\"\"trainer(x1,x2,s_x1,s_x2) should return the updated positions x1, x2 and possible memory terms.\"\"\"\n",
    "    x1, x2 = -5, -2\n",
    "    s_x1, s_x2 = [0,0,0], [0,0,0]\n",
    "    res = [(x1, x2)]\n",
    "    for i in range(20):\n",
    "        x1, x2, s_x1, s_x2 = trainer(x1, x2, s_x1, s_x2, i)\n",
    "        res.append((x1, x2))\n",
    "    print('epoch %d, x1 %f, x2 %f' % (i+1, x1, x2))\n",
    "    return res"
   ]
  },
  {
   "cell_type": "code",
   "execution_count": null,
   "metadata": {
    "colab": {
     "base_uri": "https://localhost:8080/",
     "height": 301
    },
    "colab_type": "code",
    "id": "oeQbFML-l4AV",
    "outputId": "f176b4af-3840-41ca-e544-6e19bd596e5d"
   },
   "outputs": [],
   "source": [
    "eta = 0.8\n",
    "show_trace_2d(f_2d, train_adam_2d(adam_2d))"
   ]
  },
  {
   "cell_type": "markdown",
   "metadata": {
    "colab_type": "text",
    "id": "DLmMd9h4l4Aa"
   },
   "source": [
    "# AMSGrad"
   ]
  },
  {
   "cell_type": "code",
   "execution_count": null,
   "metadata": {
    "colab": {},
    "colab_type": "code",
    "id": "Khhsvs3Dl4Ac"
   },
   "outputs": [],
   "source": [
    "def amsgrad_2d(x1, x2, s1, s2 , t):\n",
    "    beta1, beta2, eps = 0.9, 0.99, 1e-6\n",
    "    g1, g2 = 0.2 * x1, 4 * x2\n",
    "    #\n",
    "    # your code here\n",
    "    #\n",
    "    return x1, x2, s1, s2"
   ]
  },
  {
   "cell_type": "code",
   "execution_count": null,
   "metadata": {
    "colab": {
     "base_uri": "https://localhost:8080/",
     "height": 315
    },
    "colab_type": "code",
    "id": "WmJEncF-l4Ag",
    "outputId": "b99469a0-f719-45e4-9d5e-fd11bcebf9df"
   },
   "outputs": [],
   "source": [
    "eta = 1\n",
    "show_trace_2d(f_2d, train_adam_2d(amsgrad_2d))\n",
    "show_trace_2d(f_2d, train_adam_2d(adam_2d), color ='green')"
   ]
  }
 ],
 "metadata": {
  "colab": {
   "include_colab_link": true,
   "name": "Gradient_descent_optimization_algorithms_empty_colab.ipynb",
   "provenance": []
  },
  "kernelspec": {
   "display_name": "Python 3 (ipykernel)",
   "language": "python",
   "name": "python3"
  },
  "language_info": {
   "codemirror_mode": {
    "name": "ipython",
    "version": 3
   },
   "file_extension": ".py",
   "mimetype": "text/x-python",
   "name": "python",
   "nbconvert_exporter": "python",
   "pygments_lexer": "ipython3",
   "version": "3.10.11"
  }
 },
 "nbformat": 4,
 "nbformat_minor": 4
}
