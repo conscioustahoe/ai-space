{
 "cells": [
  {
   "cell_type": "code",
   "execution_count": null,
   "id": "1aa9d0eb-d5db-400d-880d-b61cc2505169",
   "metadata": {},
   "outputs": [],
   "source": []
  }
 ],
 "metadata": {
  "kernelspec": {
   "display_name": "Python 3 (ipykernel)",
   "language": "python",
   "name": "python3"
  },
  "language_info": {
   "name": ""
  }
 },
 "nbformat": 4,
 "nbformat_minor": 5
}
