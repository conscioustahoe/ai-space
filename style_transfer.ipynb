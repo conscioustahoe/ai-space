{
 "cells": [
  {
   "cell_type": "code",
   "execution_count": 1,
   "metadata": {},
   "outputs": [
    {
     "ename": "ModuleNotFoundError",
     "evalue": "No module named 'timm'",
     "output_type": "error",
     "traceback": [
      "\u001b[0;31m---------------------------------------------------------------------------\u001b[0m",
      "\u001b[0;31mModuleNotFoundError\u001b[0m                       Traceback (most recent call last)",
      "Cell \u001b[0;32mIn[1], line 23\u001b[0m\n\u001b[1;32m     21\u001b[0m \u001b[38;5;28;01mfrom\u001b[39;00m \u001b[38;5;21;01mPIL\u001b[39;00m \u001b[38;5;28;01mimport\u001b[39;00m Image\n\u001b[1;32m     22\u001b[0m \u001b[38;5;28;01mimport\u001b[39;00m \u001b[38;5;21;01mrandom\u001b[39;00m\n\u001b[0;32m---> 23\u001b[0m \u001b[38;5;28;01mimport\u001b[39;00m \u001b[38;5;21;01mtimm\u001b[39;00m\n\u001b[1;32m     24\u001b[0m \u001b[38;5;28;01mimport\u001b[39;00m \u001b[38;5;21;01mtorchvision\u001b[39;00m\n\u001b[1;32m     25\u001b[0m \u001b[38;5;28;01mfrom\u001b[39;00m \u001b[38;5;21;01mmatplotlib\u001b[39;00m\u001b[38;5;21;01m.\u001b[39;00m\u001b[38;5;21;01mpyplot\u001b[39;00m \u001b[38;5;28;01mimport\u001b[39;00m plt\n",
      "\u001b[0;31mModuleNotFoundError\u001b[0m: No module named 'timm'"
     ]
    }
   ],
   "source": [
    "# Built-in Python modules\n",
    "import gzip\n",
    "import io\n",
    "import math\n",
    "import os\n",
    "import pickle\n",
    "import shutil\n",
    "import time\n",
    "from collections.abc import Mapping\n",
    "from contextlib import contextmanager\n",
    "from copy import copy\n",
    "from functools import partial\n",
    "from operator import attrgetter, itemgetter\n",
    "from pathlib import Path\n",
    "\n",
    "# Third-party libraries\n",
    "import fastcore.all as fc\n",
    "import matplotlib as mpl\n",
    "import numpy as np\n",
    "import torch\n",
    "from PIL import Image\n",
    "import random\n",
    "import timm\n",
    "import torchvision\n",
    "from matplotlib.pyplot import plt\n",
    "from torcheval.metrics import MulticlassAccuracy\n",
    "\n",
    "# Torchvision imports\n",
    "from torchvision import transforms\n",
    "from torchvision.transforms.functional import TF\n",
    "\n",
    "# PyTorch imports\n",
    "from torch import tensor, nn, optim\n",
    "from torch.nn import init\n",
    "from torch.optim import lr_scheduler\n",
    "from torch.utils.data import DataLoader, default_collate\n",
    "\n",
    "# Hugging Face datasets\n",
    "from datasets import load_dataset, load_dataset_builder\n",
    "\n",
    "# Fastcore foundation\n",
    "from fastcore.foundation import L, store_attr\n",
    "\n",
    "# miniai modules\n",
    "from miniai.activations import *\n",
    "from miniai.conv import *\n",
    "from miniai.datasets import *\n",
    "from miniai.init import *\n",
    "from miniai.learner import *\n",
    "from miniai.resnet import *\n",
    "from miniai.sgd import *"
   ]
  },
  {
   "cell_type": "code",
   "execution_count": null,
   "metadata": {},
   "outputs": [],
   "source": [
    "# image URLs for demo\n",
    "face_url = \"https://images.pexels.com/photos/2690323/pexels-photo-2690323.jpeg?w=256\"\n",
    "spiderweb_url = \"https://images.pexels.com/photos/34225/spider-web-with-water-beads-network-dewdrop.jpg?w=256\""
   ]
  },
  {
   "cell_type": "code",
   "execution_count": null,
   "metadata": {},
   "outputs": [],
   "source": []
  }
 ],
 "metadata": {
  "language_info": {
   "name": "python"
  }
 },
 "nbformat": 4,
 "nbformat_minor": 2
}
